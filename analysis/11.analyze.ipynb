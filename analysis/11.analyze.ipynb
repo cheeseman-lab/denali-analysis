{
 "cells": [
  {
   "cell_type": "markdown",
   "id": "349e4927",
   "metadata": {},
   "source": [
    "# Downstream Analysis\n",
    "\n",
    "This notebook should be used for downstream analysis of your OPS screen.\n",
    "Cells marked with <font color='red'>SET PARAMETERS</font> contain crucial variables that need to be set according to your specific experimental setup and data organization.\n",
    "Please review and modify these variables as needed before proceeding with the analysis."
   ]
  },
  {
   "cell_type": "markdown",
   "id": "42a52bb7",
   "metadata": {},
   "source": [
    "## <font color='red'>SET PARAMETERS</font>\n",
    "\n",
    "### Fixed parameters for cluster module\n",
    "\n",
    "- `CONFIG_FILE_PATH`: Path to a Brieflow config file used during processing. Absolute or relative to where workflows are run from."
   ]
  },
  {
   "cell_type": "code",
   "execution_count": 1,
   "id": "9c90638f",
   "metadata": {},
   "outputs": [],
   "source": [
    "CONFIG_FILE_PATH = \"config/config.yml\""
   ]
  },
  {
   "cell_type": "code",
   "execution_count": null,
   "id": "fe24b1c3",
   "metadata": {},
   "outputs": [],
   "source": [
    "from pathlib import Path\n",
    "import warnings\n",
    "\n",
    "warnings.filterwarnings(\"ignore\", category=UserWarning)\n",
    "import yaml\n",
    "import pandas as pd\n",
    "import matplotlib as plt\n",
    "\n",
    "from lib.cluster.cluster_analysis import (\n",
    "    differential_analysis,\n",
    "    waterfall_plot,\n",
    "    two_feature_plot,\n",
    "    cluster_heatmap,\n",
    ")\n",
    "from lib.cluster.phate_leiden_clustering import plot_phate_leiden_clusters\n",
    "from lib.shared.metrics import get_all_stats"
   ]
  },
  {
   "cell_type": "code",
   "execution_count": 3,
   "id": "733e511a",
   "metadata": {},
   "outputs": [],
   "source": [
    "# load config file and determine root path\n",
    "with open(CONFIG_FILE_PATH, \"r\") as config_file:\n",
    "    config = yaml.safe_load(config_file)\n",
    "    ROOT_FP = Path(config[\"all\"][\"root_fp\"])"
   ]
  },
  {
   "cell_type": "markdown",
   "id": "170bcd3c",
   "metadata": {},
   "source": [
    "## Pipeline Statistics Report\n",
    "\n",
    "This function analyzes the entire data processing pipeline from raw microscopy images to clustered perturbation profiles. It will:\n",
    "\n",
    "1. **Preprocessing**: Count input files and generated image tiles\n",
    "2. **SBS**: Analyze cell segmentation and barcode mapping success rates\n",
    "3. **Phenotype**: Count cells and morphological features extracted\n",
    "4. **Merge**: Calculate how many cells were successfully matched between SBS and phenotype data\n",
    "5. **Aggregation**: Measure perturbation coverage and batch effect correction (per cell class/channel)\n",
    "6. **Clustering**: Evaluate pathway enrichment and optimal clustering parameters\n",
    "\n",
    "**Expected runtime: 5-15 minutes** depending on dataset size, as this function loads and analyzes large parquet files to calculate batch statistics and enrichment metrics.\n",
    "\n",
    "The report will display progress updates as each stage is analyzed."
   ]
  },
  {
   "cell_type": "code",
   "execution_count": null,
   "id": "83b37783",
   "metadata": {},
   "outputs": [],
   "source": [
    "statistics = get_all_stats(config)"
   ]
  },
  {
   "cell_type": "code",
   "execution_count": 4,
   "id": "8874ad09",
   "metadata": {},
   "outputs": [
    {
     "name": "stdout",
     "output_type": "stream",
     "text": [
      "Channel Combos: ['DAPI_COXIV_CENPA_WGA', 'DAPI_CENPA', 'DAPI_WGA']\n",
      "Cell classes: ['Interphase', 'Mitotic', 'all']\n",
      "Leiden resolution: [np.int64(9), np.int64(10), np.int64(11), np.int64(12), np.int64(13), np.int64(15)]\n"
     ]
    }
   ],
   "source": [
    "# Load cell classes and channel combos\n",
    "cluster_combo_fp = config[\"cluster\"][\"cluster_combo_fp\"]\n",
    "cluster_combos = pd.read_csv(cluster_combo_fp, sep=\"\\t\")\n",
    "\n",
    "CHANNEL_COMBOS = list(cluster_combos[\"channel_combo\"].unique())\n",
    "print(f\"Channel Combos: {CHANNEL_COMBOS}\")\n",
    "\n",
    "CELL_CLASSES = list(cluster_combos[\"cell_class\"].unique())\n",
    "print(f\"Cell classes: {CELL_CLASSES}\")\n",
    "\n",
    "LEIDEN_RESOLUTION = list(cluster_combos[\"leiden_resolution\"].unique())\n",
    "print(f\"Leiden resolution: {LEIDEN_RESOLUTION}\")"
   ]
  },
  {
   "cell_type": "markdown",
   "id": "10960eb9",
   "metadata": {},
   "source": [
    "## <font color='red'>SET PARAMETERS</font>\n",
    "\n",
    "### Cluster Selection for Analysis\n",
    "\n",
    "Set these parameters to select the specific cluster data to analyze:\n",
    "- `CHANNEL_COMBO`: Select from available channel combinations,\n",
    "- `CELL_CLASS`: Select from available cell classes,\n",
    "- `LEIDEN_RESOLUTION`: Select from available Leiden resolutions,\n",
    "\n",
    "These parameters determine which folder of cluster data will be analyzed."
   ]
  },
  {
   "cell_type": "code",
   "execution_count": 5,
   "id": "b1b85917",
   "metadata": {},
   "outputs": [],
   "source": [
    "CHANNEL_COMBO = \"DAPI_CENPA\"\n",
    "CELL_CLASS = \"Interphase\"\n",
    "LEIDEN_RESOLUTION = 15"
   ]
  },
  {
   "cell_type": "code",
   "execution_count": null,
   "id": "a30b7052",
   "metadata": {},
   "outputs": [
    {
     "name": "stdout",
     "output_type": "stream",
     "text": [
      "Aggregate file: brieflow_output/aggregate/tsvs/CeCl-Interphase_ChCo-DAPI_CENPA__feature_table.tsv\n",
      "Aggregate file found\n",
      "Cluster path: brieflow_output/cluster/DAPI_CENPA/Interphase/15\n",
      "Cluster directory found\n"
     ]
    }
   ],
   "source": [
    "aggregate_file = (\n",
    "    ROOT_FP\n",
    "    / \"aggregate\"\n",
    "    / \"tsvs\"\n",
    "    / f\"CeCl-{CELL_CLASS}_ChCo-{CHANNEL_COMBO}__feature_table.tsv\"\n",
    ")\n",
    "print(f\"Aggregate file: {aggregate_file}\")\n",
    "\n",
    "if not aggregate_file.exists():\n",
    "    print(f\"Aggregate file does not exist: {aggregate_file}\")\n",
    "else:\n",
    "    print(f\"Aggregate file found\")\n",
    "\n",
    "cluster_path = ROOT_FP / \"cluster\" / CHANNEL_COMBO / CELL_CLASS / str(LEIDEN_RESOLUTION)\n",
    "print(f\"Cluster path: {cluster_path}\")\n",
    "\n",
    "if not cluster_path.exists():\n",
    "    print(f\"Cluster directory does not exist: {cluster_path}\")\n",
    "else:\n",
    "    print(f\"Cluster directory found\")"
   ]
  },
  {
   "cell_type": "markdown",
   "id": "4de6202a",
   "metadata": {},
   "source": [
    "## Feature Plot Analysis\n",
    "\n",
    "This section generates visualizations to explore the phenotypic effects of gene perturbations in your screen. The plots will help you:\n",
    "\n",
    "1. **Differential Feature Analysis**: Identify genes with significant phenotypic changes vs. controls\n",
    "2. **Waterfall Plots**: Rank genes by their effect on specific features of interest\n",
    "3. **Two-Feature Plots**: Discover relationships between different phenotypic measurements\n",
    "4. **Heatmaps**: Visualize patterns across multiple features and gene sets simultaneously\n",
    "\n",
    "The interactive analysis allow you to customize each visualization for your specific biological questions."
   ]
  },
  {
   "cell_type": "code",
   "execution_count": 7,
   "id": "e435563e",
   "metadata": {},
   "outputs": [
    {
     "data": {
      "text/html": [
       "<div>\n",
       "<style scoped>\n",
       "    .dataframe tbody tr th:only-of-type {\n",
       "        vertical-align: middle;\n",
       "    }\n",
       "\n",
       "    .dataframe tbody tr th {\n",
       "        vertical-align: top;\n",
       "    }\n",
       "\n",
       "    .dataframe thead th {\n",
       "        text-align: right;\n",
       "    }\n",
       "</style>\n",
       "<table border=\"1\" class=\"dataframe\">\n",
       "  <thead>\n",
       "    <tr style=\"text-align: right;\">\n",
       "      <th></th>\n",
       "      <th>gene_symbol_0</th>\n",
       "      <th>cell_count</th>\n",
       "      <th>PHATE_0</th>\n",
       "      <th>PHATE_1</th>\n",
       "      <th>cluster</th>\n",
       "      <th>uniprot_entry</th>\n",
       "      <th>uniprot_function</th>\n",
       "      <th>uniprot_link</th>\n",
       "      <th>mean_potential_to_nontargeting</th>\n",
       "      <th>normalized_potential_to_nontargeting</th>\n",
       "    </tr>\n",
       "  </thead>\n",
       "  <tbody>\n",
       "    <tr>\n",
       "      <th>0</th>\n",
       "      <td>ARL17A</td>\n",
       "      <td>1798</td>\n",
       "      <td>0.001913</td>\n",
       "      <td>-0.008636</td>\n",
       "      <td>0</td>\n",
       "      <td>Q8IVW1</td>\n",
       "      <td>GTP-binding protein that functions as an allos...</td>\n",
       "      <td>https://www.uniprot.org/uniprotkb/Q8IVW1/entry</td>\n",
       "      <td>1.524561</td>\n",
       "      <td>0.092283</td>\n",
       "    </tr>\n",
       "    <tr>\n",
       "      <th>1</th>\n",
       "      <td>NMT1</td>\n",
       "      <td>1535</td>\n",
       "      <td>0.005146</td>\n",
       "      <td>-0.008961</td>\n",
       "      <td>0</td>\n",
       "      <td>P30419</td>\n",
       "      <td>Adds a myristoyl group to the N-terminal glyci...</td>\n",
       "      <td>https://www.uniprot.org/uniprotkb/P30419/entry</td>\n",
       "      <td>1.618714</td>\n",
       "      <td>0.099207</td>\n",
       "    </tr>\n",
       "    <tr>\n",
       "      <th>2</th>\n",
       "      <td>RAD51D</td>\n",
       "      <td>2159</td>\n",
       "      <td>0.003042</td>\n",
       "      <td>-0.006375</td>\n",
       "      <td>0</td>\n",
       "      <td>O75771</td>\n",
       "      <td>Involved in the homologous recombination repai...</td>\n",
       "      <td>https://www.uniprot.org/uniprotkb/O75771/entry</td>\n",
       "      <td>1.328814</td>\n",
       "      <td>0.077889</td>\n",
       "    </tr>\n",
       "    <tr>\n",
       "      <th>3</th>\n",
       "      <td>PDK2</td>\n",
       "      <td>2170</td>\n",
       "      <td>0.000592</td>\n",
       "      <td>-0.009447</td>\n",
       "      <td>0</td>\n",
       "      <td>Q15119</td>\n",
       "      <td>Kinase that plays a key role in the regulation...</td>\n",
       "      <td>https://www.uniprot.org/uniprotkb/Q15119/entry</td>\n",
       "      <td>1.620593</td>\n",
       "      <td>0.099345</td>\n",
       "    </tr>\n",
       "    <tr>\n",
       "      <th>4</th>\n",
       "      <td>ADAM11</td>\n",
       "      <td>3157</td>\n",
       "      <td>0.002060</td>\n",
       "      <td>-0.008379</td>\n",
       "      <td>0</td>\n",
       "      <td>O75078</td>\n",
       "      <td>Probable ligand for integrin in the brain. Thi...</td>\n",
       "      <td>https://www.uniprot.org/uniprotkb/O75078/entry</td>\n",
       "      <td>1.529272</td>\n",
       "      <td>0.092630</td>\n",
       "    </tr>\n",
       "    <tr>\n",
       "      <th>...</th>\n",
       "      <td>...</td>\n",
       "      <td>...</td>\n",
       "      <td>...</td>\n",
       "      <td>...</td>\n",
       "      <td>...</td>\n",
       "      <td>...</td>\n",
       "      <td>...</td>\n",
       "      <td>...</td>\n",
       "      <td>...</td>\n",
       "      <td>...</td>\n",
       "    </tr>\n",
       "    <tr>\n",
       "      <th>5294</th>\n",
       "      <td>MPHOSPH6</td>\n",
       "      <td>1937</td>\n",
       "      <td>-0.006584</td>\n",
       "      <td>-0.001020</td>\n",
       "      <td>413</td>\n",
       "      <td>Q99547</td>\n",
       "      <td>RNA-binding protein that associates with the R...</td>\n",
       "      <td>https://www.uniprot.org/uniprotkb/Q99547/entry</td>\n",
       "      <td>1.035970</td>\n",
       "      <td>0.056356</td>\n",
       "    </tr>\n",
       "    <tr>\n",
       "      <th>5295</th>\n",
       "      <td>RFK</td>\n",
       "      <td>3317</td>\n",
       "      <td>-0.000036</td>\n",
       "      <td>0.004026</td>\n",
       "      <td>413</td>\n",
       "      <td>Q969G6</td>\n",
       "      <td>Catalyzes the phosphorylation of riboflavin (v...</td>\n",
       "      <td>https://www.uniprot.org/uniprotkb/Q969G6/entry</td>\n",
       "      <td>0.315340</td>\n",
       "      <td>0.003365</td>\n",
       "    </tr>\n",
       "    <tr>\n",
       "      <th>5296</th>\n",
       "      <td>CWF19L1</td>\n",
       "      <td>1771</td>\n",
       "      <td>-0.016267</td>\n",
       "      <td>0.000340</td>\n",
       "      <td>413</td>\n",
       "      <td>Q69YN2</td>\n",
       "      <td>NaN</td>\n",
       "      <td>https://www.uniprot.org/uniprotkb/Q69YN2/entry</td>\n",
       "      <td>1.938802</td>\n",
       "      <td>0.122744</td>\n",
       "    </tr>\n",
       "    <tr>\n",
       "      <th>5297</th>\n",
       "      <td>BRD1</td>\n",
       "      <td>2056</td>\n",
       "      <td>0.000171</td>\n",
       "      <td>0.005380</td>\n",
       "      <td>413</td>\n",
       "      <td>O95696</td>\n",
       "      <td>Scaffold subunit of various histone acetyltran...</td>\n",
       "      <td>https://www.uniprot.org/uniprotkb/O95696/entry</td>\n",
       "      <td>0.296676</td>\n",
       "      <td>0.001993</td>\n",
       "    </tr>\n",
       "    <tr>\n",
       "      <th>5298</th>\n",
       "      <td>PIK3CG</td>\n",
       "      <td>3733</td>\n",
       "      <td>-0.002031</td>\n",
       "      <td>0.004550</td>\n",
       "      <td>413</td>\n",
       "      <td>P48736</td>\n",
       "      <td>Phosphoinositide-3-kinase (PI3K) that phosphor...</td>\n",
       "      <td>https://www.uniprot.org/uniprotkb/P48736/entry</td>\n",
       "      <td>0.426112</td>\n",
       "      <td>0.011511</td>\n",
       "    </tr>\n",
       "  </tbody>\n",
       "</table>\n",
       "<p>5299 rows × 10 columns</p>\n",
       "</div>"
      ],
      "text/plain": [
       "     gene_symbol_0  cell_count   PHATE_0   PHATE_1  cluster uniprot_entry  \\\n",
       "0           ARL17A        1798  0.001913 -0.008636        0        Q8IVW1   \n",
       "1             NMT1        1535  0.005146 -0.008961        0        P30419   \n",
       "2           RAD51D        2159  0.003042 -0.006375        0        O75771   \n",
       "3             PDK2        2170  0.000592 -0.009447        0        Q15119   \n",
       "4           ADAM11        3157  0.002060 -0.008379        0        O75078   \n",
       "...            ...         ...       ...       ...      ...           ...   \n",
       "5294      MPHOSPH6        1937 -0.006584 -0.001020      413        Q99547   \n",
       "5295           RFK        3317 -0.000036  0.004026      413        Q969G6   \n",
       "5296       CWF19L1        1771 -0.016267  0.000340      413        Q69YN2   \n",
       "5297          BRD1        2056  0.000171  0.005380      413        O95696   \n",
       "5298        PIK3CG        3733 -0.002031  0.004550      413        P48736   \n",
       "\n",
       "                                       uniprot_function  \\\n",
       "0     GTP-binding protein that functions as an allos...   \n",
       "1     Adds a myristoyl group to the N-terminal glyci...   \n",
       "2     Involved in the homologous recombination repai...   \n",
       "3     Kinase that plays a key role in the regulation...   \n",
       "4     Probable ligand for integrin in the brain. Thi...   \n",
       "...                                                 ...   \n",
       "5294  RNA-binding protein that associates with the R...   \n",
       "5295  Catalyzes the phosphorylation of riboflavin (v...   \n",
       "5296                                                NaN   \n",
       "5297  Scaffold subunit of various histone acetyltran...   \n",
       "5298  Phosphoinositide-3-kinase (PI3K) that phosphor...   \n",
       "\n",
       "                                        uniprot_link  \\\n",
       "0     https://www.uniprot.org/uniprotkb/Q8IVW1/entry   \n",
       "1     https://www.uniprot.org/uniprotkb/P30419/entry   \n",
       "2     https://www.uniprot.org/uniprotkb/O75771/entry   \n",
       "3     https://www.uniprot.org/uniprotkb/Q15119/entry   \n",
       "4     https://www.uniprot.org/uniprotkb/O75078/entry   \n",
       "...                                              ...   \n",
       "5294  https://www.uniprot.org/uniprotkb/Q99547/entry   \n",
       "5295  https://www.uniprot.org/uniprotkb/Q969G6/entry   \n",
       "5296  https://www.uniprot.org/uniprotkb/Q69YN2/entry   \n",
       "5297  https://www.uniprot.org/uniprotkb/O95696/entry   \n",
       "5298  https://www.uniprot.org/uniprotkb/P48736/entry   \n",
       "\n",
       "      mean_potential_to_nontargeting  normalized_potential_to_nontargeting  \n",
       "0                           1.524561                              0.092283  \n",
       "1                           1.618714                              0.099207  \n",
       "2                           1.328814                              0.077889  \n",
       "3                           1.620593                              0.099345  \n",
       "4                           1.529272                              0.092630  \n",
       "...                              ...                                   ...  \n",
       "5294                        1.035970                              0.056356  \n",
       "5295                        0.315340                              0.003365  \n",
       "5296                        1.938802                              0.122744  \n",
       "5297                        0.296676                              0.001993  \n",
       "5298                        0.426112                              0.011511  \n",
       "\n",
       "[5299 rows x 10 columns]"
      ]
     },
     "metadata": {},
     "output_type": "display_data"
    }
   ],
   "source": [
    "cluster_file = cluster_path / \"phate_leiden_clustering.tsv\"\n",
    "cluster_df = pd.read_csv(cluster_file, sep=\"\\t\")\n",
    "display(cluster_df)"
   ]
  },
  {
   "cell_type": "code",
   "execution_count": 8,
   "id": "c7913d05",
   "metadata": {},
   "outputs": [
    {
     "data": {
      "text/html": [
       "<div>\n",
       "<style scoped>\n",
       "    .dataframe tbody tr th:only-of-type {\n",
       "        vertical-align: middle;\n",
       "    }\n",
       "\n",
       "    .dataframe tbody tr th {\n",
       "        vertical-align: top;\n",
       "    }\n",
       "\n",
       "    .dataframe thead th {\n",
       "        text-align: right;\n",
       "    }\n",
       "</style>\n",
       "<table border=\"1\" class=\"dataframe\">\n",
       "  <thead>\n",
       "    <tr style=\"text-align: right;\">\n",
       "      <th></th>\n",
       "      <th>gene_symbol_0</th>\n",
       "      <th>nucleus_DAPI_int</th>\n",
       "      <th>nucleus_CENPA_int</th>\n",
       "      <th>nucleus_DAPI_mean</th>\n",
       "      <th>nucleus_CENPA_mean</th>\n",
       "      <th>nucleus_DAPI_mean_edge</th>\n",
       "      <th>nucleus_CENPA_mean_edge</th>\n",
       "      <th>nucleus_DAPI_std_edge</th>\n",
       "      <th>nucleus_CENPA_std_edge</th>\n",
       "      <th>nucleus_DAPI_mass_displacement</th>\n",
       "      <th>...</th>\n",
       "      <th>cell_area</th>\n",
       "      <th>cell_convex_area</th>\n",
       "      <th>cell_form_factor</th>\n",
       "      <th>cell_solidity</th>\n",
       "      <th>cell_eccentricity</th>\n",
       "      <th>cell_CENPA_foci_area</th>\n",
       "      <th>nucleus_manders_DAPI_CENPA</th>\n",
       "      <th>nucleus_manders_CENPA_DAPI</th>\n",
       "      <th>cell_manders_DAPI_CENPA</th>\n",
       "      <th>cell_manders_CENPA_DAPI</th>\n",
       "    </tr>\n",
       "  </thead>\n",
       "  <tbody>\n",
       "    <tr>\n",
       "      <th>0</th>\n",
       "      <td>MED16</td>\n",
       "      <td>-0.431912</td>\n",
       "      <td>-0.054273</td>\n",
       "      <td>-0.295063</td>\n",
       "      <td>-0.223577</td>\n",
       "      <td>-0.267605</td>\n",
       "      <td>-0.219356</td>\n",
       "      <td>-0.284762</td>\n",
       "      <td>-0.193909</td>\n",
       "      <td>-0.128088</td>\n",
       "      <td>...</td>\n",
       "      <td>0.017105</td>\n",
       "      <td>0.019299</td>\n",
       "      <td>0.223874</td>\n",
       "      <td>0.223454</td>\n",
       "      <td>0.137092</td>\n",
       "      <td>-0.051670</td>\n",
       "      <td>-0.007315</td>\n",
       "      <td>-0.077321</td>\n",
       "      <td>-0.064443</td>\n",
       "      <td>0.076250</td>\n",
       "    </tr>\n",
       "    <tr>\n",
       "      <th>1</th>\n",
       "      <td>PSEN2</td>\n",
       "      <td>-0.437285</td>\n",
       "      <td>-0.058696</td>\n",
       "      <td>-0.250357</td>\n",
       "      <td>-0.134306</td>\n",
       "      <td>-0.190773</td>\n",
       "      <td>-0.130073</td>\n",
       "      <td>-0.207578</td>\n",
       "      <td>-0.173246</td>\n",
       "      <td>-0.123685</td>\n",
       "      <td>...</td>\n",
       "      <td>-0.046368</td>\n",
       "      <td>-0.047886</td>\n",
       "      <td>0.233865</td>\n",
       "      <td>0.186801</td>\n",
       "      <td>0.090084</td>\n",
       "      <td>-0.092773</td>\n",
       "      <td>-0.022021</td>\n",
       "      <td>-0.073659</td>\n",
       "      <td>0.015532</td>\n",
       "      <td>-0.019700</td>\n",
       "    </tr>\n",
       "    <tr>\n",
       "      <th>2</th>\n",
       "      <td>ZNRD2</td>\n",
       "      <td>-0.454941</td>\n",
       "      <td>-0.183587</td>\n",
       "      <td>-0.209065</td>\n",
       "      <td>-0.127330</td>\n",
       "      <td>-0.196158</td>\n",
       "      <td>-0.115154</td>\n",
       "      <td>-0.183905</td>\n",
       "      <td>-0.196196</td>\n",
       "      <td>-0.125362</td>\n",
       "      <td>...</td>\n",
       "      <td>-0.148400</td>\n",
       "      <td>-0.153234</td>\n",
       "      <td>0.178303</td>\n",
       "      <td>0.167947</td>\n",
       "      <td>0.179500</td>\n",
       "      <td>-0.051670</td>\n",
       "      <td>0.070928</td>\n",
       "      <td>-0.000687</td>\n",
       "      <td>0.072241</td>\n",
       "      <td>-0.025813</td>\n",
       "    </tr>\n",
       "    <tr>\n",
       "      <th>3</th>\n",
       "      <td>TUBA4A</td>\n",
       "      <td>-0.433277</td>\n",
       "      <td>-0.065066</td>\n",
       "      <td>-0.194619</td>\n",
       "      <td>-0.118311</td>\n",
       "      <td>-0.163329</td>\n",
       "      <td>-0.121516</td>\n",
       "      <td>-0.161941</td>\n",
       "      <td>-0.198220</td>\n",
       "      <td>-0.133639</td>\n",
       "      <td>...</td>\n",
       "      <td>-0.067439</td>\n",
       "      <td>-0.067791</td>\n",
       "      <td>0.232195</td>\n",
       "      <td>0.197662</td>\n",
       "      <td>0.150687</td>\n",
       "      <td>-0.092773</td>\n",
       "      <td>0.054688</td>\n",
       "      <td>0.017595</td>\n",
       "      <td>0.035148</td>\n",
       "      <td>-0.022518</td>\n",
       "    </tr>\n",
       "    <tr>\n",
       "      <th>4</th>\n",
       "      <td>SERINC4</td>\n",
       "      <td>-0.451554</td>\n",
       "      <td>-0.090615</td>\n",
       "      <td>-0.260085</td>\n",
       "      <td>-0.145412</td>\n",
       "      <td>-0.218946</td>\n",
       "      <td>-0.131034</td>\n",
       "      <td>-0.193756</td>\n",
       "      <td>-0.162884</td>\n",
       "      <td>-0.101623</td>\n",
       "      <td>...</td>\n",
       "      <td>-0.089195</td>\n",
       "      <td>-0.096004</td>\n",
       "      <td>0.212671</td>\n",
       "      <td>0.189382</td>\n",
       "      <td>0.162972</td>\n",
       "      <td>-0.051670</td>\n",
       "      <td>0.090022</td>\n",
       "      <td>-0.063655</td>\n",
       "      <td>0.040556</td>\n",
       "      <td>0.071686</td>\n",
       "    </tr>\n",
       "    <tr>\n",
       "      <th>...</th>\n",
       "      <td>...</td>\n",
       "      <td>...</td>\n",
       "      <td>...</td>\n",
       "      <td>...</td>\n",
       "      <td>...</td>\n",
       "      <td>...</td>\n",
       "      <td>...</td>\n",
       "      <td>...</td>\n",
       "      <td>...</td>\n",
       "      <td>...</td>\n",
       "      <td>...</td>\n",
       "      <td>...</td>\n",
       "      <td>...</td>\n",
       "      <td>...</td>\n",
       "      <td>...</td>\n",
       "      <td>...</td>\n",
       "      <td>...</td>\n",
       "      <td>...</td>\n",
       "      <td>...</td>\n",
       "      <td>...</td>\n",
       "      <td>...</td>\n",
       "    </tr>\n",
       "    <tr>\n",
       "      <th>5294</th>\n",
       "      <td>nontargeting_GTGACGCCGGT_GTGACGCCGGTCCATGCGAT</td>\n",
       "      <td>-0.459858</td>\n",
       "      <td>-0.041368</td>\n",
       "      <td>-0.353813</td>\n",
       "      <td>-0.262070</td>\n",
       "      <td>-0.236404</td>\n",
       "      <td>-0.175133</td>\n",
       "      <td>-0.314674</td>\n",
       "      <td>-0.258213</td>\n",
       "      <td>0.139595</td>\n",
       "      <td>...</td>\n",
       "      <td>-0.111549</td>\n",
       "      <td>-0.101791</td>\n",
       "      <td>0.189923</td>\n",
       "      <td>0.184277</td>\n",
       "      <td>0.109802</td>\n",
       "      <td>-0.025766</td>\n",
       "      <td>-0.214820</td>\n",
       "      <td>-0.133163</td>\n",
       "      <td>-0.201888</td>\n",
       "      <td>0.136544</td>\n",
       "    </tr>\n",
       "    <tr>\n",
       "      <th>5295</th>\n",
       "      <td>nontargeting_GCGGCGTCATC_GCGGCGTCATCCACGCGTGC</td>\n",
       "      <td>-0.407634</td>\n",
       "      <td>0.299336</td>\n",
       "      <td>0.353688</td>\n",
       "      <td>0.285284</td>\n",
       "      <td>0.263272</td>\n",
       "      <td>0.281667</td>\n",
       "      <td>0.124270</td>\n",
       "      <td>-0.026239</td>\n",
       "      <td>-0.126121</td>\n",
       "      <td>...</td>\n",
       "      <td>0.123493</td>\n",
       "      <td>0.107860</td>\n",
       "      <td>0.322060</td>\n",
       "      <td>0.311753</td>\n",
       "      <td>-0.116043</td>\n",
       "      <td>-0.026279</td>\n",
       "      <td>0.005896</td>\n",
       "      <td>-0.299790</td>\n",
       "      <td>0.394311</td>\n",
       "      <td>-0.219372</td>\n",
       "    </tr>\n",
       "    <tr>\n",
       "      <th>5296</th>\n",
       "      <td>nontargeting_GATCGTGGTTA_GATCGTGGTTAACTCCGACC</td>\n",
       "      <td>-0.506576</td>\n",
       "      <td>0.194775</td>\n",
       "      <td>-0.471700</td>\n",
       "      <td>-0.113419</td>\n",
       "      <td>-0.381416</td>\n",
       "      <td>-0.093443</td>\n",
       "      <td>-0.285469</td>\n",
       "      <td>-0.151733</td>\n",
       "      <td>-0.125160</td>\n",
       "      <td>...</td>\n",
       "      <td>0.025836</td>\n",
       "      <td>0.026256</td>\n",
       "      <td>0.270637</td>\n",
       "      <td>0.183950</td>\n",
       "      <td>0.150555</td>\n",
       "      <td>-0.026279</td>\n",
       "      <td>0.161548</td>\n",
       "      <td>-0.149520</td>\n",
       "      <td>-0.191902</td>\n",
       "      <td>0.088476</td>\n",
       "    </tr>\n",
       "    <tr>\n",
       "      <th>5297</th>\n",
       "      <td>nontargeting_CGGCTTTGTTG_CGGCTTTGTTGCCCGTAAGC</td>\n",
       "      <td>-0.455211</td>\n",
       "      <td>-0.203548</td>\n",
       "      <td>-0.279813</td>\n",
       "      <td>-0.159765</td>\n",
       "      <td>-0.163336</td>\n",
       "      <td>-0.162170</td>\n",
       "      <td>-0.347177</td>\n",
       "      <td>-0.162180</td>\n",
       "      <td>-0.079574</td>\n",
       "      <td>...</td>\n",
       "      <td>-0.186844</td>\n",
       "      <td>-0.172850</td>\n",
       "      <td>0.286480</td>\n",
       "      <td>0.264899</td>\n",
       "      <td>-0.012559</td>\n",
       "      <td>-0.026499</td>\n",
       "      <td>-0.190248</td>\n",
       "      <td>-0.119814</td>\n",
       "      <td>-0.220742</td>\n",
       "      <td>0.148236</td>\n",
       "    </tr>\n",
       "    <tr>\n",
       "      <th>5298</th>\n",
       "      <td>nontargeting_GTGTCGCGAGC_GTGTCGCGAGCACCGCGATC</td>\n",
       "      <td>0.219189</td>\n",
       "      <td>0.245566</td>\n",
       "      <td>-0.076125</td>\n",
       "      <td>-0.205784</td>\n",
       "      <td>-0.093898</td>\n",
       "      <td>-0.221585</td>\n",
       "      <td>-0.079179</td>\n",
       "      <td>-0.425281</td>\n",
       "      <td>0.072060</td>\n",
       "      <td>...</td>\n",
       "      <td>0.699377</td>\n",
       "      <td>0.685493</td>\n",
       "      <td>0.300254</td>\n",
       "      <td>0.427041</td>\n",
       "      <td>0.023987</td>\n",
       "      <td>-0.025768</td>\n",
       "      <td>0.008023</td>\n",
       "      <td>0.104918</td>\n",
       "      <td>0.202740</td>\n",
       "      <td>-0.240752</td>\n",
       "    </tr>\n",
       "  </tbody>\n",
       "</table>\n",
       "<p>5299 rows × 44 columns</p>\n",
       "</div>"
      ],
      "text/plain": [
       "                                      gene_symbol_0  nucleus_DAPI_int  \\\n",
       "0                                             MED16         -0.431912   \n",
       "1                                             PSEN2         -0.437285   \n",
       "2                                             ZNRD2         -0.454941   \n",
       "3                                            TUBA4A         -0.433277   \n",
       "4                                           SERINC4         -0.451554   \n",
       "...                                             ...               ...   \n",
       "5294  nontargeting_GTGACGCCGGT_GTGACGCCGGTCCATGCGAT         -0.459858   \n",
       "5295  nontargeting_GCGGCGTCATC_GCGGCGTCATCCACGCGTGC         -0.407634   \n",
       "5296  nontargeting_GATCGTGGTTA_GATCGTGGTTAACTCCGACC         -0.506576   \n",
       "5297  nontargeting_CGGCTTTGTTG_CGGCTTTGTTGCCCGTAAGC         -0.455211   \n",
       "5298  nontargeting_GTGTCGCGAGC_GTGTCGCGAGCACCGCGATC          0.219189   \n",
       "\n",
       "      nucleus_CENPA_int  nucleus_DAPI_mean  nucleus_CENPA_mean  \\\n",
       "0             -0.054273          -0.295063           -0.223577   \n",
       "1             -0.058696          -0.250357           -0.134306   \n",
       "2             -0.183587          -0.209065           -0.127330   \n",
       "3             -0.065066          -0.194619           -0.118311   \n",
       "4             -0.090615          -0.260085           -0.145412   \n",
       "...                 ...                ...                 ...   \n",
       "5294          -0.041368          -0.353813           -0.262070   \n",
       "5295           0.299336           0.353688            0.285284   \n",
       "5296           0.194775          -0.471700           -0.113419   \n",
       "5297          -0.203548          -0.279813           -0.159765   \n",
       "5298           0.245566          -0.076125           -0.205784   \n",
       "\n",
       "      nucleus_DAPI_mean_edge  nucleus_CENPA_mean_edge  nucleus_DAPI_std_edge  \\\n",
       "0                  -0.267605                -0.219356              -0.284762   \n",
       "1                  -0.190773                -0.130073              -0.207578   \n",
       "2                  -0.196158                -0.115154              -0.183905   \n",
       "3                  -0.163329                -0.121516              -0.161941   \n",
       "4                  -0.218946                -0.131034              -0.193756   \n",
       "...                      ...                      ...                    ...   \n",
       "5294               -0.236404                -0.175133              -0.314674   \n",
       "5295                0.263272                 0.281667               0.124270   \n",
       "5296               -0.381416                -0.093443              -0.285469   \n",
       "5297               -0.163336                -0.162170              -0.347177   \n",
       "5298               -0.093898                -0.221585              -0.079179   \n",
       "\n",
       "      nucleus_CENPA_std_edge  nucleus_DAPI_mass_displacement  ...  cell_area  \\\n",
       "0                  -0.193909                       -0.128088  ...   0.017105   \n",
       "1                  -0.173246                       -0.123685  ...  -0.046368   \n",
       "2                  -0.196196                       -0.125362  ...  -0.148400   \n",
       "3                  -0.198220                       -0.133639  ...  -0.067439   \n",
       "4                  -0.162884                       -0.101623  ...  -0.089195   \n",
       "...                      ...                             ...  ...        ...   \n",
       "5294               -0.258213                        0.139595  ...  -0.111549   \n",
       "5295               -0.026239                       -0.126121  ...   0.123493   \n",
       "5296               -0.151733                       -0.125160  ...   0.025836   \n",
       "5297               -0.162180                       -0.079574  ...  -0.186844   \n",
       "5298               -0.425281                        0.072060  ...   0.699377   \n",
       "\n",
       "      cell_convex_area  cell_form_factor  cell_solidity  cell_eccentricity  \\\n",
       "0             0.019299          0.223874       0.223454           0.137092   \n",
       "1            -0.047886          0.233865       0.186801           0.090084   \n",
       "2            -0.153234          0.178303       0.167947           0.179500   \n",
       "3            -0.067791          0.232195       0.197662           0.150687   \n",
       "4            -0.096004          0.212671       0.189382           0.162972   \n",
       "...                ...               ...            ...                ...   \n",
       "5294         -0.101791          0.189923       0.184277           0.109802   \n",
       "5295          0.107860          0.322060       0.311753          -0.116043   \n",
       "5296          0.026256          0.270637       0.183950           0.150555   \n",
       "5297         -0.172850          0.286480       0.264899          -0.012559   \n",
       "5298          0.685493          0.300254       0.427041           0.023987   \n",
       "\n",
       "      cell_CENPA_foci_area  nucleus_manders_DAPI_CENPA  \\\n",
       "0                -0.051670                   -0.007315   \n",
       "1                -0.092773                   -0.022021   \n",
       "2                -0.051670                    0.070928   \n",
       "3                -0.092773                    0.054688   \n",
       "4                -0.051670                    0.090022   \n",
       "...                    ...                         ...   \n",
       "5294             -0.025766                   -0.214820   \n",
       "5295             -0.026279                    0.005896   \n",
       "5296             -0.026279                    0.161548   \n",
       "5297             -0.026499                   -0.190248   \n",
       "5298             -0.025768                    0.008023   \n",
       "\n",
       "      nucleus_manders_CENPA_DAPI  cell_manders_DAPI_CENPA  \\\n",
       "0                      -0.077321                -0.064443   \n",
       "1                      -0.073659                 0.015532   \n",
       "2                      -0.000687                 0.072241   \n",
       "3                       0.017595                 0.035148   \n",
       "4                      -0.063655                 0.040556   \n",
       "...                          ...                      ...   \n",
       "5294                   -0.133163                -0.201888   \n",
       "5295                   -0.299790                 0.394311   \n",
       "5296                   -0.149520                -0.191902   \n",
       "5297                   -0.119814                -0.220742   \n",
       "5298                    0.104918                 0.202740   \n",
       "\n",
       "      cell_manders_CENPA_DAPI  \n",
       "0                    0.076250  \n",
       "1                   -0.019700  \n",
       "2                   -0.025813  \n",
       "3                   -0.022518  \n",
       "4                    0.071686  \n",
       "...                       ...  \n",
       "5294                 0.136544  \n",
       "5295                -0.219372  \n",
       "5296                 0.088476  \n",
       "5297                 0.148236  \n",
       "5298                -0.240752  \n",
       "\n",
       "[5299 rows x 44 columns]"
      ]
     },
     "metadata": {},
     "output_type": "display_data"
    }
   ],
   "source": [
    "aggregate_df = pd.read_csv(aggregate_file, sep=\"\\t\")\n",
    "display(aggregate_df)"
   ]
  },
  {
   "cell_type": "markdown",
   "id": "860ce83d",
   "metadata": {},
   "source": [
    "## <font color='red'>SET PARAMETERS</font>\n",
    "\n",
    "### Cluster Selection for Visualization\n",
    "\n",
    "Set these parameters to select the specific cluster to analyze:\n",
    "- `CLUSTER_ID`: The cluster of interest to generate plots."
   ]
  },
  {
   "cell_type": "code",
   "execution_count": null,
   "id": "072e11d3",
   "metadata": {},
   "outputs": [],
   "source": [
    "CLUSTER_ID = None"
   ]
  },
  {
   "cell_type": "code",
   "execution_count": null,
   "id": "98d28ab8",
   "metadata": {},
   "outputs": [],
   "source": [
    "print(f\"\\n{'=' * 50}\")\n",
    "print(f\"Analyzing Cluster {CLUSTER_ID}\")\n",
    "cluster_genes = cluster_df[cluster_df[\"cluster\"] == CLUSTER_ID][\n",
    "    config[\"aggregate\"][\"perturbation_name_col\"]\n",
    "]\n",
    "print(f\"Genes in Cluster {CLUSTER_ID}:\", \", \".join(cluster_genes.unique()))\n",
    "print(f\"{'=' * 50}\")\n",
    "\n",
    "# Run differential analysis using robust z-score\n",
    "diff_results = differential_analysis(\n",
    "    feature_df=aggregate_df,\n",
    "    cluster_df=cluster_df,\n",
    "    cluster_id=CLUSTER_ID,\n",
    "    control_type=\"nontargeting\",\n",
    "    control_label=config[\"aggregate\"][\"control_key\"],\n",
    "    use_nonparametric=True,\n",
    "    normalize_method=\"robust_zscore\",\n",
    ")\n",
    "\n",
    "# Display results in a more user-friendly format\n",
    "print(\"\\nTop Upregulated Features:\")\n",
    "up_df = diff_results[\"top_up\"][\n",
    "    [\"feature\", \"robust_zscore\", \"p_value\", \"median_test\", \"median_control\"]\n",
    "]\n",
    "up_df = up_df.rename(\n",
    "    columns={\n",
    "        \"robust_zscore\": \"Z-score\",\n",
    "        \"p_value\": \"p-value\",\n",
    "        \"median_test\": \"Median (test)\",\n",
    "        \"median_control\": \"Median (control)\",\n",
    "    }\n",
    ")\n",
    "display(\n",
    "    up_df.style.format(\n",
    "        {\n",
    "            \"Z-score\": \"{:.2f}\",\n",
    "            \"p-value\": \"{:.2e}\",\n",
    "            \"Median (test)\": \"{:.3f}\",\n",
    "            \"Median (control)\": \"{:.3f}\",\n",
    "        }\n",
    "    )\n",
    ")\n",
    "\n",
    "print(\"\\nTop Downregulated Features:\")\n",
    "down_df = diff_results[\"top_down\"][\n",
    "    [\"feature\", \"robust_zscore\", \"p_value\", \"median_test\", \"median_control\"]\n",
    "]\n",
    "down_df = down_df.rename(\n",
    "    columns={\n",
    "        \"robust_zscore\": \"Z-score\",\n",
    "        \"p_value\": \"p-value\",\n",
    "        \"median_test\": \"Median (test)\",\n",
    "        \"median_control\": \"Median (control)\",\n",
    "    }\n",
    ")\n",
    "display(\n",
    "    down_df.style.format(\n",
    "        {\n",
    "            \"Z-score\": \"{:.2f}\",\n",
    "            \"p-value\": \"{:.2e}\",\n",
    "            \"Median (test)\": \"{:.3f}\",\n",
    "            \"Median (control)\": \"{:.3f}\",\n",
    "        }\n",
    "    )\n",
    ")"
   ]
  },
  {
   "cell_type": "markdown",
   "id": "d9feb141",
   "metadata": {},
   "source": [
    "## <font color='red'>SET PARAMETERS</font>\n",
    "\n",
    "### Feature Selection for Visualization\n",
    "\n",
    "Set these parameters to select the specific cluster to analyze:\n",
    "- `FEATURES_TO_ANALYZE`: The features found in the differential analysis to generate plots for.\n",
    "- `GENES_TO_LABEL`: The genes within the cluster to label on the plots."
   ]
  },
  {
   "cell_type": "code",
   "execution_count": null,
   "id": "e6d2cbf3",
   "metadata": {},
   "outputs": [],
   "source": [
    "FEATURES_TO_ANALYZE = None\n",
    "GENES_TO_LABEL = None"
   ]
  },
  {
   "cell_type": "code",
   "execution_count": null,
   "id": "f3e21d31",
   "metadata": {},
   "outputs": [],
   "source": [
    "# Create waterfall plots for selected features\n",
    "print(\"\\n--- Waterfall Plots for Selected Features ---\")\n",
    "for feature in FEATURES_TO_ANALYZE:\n",
    "    print(f\"\\nPlotting: {feature}\")\n",
    "    waterfall_plot(\n",
    "        feature_df=aggregate_df,\n",
    "        feature=feature,\n",
    "        cluster_df=cluster_df,\n",
    "        cluster_id=CLUSTER_ID,\n",
    "        nontargeting_pattern=config[\"aggregate\"][\"control_key\"],\n",
    "        title=f\"Cluster {CLUSTER_ID}: {feature}\",\n",
    "        label_genes=GENES_TO_LABEL,\n",
    "    )\n",
    "\n",
    "# Create two-feature plots for combinations\n",
    "print(\"\\n--- Two-Feature Plots ---\")\n",
    "# Generate all unique pairs of features\n",
    "feature_pairs = [\n",
    "    (FEATURES_TO_ANALYZE[i], FEATURES_TO_ANALYZE[j])\n",
    "    for i in range(len(FEATURES_TO_ANALYZE))\n",
    "    for j in range(i + 1, len(FEATURES_TO_ANALYZE))\n",
    "]\n",
    "\n",
    "for feature1, feature2 in feature_pairs:\n",
    "    print(f\"\\nPlotting: {feature1} vs {feature2}\")\n",
    "    two_feature_plot(\n",
    "        feature_df=aggregate_df,\n",
    "        x=feature1,\n",
    "        y=feature2,\n",
    "        cluster_df=cluster_df,\n",
    "        cluster_id=CLUSTER_ID,\n",
    "        nontargeting_pattern=config[\"aggregate\"][\"control_key\"],\n",
    "        title=f\"Cluster {CLUSTER_ID}: {feature1} vs {feature2}\",\n",
    "        label_genes=GENES_TO_LABEL,\n",
    "    )\n",
    "\n",
    "# Create heatmap with all differential features\n",
    "print(\"\\n--- Heatmap of Differential Features ---\")\n",
    "# Get top features from differential analysis\n",
    "top_up = (\n",
    "    diff_results[\"top_up\"][\"feature\"].tolist()\n",
    "    if not diff_results[\"top_up\"].empty\n",
    "    else []\n",
    ")\n",
    "top_down = (\n",
    "    diff_results[\"top_down\"][\"feature\"].tolist()\n",
    "    if not diff_results[\"top_down\"].empty\n",
    "    else []\n",
    ")\n",
    "diff_features = top_up + top_down\n",
    "\n",
    "fig, ax, heatmap_data = cluster_heatmap(\n",
    "    feature_df=aggregate_df,\n",
    "    cluster_df=cluster_df,\n",
    "    cluster_ids=[CLUSTER_ID],\n",
    "    features=diff_features,\n",
    "    perturbation_name_col=config[\"aggregate\"][\"perturbation_name_col\"],\n",
    "    z_score=\"global\",\n",
    "    title=f\"Cluster {CLUSTER_ID}: Top Differential Features\",\n",
    ")\n",
    "\n",
    "# PHATE plot for the cluster\n",
    "print(\"\\n--- PHATE Plot for Cluster ---\")\n",
    "phate_fig = plot_phate_leiden_clusters(\n",
    "    phate_leiden_clustering=cluster_df,\n",
    "    perturbation_name_col=config[\"aggregate\"][\"perturbation_name_col\"],\n",
    "    control_key=config[\"aggregate\"][\"control_key\"],\n",
    "    clusters_of_interest=[CLUSTER_ID],\n",
    ")"
   ]
  },
  {
   "cell_type": "markdown",
   "id": "d5cd7f43",
   "metadata": {},
   "source": [
    "## Mozzarellm: LLM-based Gene Cluster Analysis\n",
    "\n",
    "### Overview\n",
    "[Mozzarellm](https://github.com/cheeseman-lab/mozzarellm) is a Python package that leverages Large Language Models (LLMs) to analyze gene clusters for pathway identification and novel gene discovery. This notebook guides you through the process of:\n",
    "\n",
    "1. **Loading and reshaping gene cluster data** from your OPS screen\n",
    "2. **Analyzing gene clusters with LLMs** to identify biological pathways\n",
    "3. **Categorizing genes** as established pathway members, uncharacterized, or having novel potential roles\n",
    "4. **Prioritizing candidates** for experimental validation\n",
    "\n",
    "### Prerequisites\n",
    "\n",
    "You need to install the mozzarellm package in your Brieflow environment:\n",
    "\n",
    "```bash\n",
    "pip install git+https://github.com/cheeseman-lab/mozzarellm.git\n",
    "```\n",
    "\n",
    "Mozzarellm requires API keys to access LLM services. You need at least one of these keys:\n",
    "\n",
    "- **OpenAI API Key**: Required for GPT models (gpt-4o, gpt-4.5, etc.)\n",
    "- **Anthropic API Key**: Required for Claude models (claude-3-7-sonnet, etc.)\n",
    "- **Google API Key**: Required for Gemini models (gemini-2.0-pro, etc.)\n",
    "\n",
    "These keys provide access to paid API services, and usage will incur costs based on the number of tokens processed. The cost per analysis varies by model but typically ranges from $0.01-$0.10 per cluster, depending on cluster size and model choice. For this reason, we only run these analyses on a specific chosen Leiden resolution, rather than across all of the generated possible resolutions."
   ]
  },
  {
   "cell_type": "code",
   "execution_count": 9,
   "id": "141a94a9",
   "metadata": {},
   "outputs": [],
   "source": [
    "import os\n",
    "from mozzarellm import analyze_gene_clusters, reshape_to_clusters"
   ]
  },
  {
   "cell_type": "code",
   "execution_count": null,
   "id": "ae2f82a1",
   "metadata": {},
   "outputs": [],
   "source": [
    "# Set API keys\n",
    "os.environ[\"OPENAI_API_KEY\"] = \"your_openai_key_here\"\n",
    "os.environ[\"ANTHROPIC_API_KEY\"] = \"your_anthropic_key_here\"\n",
    "os.environ[\"GOOGLE_API_KEY\"] = \"your_google_key_here\""
   ]
  },
  {
   "cell_type": "code",
   "execution_count": 12,
   "id": "93f7989b",
   "metadata": {},
   "outputs": [
    {
     "name": "stdout",
     "output_type": "stream",
     "text": [
      "/lab/ops_analysis/cheeseman/denali-analysis/analysis\n"
     ]
    }
   ],
   "source": [
    "!pwd"
   ]
  },
  {
   "cell_type": "code",
   "execution_count": null,
   "id": "92aaf0a6",
   "metadata": {},
   "outputs": [
    {
     "name": "stdout",
     "output_type": "stream",
     "text": [
      "Results will be saved to: /lab/ops_analysis/cheeseman/denali-temp/mozzarellm_analysis\n"
     ]
    }
   ],
   "source": [
    "RESULTS_DIR = Path(\n",
    "    \"/lab/ops_analysis/cheeseman/denali-temp/mozzarellm_analysis/\"\n",
    ")  # cluster_path / \"mozzarellm_analysis\"\n",
    "RESULTS_DIR.mkdir(parents=True, exist_ok=True)\n",
    "print(f\"Results will be saved to: {RESULTS_DIR}\")"
   ]
  },
  {
   "cell_type": "code",
   "execution_count": 15,
   "id": "2d530e15",
   "metadata": {},
   "outputs": [
    {
     "data": {
      "text/html": [
       "<div>\n",
       "<style scoped>\n",
       "    .dataframe tbody tr th:only-of-type {\n",
       "        vertical-align: middle;\n",
       "    }\n",
       "\n",
       "    .dataframe tbody tr th {\n",
       "        vertical-align: top;\n",
       "    }\n",
       "\n",
       "    .dataframe thead th {\n",
       "        text-align: right;\n",
       "    }\n",
       "</style>\n",
       "<table border=\"1\" class=\"dataframe\">\n",
       "  <thead>\n",
       "    <tr style=\"text-align: right;\">\n",
       "      <th></th>\n",
       "      <th>gene_symbol_0</th>\n",
       "      <th>cell_count</th>\n",
       "      <th>PHATE_0</th>\n",
       "      <th>PHATE_1</th>\n",
       "      <th>cluster</th>\n",
       "      <th>uniprot_entry</th>\n",
       "      <th>uniprot_function</th>\n",
       "      <th>uniprot_link</th>\n",
       "      <th>mean_potential_to_nontargeting</th>\n",
       "      <th>normalized_potential_to_nontargeting</th>\n",
       "    </tr>\n",
       "  </thead>\n",
       "  <tbody>\n",
       "    <tr>\n",
       "      <th>0</th>\n",
       "      <td>ARL17A</td>\n",
       "      <td>1798</td>\n",
       "      <td>0.001913</td>\n",
       "      <td>-0.008636</td>\n",
       "      <td>0</td>\n",
       "      <td>Q8IVW1</td>\n",
       "      <td>GTP-binding protein that functions as an allos...</td>\n",
       "      <td>https://www.uniprot.org/uniprotkb/Q8IVW1/entry</td>\n",
       "      <td>1.524561</td>\n",
       "      <td>0.092283</td>\n",
       "    </tr>\n",
       "    <tr>\n",
       "      <th>1</th>\n",
       "      <td>NMT1</td>\n",
       "      <td>1535</td>\n",
       "      <td>0.005146</td>\n",
       "      <td>-0.008961</td>\n",
       "      <td>0</td>\n",
       "      <td>P30419</td>\n",
       "      <td>Adds a myristoyl group to the N-terminal glyci...</td>\n",
       "      <td>https://www.uniprot.org/uniprotkb/P30419/entry</td>\n",
       "      <td>1.618714</td>\n",
       "      <td>0.099207</td>\n",
       "    </tr>\n",
       "    <tr>\n",
       "      <th>2</th>\n",
       "      <td>RAD51D</td>\n",
       "      <td>2159</td>\n",
       "      <td>0.003042</td>\n",
       "      <td>-0.006375</td>\n",
       "      <td>0</td>\n",
       "      <td>O75771</td>\n",
       "      <td>Involved in the homologous recombination repai...</td>\n",
       "      <td>https://www.uniprot.org/uniprotkb/O75771/entry</td>\n",
       "      <td>1.328814</td>\n",
       "      <td>0.077889</td>\n",
       "    </tr>\n",
       "    <tr>\n",
       "      <th>3</th>\n",
       "      <td>PDK2</td>\n",
       "      <td>2170</td>\n",
       "      <td>0.000592</td>\n",
       "      <td>-0.009447</td>\n",
       "      <td>0</td>\n",
       "      <td>Q15119</td>\n",
       "      <td>Kinase that plays a key role in the regulation...</td>\n",
       "      <td>https://www.uniprot.org/uniprotkb/Q15119/entry</td>\n",
       "      <td>1.620593</td>\n",
       "      <td>0.099345</td>\n",
       "    </tr>\n",
       "    <tr>\n",
       "      <th>4</th>\n",
       "      <td>ADAM11</td>\n",
       "      <td>3157</td>\n",
       "      <td>0.002060</td>\n",
       "      <td>-0.008379</td>\n",
       "      <td>0</td>\n",
       "      <td>O75078</td>\n",
       "      <td>Probable ligand for integrin in the brain. Thi...</td>\n",
       "      <td>https://www.uniprot.org/uniprotkb/O75078/entry</td>\n",
       "      <td>1.529272</td>\n",
       "      <td>0.092630</td>\n",
       "    </tr>\n",
       "    <tr>\n",
       "      <th>...</th>\n",
       "      <td>...</td>\n",
       "      <td>...</td>\n",
       "      <td>...</td>\n",
       "      <td>...</td>\n",
       "      <td>...</td>\n",
       "      <td>...</td>\n",
       "      <td>...</td>\n",
       "      <td>...</td>\n",
       "      <td>...</td>\n",
       "      <td>...</td>\n",
       "    </tr>\n",
       "    <tr>\n",
       "      <th>5294</th>\n",
       "      <td>MPHOSPH6</td>\n",
       "      <td>1937</td>\n",
       "      <td>-0.006584</td>\n",
       "      <td>-0.001020</td>\n",
       "      <td>413</td>\n",
       "      <td>Q99547</td>\n",
       "      <td>RNA-binding protein that associates with the R...</td>\n",
       "      <td>https://www.uniprot.org/uniprotkb/Q99547/entry</td>\n",
       "      <td>1.035970</td>\n",
       "      <td>0.056356</td>\n",
       "    </tr>\n",
       "    <tr>\n",
       "      <th>5295</th>\n",
       "      <td>RFK</td>\n",
       "      <td>3317</td>\n",
       "      <td>-0.000036</td>\n",
       "      <td>0.004026</td>\n",
       "      <td>413</td>\n",
       "      <td>Q969G6</td>\n",
       "      <td>Catalyzes the phosphorylation of riboflavin (v...</td>\n",
       "      <td>https://www.uniprot.org/uniprotkb/Q969G6/entry</td>\n",
       "      <td>0.315340</td>\n",
       "      <td>0.003365</td>\n",
       "    </tr>\n",
       "    <tr>\n",
       "      <th>5296</th>\n",
       "      <td>CWF19L1</td>\n",
       "      <td>1771</td>\n",
       "      <td>-0.016267</td>\n",
       "      <td>0.000340</td>\n",
       "      <td>413</td>\n",
       "      <td>Q69YN2</td>\n",
       "      <td>NaN</td>\n",
       "      <td>https://www.uniprot.org/uniprotkb/Q69YN2/entry</td>\n",
       "      <td>1.938802</td>\n",
       "      <td>0.122744</td>\n",
       "    </tr>\n",
       "    <tr>\n",
       "      <th>5297</th>\n",
       "      <td>BRD1</td>\n",
       "      <td>2056</td>\n",
       "      <td>0.000171</td>\n",
       "      <td>0.005380</td>\n",
       "      <td>413</td>\n",
       "      <td>O95696</td>\n",
       "      <td>Scaffold subunit of various histone acetyltran...</td>\n",
       "      <td>https://www.uniprot.org/uniprotkb/O95696/entry</td>\n",
       "      <td>0.296676</td>\n",
       "      <td>0.001993</td>\n",
       "    </tr>\n",
       "    <tr>\n",
       "      <th>5298</th>\n",
       "      <td>PIK3CG</td>\n",
       "      <td>3733</td>\n",
       "      <td>-0.002031</td>\n",
       "      <td>0.004550</td>\n",
       "      <td>413</td>\n",
       "      <td>P48736</td>\n",
       "      <td>Phosphoinositide-3-kinase (PI3K) that phosphor...</td>\n",
       "      <td>https://www.uniprot.org/uniprotkb/P48736/entry</td>\n",
       "      <td>0.426112</td>\n",
       "      <td>0.011511</td>\n",
       "    </tr>\n",
       "  </tbody>\n",
       "</table>\n",
       "<p>5299 rows × 10 columns</p>\n",
       "</div>"
      ],
      "text/plain": [
       "     gene_symbol_0  cell_count   PHATE_0   PHATE_1  cluster uniprot_entry  \\\n",
       "0           ARL17A        1798  0.001913 -0.008636        0        Q8IVW1   \n",
       "1             NMT1        1535  0.005146 -0.008961        0        P30419   \n",
       "2           RAD51D        2159  0.003042 -0.006375        0        O75771   \n",
       "3             PDK2        2170  0.000592 -0.009447        0        Q15119   \n",
       "4           ADAM11        3157  0.002060 -0.008379        0        O75078   \n",
       "...            ...         ...       ...       ...      ...           ...   \n",
       "5294      MPHOSPH6        1937 -0.006584 -0.001020      413        Q99547   \n",
       "5295           RFK        3317 -0.000036  0.004026      413        Q969G6   \n",
       "5296       CWF19L1        1771 -0.016267  0.000340      413        Q69YN2   \n",
       "5297          BRD1        2056  0.000171  0.005380      413        O95696   \n",
       "5298        PIK3CG        3733 -0.002031  0.004550      413        P48736   \n",
       "\n",
       "                                       uniprot_function  \\\n",
       "0     GTP-binding protein that functions as an allos...   \n",
       "1     Adds a myristoyl group to the N-terminal glyci...   \n",
       "2     Involved in the homologous recombination repai...   \n",
       "3     Kinase that plays a key role in the regulation...   \n",
       "4     Probable ligand for integrin in the brain. Thi...   \n",
       "...                                                 ...   \n",
       "5294  RNA-binding protein that associates with the R...   \n",
       "5295  Catalyzes the phosphorylation of riboflavin (v...   \n",
       "5296                                                NaN   \n",
       "5297  Scaffold subunit of various histone acetyltran...   \n",
       "5298  Phosphoinositide-3-kinase (PI3K) that phosphor...   \n",
       "\n",
       "                                        uniprot_link  \\\n",
       "0     https://www.uniprot.org/uniprotkb/Q8IVW1/entry   \n",
       "1     https://www.uniprot.org/uniprotkb/P30419/entry   \n",
       "2     https://www.uniprot.org/uniprotkb/O75771/entry   \n",
       "3     https://www.uniprot.org/uniprotkb/Q15119/entry   \n",
       "4     https://www.uniprot.org/uniprotkb/O75078/entry   \n",
       "...                                              ...   \n",
       "5294  https://www.uniprot.org/uniprotkb/Q99547/entry   \n",
       "5295  https://www.uniprot.org/uniprotkb/Q969G6/entry   \n",
       "5296  https://www.uniprot.org/uniprotkb/Q69YN2/entry   \n",
       "5297  https://www.uniprot.org/uniprotkb/O95696/entry   \n",
       "5298  https://www.uniprot.org/uniprotkb/P48736/entry   \n",
       "\n",
       "      mean_potential_to_nontargeting  normalized_potential_to_nontargeting  \n",
       "0                           1.524561                              0.092283  \n",
       "1                           1.618714                              0.099207  \n",
       "2                           1.328814                              0.077889  \n",
       "3                           1.620593                              0.099345  \n",
       "4                           1.529272                              0.092630  \n",
       "...                              ...                                   ...  \n",
       "5294                        1.035970                              0.056356  \n",
       "5295                        0.315340                              0.003365  \n",
       "5296                        1.938802                              0.122744  \n",
       "5297                        0.296676                              0.001993  \n",
       "5298                        0.426112                              0.011511  \n",
       "\n",
       "[5299 rows x 10 columns]"
      ]
     },
     "metadata": {},
     "output_type": "display_data"
    }
   ],
   "source": [
    "cluster_file = cluster_path / \"phate_leiden_clustering.tsv\"\n",
    "cluster_df = pd.read_csv(cluster_file, sep=\"\\t\")\n",
    "display(cluster_df)"
   ]
  },
  {
   "cell_type": "markdown",
   "id": "b6dd6cc8",
   "metadata": {},
   "source": [
    "## <font color='red'>SET PARAMETERS</font>: \n",
    "\n",
    "### Data Reshaping\n",
    "\n",
    "Configure gene clustering parameters:\n",
    "- `GENE_COL`: Column containing gene identifiers\n",
    "- `CLUSTER_COL`: Column containing cluster assignments\n",
    "- `UNIPROT_COL`: Column with UniProt annotations\n",
    "\n",
    "These parameters control how gene-level data is converted to cluster-level data. These are set to default values that will be established in upstream notebooks/snakemakes, and usually don't need to be manipulated."
   ]
  },
  {
   "cell_type": "code",
   "execution_count": 16,
   "id": "8e791d22",
   "metadata": {},
   "outputs": [],
   "source": [
    "GENE_COL = config[\"aggregate\"][\"perturbation_name_col\"]\n",
    "CLUSTER_COL = \"cluster\"\n",
    "UNIPROT_COL = \"uniprot_function\""
   ]
  },
  {
   "cell_type": "code",
   "execution_count": null,
   "id": "0fb75890",
   "metadata": {},
   "outputs": [
    {
     "name": "stdout",
     "output_type": "stream",
     "text": [
      "Using provided DataFrame with 5299 rows\n",
      "Found 5299 genes across 414 clusters\n",
      "Extracting gene features from uniprot_function column\n"
     ]
    },
    {
     "data": {
      "text/html": [
       "<div>\n",
       "<style scoped>\n",
       "    .dataframe tbody tr th:only-of-type {\n",
       "        vertical-align: middle;\n",
       "    }\n",
       "\n",
       "    .dataframe tbody tr th {\n",
       "        vertical-align: top;\n",
       "    }\n",
       "\n",
       "    .dataframe thead th {\n",
       "        text-align: right;\n",
       "    }\n",
       "</style>\n",
       "<table border=\"1\" class=\"dataframe\">\n",
       "  <thead>\n",
       "    <tr style=\"text-align: right;\">\n",
       "      <th></th>\n",
       "      <th>cluster_id</th>\n",
       "      <th>genes</th>\n",
       "    </tr>\n",
       "  </thead>\n",
       "  <tbody>\n",
       "    <tr>\n",
       "      <th>0</th>\n",
       "      <td>0</td>\n",
       "      <td>ARL17A;NMT1;RAD51D;PDK2;ADAM11;ACACA;TBC1D3H;T...</td>\n",
       "    </tr>\n",
       "    <tr>\n",
       "      <th>1</th>\n",
       "      <td>1</td>\n",
       "      <td>UBL5;CDC5L;PRPF40A;SMN1;RBM42;SNRPE;SNRPD1;SNR...</td>\n",
       "    </tr>\n",
       "    <tr>\n",
       "      <th>2</th>\n",
       "      <td>2</td>\n",
       "      <td>BCAR1;SEC62;CBWD6;RPN2;SFPQ;PTPN1;SEC61A1;TLN1...</td>\n",
       "    </tr>\n",
       "    <tr>\n",
       "      <th>3</th>\n",
       "      <td>3</td>\n",
       "      <td>WDHD1;SKP2;POLE;LRR1;PCNA;CDC7;CDC6;GEMIN7;PRI...</td>\n",
       "    </tr>\n",
       "    <tr>\n",
       "      <th>4</th>\n",
       "      <td>4</td>\n",
       "      <td>RBM19;BUD23;DDX47;KIFBP;RRP36;EXOSC6;ESF1;NOL6...</td>\n",
       "    </tr>\n",
       "    <tr>\n",
       "      <th>...</th>\n",
       "      <td>...</td>\n",
       "      <td>...</td>\n",
       "    </tr>\n",
       "    <tr>\n",
       "      <th>409</th>\n",
       "      <td>409</td>\n",
       "      <td>SGCA;DLD;SKAP1;SPAG9;HEATR6</td>\n",
       "    </tr>\n",
       "    <tr>\n",
       "      <th>410</th>\n",
       "      <td>410</td>\n",
       "      <td>MYL12A;TM7SF2;SFTPB;RCE1;PTDSS1</td>\n",
       "    </tr>\n",
       "    <tr>\n",
       "      <th>411</th>\n",
       "      <td>411</td>\n",
       "      <td>LMNA;HNRNPA3;FAM83H;LIN7C;PRMT5</td>\n",
       "    </tr>\n",
       "    <tr>\n",
       "      <th>412</th>\n",
       "      <td>412</td>\n",
       "      <td>MRPS18B;GLRX5;LRCH4;MAGOHB;GNG3</td>\n",
       "    </tr>\n",
       "    <tr>\n",
       "      <th>413</th>\n",
       "      <td>413</td>\n",
       "      <td>MPHOSPH6;RFK;CWF19L1;BRD1;PIK3CG</td>\n",
       "    </tr>\n",
       "  </tbody>\n",
       "</table>\n",
       "<p>414 rows × 2 columns</p>\n",
       "</div>"
      ],
      "text/plain": [
       "     cluster_id                                              genes\n",
       "0             0  ARL17A;NMT1;RAD51D;PDK2;ADAM11;ACACA;TBC1D3H;T...\n",
       "1             1  UBL5;CDC5L;PRPF40A;SMN1;RBM42;SNRPE;SNRPD1;SNR...\n",
       "2             2  BCAR1;SEC62;CBWD6;RPN2;SFPQ;PTPN1;SEC61A1;TLN1...\n",
       "3             3  WDHD1;SKP2;POLE;LRR1;PCNA;CDC7;CDC6;GEMIN7;PRI...\n",
       "4             4  RBM19;BUD23;DDX47;KIFBP;RRP36;EXOSC6;ESF1;NOL6...\n",
       "..          ...                                                ...\n",
       "409         409                        SGCA;DLD;SKAP1;SPAG9;HEATR6\n",
       "410         410                    MYL12A;TM7SF2;SFTPB;RCE1;PTDSS1\n",
       "411         411                    LMNA;HNRNPA3;FAM83H;LIN7C;PRMT5\n",
       "412         412                    MRPS18B;GLRX5;LRCH4;MAGOHB;GNG3\n",
       "413         413                   MPHOSPH6;RFK;CWF19L1;BRD1;PIK3CG\n",
       "\n",
       "[414 rows x 2 columns]"
      ]
     },
     "metadata": {},
     "output_type": "display_data"
    },
    {
     "data": {
      "text/html": [
       "<div>\n",
       "<style scoped>\n",
       "    .dataframe tbody tr th:only-of-type {\n",
       "        vertical-align: middle;\n",
       "    }\n",
       "\n",
       "    .dataframe tbody tr th {\n",
       "        vertical-align: top;\n",
       "    }\n",
       "\n",
       "    .dataframe thead th {\n",
       "        text-align: right;\n",
       "    }\n",
       "</style>\n",
       "<table border=\"1\" class=\"dataframe\">\n",
       "  <thead>\n",
       "    <tr style=\"text-align: right;\">\n",
       "      <th></th>\n",
       "      <th>gene_symbol_0</th>\n",
       "      <th>uniprot_function</th>\n",
       "    </tr>\n",
       "  </thead>\n",
       "  <tbody>\n",
       "    <tr>\n",
       "      <th>0</th>\n",
       "      <td>ARL17A</td>\n",
       "      <td>GTP-binding protein that functions as an allos...</td>\n",
       "    </tr>\n",
       "    <tr>\n",
       "      <th>1</th>\n",
       "      <td>NMT1</td>\n",
       "      <td>Adds a myristoyl group to the N-terminal glyci...</td>\n",
       "    </tr>\n",
       "    <tr>\n",
       "      <th>2</th>\n",
       "      <td>RAD51D</td>\n",
       "      <td>Involved in the homologous recombination repai...</td>\n",
       "    </tr>\n",
       "    <tr>\n",
       "      <th>3</th>\n",
       "      <td>PDK2</td>\n",
       "      <td>Kinase that plays a key role in the regulation...</td>\n",
       "    </tr>\n",
       "    <tr>\n",
       "      <th>4</th>\n",
       "      <td>ADAM11</td>\n",
       "      <td>Probable ligand for integrin in the brain. Thi...</td>\n",
       "    </tr>\n",
       "    <tr>\n",
       "      <th>...</th>\n",
       "      <td>...</td>\n",
       "      <td>...</td>\n",
       "    </tr>\n",
       "    <tr>\n",
       "      <th>5294</th>\n",
       "      <td>MPHOSPH6</td>\n",
       "      <td>RNA-binding protein that associates with the R...</td>\n",
       "    </tr>\n",
       "    <tr>\n",
       "      <th>5295</th>\n",
       "      <td>RFK</td>\n",
       "      <td>Catalyzes the phosphorylation of riboflavin (v...</td>\n",
       "    </tr>\n",
       "    <tr>\n",
       "      <th>5296</th>\n",
       "      <td>CWF19L1</td>\n",
       "      <td></td>\n",
       "    </tr>\n",
       "    <tr>\n",
       "      <th>5297</th>\n",
       "      <td>BRD1</td>\n",
       "      <td>Scaffold subunit of various histone acetyltran...</td>\n",
       "    </tr>\n",
       "    <tr>\n",
       "      <th>5298</th>\n",
       "      <td>PIK3CG</td>\n",
       "      <td>Phosphoinositide-3-kinase (PI3K) that phosphor...</td>\n",
       "    </tr>\n",
       "  </tbody>\n",
       "</table>\n",
       "<p>5299 rows × 2 columns</p>\n",
       "</div>"
      ],
      "text/plain": [
       "     gene_symbol_0                                   uniprot_function\n",
       "0           ARL17A  GTP-binding protein that functions as an allos...\n",
       "1             NMT1  Adds a myristoyl group to the N-terminal glyci...\n",
       "2           RAD51D  Involved in the homologous recombination repai...\n",
       "3             PDK2  Kinase that plays a key role in the regulation...\n",
       "4           ADAM11  Probable ligand for integrin in the brain. Thi...\n",
       "...            ...                                                ...\n",
       "5294      MPHOSPH6  RNA-binding protein that associates with the R...\n",
       "5295           RFK  Catalyzes the phosphorylation of riboflavin (v...\n",
       "5296       CWF19L1                                                   \n",
       "5297          BRD1  Scaffold subunit of various histone acetyltran...\n",
       "5298        PIK3CG  Phosphoinositide-3-kinase (PI3K) that phosphor...\n",
       "\n",
       "[5299 rows x 2 columns]"
      ]
     },
     "metadata": {},
     "output_type": "display_data"
    }
   ],
   "source": [
    "llm_cluster_df, llm_uniprot_df = reshape_to_clusters(\n",
    "    input_df=cluster_df,\n",
    "    gene_col=GENE_COL,\n",
    "    cluster_col=CLUSTER_COL,\n",
    "    uniprot_col=UNIPROT_COL,\n",
    "    verbose=True,\n",
    ")\n",
    "display(llm_cluster_df)\n",
    "display(llm_uniprot_df)"
   ]
  },
  {
   "cell_type": "markdown",
   "id": "251d1dc1",
   "metadata": {},
   "source": [
    "## <font color='red'>SET PARAMETERS</font>: \n",
    "### LLM Analysis Configuration\n",
    "\n",
    "- `MODEL_NAME`: LLM to use for analysis. Usable models include:\n",
    "  - OpenAI: `o4-mini`, `o3-mini`, `gpt-4.1`, `gpt-4o`\n",
    "  - Anthropic: `claude-3-7-sonnet-20250219`, `claude-3-5-haiku-20241022`\n",
    "  - Google: `gemini-2.5-pro-preview-03-25`, `gemini-2.5-flash-preview-04-17`\n",
    "- `CONFIG_DICT`: Configuration file for the LLM model\n",
    "- `SCREEN_CONTEXT`: Context for the analysis and how to evaluate _clusters_\n",
    "- `CLUSTER_ANALYSIS_PROMPT`: Context for the analysis and how to evaluate _genes within clusters_\n",
    "\n",
    "Mozzarellm includes optimized [configurations](https://github.com/cheeseman-lab/mozzarellm/blob/main/mozzarellm/configs.py) and [prompts](https://github.com/cheeseman-lab/mozzarellm/blob/main/mozzarellm/prompts.py) you can import as shown below.\n",
    "\n",
    "Custom text files can also be used by setting `screen_context_path` and `cluster_analysis_prompt_path` parameters."
   ]
  },
  {
   "cell_type": "code",
   "execution_count": 18,
   "id": "41d5d042",
   "metadata": {},
   "outputs": [],
   "source": [
    "from mozzarellm.prompts import ROBUST_SCREEN_CONTEXT, ROBUST_CLUSTER_PROMPT\n",
    "from mozzarellm.configs import DEFAULT_ANTHROPIC_CONFIG"
   ]
  },
  {
   "cell_type": "code",
   "execution_count": 19,
   "id": "04d6e55e",
   "metadata": {},
   "outputs": [],
   "source": [
    "# Set up model configs\n",
    "MODEL_NAME = \"claude-3-7-sonnet-20250219\"\n",
    "CONFIG_DICT = DEFAULT_ANTHROPIC_CONFIG\n",
    "SCREEN_CONTEXT = ROBUST_SCREEN_CONTEXT\n",
    "CLUSTER_ANALYSIS_PROMPT = ROBUST_CLUSTER_PROMPT"
   ]
  },
  {
   "cell_type": "code",
   "execution_count": 20,
   "id": "0593c652",
   "metadata": {},
   "outputs": [
    {
     "name": "stdout",
     "output_type": "stream",
     "text": [
      "Loaded data with 414 rows and columns: ['cluster_id', 'genes']\n",
      "Created annotations dictionary with 5299 entries from DataFrame\n"
     ]
    },
    {
     "name": "stderr",
     "output_type": "stream",
     "text": [
      "Processing clusters:   0%|          | 0/414 [00:00<?, ?it/s]"
     ]
    },
    {
     "name": "stdout",
     "output_type": "stream",
     "text": [
      "Using provided template string\n",
      "Appending output format instructions to template\n",
      "Added 65 gene feature descriptions to prompt\n"
     ]
    },
    {
     "name": "stderr",
     "output_type": "stream",
     "text": [
      "Processing clusters:   0%|          | 1/414 [00:17<2:03:29, 17.94s/it]"
     ]
    },
    {
     "name": "stdout",
     "output_type": "stream",
     "text": [
      "Using provided template string\n",
      "Appending output format instructions to template\n",
      "Added 62 gene feature descriptions to prompt\n"
     ]
    },
    {
     "name": "stderr",
     "output_type": "stream",
     "text": [
      "Processing clusters:   0%|          | 2/414 [00:36<2:06:57, 18.49s/it]"
     ]
    },
    {
     "name": "stdout",
     "output_type": "stream",
     "text": [
      "Using provided template string\n",
      "Appending output format instructions to template\n",
      "Added 56 gene feature descriptions to prompt\n"
     ]
    },
    {
     "name": "stderr",
     "output_type": "stream",
     "text": [
      "Processing clusters:   1%|          | 3/414 [01:04<2:35:00, 22.63s/it]"
     ]
    },
    {
     "name": "stdout",
     "output_type": "stream",
     "text": [
      "Using provided template string\n",
      "Appending output format instructions to template\n",
      "Added 51 gene feature descriptions to prompt\n"
     ]
    },
    {
     "name": "stderr",
     "output_type": "stream",
     "text": [
      "Processing clusters:   1%|          | 4/414 [01:35<2:56:14, 25.79s/it]"
     ]
    },
    {
     "name": "stdout",
     "output_type": "stream",
     "text": [
      "Using provided template string\n",
      "Appending output format instructions to template\n",
      "Added 49 gene feature descriptions to prompt\n"
     ]
    },
    {
     "name": "stderr",
     "output_type": "stream",
     "text": [
      "INFO:cluster_analysis_20250727_221630.log:Saved progress for 5 clusters\n",
      "Processing clusters:   1%|          | 5/414 [02:19<3:42:27, 32.63s/it]INFO:cluster_analysis_20250727_221630.log:Using Anthropic Claude API\n"
     ]
    },
    {
     "name": "stdout",
     "output_type": "stream",
     "text": [
      "Using provided template string\n",
      "Appending output format instructions to template\n",
      "Added 45 gene feature descriptions to prompt\n"
     ]
    },
    {
     "name": "stderr",
     "output_type": "stream",
     "text": [
      "INFO:cluster_analysis_20250727_221630.log:Anthropic API call successful: model=claude-3-7-sonnet-20250219\n",
      "INFO:cluster_analysis_20250727_221630.log:Success for cluster 5\n",
      "Processing clusters:   1%|▏         | 6/414 [02:44<3:22:42, 29.81s/it]INFO:cluster_analysis_20250727_221630.log:Using Anthropic Claude API\n"
     ]
    },
    {
     "name": "stdout",
     "output_type": "stream",
     "text": [
      "Using provided template string\n",
      "Appending output format instructions to template\n",
      "Added 43 gene feature descriptions to prompt\n"
     ]
    },
    {
     "name": "stderr",
     "output_type": "stream",
     "text": [
      "INFO:cluster_analysis_20250727_221630.log:Anthropic API call successful: model=claude-3-7-sonnet-20250219\n",
      "INFO:cluster_analysis_20250727_221630.log:Success for cluster 6\n",
      "Processing clusters:   2%|▏         | 7/414 [03:04<3:01:17, 26.73s/it]INFO:cluster_analysis_20250727_221630.log:Using Anthropic Claude API\n"
     ]
    },
    {
     "name": "stdout",
     "output_type": "stream",
     "text": [
      "Using provided template string\n",
      "Appending output format instructions to template\n",
      "Added 41 gene feature descriptions to prompt\n"
     ]
    },
    {
     "name": "stderr",
     "output_type": "stream",
     "text": [
      "INFO:cluster_analysis_20250727_221630.log:Anthropic API call successful: model=claude-3-7-sonnet-20250219\n",
      "INFO:cluster_analysis_20250727_221630.log:Success for cluster 7\n",
      "Processing clusters:   2%|▏         | 8/414 [03:40<3:21:48, 29.83s/it]INFO:cluster_analysis_20250727_221630.log:Using Anthropic Claude API\n"
     ]
    },
    {
     "name": "stdout",
     "output_type": "stream",
     "text": [
      "Using provided template string\n",
      "Appending output format instructions to template\n",
      "Added 40 gene feature descriptions to prompt\n"
     ]
    },
    {
     "name": "stderr",
     "output_type": "stream",
     "text": [
      "INFO:cluster_analysis_20250727_221630.log:Anthropic API call successful: model=claude-3-7-sonnet-20250219\n",
      "INFO:cluster_analysis_20250727_221630.log:Success for cluster 8\n",
      "Processing clusters:   2%|▏         | 9/414 [03:57<2:54:07, 25.80s/it]INFO:cluster_analysis_20250727_221630.log:Using Anthropic Claude API\n"
     ]
    },
    {
     "name": "stdout",
     "output_type": "stream",
     "text": [
      "Using provided template string\n",
      "Appending output format instructions to template\n",
      "Added 39 gene feature descriptions to prompt\n"
     ]
    },
    {
     "name": "stderr",
     "output_type": "stream",
     "text": [
      "INFO:cluster_analysis_20250727_221630.log:Anthropic API call successful: model=claude-3-7-sonnet-20250219\n",
      "INFO:cluster_analysis_20250727_221630.log:Success for cluster 9\n",
      "INFO:cluster_analysis_20250727_221630.log:Saved progress for 10 clusters\n",
      "Processing clusters:   2%|▏         | 10/414 [04:42<3:33:27, 31.70s/it]INFO:cluster_analysis_20250727_221630.log:Using Anthropic Claude API\n"
     ]
    },
    {
     "name": "stdout",
     "output_type": "stream",
     "text": [
      "Using provided template string\n",
      "Appending output format instructions to template\n",
      "Added 38 gene feature descriptions to prompt\n"
     ]
    },
    {
     "name": "stderr",
     "output_type": "stream",
     "text": [
      "INFO:cluster_analysis_20250727_221630.log:Anthropic API call successful: model=claude-3-7-sonnet-20250219\n",
      "INFO:cluster_analysis_20250727_221630.log:Success for cluster 10\n",
      "Processing clusters:   3%|▎         | 11/414 [05:01<3:06:59, 27.84s/it]INFO:cluster_analysis_20250727_221630.log:Using Anthropic Claude API\n"
     ]
    },
    {
     "name": "stdout",
     "output_type": "stream",
     "text": [
      "Using provided template string\n",
      "Appending output format instructions to template\n",
      "Added 37 gene feature descriptions to prompt\n"
     ]
    },
    {
     "name": "stderr",
     "output_type": "stream",
     "text": [
      "INFO:cluster_analysis_20250727_221630.log:Anthropic API call successful: model=claude-3-7-sonnet-20250219\n",
      "INFO:cluster_analysis_20250727_221630.log:Success for cluster 11\n",
      "Processing clusters:   3%|▎         | 12/414 [05:32<3:11:40, 28.61s/it]INFO:cluster_analysis_20250727_221630.log:Using Anthropic Claude API\n"
     ]
    },
    {
     "name": "stdout",
     "output_type": "stream",
     "text": [
      "Using provided template string\n",
      "Appending output format instructions to template\n",
      "Added 37 gene feature descriptions to prompt\n"
     ]
    },
    {
     "name": "stderr",
     "output_type": "stream",
     "text": [
      "INFO:cluster_analysis_20250727_221630.log:Anthropic API call successful: model=claude-3-7-sonnet-20250219\n",
      "INFO:cluster_analysis_20250727_221630.log:Success for cluster 12\n",
      "Processing clusters:   3%|▎         | 13/414 [05:45<2:40:46, 24.06s/it]INFO:cluster_analysis_20250727_221630.log:Using Anthropic Claude API\n"
     ]
    },
    {
     "name": "stdout",
     "output_type": "stream",
     "text": [
      "Using provided template string\n",
      "Appending output format instructions to template\n",
      "Added 35 gene feature descriptions to prompt\n"
     ]
    },
    {
     "name": "stderr",
     "output_type": "stream",
     "text": [
      "INFO:cluster_analysis_20250727_221630.log:Anthropic API call successful: model=claude-3-7-sonnet-20250219\n",
      "INFO:cluster_analysis_20250727_221630.log:Success for cluster 13\n",
      "Processing clusters:   3%|▎         | 14/414 [06:02<2:25:54, 21.89s/it]INFO:cluster_analysis_20250727_221630.log:Using Anthropic Claude API\n"
     ]
    },
    {
     "name": "stdout",
     "output_type": "stream",
     "text": [
      "Using provided template string\n",
      "Appending output format instructions to template\n",
      "Added 35 gene feature descriptions to prompt\n"
     ]
    },
    {
     "name": "stderr",
     "output_type": "stream",
     "text": [
      "INFO:cluster_analysis_20250727_221630.log:Anthropic API call successful: model=claude-3-7-sonnet-20250219\n",
      "INFO:cluster_analysis_20250727_221630.log:Success for cluster 14\n",
      "INFO:cluster_analysis_20250727_221630.log:Saved progress for 15 clusters\n",
      "Processing clusters:   4%|▎         | 15/414 [06:43<3:03:31, 27.60s/it]INFO:cluster_analysis_20250727_221630.log:Using Anthropic Claude API\n"
     ]
    },
    {
     "name": "stdout",
     "output_type": "stream",
     "text": [
      "Using provided template string\n",
      "Appending output format instructions to template\n",
      "Added 34 gene feature descriptions to prompt\n"
     ]
    },
    {
     "name": "stderr",
     "output_type": "stream",
     "text": [
      "INFO:cluster_analysis_20250727_221630.log:Anthropic API call successful: model=claude-3-7-sonnet-20250219\n",
      "INFO:cluster_analysis_20250727_221630.log:Success for cluster 15\n",
      "Processing clusters:   4%|▍         | 16/414 [07:00<2:41:44, 24.38s/it]INFO:cluster_analysis_20250727_221630.log:Using Anthropic Claude API\n"
     ]
    },
    {
     "name": "stdout",
     "output_type": "stream",
     "text": [
      "Using provided template string\n",
      "Appending output format instructions to template\n",
      "Added 34 gene feature descriptions to prompt\n"
     ]
    },
    {
     "name": "stderr",
     "output_type": "stream",
     "text": [
      "INFO:cluster_analysis_20250727_221630.log:Anthropic API call successful: model=claude-3-7-sonnet-20250219\n",
      "INFO:cluster_analysis_20250727_221630.log:Success for cluster 16\n",
      "Processing clusters:   4%|▍         | 17/414 [07:30<2:52:42, 26.10s/it]INFO:cluster_analysis_20250727_221630.log:Using Anthropic Claude API\n"
     ]
    },
    {
     "name": "stdout",
     "output_type": "stream",
     "text": [
      "Using provided template string\n",
      "Appending output format instructions to template\n",
      "Added 34 gene feature descriptions to prompt\n"
     ]
    },
    {
     "name": "stderr",
     "output_type": "stream",
     "text": [
      "INFO:cluster_analysis_20250727_221630.log:Anthropic API call successful: model=claude-3-7-sonnet-20250219\n",
      "INFO:cluster_analysis_20250727_221630.log:Success for cluster 17\n",
      "Processing clusters:   4%|▍         | 18/414 [07:49<2:38:18, 23.99s/it]INFO:cluster_analysis_20250727_221630.log:Using Anthropic Claude API\n"
     ]
    },
    {
     "name": "stdout",
     "output_type": "stream",
     "text": [
      "Using provided template string\n",
      "Appending output format instructions to template\n",
      "Added 33 gene feature descriptions to prompt\n"
     ]
    },
    {
     "name": "stderr",
     "output_type": "stream",
     "text": [
      "INFO:cluster_analysis_20250727_221630.log:Anthropic API call successful: model=claude-3-7-sonnet-20250219\n",
      "INFO:cluster_analysis_20250727_221630.log:Success for cluster 18\n",
      "Processing clusters:   5%|▍         | 19/414 [08:29<3:09:11, 28.74s/it]INFO:cluster_analysis_20250727_221630.log:Using Anthropic Claude API\n"
     ]
    },
    {
     "name": "stdout",
     "output_type": "stream",
     "text": [
      "Using provided template string\n",
      "Appending output format instructions to template\n",
      "Added 33 gene feature descriptions to prompt\n"
     ]
    },
    {
     "name": "stderr",
     "output_type": "stream",
     "text": [
      "INFO:cluster_analysis_20250727_221630.log:Anthropic API call successful: model=claude-3-7-sonnet-20250219\n",
      "INFO:cluster_analysis_20250727_221630.log:Success for cluster 19\n",
      "INFO:cluster_analysis_20250727_221630.log:Saved progress for 20 clusters\n",
      "Processing clusters:   5%|▍         | 20/414 [09:02<3:16:24, 29.91s/it]INFO:cluster_analysis_20250727_221630.log:Using Anthropic Claude API\n"
     ]
    },
    {
     "name": "stdout",
     "output_type": "stream",
     "text": [
      "Using provided template string\n",
      "Appending output format instructions to template\n",
      "Added 32 gene feature descriptions to prompt\n"
     ]
    },
    {
     "name": "stderr",
     "output_type": "stream",
     "text": [
      "INFO:cluster_analysis_20250727_221630.log:Anthropic API call successful: model=claude-3-7-sonnet-20250219\n",
      "INFO:cluster_analysis_20250727_221630.log:Success for cluster 20\n",
      "Processing clusters:   5%|▌         | 21/414 [09:20<2:52:33, 26.34s/it]INFO:cluster_analysis_20250727_221630.log:Using Anthropic Claude API\n"
     ]
    },
    {
     "name": "stdout",
     "output_type": "stream",
     "text": [
      "Using provided template string\n",
      "Appending output format instructions to template\n",
      "Added 32 gene feature descriptions to prompt\n"
     ]
    },
    {
     "name": "stderr",
     "output_type": "stream",
     "text": [
      "INFO:cluster_analysis_20250727_221630.log:Anthropic API call successful: model=claude-3-7-sonnet-20250219\n",
      "INFO:cluster_analysis_20250727_221630.log:Success for cluster 21\n",
      "Processing clusters:   5%|▌         | 22/414 [09:33<2:26:40, 22.45s/it]INFO:cluster_analysis_20250727_221630.log:Using Anthropic Claude API\n"
     ]
    },
    {
     "name": "stdout",
     "output_type": "stream",
     "text": [
      "Using provided template string\n",
      "Appending output format instructions to template\n",
      "Added 31 gene feature descriptions to prompt\n"
     ]
    },
    {
     "name": "stderr",
     "output_type": "stream",
     "text": [
      "INFO:cluster_analysis_20250727_221630.log:Anthropic API call successful: model=claude-3-7-sonnet-20250219\n",
      "INFO:cluster_analysis_20250727_221630.log:Success for cluster 22\n",
      "Processing clusters:   6%|▌         | 23/414 [10:03<2:41:19, 24.76s/it]INFO:cluster_analysis_20250727_221630.log:Using Anthropic Claude API\n"
     ]
    },
    {
     "name": "stdout",
     "output_type": "stream",
     "text": [
      "Using provided template string\n",
      "Appending output format instructions to template\n",
      "Added 30 gene feature descriptions to prompt\n"
     ]
    },
    {
     "name": "stderr",
     "output_type": "stream",
     "text": [
      "INFO:cluster_analysis_20250727_221630.log:Anthropic API call successful: model=claude-3-7-sonnet-20250219\n",
      "INFO:cluster_analysis_20250727_221630.log:Success for cluster 23\n",
      "Processing clusters:   6%|▌         | 24/414 [10:18<2:20:49, 21.67s/it]INFO:cluster_analysis_20250727_221630.log:Using Anthropic Claude API\n"
     ]
    },
    {
     "name": "stdout",
     "output_type": "stream",
     "text": [
      "Using provided template string\n",
      "Appending output format instructions to template\n",
      "Added 30 gene feature descriptions to prompt\n"
     ]
    },
    {
     "name": "stderr",
     "output_type": "stream",
     "text": [
      "INFO:cluster_analysis_20250727_221630.log:Anthropic API call successful: model=claude-3-7-sonnet-20250219\n",
      "INFO:cluster_analysis_20250727_221630.log:Success for cluster 24\n",
      "INFO:cluster_analysis_20250727_221630.log:Saved progress for 25 clusters\n",
      "Processing clusters:   6%|▌         | 25/414 [10:34<2:10:47, 20.17s/it]INFO:cluster_analysis_20250727_221630.log:Using Anthropic Claude API\n"
     ]
    },
    {
     "name": "stdout",
     "output_type": "stream",
     "text": [
      "Using provided template string\n",
      "Appending output format instructions to template\n",
      "Added 30 gene feature descriptions to prompt\n"
     ]
    },
    {
     "name": "stderr",
     "output_type": "stream",
     "text": [
      "INFO:cluster_analysis_20250727_221630.log:Anthropic API call successful: model=claude-3-7-sonnet-20250219\n",
      "INFO:cluster_analysis_20250727_221630.log:Success for cluster 25\n",
      "Processing clusters:   6%|▋         | 26/414 [10:52<2:06:29, 19.56s/it]INFO:cluster_analysis_20250727_221630.log:Using Anthropic Claude API\n"
     ]
    },
    {
     "name": "stdout",
     "output_type": "stream",
     "text": [
      "Using provided template string\n",
      "Appending output format instructions to template\n",
      "Added 30 gene feature descriptions to prompt\n"
     ]
    },
    {
     "name": "stderr",
     "output_type": "stream",
     "text": [
      "INFO:cluster_analysis_20250727_221630.log:Anthropic API call successful: model=claude-3-7-sonnet-20250219\n",
      "INFO:cluster_analysis_20250727_221630.log:Success for cluster 26\n",
      "Processing clusters:   7%|▋         | 27/414 [11:08<1:59:08, 18.47s/it]INFO:cluster_analysis_20250727_221630.log:Using Anthropic Claude API\n"
     ]
    },
    {
     "name": "stdout",
     "output_type": "stream",
     "text": [
      "Using provided template string\n",
      "Appending output format instructions to template\n",
      "Added 26 gene feature descriptions to prompt\n"
     ]
    },
    {
     "name": "stderr",
     "output_type": "stream",
     "text": [
      "INFO:cluster_analysis_20250727_221630.log:Anthropic API call successful: model=claude-3-7-sonnet-20250219\n",
      "INFO:cluster_analysis_20250727_221630.log:Success for cluster 27\n",
      "Processing clusters:   7%|▋         | 28/414 [11:43<2:29:13, 23.19s/it]INFO:cluster_analysis_20250727_221630.log:Using Anthropic Claude API\n"
     ]
    },
    {
     "name": "stdout",
     "output_type": "stream",
     "text": [
      "Using provided template string\n",
      "Appending output format instructions to template\n",
      "Added 26 gene feature descriptions to prompt\n"
     ]
    },
    {
     "name": "stderr",
     "output_type": "stream",
     "text": [
      "INFO:cluster_analysis_20250727_221630.log:Anthropic API call successful: model=claude-3-7-sonnet-20250219\n",
      "INFO:cluster_analysis_20250727_221630.log:Success for cluster 28\n",
      "Processing clusters:   7%|▋         | 29/414 [11:57<2:11:54, 20.56s/it]INFO:cluster_analysis_20250727_221630.log:Using Anthropic Claude API\n"
     ]
    },
    {
     "name": "stdout",
     "output_type": "stream",
     "text": [
      "Using provided template string\n",
      "Appending output format instructions to template\n",
      "Added 26 gene feature descriptions to prompt\n"
     ]
    },
    {
     "name": "stderr",
     "output_type": "stream",
     "text": [
      "INFO:cluster_analysis_20250727_221630.log:Anthropic API call successful: model=claude-3-7-sonnet-20250219\n",
      "INFO:cluster_analysis_20250727_221630.log:Success for cluster 29\n",
      "INFO:cluster_analysis_20250727_221630.log:Saved progress for 30 clusters\n",
      "Processing clusters:   7%|▋         | 30/414 [12:13<2:03:05, 19.23s/it]INFO:cluster_analysis_20250727_221630.log:Using Anthropic Claude API\n"
     ]
    },
    {
     "name": "stdout",
     "output_type": "stream",
     "text": [
      "Using provided template string\n",
      "Appending output format instructions to template\n",
      "Added 25 gene feature descriptions to prompt\n"
     ]
    },
    {
     "name": "stderr",
     "output_type": "stream",
     "text": [
      "INFO:cluster_analysis_20250727_221630.log:Anthropic API call successful: model=claude-3-7-sonnet-20250219\n",
      "INFO:cluster_analysis_20250727_221630.log:Success for cluster 30\n",
      "Processing clusters:   7%|▋         | 31/414 [12:32<2:02:35, 19.20s/it]INFO:cluster_analysis_20250727_221630.log:Using Anthropic Claude API\n"
     ]
    },
    {
     "name": "stdout",
     "output_type": "stream",
     "text": [
      "Using provided template string\n",
      "Appending output format instructions to template\n",
      "Added 25 gene feature descriptions to prompt\n"
     ]
    },
    {
     "name": "stderr",
     "output_type": "stream",
     "text": [
      "INFO:cluster_analysis_20250727_221630.log:Anthropic API call successful: model=claude-3-7-sonnet-20250219\n",
      "INFO:cluster_analysis_20250727_221630.log:Success for cluster 31\n",
      "Processing clusters:   8%|▊         | 32/414 [12:49<1:57:49, 18.51s/it]INFO:cluster_analysis_20250727_221630.log:Using Anthropic Claude API\n"
     ]
    },
    {
     "name": "stdout",
     "output_type": "stream",
     "text": [
      "Using provided template string\n",
      "Appending output format instructions to template\n",
      "Added 25 gene feature descriptions to prompt\n"
     ]
    },
    {
     "name": "stderr",
     "output_type": "stream",
     "text": [
      "INFO:cluster_analysis_20250727_221630.log:Anthropic API call successful: model=claude-3-7-sonnet-20250219\n",
      "INFO:cluster_analysis_20250727_221630.log:Success for cluster 32\n",
      "Processing clusters:   8%|▊         | 33/414 [13:24<2:29:17, 23.51s/it]INFO:cluster_analysis_20250727_221630.log:Using Anthropic Claude API\n"
     ]
    },
    {
     "name": "stdout",
     "output_type": "stream",
     "text": [
      "Using provided template string\n",
      "Appending output format instructions to template\n",
      "Added 24 gene feature descriptions to prompt\n"
     ]
    },
    {
     "name": "stderr",
     "output_type": "stream",
     "text": [
      "INFO:cluster_analysis_20250727_221630.log:Anthropic API call successful: model=claude-3-7-sonnet-20250219\n",
      "INFO:cluster_analysis_20250727_221630.log:Success for cluster 33\n",
      "Processing clusters:   8%|▊         | 34/414 [13:40<2:14:57, 21.31s/it]INFO:cluster_analysis_20250727_221630.log:Using Anthropic Claude API\n"
     ]
    },
    {
     "name": "stdout",
     "output_type": "stream",
     "text": [
      "Using provided template string\n",
      "Appending output format instructions to template\n",
      "Added 24 gene feature descriptions to prompt\n"
     ]
    },
    {
     "name": "stderr",
     "output_type": "stream",
     "text": [
      "INFO:cluster_analysis_20250727_221630.log:Anthropic API call successful: model=claude-3-7-sonnet-20250219\n",
      "INFO:cluster_analysis_20250727_221630.log:Success for cluster 34\n",
      "INFO:cluster_analysis_20250727_221630.log:Saved progress for 35 clusters\n",
      "Processing clusters:   8%|▊         | 35/414 [13:55<2:02:27, 19.39s/it]INFO:cluster_analysis_20250727_221630.log:Using Anthropic Claude API\n"
     ]
    },
    {
     "name": "stdout",
     "output_type": "stream",
     "text": [
      "Using provided template string\n",
      "Appending output format instructions to template\n",
      "Added 24 gene feature descriptions to prompt\n"
     ]
    },
    {
     "name": "stderr",
     "output_type": "stream",
     "text": [
      "INFO:cluster_analysis_20250727_221630.log:Anthropic API call successful: model=claude-3-7-sonnet-20250219\n",
      "INFO:cluster_analysis_20250727_221630.log:Success for cluster 35\n",
      "Processing clusters:   9%|▊         | 36/414 [14:10<1:52:57, 17.93s/it]INFO:cluster_analysis_20250727_221630.log:Using Anthropic Claude API\n"
     ]
    },
    {
     "name": "stdout",
     "output_type": "stream",
     "text": [
      "Using provided template string\n",
      "Appending output format instructions to template\n",
      "Added 24 gene feature descriptions to prompt\n"
     ]
    },
    {
     "name": "stderr",
     "output_type": "stream",
     "text": [
      "INFO:cluster_analysis_20250727_221630.log:Anthropic API call successful: model=claude-3-7-sonnet-20250219\n",
      "INFO:cluster_analysis_20250727_221630.log:Success for cluster 36\n",
      "Processing clusters:   9%|▉         | 37/414 [14:54<2:42:26, 25.85s/it]INFO:cluster_analysis_20250727_221630.log:Using Anthropic Claude API\n"
     ]
    },
    {
     "name": "stdout",
     "output_type": "stream",
     "text": [
      "Using provided template string\n",
      "Appending output format instructions to template\n",
      "Added 23 gene feature descriptions to prompt\n"
     ]
    },
    {
     "name": "stderr",
     "output_type": "stream",
     "text": [
      "INFO:cluster_analysis_20250727_221630.log:Anthropic API call successful: model=claude-3-7-sonnet-20250219\n",
      "INFO:cluster_analysis_20250727_221630.log:Success for cluster 37\n",
      "Processing clusters:   9%|▉         | 38/414 [15:20<2:42:30, 25.93s/it]INFO:cluster_analysis_20250727_221630.log:Using Anthropic Claude API\n"
     ]
    },
    {
     "name": "stdout",
     "output_type": "stream",
     "text": [
      "Using provided template string\n",
      "Appending output format instructions to template\n",
      "Added 23 gene feature descriptions to prompt\n"
     ]
    },
    {
     "name": "stderr",
     "output_type": "stream",
     "text": [
      "INFO:cluster_analysis_20250727_221630.log:Anthropic API call successful: model=claude-3-7-sonnet-20250219\n",
      "INFO:cluster_analysis_20250727_221630.log:Success for cluster 38\n",
      "Processing clusters:   9%|▉         | 39/414 [15:42<2:34:19, 24.69s/it]INFO:cluster_analysis_20250727_221630.log:Using Anthropic Claude API\n"
     ]
    },
    {
     "name": "stdout",
     "output_type": "stream",
     "text": [
      "Using provided template string\n",
      "Appending output format instructions to template\n",
      "Added 21 gene feature descriptions to prompt\n"
     ]
    },
    {
     "name": "stderr",
     "output_type": "stream",
     "text": [
      "INFO:cluster_analysis_20250727_221630.log:Anthropic API call successful: model=claude-3-7-sonnet-20250219\n",
      "INFO:cluster_analysis_20250727_221630.log:Success for cluster 39\n",
      "INFO:cluster_analysis_20250727_221630.log:Saved progress for 40 clusters\n",
      "Processing clusters:  10%|▉         | 40/414 [16:09<2:37:04, 25.20s/it]INFO:cluster_analysis_20250727_221630.log:Using Anthropic Claude API\n"
     ]
    },
    {
     "name": "stdout",
     "output_type": "stream",
     "text": [
      "Using provided template string\n",
      "Appending output format instructions to template\n",
      "Added 21 gene feature descriptions to prompt\n"
     ]
    },
    {
     "name": "stderr",
     "output_type": "stream",
     "text": [
      "INFO:cluster_analysis_20250727_221630.log:Anthropic API call successful: model=claude-3-7-sonnet-20250219\n",
      "INFO:cluster_analysis_20250727_221630.log:Success for cluster 40\n",
      "Processing clusters:  10%|▉         | 41/414 [16:31<2:31:29, 24.37s/it]INFO:cluster_analysis_20250727_221630.log:Using Anthropic Claude API\n"
     ]
    },
    {
     "name": "stdout",
     "output_type": "stream",
     "text": [
      "Using provided template string\n",
      "Appending output format instructions to template\n",
      "Added 21 gene feature descriptions to prompt\n"
     ]
    },
    {
     "name": "stderr",
     "output_type": "stream",
     "text": [
      "INFO:cluster_analysis_20250727_221630.log:Anthropic API call successful: model=claude-3-7-sonnet-20250219\n",
      "INFO:cluster_analysis_20250727_221630.log:Success for cluster 41\n",
      "Processing clusters:  10%|█         | 42/414 [16:46<2:14:40, 21.72s/it]INFO:cluster_analysis_20250727_221630.log:Using Anthropic Claude API\n"
     ]
    },
    {
     "name": "stdout",
     "output_type": "stream",
     "text": [
      "Using provided template string\n",
      "Appending output format instructions to template\n",
      "Added 20 gene feature descriptions to prompt\n"
     ]
    },
    {
     "name": "stderr",
     "output_type": "stream",
     "text": [
      "INFO:cluster_analysis_20250727_221630.log:Anthropic API call successful: model=claude-3-7-sonnet-20250219\n",
      "INFO:cluster_analysis_20250727_221630.log:Success for cluster 42\n",
      "Processing clusters:  10%|█         | 43/414 [17:01<2:01:37, 19.67s/it]INFO:cluster_analysis_20250727_221630.log:Using Anthropic Claude API\n"
     ]
    },
    {
     "name": "stdout",
     "output_type": "stream",
     "text": [
      "Using provided template string\n",
      "Appending output format instructions to template\n",
      "Added 20 gene feature descriptions to prompt\n"
     ]
    },
    {
     "name": "stderr",
     "output_type": "stream",
     "text": [
      "INFO:cluster_analysis_20250727_221630.log:Anthropic API call successful: model=claude-3-7-sonnet-20250219\n",
      "INFO:cluster_analysis_20250727_221630.log:Success for cluster 43\n",
      "Processing clusters:  11%|█         | 44/414 [17:21<2:02:00, 19.78s/it]INFO:cluster_analysis_20250727_221630.log:Using Anthropic Claude API\n"
     ]
    },
    {
     "name": "stdout",
     "output_type": "stream",
     "text": [
      "Using provided template string\n",
      "Appending output format instructions to template\n",
      "Added 20 gene feature descriptions to prompt\n"
     ]
    },
    {
     "name": "stderr",
     "output_type": "stream",
     "text": [
      "INFO:cluster_analysis_20250727_221630.log:Anthropic API call successful: model=claude-3-7-sonnet-20250219\n",
      "INFO:cluster_analysis_20250727_221630.log:Success for cluster 44\n",
      "INFO:cluster_analysis_20250727_221630.log:Saved progress for 45 clusters\n",
      "Processing clusters:  11%|█         | 45/414 [17:40<1:58:44, 19.31s/it]INFO:cluster_analysis_20250727_221630.log:Using Anthropic Claude API\n"
     ]
    },
    {
     "name": "stdout",
     "output_type": "stream",
     "text": [
      "Using provided template string\n",
      "Appending output format instructions to template\n",
      "Added 20 gene feature descriptions to prompt\n"
     ]
    },
    {
     "name": "stderr",
     "output_type": "stream",
     "text": [
      "INFO:cluster_analysis_20250727_221630.log:Anthropic API call successful: model=claude-3-7-sonnet-20250219\n",
      "INFO:cluster_analysis_20250727_221630.log:Success for cluster 45\n",
      "Processing clusters:  11%|█         | 46/414 [17:56<1:53:27, 18.50s/it]INFO:cluster_analysis_20250727_221630.log:Using Anthropic Claude API\n"
     ]
    },
    {
     "name": "stdout",
     "output_type": "stream",
     "text": [
      "Using provided template string\n",
      "Appending output format instructions to template\n",
      "Added 20 gene feature descriptions to prompt\n"
     ]
    },
    {
     "name": "stderr",
     "output_type": "stream",
     "text": [
      "INFO:cluster_analysis_20250727_221630.log:Anthropic API call successful: model=claude-3-7-sonnet-20250219\n",
      "INFO:cluster_analysis_20250727_221630.log:Success for cluster 46\n",
      "Processing clusters:  11%|█▏        | 47/414 [18:12<1:48:12, 17.69s/it]INFO:cluster_analysis_20250727_221630.log:Using Anthropic Claude API\n"
     ]
    },
    {
     "name": "stdout",
     "output_type": "stream",
     "text": [
      "Using provided template string\n",
      "Appending output format instructions to template\n",
      "Added 20 gene feature descriptions to prompt\n"
     ]
    },
    {
     "name": "stderr",
     "output_type": "stream",
     "text": [
      "INFO:cluster_analysis_20250727_221630.log:Anthropic API call successful: model=claude-3-7-sonnet-20250219\n",
      "INFO:cluster_analysis_20250727_221630.log:Success for cluster 47\n",
      "Processing clusters:  12%|█▏        | 48/414 [18:29<1:46:10, 17.41s/it]INFO:cluster_analysis_20250727_221630.log:Using Anthropic Claude API\n"
     ]
    },
    {
     "name": "stdout",
     "output_type": "stream",
     "text": [
      "Using provided template string\n",
      "Appending output format instructions to template\n",
      "Added 20 gene feature descriptions to prompt\n"
     ]
    },
    {
     "name": "stderr",
     "output_type": "stream",
     "text": [
      "INFO:cluster_analysis_20250727_221630.log:Anthropic API call successful: model=claude-3-7-sonnet-20250219\n",
      "INFO:cluster_analysis_20250727_221630.log:Success for cluster 48\n",
      "Processing clusters:  12%|█▏        | 49/414 [18:45<1:43:20, 16.99s/it]INFO:cluster_analysis_20250727_221630.log:Using Anthropic Claude API\n"
     ]
    },
    {
     "name": "stdout",
     "output_type": "stream",
     "text": [
      "Using provided template string\n",
      "Appending output format instructions to template\n",
      "Added 19 gene feature descriptions to prompt\n"
     ]
    },
    {
     "name": "stderr",
     "output_type": "stream",
     "text": [
      "INFO:cluster_analysis_20250727_221630.log:Anthropic API call successful: model=claude-3-7-sonnet-20250219\n",
      "INFO:cluster_analysis_20250727_221630.log:Success for cluster 49\n",
      "INFO:cluster_analysis_20250727_221630.log:Saved progress for 50 clusters\n",
      "Processing clusters:  12%|█▏        | 50/414 [19:07<1:52:58, 18.62s/it]INFO:cluster_analysis_20250727_221630.log:Using Anthropic Claude API\n"
     ]
    },
    {
     "name": "stdout",
     "output_type": "stream",
     "text": [
      "Using provided template string\n",
      "Appending output format instructions to template\n",
      "Added 19 gene feature descriptions to prompt\n"
     ]
    },
    {
     "name": "stderr",
     "output_type": "stream",
     "text": [
      "INFO:cluster_analysis_20250727_221630.log:Anthropic API call successful: model=claude-3-7-sonnet-20250219\n",
      "INFO:cluster_analysis_20250727_221630.log:Success for cluster 50\n",
      "Processing clusters:  12%|█▏        | 51/414 [19:23<1:48:20, 17.91s/it]INFO:cluster_analysis_20250727_221630.log:Using Anthropic Claude API\n"
     ]
    },
    {
     "name": "stdout",
     "output_type": "stream",
     "text": [
      "Using provided template string\n",
      "Appending output format instructions to template\n",
      "Added 19 gene feature descriptions to prompt\n"
     ]
    },
    {
     "name": "stderr",
     "output_type": "stream",
     "text": [
      "INFO:cluster_analysis_20250727_221630.log:Anthropic API call successful: model=claude-3-7-sonnet-20250219\n",
      "INFO:cluster_analysis_20250727_221630.log:Success for cluster 51\n",
      "Processing clusters:  13%|█▎        | 52/414 [19:36<1:38:31, 16.33s/it]INFO:cluster_analysis_20250727_221630.log:Using Anthropic Claude API\n"
     ]
    },
    {
     "name": "stdout",
     "output_type": "stream",
     "text": [
      "Using provided template string\n",
      "Appending output format instructions to template\n",
      "Added 19 gene feature descriptions to prompt\n"
     ]
    },
    {
     "name": "stderr",
     "output_type": "stream",
     "text": [
      "INFO:cluster_analysis_20250727_221630.log:Anthropic API call successful: model=claude-3-7-sonnet-20250219\n",
      "INFO:cluster_analysis_20250727_221630.log:Success for cluster 52\n",
      "Processing clusters:  13%|█▎        | 53/414 [19:52<1:37:48, 16.26s/it]INFO:cluster_analysis_20250727_221630.log:Using Anthropic Claude API\n"
     ]
    },
    {
     "name": "stdout",
     "output_type": "stream",
     "text": [
      "Using provided template string\n",
      "Appending output format instructions to template\n",
      "Added 19 gene feature descriptions to prompt\n"
     ]
    },
    {
     "name": "stderr",
     "output_type": "stream",
     "text": [
      "INFO:cluster_analysis_20250727_221630.log:Anthropic API call successful: model=claude-3-7-sonnet-20250219\n",
      "INFO:cluster_analysis_20250727_221630.log:Success for cluster 53\n",
      "Processing clusters:  13%|█▎        | 54/414 [20:14<1:47:07, 17.85s/it]INFO:cluster_analysis_20250727_221630.log:Using Anthropic Claude API\n"
     ]
    },
    {
     "name": "stdout",
     "output_type": "stream",
     "text": [
      "Using provided template string\n",
      "Appending output format instructions to template\n",
      "Added 18 gene feature descriptions to prompt\n"
     ]
    },
    {
     "name": "stderr",
     "output_type": "stream",
     "text": [
      "INFO:cluster_analysis_20250727_221630.log:Anthropic API call successful: model=claude-3-7-sonnet-20250219\n",
      "INFO:cluster_analysis_20250727_221630.log:Success for cluster 54\n",
      "INFO:cluster_analysis_20250727_221630.log:Saved progress for 55 clusters\n",
      "Processing clusters:  13%|█▎        | 55/414 [20:32<1:47:21, 17.94s/it]INFO:cluster_analysis_20250727_221630.log:Using Anthropic Claude API\n"
     ]
    },
    {
     "name": "stdout",
     "output_type": "stream",
     "text": [
      "Using provided template string\n",
      "Appending output format instructions to template\n",
      "Added 18 gene feature descriptions to prompt\n"
     ]
    },
    {
     "name": "stderr",
     "output_type": "stream",
     "text": [
      "INFO:cluster_analysis_20250727_221630.log:Anthropic API call successful: model=claude-3-7-sonnet-20250219\n",
      "INFO:cluster_analysis_20250727_221630.log:Success for cluster 55\n",
      "Processing clusters:  14%|█▎        | 56/414 [20:50<1:47:17, 17.98s/it]INFO:cluster_analysis_20250727_221630.log:Using Anthropic Claude API\n"
     ]
    },
    {
     "name": "stdout",
     "output_type": "stream",
     "text": [
      "Using provided template string\n",
      "Appending output format instructions to template\n",
      "Added 18 gene feature descriptions to prompt\n"
     ]
    },
    {
     "name": "stderr",
     "output_type": "stream",
     "text": [
      "INFO:cluster_analysis_20250727_221630.log:Anthropic API call successful: model=claude-3-7-sonnet-20250219\n",
      "INFO:cluster_analysis_20250727_221630.log:Success for cluster 56\n",
      "Processing clusters:  14%|█▍        | 57/414 [21:05<1:41:12, 17.01s/it]INFO:cluster_analysis_20250727_221630.log:Using Anthropic Claude API\n"
     ]
    },
    {
     "name": "stdout",
     "output_type": "stream",
     "text": [
      "Using provided template string\n",
      "Appending output format instructions to template\n",
      "Added 17 gene feature descriptions to prompt\n"
     ]
    },
    {
     "name": "stderr",
     "output_type": "stream",
     "text": [
      "INFO:cluster_analysis_20250727_221630.log:Anthropic API call successful: model=claude-3-7-sonnet-20250219\n",
      "INFO:cluster_analysis_20250727_221630.log:Success for cluster 57\n",
      "Processing clusters:  14%|█▍        | 58/414 [21:16<1:31:04, 15.35s/it]INFO:cluster_analysis_20250727_221630.log:Using Anthropic Claude API\n"
     ]
    },
    {
     "name": "stdout",
     "output_type": "stream",
     "text": [
      "Using provided template string\n",
      "Appending output format instructions to template\n",
      "Added 17 gene feature descriptions to prompt\n"
     ]
    },
    {
     "name": "stderr",
     "output_type": "stream",
     "text": [
      "INFO:cluster_analysis_20250727_221630.log:Anthropic API call successful: model=claude-3-7-sonnet-20250219\n",
      "INFO:cluster_analysis_20250727_221630.log:Success for cluster 58\n",
      "Processing clusters:  14%|█▍        | 59/414 [21:37<1:40:50, 17.04s/it]INFO:cluster_analysis_20250727_221630.log:Using Anthropic Claude API\n"
     ]
    },
    {
     "name": "stdout",
     "output_type": "stream",
     "text": [
      "Using provided template string\n",
      "Appending output format instructions to template\n",
      "Added 17 gene feature descriptions to prompt\n"
     ]
    },
    {
     "name": "stderr",
     "output_type": "stream",
     "text": [
      "INFO:cluster_analysis_20250727_221630.log:Anthropic API call successful: model=claude-3-7-sonnet-20250219\n",
      "INFO:cluster_analysis_20250727_221630.log:Success for cluster 59\n",
      "INFO:cluster_analysis_20250727_221630.log:Saved progress for 60 clusters\n",
      "Processing clusters:  14%|█▍        | 60/414 [21:59<1:49:18, 18.53s/it]INFO:cluster_analysis_20250727_221630.log:Using Anthropic Claude API\n"
     ]
    },
    {
     "name": "stdout",
     "output_type": "stream",
     "text": [
      "Using provided template string\n",
      "Appending output format instructions to template\n",
      "Added 17 gene feature descriptions to prompt\n"
     ]
    },
    {
     "name": "stderr",
     "output_type": "stream",
     "text": [
      "INFO:cluster_analysis_20250727_221630.log:Anthropic API call successful: model=claude-3-7-sonnet-20250219\n",
      "INFO:cluster_analysis_20250727_221630.log:Success for cluster 60\n",
      "Processing clusters:  15%|█▍        | 61/414 [22:19<1:50:37, 18.80s/it]INFO:cluster_analysis_20250727_221630.log:Using Anthropic Claude API\n"
     ]
    },
    {
     "name": "stdout",
     "output_type": "stream",
     "text": [
      "Using provided template string\n",
      "Appending output format instructions to template\n",
      "Added 16 gene feature descriptions to prompt\n"
     ]
    },
    {
     "name": "stderr",
     "output_type": "stream",
     "text": [
      "INFO:cluster_analysis_20250727_221630.log:Anthropic API call successful: model=claude-3-7-sonnet-20250219\n",
      "INFO:cluster_analysis_20250727_221630.log:Success for cluster 61\n",
      "Processing clusters:  15%|█▍        | 62/414 [22:37<1:50:14, 18.79s/it]INFO:cluster_analysis_20250727_221630.log:Using Anthropic Claude API\n"
     ]
    },
    {
     "name": "stdout",
     "output_type": "stream",
     "text": [
      "Using provided template string\n",
      "Appending output format instructions to template\n",
      "Added 16 gene feature descriptions to prompt\n"
     ]
    },
    {
     "name": "stderr",
     "output_type": "stream",
     "text": [
      "INFO:cluster_analysis_20250727_221630.log:Anthropic API call successful: model=claude-3-7-sonnet-20250219\n",
      "INFO:cluster_analysis_20250727_221630.log:Success for cluster 62\n",
      "Processing clusters:  15%|█▌        | 63/414 [22:48<1:35:47, 16.38s/it]INFO:cluster_analysis_20250727_221630.log:Using Anthropic Claude API\n"
     ]
    },
    {
     "name": "stdout",
     "output_type": "stream",
     "text": [
      "Using provided template string\n",
      "Appending output format instructions to template\n",
      "Added 16 gene feature descriptions to prompt\n"
     ]
    },
    {
     "name": "stderr",
     "output_type": "stream",
     "text": [
      "INFO:cluster_analysis_20250727_221630.log:Anthropic API call successful: model=claude-3-7-sonnet-20250219\n",
      "INFO:cluster_analysis_20250727_221630.log:Success for cluster 63\n",
      "Processing clusters:  15%|█▌        | 64/414 [23:00<1:28:04, 15.10s/it]INFO:cluster_analysis_20250727_221630.log:Using Anthropic Claude API\n"
     ]
    },
    {
     "name": "stdout",
     "output_type": "stream",
     "text": [
      "Using provided template string\n",
      "Appending output format instructions to template\n",
      "Added 16 gene feature descriptions to prompt\n"
     ]
    },
    {
     "name": "stderr",
     "output_type": "stream",
     "text": [
      "INFO:cluster_analysis_20250727_221630.log:Anthropic API call successful: model=claude-3-7-sonnet-20250219\n",
      "INFO:cluster_analysis_20250727_221630.log:Success for cluster 64\n",
      "INFO:cluster_analysis_20250727_221630.log:Saved progress for 65 clusters\n",
      "Processing clusters:  16%|█▌        | 65/414 [23:15<1:27:54, 15.11s/it]INFO:cluster_analysis_20250727_221630.log:Using Anthropic Claude API\n"
     ]
    },
    {
     "name": "stdout",
     "output_type": "stream",
     "text": [
      "Using provided template string\n",
      "Appending output format instructions to template\n",
      "Added 16 gene feature descriptions to prompt\n"
     ]
    },
    {
     "name": "stderr",
     "output_type": "stream",
     "text": [
      "INFO:cluster_analysis_20250727_221630.log:Anthropic API call successful: model=claude-3-7-sonnet-20250219\n",
      "INFO:cluster_analysis_20250727_221630.log:Success for cluster 65\n",
      "Processing clusters:  16%|█▌        | 66/414 [23:31<1:27:58, 15.17s/it]INFO:cluster_analysis_20250727_221630.log:Using Anthropic Claude API\n"
     ]
    },
    {
     "name": "stdout",
     "output_type": "stream",
     "text": [
      "Using provided template string\n",
      "Appending output format instructions to template\n",
      "Added 16 gene feature descriptions to prompt\n"
     ]
    },
    {
     "name": "stderr",
     "output_type": "stream",
     "text": [
      "INFO:cluster_analysis_20250727_221630.log:Anthropic API call successful: model=claude-3-7-sonnet-20250219\n",
      "INFO:cluster_analysis_20250727_221630.log:Success for cluster 66\n",
      "Processing clusters:  16%|█▌        | 67/414 [23:44<1:24:22, 14.59s/it]INFO:cluster_analysis_20250727_221630.log:Using Anthropic Claude API\n"
     ]
    },
    {
     "name": "stdout",
     "output_type": "stream",
     "text": [
      "Using provided template string\n",
      "Appending output format instructions to template\n",
      "Added 16 gene feature descriptions to prompt\n"
     ]
    },
    {
     "name": "stderr",
     "output_type": "stream",
     "text": [
      "INFO:cluster_analysis_20250727_221630.log:Anthropic API call successful: model=claude-3-7-sonnet-20250219\n",
      "INFO:cluster_analysis_20250727_221630.log:Success for cluster 67\n",
      "Processing clusters:  16%|█▋        | 68/414 [24:00<1:26:30, 15.00s/it]INFO:cluster_analysis_20250727_221630.log:Using Anthropic Claude API\n"
     ]
    },
    {
     "name": "stdout",
     "output_type": "stream",
     "text": [
      "Using provided template string\n",
      "Appending output format instructions to template\n",
      "Added 15 gene feature descriptions to prompt\n"
     ]
    },
    {
     "name": "stderr",
     "output_type": "stream",
     "text": [
      "INFO:cluster_analysis_20250727_221630.log:Anthropic API call successful: model=claude-3-7-sonnet-20250219\n",
      "INFO:cluster_analysis_20250727_221630.log:Success for cluster 68\n",
      "Processing clusters:  17%|█▋        | 69/414 [24:09<1:15:23, 13.11s/it]INFO:cluster_analysis_20250727_221630.log:Using Anthropic Claude API\n"
     ]
    },
    {
     "name": "stdout",
     "output_type": "stream",
     "text": [
      "Using provided template string\n",
      "Appending output format instructions to template\n",
      "Added 15 gene feature descriptions to prompt\n"
     ]
    },
    {
     "name": "stderr",
     "output_type": "stream",
     "text": [
      "INFO:cluster_analysis_20250727_221630.log:Anthropic API call successful: model=claude-3-7-sonnet-20250219\n",
      "INFO:cluster_analysis_20250727_221630.log:Success for cluster 69\n",
      "INFO:cluster_analysis_20250727_221630.log:Saved progress for 70 clusters\n",
      "Processing clusters:  17%|█▋        | 70/414 [24:23<1:17:26, 13.51s/it]INFO:cluster_analysis_20250727_221630.log:Using Anthropic Claude API\n"
     ]
    },
    {
     "name": "stdout",
     "output_type": "stream",
     "text": [
      "Using provided template string\n",
      "Appending output format instructions to template\n",
      "Added 15 gene feature descriptions to prompt\n"
     ]
    },
    {
     "name": "stderr",
     "output_type": "stream",
     "text": [
      "INFO:cluster_analysis_20250727_221630.log:Anthropic API call successful: model=claude-3-7-sonnet-20250219\n",
      "INFO:cluster_analysis_20250727_221630.log:Success for cluster 70\n",
      "Processing clusters:  17%|█▋        | 71/414 [24:36<1:16:57, 13.46s/it]INFO:cluster_analysis_20250727_221630.log:Using Anthropic Claude API\n"
     ]
    },
    {
     "name": "stdout",
     "output_type": "stream",
     "text": [
      "Using provided template string\n",
      "Appending output format instructions to template\n",
      "Added 15 gene feature descriptions to prompt\n"
     ]
    },
    {
     "name": "stderr",
     "output_type": "stream",
     "text": [
      "INFO:cluster_analysis_20250727_221630.log:Anthropic API call successful: model=claude-3-7-sonnet-20250219\n",
      "INFO:cluster_analysis_20250727_221630.log:Success for cluster 71\n",
      "Processing clusters:  17%|█▋        | 72/414 [24:52<1:20:23, 14.10s/it]INFO:cluster_analysis_20250727_221630.log:Using Anthropic Claude API\n"
     ]
    },
    {
     "name": "stdout",
     "output_type": "stream",
     "text": [
      "Using provided template string\n",
      "Appending output format instructions to template\n",
      "Added 15 gene feature descriptions to prompt\n"
     ]
    },
    {
     "name": "stderr",
     "output_type": "stream",
     "text": [
      "INFO:cluster_analysis_20250727_221630.log:Anthropic API call successful: model=claude-3-7-sonnet-20250219\n",
      "INFO:cluster_analysis_20250727_221630.log:Success for cluster 72\n",
      "Processing clusters:  18%|█▊        | 73/414 [25:08<1:23:38, 14.72s/it]INFO:cluster_analysis_20250727_221630.log:Using Anthropic Claude API\n"
     ]
    },
    {
     "name": "stdout",
     "output_type": "stream",
     "text": [
      "Using provided template string\n",
      "Appending output format instructions to template\n",
      "Added 15 gene feature descriptions to prompt\n"
     ]
    },
    {
     "name": "stderr",
     "output_type": "stream",
     "text": [
      "INFO:cluster_analysis_20250727_221630.log:Anthropic API call successful: model=claude-3-7-sonnet-20250219\n",
      "INFO:cluster_analysis_20250727_221630.log:Success for cluster 73\n",
      "Processing clusters:  18%|█▊        | 74/414 [25:26<1:28:25, 15.61s/it]INFO:cluster_analysis_20250727_221630.log:Using Anthropic Claude API\n"
     ]
    },
    {
     "name": "stdout",
     "output_type": "stream",
     "text": [
      "Using provided template string\n",
      "Appending output format instructions to template\n",
      "Added 15 gene feature descriptions to prompt\n"
     ]
    },
    {
     "name": "stderr",
     "output_type": "stream",
     "text": [
      "INFO:cluster_analysis_20250727_221630.log:Anthropic API call successful: model=claude-3-7-sonnet-20250219\n",
      "INFO:cluster_analysis_20250727_221630.log:Success for cluster 74\n",
      "INFO:cluster_analysis_20250727_221630.log:Saved progress for 75 clusters\n",
      "Processing clusters:  18%|█▊        | 75/414 [25:35<1:16:31, 13.54s/it]INFO:cluster_analysis_20250727_221630.log:Using Anthropic Claude API\n"
     ]
    },
    {
     "name": "stdout",
     "output_type": "stream",
     "text": [
      "Using provided template string\n",
      "Appending output format instructions to template\n",
      "Added 15 gene feature descriptions to prompt\n"
     ]
    },
    {
     "name": "stderr",
     "output_type": "stream",
     "text": [
      "INFO:cluster_analysis_20250727_221630.log:Anthropic API call successful: model=claude-3-7-sonnet-20250219\n",
      "INFO:cluster_analysis_20250727_221630.log:Success for cluster 75\n",
      "Processing clusters:  18%|█▊        | 76/414 [25:48<1:16:47, 13.63s/it]INFO:cluster_analysis_20250727_221630.log:Using Anthropic Claude API\n"
     ]
    },
    {
     "name": "stdout",
     "output_type": "stream",
     "text": [
      "Using provided template string\n",
      "Appending output format instructions to template\n",
      "Added 14 gene feature descriptions to prompt\n"
     ]
    },
    {
     "name": "stderr",
     "output_type": "stream",
     "text": [
      "INFO:cluster_analysis_20250727_221630.log:Anthropic API call successful: model=claude-3-7-sonnet-20250219\n",
      "INFO:cluster_analysis_20250727_221630.log:Success for cluster 76\n",
      "Processing clusters:  19%|█▊        | 77/414 [26:01<1:15:31, 13.45s/it]INFO:cluster_analysis_20250727_221630.log:Using Anthropic Claude API\n"
     ]
    },
    {
     "name": "stdout",
     "output_type": "stream",
     "text": [
      "Using provided template string\n",
      "Appending output format instructions to template\n",
      "Added 14 gene feature descriptions to prompt\n"
     ]
    },
    {
     "name": "stderr",
     "output_type": "stream",
     "text": [
      "INFO:cluster_analysis_20250727_221630.log:Anthropic API call successful: model=claude-3-7-sonnet-20250219\n",
      "INFO:cluster_analysis_20250727_221630.log:Success for cluster 77\n",
      "Processing clusters:  19%|█▉        | 78/414 [26:14<1:13:54, 13.20s/it]INFO:cluster_analysis_20250727_221630.log:Using Anthropic Claude API\n"
     ]
    },
    {
     "name": "stdout",
     "output_type": "stream",
     "text": [
      "Using provided template string\n",
      "Appending output format instructions to template\n",
      "Added 14 gene feature descriptions to prompt\n"
     ]
    },
    {
     "name": "stderr",
     "output_type": "stream",
     "text": [
      "INFO:cluster_analysis_20250727_221630.log:Anthropic API call successful: model=claude-3-7-sonnet-20250219\n",
      "INFO:cluster_analysis_20250727_221630.log:Success for cluster 78\n",
      "Processing clusters:  19%|█▉        | 79/414 [26:29<1:16:46, 13.75s/it]INFO:cluster_analysis_20250727_221630.log:Using Anthropic Claude API\n"
     ]
    },
    {
     "name": "stdout",
     "output_type": "stream",
     "text": [
      "Using provided template string\n",
      "Appending output format instructions to template\n",
      "Added 14 gene feature descriptions to prompt\n"
     ]
    },
    {
     "name": "stderr",
     "output_type": "stream",
     "text": [
      "INFO:cluster_analysis_20250727_221630.log:Anthropic API call successful: model=claude-3-7-sonnet-20250219\n",
      "INFO:cluster_analysis_20250727_221630.log:Success for cluster 79\n",
      "INFO:cluster_analysis_20250727_221630.log:Saved progress for 80 clusters\n",
      "Processing clusters:  19%|█▉        | 80/414 [26:44<1:18:59, 14.19s/it]INFO:cluster_analysis_20250727_221630.log:Using Anthropic Claude API\n"
     ]
    },
    {
     "name": "stdout",
     "output_type": "stream",
     "text": [
      "Using provided template string\n",
      "Appending output format instructions to template\n",
      "Added 14 gene feature descriptions to prompt\n"
     ]
    },
    {
     "name": "stderr",
     "output_type": "stream",
     "text": [
      "INFO:cluster_analysis_20250727_221630.log:Anthropic API call successful: model=claude-3-7-sonnet-20250219\n",
      "INFO:cluster_analysis_20250727_221630.log:Success for cluster 80\n",
      "Processing clusters:  20%|█▉        | 81/414 [26:59<1:19:51, 14.39s/it]INFO:cluster_analysis_20250727_221630.log:Using Anthropic Claude API\n"
     ]
    },
    {
     "name": "stdout",
     "output_type": "stream",
     "text": [
      "Using provided template string\n",
      "Appending output format instructions to template\n",
      "Added 14 gene feature descriptions to prompt\n"
     ]
    },
    {
     "name": "stderr",
     "output_type": "stream",
     "text": [
      "INFO:cluster_analysis_20250727_221630.log:Anthropic API call successful: model=claude-3-7-sonnet-20250219\n",
      "INFO:cluster_analysis_20250727_221630.log:Success for cluster 81\n",
      "Processing clusters:  20%|█▉        | 82/414 [27:20<1:30:39, 16.38s/it]INFO:cluster_analysis_20250727_221630.log:Using Anthropic Claude API\n"
     ]
    },
    {
     "name": "stdout",
     "output_type": "stream",
     "text": [
      "Using provided template string\n",
      "Appending output format instructions to template\n",
      "Added 14 gene feature descriptions to prompt\n"
     ]
    },
    {
     "name": "stderr",
     "output_type": "stream",
     "text": [
      "INFO:cluster_analysis_20250727_221630.log:Anthropic API call successful: model=claude-3-7-sonnet-20250219\n",
      "INFO:cluster_analysis_20250727_221630.log:Success for cluster 82\n",
      "Processing clusters:  20%|██        | 83/414 [27:35<1:27:13, 15.81s/it]INFO:cluster_analysis_20250727_221630.log:Using Anthropic Claude API\n"
     ]
    },
    {
     "name": "stdout",
     "output_type": "stream",
     "text": [
      "Using provided template string\n",
      "Appending output format instructions to template\n",
      "Added 14 gene feature descriptions to prompt\n"
     ]
    },
    {
     "name": "stderr",
     "output_type": "stream",
     "text": [
      "INFO:cluster_analysis_20250727_221630.log:Anthropic API call successful: model=claude-3-7-sonnet-20250219\n",
      "INFO:cluster_analysis_20250727_221630.log:Success for cluster 83\n",
      "Processing clusters:  20%|██        | 84/414 [27:47<1:21:43, 14.86s/it]INFO:cluster_analysis_20250727_221630.log:Using Anthropic Claude API\n"
     ]
    },
    {
     "name": "stdout",
     "output_type": "stream",
     "text": [
      "Using provided template string\n",
      "Appending output format instructions to template\n",
      "Added 14 gene feature descriptions to prompt\n"
     ]
    },
    {
     "name": "stderr",
     "output_type": "stream",
     "text": [
      "INFO:cluster_analysis_20250727_221630.log:Anthropic API call successful: model=claude-3-7-sonnet-20250219\n",
      "INFO:cluster_analysis_20250727_221630.log:Success for cluster 84\n",
      "INFO:cluster_analysis_20250727_221630.log:Saved progress for 85 clusters\n",
      "Processing clusters:  21%|██        | 85/414 [27:59<1:16:47, 14.01s/it]INFO:cluster_analysis_20250727_221630.log:Using Anthropic Claude API\n"
     ]
    },
    {
     "name": "stdout",
     "output_type": "stream",
     "text": [
      "Using provided template string\n",
      "Appending output format instructions to template\n",
      "Added 14 gene feature descriptions to prompt\n"
     ]
    },
    {
     "name": "stderr",
     "output_type": "stream",
     "text": [
      "INFO:cluster_analysis_20250727_221630.log:Anthropic API call successful: model=claude-3-7-sonnet-20250219\n",
      "INFO:cluster_analysis_20250727_221630.log:Success for cluster 85\n",
      "Processing clusters:  21%|██        | 86/414 [28:13<1:15:42, 13.85s/it]INFO:cluster_analysis_20250727_221630.log:Using Anthropic Claude API\n"
     ]
    },
    {
     "name": "stdout",
     "output_type": "stream",
     "text": [
      "Using provided template string\n",
      "Appending output format instructions to template\n",
      "Added 14 gene feature descriptions to prompt\n"
     ]
    },
    {
     "name": "stderr",
     "output_type": "stream",
     "text": [
      "INFO:cluster_analysis_20250727_221630.log:Anthropic API call successful: model=claude-3-7-sonnet-20250219\n",
      "INFO:cluster_analysis_20250727_221630.log:Success for cluster 86\n",
      "Processing clusters:  21%|██        | 87/414 [28:26<1:14:04, 13.59s/it]INFO:cluster_analysis_20250727_221630.log:Using Anthropic Claude API\n"
     ]
    },
    {
     "name": "stdout",
     "output_type": "stream",
     "text": [
      "Using provided template string\n",
      "Appending output format instructions to template\n",
      "Added 14 gene feature descriptions to prompt\n"
     ]
    },
    {
     "name": "stderr",
     "output_type": "stream",
     "text": [
      "INFO:cluster_analysis_20250727_221630.log:Anthropic API call successful: model=claude-3-7-sonnet-20250219\n",
      "INFO:cluster_analysis_20250727_221630.log:Success for cluster 87\n",
      "Processing clusters:  21%|██▏       | 88/414 [28:43<1:19:13, 14.58s/it]INFO:cluster_analysis_20250727_221630.log:Using Anthropic Claude API\n"
     ]
    },
    {
     "name": "stdout",
     "output_type": "stream",
     "text": [
      "Using provided template string\n",
      "Appending output format instructions to template\n",
      "Added 14 gene feature descriptions to prompt\n"
     ]
    },
    {
     "name": "stderr",
     "output_type": "stream",
     "text": [
      "INFO:cluster_analysis_20250727_221630.log:Anthropic API call successful: model=claude-3-7-sonnet-20250219\n",
      "INFO:cluster_analysis_20250727_221630.log:Success for cluster 88\n",
      "Processing clusters:  21%|██▏       | 89/414 [28:57<1:18:06, 14.42s/it]INFO:cluster_analysis_20250727_221630.log:Using Anthropic Claude API\n"
     ]
    },
    {
     "name": "stdout",
     "output_type": "stream",
     "text": [
      "Using provided template string\n",
      "Appending output format instructions to template\n",
      "Added 14 gene feature descriptions to prompt\n"
     ]
    },
    {
     "name": "stderr",
     "output_type": "stream",
     "text": [
      "INFO:cluster_analysis_20250727_221630.log:Anthropic API call successful: model=claude-3-7-sonnet-20250219\n",
      "INFO:cluster_analysis_20250727_221630.log:Success for cluster 89\n",
      "INFO:cluster_analysis_20250727_221630.log:Saved progress for 90 clusters\n",
      "Processing clusters:  22%|██▏       | 90/414 [29:13<1:21:28, 15.09s/it]INFO:cluster_analysis_20250727_221630.log:Using Anthropic Claude API\n"
     ]
    },
    {
     "name": "stdout",
     "output_type": "stream",
     "text": [
      "Using provided template string\n",
      "Appending output format instructions to template\n",
      "Added 14 gene feature descriptions to prompt\n"
     ]
    },
    {
     "name": "stderr",
     "output_type": "stream",
     "text": [
      "INFO:cluster_analysis_20250727_221630.log:Anthropic API call successful: model=claude-3-7-sonnet-20250219\n",
      "INFO:cluster_analysis_20250727_221630.log:Success for cluster 90\n",
      "Processing clusters:  22%|██▏       | 91/414 [29:34<1:29:41, 16.66s/it]INFO:cluster_analysis_20250727_221630.log:Using Anthropic Claude API\n"
     ]
    },
    {
     "name": "stdout",
     "output_type": "stream",
     "text": [
      "Using provided template string\n",
      "Appending output format instructions to template\n",
      "Added 14 gene feature descriptions to prompt\n"
     ]
    },
    {
     "name": "stderr",
     "output_type": "stream",
     "text": [
      "INFO:cluster_analysis_20250727_221630.log:Anthropic API call successful: model=claude-3-7-sonnet-20250219\n",
      "INFO:cluster_analysis_20250727_221630.log:Success for cluster 91\n",
      "Processing clusters:  22%|██▏       | 92/414 [29:48<1:25:23, 15.91s/it]INFO:cluster_analysis_20250727_221630.log:Using Anthropic Claude API\n"
     ]
    },
    {
     "name": "stdout",
     "output_type": "stream",
     "text": [
      "Using provided template string\n",
      "Appending output format instructions to template\n",
      "Added 14 gene feature descriptions to prompt\n"
     ]
    },
    {
     "name": "stderr",
     "output_type": "stream",
     "text": [
      "INFO:cluster_analysis_20250727_221630.log:Anthropic API call successful: model=claude-3-7-sonnet-20250219\n",
      "INFO:cluster_analysis_20250727_221630.log:Success for cluster 92\n",
      "Processing clusters:  22%|██▏       | 93/414 [30:00<1:19:05, 14.78s/it]INFO:cluster_analysis_20250727_221630.log:Using Anthropic Claude API\n"
     ]
    },
    {
     "name": "stdout",
     "output_type": "stream",
     "text": [
      "Using provided template string\n",
      "Appending output format instructions to template\n",
      "Added 14 gene feature descriptions to prompt\n"
     ]
    },
    {
     "name": "stderr",
     "output_type": "stream",
     "text": [
      "INFO:cluster_analysis_20250727_221630.log:Anthropic API call successful: model=claude-3-7-sonnet-20250219\n",
      "INFO:cluster_analysis_20250727_221630.log:Success for cluster 93\n",
      "Processing clusters:  23%|██▎       | 94/414 [30:14<1:17:11, 14.47s/it]INFO:cluster_analysis_20250727_221630.log:Using Anthropic Claude API\n"
     ]
    },
    {
     "name": "stdout",
     "output_type": "stream",
     "text": [
      "Using provided template string\n",
      "Appending output format instructions to template\n",
      "Added 14 gene feature descriptions to prompt\n"
     ]
    },
    {
     "name": "stderr",
     "output_type": "stream",
     "text": [
      "INFO:cluster_analysis_20250727_221630.log:Anthropic API call successful: model=claude-3-7-sonnet-20250219\n",
      "INFO:cluster_analysis_20250727_221630.log:Success for cluster 94\n",
      "INFO:cluster_analysis_20250727_221630.log:Saved progress for 95 clusters\n",
      "Processing clusters:  23%|██▎       | 95/414 [30:27<1:14:53, 14.09s/it]INFO:cluster_analysis_20250727_221630.log:Using Anthropic Claude API\n"
     ]
    },
    {
     "name": "stdout",
     "output_type": "stream",
     "text": [
      "Using provided template string\n",
      "Appending output format instructions to template\n",
      "Added 13 gene feature descriptions to prompt\n"
     ]
    },
    {
     "name": "stderr",
     "output_type": "stream",
     "text": [
      "INFO:cluster_analysis_20250727_221630.log:Anthropic API call successful: model=claude-3-7-sonnet-20250219\n",
      "INFO:cluster_analysis_20250727_221630.log:Success for cluster 95\n",
      "Processing clusters:  23%|██▎       | 96/414 [30:40<1:13:32, 13.88s/it]INFO:cluster_analysis_20250727_221630.log:Using Anthropic Claude API\n"
     ]
    },
    {
     "name": "stdout",
     "output_type": "stream",
     "text": [
      "Using provided template string\n",
      "Appending output format instructions to template\n",
      "Added 13 gene feature descriptions to prompt\n"
     ]
    },
    {
     "name": "stderr",
     "output_type": "stream",
     "text": [
      "INFO:cluster_analysis_20250727_221630.log:Anthropic API call successful: model=claude-3-7-sonnet-20250219\n",
      "INFO:cluster_analysis_20250727_221630.log:Success for cluster 96\n",
      "Processing clusters:  23%|██▎       | 97/414 [30:53<1:12:06, 13.65s/it]INFO:cluster_analysis_20250727_221630.log:Using Anthropic Claude API\n"
     ]
    },
    {
     "name": "stdout",
     "output_type": "stream",
     "text": [
      "Using provided template string\n",
      "Appending output format instructions to template\n",
      "Added 13 gene feature descriptions to prompt\n"
     ]
    },
    {
     "name": "stderr",
     "output_type": "stream",
     "text": [
      "INFO:cluster_analysis_20250727_221630.log:Anthropic API call successful: model=claude-3-7-sonnet-20250219\n",
      "INFO:cluster_analysis_20250727_221630.log:Success for cluster 97\n",
      "Processing clusters:  24%|██▎       | 98/414 [31:07<1:11:26, 13.57s/it]INFO:cluster_analysis_20250727_221630.log:Using Anthropic Claude API\n"
     ]
    },
    {
     "name": "stdout",
     "output_type": "stream",
     "text": [
      "Using provided template string\n",
      "Appending output format instructions to template\n",
      "Added 13 gene feature descriptions to prompt\n"
     ]
    },
    {
     "name": "stderr",
     "output_type": "stream",
     "text": [
      "INFO:cluster_analysis_20250727_221630.log:Anthropic API call successful: model=claude-3-7-sonnet-20250219\n",
      "INFO:cluster_analysis_20250727_221630.log:Success for cluster 98\n",
      "Processing clusters:  24%|██▍       | 99/414 [31:22<1:13:48, 14.06s/it]INFO:cluster_analysis_20250727_221630.log:Using Anthropic Claude API\n"
     ]
    },
    {
     "name": "stdout",
     "output_type": "stream",
     "text": [
      "Using provided template string\n",
      "Appending output format instructions to template\n",
      "Added 13 gene feature descriptions to prompt\n"
     ]
    },
    {
     "name": "stderr",
     "output_type": "stream",
     "text": [
      "INFO:cluster_analysis_20250727_221630.log:Anthropic API call successful: model=claude-3-7-sonnet-20250219\n",
      "INFO:cluster_analysis_20250727_221630.log:Success for cluster 99\n",
      "INFO:cluster_analysis_20250727_221630.log:Saved progress for 100 clusters\n",
      "Processing clusters:  24%|██▍       | 100/414 [31:31<1:05:10, 12.45s/it]INFO:cluster_analysis_20250727_221630.log:Using Anthropic Claude API\n"
     ]
    },
    {
     "name": "stdout",
     "output_type": "stream",
     "text": [
      "Using provided template string\n",
      "Appending output format instructions to template\n",
      "Added 13 gene feature descriptions to prompt\n"
     ]
    },
    {
     "name": "stderr",
     "output_type": "stream",
     "text": [
      "INFO:cluster_analysis_20250727_221630.log:Anthropic API call successful: model=claude-3-7-sonnet-20250219\n",
      "INFO:cluster_analysis_20250727_221630.log:Success for cluster 100\n",
      "Processing clusters:  24%|██▍       | 101/414 [31:45<1:07:59, 13.03s/it]INFO:cluster_analysis_20250727_221630.log:Using Anthropic Claude API\n"
     ]
    },
    {
     "name": "stdout",
     "output_type": "stream",
     "text": [
      "Using provided template string\n",
      "Appending output format instructions to template\n",
      "Added 13 gene feature descriptions to prompt\n"
     ]
    },
    {
     "name": "stderr",
     "output_type": "stream",
     "text": [
      "INFO:cluster_analysis_20250727_221630.log:Anthropic API call successful: model=claude-3-7-sonnet-20250219\n",
      "INFO:cluster_analysis_20250727_221630.log:Success for cluster 101\n",
      "Processing clusters:  25%|██▍       | 102/414 [31:57<1:05:11, 12.54s/it]INFO:cluster_analysis_20250727_221630.log:Using Anthropic Claude API\n"
     ]
    },
    {
     "name": "stdout",
     "output_type": "stream",
     "text": [
      "Using provided template string\n",
      "Appending output format instructions to template\n",
      "Added 13 gene feature descriptions to prompt\n"
     ]
    },
    {
     "name": "stderr",
     "output_type": "stream",
     "text": [
      "INFO:cluster_analysis_20250727_221630.log:Anthropic API call successful: model=claude-3-7-sonnet-20250219\n",
      "INFO:cluster_analysis_20250727_221630.log:Success for cluster 102\n",
      "Processing clusters:  25%|██▍       | 103/414 [32:10<1:06:37, 12.85s/it]INFO:cluster_analysis_20250727_221630.log:Using Anthropic Claude API\n"
     ]
    },
    {
     "name": "stdout",
     "output_type": "stream",
     "text": [
      "Using provided template string\n",
      "Appending output format instructions to template\n",
      "Added 13 gene feature descriptions to prompt\n"
     ]
    },
    {
     "name": "stderr",
     "output_type": "stream",
     "text": [
      "INFO:cluster_analysis_20250727_221630.log:Anthropic API call successful: model=claude-3-7-sonnet-20250219\n",
      "INFO:cluster_analysis_20250727_221630.log:Success for cluster 103\n",
      "Processing clusters:  25%|██▌       | 104/414 [32:25<1:10:01, 13.55s/it]INFO:cluster_analysis_20250727_221630.log:Using Anthropic Claude API\n"
     ]
    },
    {
     "name": "stdout",
     "output_type": "stream",
     "text": [
      "Using provided template string\n",
      "Appending output format instructions to template\n",
      "Added 13 gene feature descriptions to prompt\n"
     ]
    },
    {
     "name": "stderr",
     "output_type": "stream",
     "text": [
      "INFO:cluster_analysis_20250727_221630.log:Anthropic API call successful: model=claude-3-7-sonnet-20250219\n",
      "INFO:cluster_analysis_20250727_221630.log:Success for cluster 104\n",
      "INFO:cluster_analysis_20250727_221630.log:Saved progress for 105 clusters\n",
      "Processing clusters:  25%|██▌       | 105/414 [32:45<1:19:54, 15.51s/it]INFO:cluster_analysis_20250727_221630.log:Using Anthropic Claude API\n"
     ]
    },
    {
     "name": "stdout",
     "output_type": "stream",
     "text": [
      "Using provided template string\n",
      "Appending output format instructions to template\n",
      "Added 13 gene feature descriptions to prompt\n"
     ]
    },
    {
     "name": "stderr",
     "output_type": "stream",
     "text": [
      "INFO:cluster_analysis_20250727_221630.log:Anthropic API call successful: model=claude-3-7-sonnet-20250219\n",
      "INFO:cluster_analysis_20250727_221630.log:Success for cluster 105\n",
      "Processing clusters:  26%|██▌       | 106/414 [32:54<1:08:26, 13.33s/it]INFO:cluster_analysis_20250727_221630.log:Using Anthropic Claude API\n"
     ]
    },
    {
     "name": "stdout",
     "output_type": "stream",
     "text": [
      "Using provided template string\n",
      "Appending output format instructions to template\n",
      "Added 13 gene feature descriptions to prompt\n"
     ]
    },
    {
     "name": "stderr",
     "output_type": "stream",
     "text": [
      "INFO:cluster_analysis_20250727_221630.log:Anthropic API call successful: model=claude-3-7-sonnet-20250219\n",
      "INFO:cluster_analysis_20250727_221630.log:Success for cluster 106\n",
      "Processing clusters:  26%|██▌       | 107/414 [33:10<1:13:00, 14.27s/it]INFO:cluster_analysis_20250727_221630.log:Using Anthropic Claude API\n"
     ]
    },
    {
     "name": "stdout",
     "output_type": "stream",
     "text": [
      "Using provided template string\n",
      "Appending output format instructions to template\n",
      "Added 13 gene feature descriptions to prompt\n"
     ]
    },
    {
     "name": "stderr",
     "output_type": "stream",
     "text": [
      "INFO:cluster_analysis_20250727_221630.log:Anthropic API call successful: model=claude-3-7-sonnet-20250219\n",
      "INFO:cluster_analysis_20250727_221630.log:Success for cluster 107\n",
      "Processing clusters:  26%|██▌       | 108/414 [33:26<1:15:18, 14.77s/it]INFO:cluster_analysis_20250727_221630.log:Using Anthropic Claude API\n"
     ]
    },
    {
     "name": "stdout",
     "output_type": "stream",
     "text": [
      "Using provided template string\n",
      "Appending output format instructions to template\n",
      "Added 13 gene feature descriptions to prompt\n"
     ]
    },
    {
     "name": "stderr",
     "output_type": "stream",
     "text": [
      "INFO:cluster_analysis_20250727_221630.log:Anthropic API call successful: model=claude-3-7-sonnet-20250219\n",
      "INFO:cluster_analysis_20250727_221630.log:Success for cluster 108\n",
      "Processing clusters:  26%|██▋       | 109/414 [33:39<1:12:20, 14.23s/it]INFO:cluster_analysis_20250727_221630.log:Using Anthropic Claude API\n"
     ]
    },
    {
     "name": "stdout",
     "output_type": "stream",
     "text": [
      "Using provided template string\n",
      "Appending output format instructions to template\n",
      "Added 13 gene feature descriptions to prompt\n"
     ]
    },
    {
     "name": "stderr",
     "output_type": "stream",
     "text": [
      "INFO:cluster_analysis_20250727_221630.log:Anthropic API call successful: model=claude-3-7-sonnet-20250219\n",
      "INFO:cluster_analysis_20250727_221630.log:Success for cluster 109\n",
      "INFO:cluster_analysis_20250727_221630.log:Saved progress for 110 clusters\n",
      "Processing clusters:  27%|██▋       | 110/414 [34:01<1:23:51, 16.55s/it]INFO:cluster_analysis_20250727_221630.log:Using Anthropic Claude API\n"
     ]
    },
    {
     "name": "stdout",
     "output_type": "stream",
     "text": [
      "Using provided template string\n",
      "Appending output format instructions to template\n",
      "Added 13 gene feature descriptions to prompt\n"
     ]
    },
    {
     "name": "stderr",
     "output_type": "stream",
     "text": [
      "INFO:cluster_analysis_20250727_221630.log:Anthropic API call successful: model=claude-3-7-sonnet-20250219\n",
      "INFO:cluster_analysis_20250727_221630.log:Success for cluster 110\n",
      "Processing clusters:  27%|██▋       | 111/414 [34:15<1:19:47, 15.80s/it]INFO:cluster_analysis_20250727_221630.log:Using Anthropic Claude API\n"
     ]
    },
    {
     "name": "stdout",
     "output_type": "stream",
     "text": [
      "Using provided template string\n",
      "Appending output format instructions to template\n",
      "Added 13 gene feature descriptions to prompt\n"
     ]
    },
    {
     "name": "stderr",
     "output_type": "stream",
     "text": [
      "INFO:cluster_analysis_20250727_221630.log:Anthropic API call successful: model=claude-3-7-sonnet-20250219\n",
      "INFO:cluster_analysis_20250727_221630.log:Success for cluster 111\n",
      "Processing clusters:  27%|██▋       | 112/414 [34:37<1:29:29, 17.78s/it]INFO:cluster_analysis_20250727_221630.log:Using Anthropic Claude API\n"
     ]
    },
    {
     "name": "stdout",
     "output_type": "stream",
     "text": [
      "Using provided template string\n",
      "Appending output format instructions to template\n",
      "Added 13 gene feature descriptions to prompt\n"
     ]
    },
    {
     "name": "stderr",
     "output_type": "stream",
     "text": [
      "INFO:cluster_analysis_20250727_221630.log:Anthropic API call successful: model=claude-3-7-sonnet-20250219\n",
      "INFO:cluster_analysis_20250727_221630.log:Success for cluster 112\n",
      "Processing clusters:  27%|██▋       | 113/414 [34:51<1:23:38, 16.67s/it]INFO:cluster_analysis_20250727_221630.log:Using Anthropic Claude API\n"
     ]
    },
    {
     "name": "stdout",
     "output_type": "stream",
     "text": [
      "Using provided template string\n",
      "Appending output format instructions to template\n",
      "Added 13 gene feature descriptions to prompt\n"
     ]
    },
    {
     "name": "stderr",
     "output_type": "stream",
     "text": [
      "INFO:cluster_analysis_20250727_221630.log:Anthropic API call successful: model=claude-3-7-sonnet-20250219\n",
      "INFO:cluster_analysis_20250727_221630.log:Success for cluster 113\n",
      "Processing clusters:  28%|██▊       | 114/414 [35:06<1:19:48, 15.96s/it]INFO:cluster_analysis_20250727_221630.log:Using Anthropic Claude API\n"
     ]
    },
    {
     "name": "stdout",
     "output_type": "stream",
     "text": [
      "Using provided template string\n",
      "Appending output format instructions to template\n",
      "Added 13 gene feature descriptions to prompt\n"
     ]
    },
    {
     "name": "stderr",
     "output_type": "stream",
     "text": [
      "INFO:cluster_analysis_20250727_221630.log:Anthropic API call successful: model=claude-3-7-sonnet-20250219\n",
      "INFO:cluster_analysis_20250727_221630.log:Success for cluster 114\n",
      "INFO:cluster_analysis_20250727_221630.log:Saved progress for 115 clusters\n",
      "Processing clusters:  28%|██▊       | 115/414 [35:24<1:22:50, 16.62s/it]INFO:cluster_analysis_20250727_221630.log:Using Anthropic Claude API\n"
     ]
    },
    {
     "name": "stdout",
     "output_type": "stream",
     "text": [
      "Using provided template string\n",
      "Appending output format instructions to template\n",
      "Added 13 gene feature descriptions to prompt\n"
     ]
    },
    {
     "name": "stderr",
     "output_type": "stream",
     "text": [
      "INFO:cluster_analysis_20250727_221630.log:Anthropic API call successful: model=claude-3-7-sonnet-20250219\n",
      "INFO:cluster_analysis_20250727_221630.log:Success for cluster 115\n",
      "Processing clusters:  28%|██▊       | 116/414 [35:39<1:19:54, 16.09s/it]INFO:cluster_analysis_20250727_221630.log:Using Anthropic Claude API\n"
     ]
    },
    {
     "name": "stdout",
     "output_type": "stream",
     "text": [
      "Using provided template string\n",
      "Appending output format instructions to template\n",
      "Added 12 gene feature descriptions to prompt\n"
     ]
    },
    {
     "name": "stderr",
     "output_type": "stream",
     "text": [
      "INFO:cluster_analysis_20250727_221630.log:Anthropic API call successful: model=claude-3-7-sonnet-20250219\n",
      "INFO:cluster_analysis_20250727_221630.log:Success for cluster 116\n",
      "Processing clusters:  28%|██▊       | 117/414 [35:54<1:18:06, 15.78s/it]INFO:cluster_analysis_20250727_221630.log:Using Anthropic Claude API\n"
     ]
    },
    {
     "name": "stdout",
     "output_type": "stream",
     "text": [
      "Using provided template string\n",
      "Appending output format instructions to template\n",
      "Added 12 gene feature descriptions to prompt\n"
     ]
    },
    {
     "name": "stderr",
     "output_type": "stream",
     "text": [
      "INFO:cluster_analysis_20250727_221630.log:Anthropic API call successful: model=claude-3-7-sonnet-20250219\n",
      "INFO:cluster_analysis_20250727_221630.log:Success for cluster 117\n",
      "Processing clusters:  29%|██▊       | 118/414 [36:08<1:15:39, 15.34s/it]INFO:cluster_analysis_20250727_221630.log:Using Anthropic Claude API\n"
     ]
    },
    {
     "name": "stdout",
     "output_type": "stream",
     "text": [
      "Using provided template string\n",
      "Appending output format instructions to template\n",
      "Added 12 gene feature descriptions to prompt\n"
     ]
    },
    {
     "name": "stderr",
     "output_type": "stream",
     "text": [
      "INFO:cluster_analysis_20250727_221630.log:Anthropic API call successful: model=claude-3-7-sonnet-20250219\n",
      "INFO:cluster_analysis_20250727_221630.log:Success for cluster 118\n",
      "Processing clusters:  29%|██▊       | 119/414 [36:20<1:09:48, 14.20s/it]INFO:cluster_analysis_20250727_221630.log:Using Anthropic Claude API\n"
     ]
    },
    {
     "name": "stdout",
     "output_type": "stream",
     "text": [
      "Using provided template string\n",
      "Appending output format instructions to template\n",
      "Added 12 gene feature descriptions to prompt\n"
     ]
    },
    {
     "name": "stderr",
     "output_type": "stream",
     "text": [
      "INFO:cluster_analysis_20250727_221630.log:Anthropic API call successful: model=claude-3-7-sonnet-20250219\n",
      "INFO:cluster_analysis_20250727_221630.log:Success for cluster 119\n",
      "INFO:cluster_analysis_20250727_221630.log:Saved progress for 120 clusters\n",
      "Processing clusters:  29%|██▉       | 120/414 [36:37<1:14:05, 15.12s/it]INFO:cluster_analysis_20250727_221630.log:Using Anthropic Claude API\n"
     ]
    },
    {
     "name": "stdout",
     "output_type": "stream",
     "text": [
      "Using provided template string\n",
      "Appending output format instructions to template\n",
      "Added 12 gene feature descriptions to prompt\n"
     ]
    },
    {
     "name": "stderr",
     "output_type": "stream",
     "text": [
      "INFO:cluster_analysis_20250727_221630.log:Anthropic API call successful: model=claude-3-7-sonnet-20250219\n",
      "INFO:cluster_analysis_20250727_221630.log:Success for cluster 120\n",
      "Processing clusters:  29%|██▉       | 121/414 [36:48<1:07:12, 13.76s/it]INFO:cluster_analysis_20250727_221630.log:Using Anthropic Claude API\n"
     ]
    },
    {
     "name": "stdout",
     "output_type": "stream",
     "text": [
      "Using provided template string\n",
      "Appending output format instructions to template\n",
      "Added 12 gene feature descriptions to prompt\n"
     ]
    },
    {
     "name": "stderr",
     "output_type": "stream",
     "text": [
      "INFO:cluster_analysis_20250727_221630.log:Anthropic API call successful: model=claude-3-7-sonnet-20250219\n",
      "INFO:cluster_analysis_20250727_221630.log:Success for cluster 121\n",
      "Processing clusters:  29%|██▉       | 122/414 [36:58<1:02:11, 12.78s/it]INFO:cluster_analysis_20250727_221630.log:Using Anthropic Claude API\n"
     ]
    },
    {
     "name": "stdout",
     "output_type": "stream",
     "text": [
      "Using provided template string\n",
      "Appending output format instructions to template\n",
      "Added 12 gene feature descriptions to prompt\n"
     ]
    },
    {
     "name": "stderr",
     "output_type": "stream",
     "text": [
      "INFO:cluster_analysis_20250727_221630.log:Anthropic API call successful: model=claude-3-7-sonnet-20250219\n",
      "INFO:cluster_analysis_20250727_221630.log:Success for cluster 122\n",
      "Processing clusters:  30%|██▉       | 123/414 [37:10<1:00:43, 12.52s/it]INFO:cluster_analysis_20250727_221630.log:Using Anthropic Claude API\n"
     ]
    },
    {
     "name": "stdout",
     "output_type": "stream",
     "text": [
      "Using provided template string\n",
      "Appending output format instructions to template\n",
      "Added 12 gene feature descriptions to prompt\n"
     ]
    },
    {
     "name": "stderr",
     "output_type": "stream",
     "text": [
      "INFO:cluster_analysis_20250727_221630.log:Anthropic API call successful: model=claude-3-7-sonnet-20250219\n",
      "INFO:cluster_analysis_20250727_221630.log:Success for cluster 123\n",
      "Processing clusters:  30%|██▉       | 124/414 [37:24<1:02:39, 12.97s/it]INFO:cluster_analysis_20250727_221630.log:Using Anthropic Claude API\n"
     ]
    },
    {
     "name": "stdout",
     "output_type": "stream",
     "text": [
      "Using provided template string\n",
      "Appending output format instructions to template\n",
      "Added 12 gene feature descriptions to prompt\n"
     ]
    },
    {
     "name": "stderr",
     "output_type": "stream",
     "text": [
      "INFO:cluster_analysis_20250727_221630.log:Anthropic API call successful: model=claude-3-7-sonnet-20250219\n",
      "INFO:cluster_analysis_20250727_221630.log:Success for cluster 124\n",
      "INFO:cluster_analysis_20250727_221630.log:Saved progress for 125 clusters\n",
      "Processing clusters:  30%|███       | 125/414 [37:39<1:05:44, 13.65s/it]INFO:cluster_analysis_20250727_221630.log:Using Anthropic Claude API\n"
     ]
    },
    {
     "name": "stdout",
     "output_type": "stream",
     "text": [
      "Using provided template string\n",
      "Appending output format instructions to template\n",
      "Added 12 gene feature descriptions to prompt\n"
     ]
    },
    {
     "name": "stderr",
     "output_type": "stream",
     "text": [
      "INFO:cluster_analysis_20250727_221630.log:Anthropic API call successful: model=claude-3-7-sonnet-20250219\n",
      "INFO:cluster_analysis_20250727_221630.log:Success for cluster 125\n",
      "Processing clusters:  30%|███       | 126/414 [37:53<1:05:22, 13.62s/it]INFO:cluster_analysis_20250727_221630.log:Using Anthropic Claude API\n"
     ]
    },
    {
     "name": "stdout",
     "output_type": "stream",
     "text": [
      "Using provided template string\n",
      "Appending output format instructions to template\n",
      "Added 12 gene feature descriptions to prompt\n"
     ]
    },
    {
     "name": "stderr",
     "output_type": "stream",
     "text": [
      "INFO:cluster_analysis_20250727_221630.log:Anthropic API call successful: model=claude-3-7-sonnet-20250219\n",
      "INFO:cluster_analysis_20250727_221630.log:Success for cluster 126\n",
      "Processing clusters:  31%|███       | 127/414 [38:14<1:16:26, 15.98s/it]INFO:cluster_analysis_20250727_221630.log:Using Anthropic Claude API\n"
     ]
    },
    {
     "name": "stdout",
     "output_type": "stream",
     "text": [
      "Using provided template string\n",
      "Appending output format instructions to template\n",
      "Added 12 gene feature descriptions to prompt\n"
     ]
    },
    {
     "name": "stderr",
     "output_type": "stream",
     "text": [
      "INFO:cluster_analysis_20250727_221630.log:Anthropic API call successful: model=claude-3-7-sonnet-20250219\n",
      "INFO:cluster_analysis_20250727_221630.log:Success for cluster 127\n",
      "Processing clusters:  31%|███       | 128/414 [38:30<1:15:23, 15.82s/it]INFO:cluster_analysis_20250727_221630.log:Using Anthropic Claude API\n"
     ]
    },
    {
     "name": "stdout",
     "output_type": "stream",
     "text": [
      "Using provided template string\n",
      "Appending output format instructions to template\n",
      "Added 12 gene feature descriptions to prompt\n"
     ]
    },
    {
     "name": "stderr",
     "output_type": "stream",
     "text": [
      "INFO:cluster_analysis_20250727_221630.log:Anthropic API call successful: model=claude-3-7-sonnet-20250219\n",
      "INFO:cluster_analysis_20250727_221630.log:Success for cluster 128\n",
      "Processing clusters:  31%|███       | 129/414 [38:49<1:19:39, 16.77s/it]INFO:cluster_analysis_20250727_221630.log:Using Anthropic Claude API\n"
     ]
    },
    {
     "name": "stdout",
     "output_type": "stream",
     "text": [
      "Using provided template string\n",
      "Appending output format instructions to template\n",
      "Added 12 gene feature descriptions to prompt\n"
     ]
    },
    {
     "name": "stderr",
     "output_type": "stream",
     "text": [
      "INFO:cluster_analysis_20250727_221630.log:Anthropic API call successful: model=claude-3-7-sonnet-20250219\n",
      "INFO:cluster_analysis_20250727_221630.log:Success for cluster 129\n",
      "INFO:cluster_analysis_20250727_221630.log:Saved progress for 130 clusters\n",
      "Processing clusters:  31%|███▏      | 130/414 [39:09<1:24:01, 17.75s/it]INFO:cluster_analysis_20250727_221630.log:Using Anthropic Claude API\n"
     ]
    },
    {
     "name": "stdout",
     "output_type": "stream",
     "text": [
      "Using provided template string\n",
      "Appending output format instructions to template\n",
      "Added 12 gene feature descriptions to prompt\n"
     ]
    },
    {
     "name": "stderr",
     "output_type": "stream",
     "text": [
      "INFO:cluster_analysis_20250727_221630.log:Anthropic API call successful: model=claude-3-7-sonnet-20250219\n",
      "INFO:cluster_analysis_20250727_221630.log:Success for cluster 130\n",
      "Processing clusters:  32%|███▏      | 131/414 [39:23<1:18:51, 16.72s/it]INFO:cluster_analysis_20250727_221630.log:Using Anthropic Claude API\n"
     ]
    },
    {
     "name": "stdout",
     "output_type": "stream",
     "text": [
      "Using provided template string\n",
      "Appending output format instructions to template\n",
      "Added 12 gene feature descriptions to prompt\n"
     ]
    },
    {
     "name": "stderr",
     "output_type": "stream",
     "text": [
      "INFO:cluster_analysis_20250727_221630.log:Anthropic API call successful: model=claude-3-7-sonnet-20250219\n",
      "INFO:cluster_analysis_20250727_221630.log:Success for cluster 131\n",
      "Processing clusters:  32%|███▏      | 132/414 [39:41<1:19:59, 17.02s/it]INFO:cluster_analysis_20250727_221630.log:Using Anthropic Claude API\n"
     ]
    },
    {
     "name": "stdout",
     "output_type": "stream",
     "text": [
      "Using provided template string\n",
      "Appending output format instructions to template\n",
      "Added 12 gene feature descriptions to prompt\n"
     ]
    },
    {
     "name": "stderr",
     "output_type": "stream",
     "text": [
      "INFO:cluster_analysis_20250727_221630.log:Anthropic API call successful: model=claude-3-7-sonnet-20250219\n",
      "INFO:cluster_analysis_20250727_221630.log:Success for cluster 132\n",
      "Processing clusters:  32%|███▏      | 133/414 [39:54<1:14:27, 15.90s/it]INFO:cluster_analysis_20250727_221630.log:Using Anthropic Claude API\n"
     ]
    },
    {
     "name": "stdout",
     "output_type": "stream",
     "text": [
      "Using provided template string\n",
      "Appending output format instructions to template\n",
      "Added 12 gene feature descriptions to prompt\n"
     ]
    },
    {
     "name": "stderr",
     "output_type": "stream",
     "text": [
      "INFO:cluster_analysis_20250727_221630.log:Anthropic API call successful: model=claude-3-7-sonnet-20250219\n",
      "INFO:cluster_analysis_20250727_221630.log:Success for cluster 133\n",
      "Processing clusters:  32%|███▏      | 134/414 [40:08<1:11:19, 15.28s/it]INFO:cluster_analysis_20250727_221630.log:Using Anthropic Claude API\n"
     ]
    },
    {
     "name": "stdout",
     "output_type": "stream",
     "text": [
      "Using provided template string\n",
      "Appending output format instructions to template\n",
      "Added 12 gene feature descriptions to prompt\n"
     ]
    },
    {
     "name": "stderr",
     "output_type": "stream",
     "text": [
      "INFO:cluster_analysis_20250727_221630.log:Anthropic API call successful: model=claude-3-7-sonnet-20250219\n",
      "INFO:cluster_analysis_20250727_221630.log:Success for cluster 134\n",
      "INFO:cluster_analysis_20250727_221630.log:Saved progress for 135 clusters\n",
      "Processing clusters:  33%|███▎      | 135/414 [40:26<1:14:56, 16.12s/it]INFO:cluster_analysis_20250727_221630.log:Using Anthropic Claude API\n"
     ]
    },
    {
     "name": "stdout",
     "output_type": "stream",
     "text": [
      "Using provided template string\n",
      "Appending output format instructions to template\n",
      "Added 12 gene feature descriptions to prompt\n"
     ]
    },
    {
     "name": "stderr",
     "output_type": "stream",
     "text": [
      "INFO:cluster_analysis_20250727_221630.log:Anthropic API call successful: model=claude-3-7-sonnet-20250219\n",
      "INFO:cluster_analysis_20250727_221630.log:Success for cluster 135\n",
      "Processing clusters:  33%|███▎      | 136/414 [40:47<1:22:01, 17.70s/it]INFO:cluster_analysis_20250727_221630.log:Using Anthropic Claude API\n"
     ]
    },
    {
     "name": "stdout",
     "output_type": "stream",
     "text": [
      "Using provided template string\n",
      "Appending output format instructions to template\n",
      "Added 12 gene feature descriptions to prompt\n"
     ]
    },
    {
     "name": "stderr",
     "output_type": "stream",
     "text": [
      "INFO:cluster_analysis_20250727_221630.log:Anthropic API call successful: model=claude-3-7-sonnet-20250219\n",
      "INFO:cluster_analysis_20250727_221630.log:Success for cluster 136\n",
      "Processing clusters:  33%|███▎      | 137/414 [41:05<1:20:59, 17.55s/it]INFO:cluster_analysis_20250727_221630.log:Using Anthropic Claude API\n"
     ]
    },
    {
     "name": "stdout",
     "output_type": "stream",
     "text": [
      "Using provided template string\n",
      "Appending output format instructions to template\n",
      "Added 12 gene feature descriptions to prompt\n"
     ]
    },
    {
     "name": "stderr",
     "output_type": "stream",
     "text": [
      "INFO:cluster_analysis_20250727_221630.log:Anthropic API call successful: model=claude-3-7-sonnet-20250219\n",
      "INFO:cluster_analysis_20250727_221630.log:Success for cluster 137\n",
      "Processing clusters:  33%|███▎      | 138/414 [41:21<1:18:34, 17.08s/it]INFO:cluster_analysis_20250727_221630.log:Using Anthropic Claude API\n"
     ]
    },
    {
     "name": "stdout",
     "output_type": "stream",
     "text": [
      "Using provided template string\n",
      "Appending output format instructions to template\n",
      "Added 12 gene feature descriptions to prompt\n"
     ]
    },
    {
     "name": "stderr",
     "output_type": "stream",
     "text": [
      "INFO:cluster_analysis_20250727_221630.log:Anthropic API call successful: model=claude-3-7-sonnet-20250219\n",
      "INFO:cluster_analysis_20250727_221630.log:Success for cluster 138\n",
      "Processing clusters:  34%|███▎      | 139/414 [41:35<1:14:11, 16.19s/it]INFO:cluster_analysis_20250727_221630.log:Using Anthropic Claude API\n"
     ]
    },
    {
     "name": "stdout",
     "output_type": "stream",
     "text": [
      "Using provided template string\n",
      "Appending output format instructions to template\n",
      "Added 12 gene feature descriptions to prompt\n"
     ]
    },
    {
     "name": "stderr",
     "output_type": "stream",
     "text": [
      "INFO:cluster_analysis_20250727_221630.log:Anthropic API call successful: model=claude-3-7-sonnet-20250219\n",
      "INFO:cluster_analysis_20250727_221630.log:Success for cluster 139\n",
      "INFO:cluster_analysis_20250727_221630.log:Saved progress for 140 clusters\n",
      "Processing clusters:  34%|███▍      | 140/414 [41:50<1:13:14, 16.04s/it]INFO:cluster_analysis_20250727_221630.log:Using Anthropic Claude API\n"
     ]
    },
    {
     "name": "stdout",
     "output_type": "stream",
     "text": [
      "Using provided template string\n",
      "Appending output format instructions to template\n",
      "Added 12 gene feature descriptions to prompt\n"
     ]
    },
    {
     "name": "stderr",
     "output_type": "stream",
     "text": [
      "INFO:cluster_analysis_20250727_221630.log:Anthropic API call successful: model=claude-3-7-sonnet-20250219\n",
      "INFO:cluster_analysis_20250727_221630.log:Success for cluster 140\n",
      "Processing clusters:  34%|███▍      | 141/414 [42:04<1:10:20, 15.46s/it]INFO:cluster_analysis_20250727_221630.log:Using Anthropic Claude API\n"
     ]
    },
    {
     "name": "stdout",
     "output_type": "stream",
     "text": [
      "Using provided template string\n",
      "Appending output format instructions to template\n",
      "Added 12 gene feature descriptions to prompt\n"
     ]
    },
    {
     "name": "stderr",
     "output_type": "stream",
     "text": [
      "INFO:cluster_analysis_20250727_221630.log:Anthropic API call successful: model=claude-3-7-sonnet-20250219\n",
      "INFO:cluster_analysis_20250727_221630.log:Success for cluster 141\n",
      "Processing clusters:  34%|███▍      | 142/414 [42:19<1:08:19, 15.07s/it]INFO:cluster_analysis_20250727_221630.log:Using Anthropic Claude API\n"
     ]
    },
    {
     "name": "stdout",
     "output_type": "stream",
     "text": [
      "Using provided template string\n",
      "Appending output format instructions to template\n",
      "Added 12 gene feature descriptions to prompt\n"
     ]
    },
    {
     "name": "stderr",
     "output_type": "stream",
     "text": [
      "INFO:cluster_analysis_20250727_221630.log:Anthropic API call successful: model=claude-3-7-sonnet-20250219\n",
      "INFO:cluster_analysis_20250727_221630.log:Success for cluster 142\n",
      "Processing clusters:  35%|███▍      | 143/414 [42:33<1:07:10, 14.87s/it]INFO:cluster_analysis_20250727_221630.log:Using Anthropic Claude API\n"
     ]
    },
    {
     "name": "stdout",
     "output_type": "stream",
     "text": [
      "Using provided template string\n",
      "Appending output format instructions to template\n",
      "Added 12 gene feature descriptions to prompt\n"
     ]
    },
    {
     "name": "stderr",
     "output_type": "stream",
     "text": [
      "INFO:cluster_analysis_20250727_221630.log:Anthropic API call successful: model=claude-3-7-sonnet-20250219\n",
      "INFO:cluster_analysis_20250727_221630.log:Success for cluster 143\n",
      "Processing clusters:  35%|███▍      | 144/414 [42:54<1:15:40, 16.82s/it]INFO:cluster_analysis_20250727_221630.log:Using Anthropic Claude API\n"
     ]
    },
    {
     "name": "stdout",
     "output_type": "stream",
     "text": [
      "Using provided template string\n",
      "Appending output format instructions to template\n",
      "Added 12 gene feature descriptions to prompt\n"
     ]
    },
    {
     "name": "stderr",
     "output_type": "stream",
     "text": [
      "INFO:cluster_analysis_20250727_221630.log:Anthropic API call successful: model=claude-3-7-sonnet-20250219\n",
      "INFO:cluster_analysis_20250727_221630.log:Success for cluster 144\n",
      "INFO:cluster_analysis_20250727_221630.log:Saved progress for 145 clusters\n",
      "Processing clusters:  35%|███▌      | 145/414 [43:14<1:19:05, 17.64s/it]INFO:cluster_analysis_20250727_221630.log:Using Anthropic Claude API\n"
     ]
    },
    {
     "name": "stdout",
     "output_type": "stream",
     "text": [
      "Using provided template string\n",
      "Appending output format instructions to template\n",
      "Added 12 gene feature descriptions to prompt\n"
     ]
    },
    {
     "name": "stderr",
     "output_type": "stream",
     "text": [
      "INFO:cluster_analysis_20250727_221630.log:Anthropic API call successful: model=claude-3-7-sonnet-20250219\n",
      "INFO:cluster_analysis_20250727_221630.log:Success for cluster 145\n",
      "Processing clusters:  35%|███▌      | 146/414 [43:34<1:22:19, 18.43s/it]INFO:cluster_analysis_20250727_221630.log:Using Anthropic Claude API\n"
     ]
    },
    {
     "name": "stdout",
     "output_type": "stream",
     "text": [
      "Using provided template string\n",
      "Appending output format instructions to template\n",
      "Added 11 gene feature descriptions to prompt\n"
     ]
    },
    {
     "name": "stderr",
     "output_type": "stream",
     "text": [
      "INFO:cluster_analysis_20250727_221630.log:Anthropic API call successful: model=claude-3-7-sonnet-20250219\n",
      "INFO:cluster_analysis_20250727_221630.log:Success for cluster 146\n",
      "Processing clusters:  36%|███▌      | 147/414 [43:44<1:10:45, 15.90s/it]INFO:cluster_analysis_20250727_221630.log:Using Anthropic Claude API\n"
     ]
    },
    {
     "name": "stdout",
     "output_type": "stream",
     "text": [
      "Using provided template string\n",
      "Appending output format instructions to template\n",
      "Added 11 gene feature descriptions to prompt\n"
     ]
    },
    {
     "name": "stderr",
     "output_type": "stream",
     "text": [
      "INFO:cluster_analysis_20250727_221630.log:Anthropic API call successful: model=claude-3-7-sonnet-20250219\n",
      "INFO:cluster_analysis_20250727_221630.log:Success for cluster 147\n",
      "Processing clusters:  36%|███▌      | 148/414 [43:59<1:08:32, 15.46s/it]INFO:cluster_analysis_20250727_221630.log:Using Anthropic Claude API\n"
     ]
    },
    {
     "name": "stdout",
     "output_type": "stream",
     "text": [
      "Using provided template string\n",
      "Appending output format instructions to template\n",
      "Added 11 gene feature descriptions to prompt\n"
     ]
    },
    {
     "name": "stderr",
     "output_type": "stream",
     "text": [
      "INFO:cluster_analysis_20250727_221630.log:Anthropic API call successful: model=claude-3-7-sonnet-20250219\n",
      "INFO:cluster_analysis_20250727_221630.log:Success for cluster 148\n",
      "Processing clusters:  36%|███▌      | 149/414 [44:13<1:07:03, 15.18s/it]INFO:cluster_analysis_20250727_221630.log:Using Anthropic Claude API\n"
     ]
    },
    {
     "name": "stdout",
     "output_type": "stream",
     "text": [
      "Using provided template string\n",
      "Appending output format instructions to template\n",
      "Added 11 gene feature descriptions to prompt\n"
     ]
    },
    {
     "name": "stderr",
     "output_type": "stream",
     "text": [
      "INFO:cluster_analysis_20250727_221630.log:Anthropic API call successful: model=claude-3-7-sonnet-20250219\n",
      "INFO:cluster_analysis_20250727_221630.log:Success for cluster 149\n",
      "INFO:cluster_analysis_20250727_221630.log:Saved progress for 150 clusters\n",
      "Processing clusters:  36%|███▌      | 150/414 [44:22<58:14, 13.24s/it]  INFO:cluster_analysis_20250727_221630.log:Using Anthropic Claude API\n"
     ]
    },
    {
     "name": "stdout",
     "output_type": "stream",
     "text": [
      "Using provided template string\n",
      "Appending output format instructions to template\n",
      "Added 11 gene feature descriptions to prompt\n"
     ]
    },
    {
     "name": "stderr",
     "output_type": "stream",
     "text": [
      "INFO:cluster_analysis_20250727_221630.log:Anthropic API call successful: model=claude-3-7-sonnet-20250219\n",
      "INFO:cluster_analysis_20250727_221630.log:Success for cluster 150\n",
      "Processing clusters:  36%|███▋      | 151/414 [44:41<1:06:12, 15.10s/it]INFO:cluster_analysis_20250727_221630.log:Using Anthropic Claude API\n"
     ]
    },
    {
     "name": "stdout",
     "output_type": "stream",
     "text": [
      "Using provided template string\n",
      "Appending output format instructions to template\n",
      "Added 11 gene feature descriptions to prompt\n"
     ]
    },
    {
     "name": "stderr",
     "output_type": "stream",
     "text": [
      "INFO:cluster_analysis_20250727_221630.log:Anthropic API call successful: model=claude-3-7-sonnet-20250219\n",
      "INFO:cluster_analysis_20250727_221630.log:Success for cluster 151\n",
      "Processing clusters:  37%|███▋      | 152/414 [44:55<1:03:42, 14.59s/it]INFO:cluster_analysis_20250727_221630.log:Using Anthropic Claude API\n"
     ]
    },
    {
     "name": "stdout",
     "output_type": "stream",
     "text": [
      "Using provided template string\n",
      "Appending output format instructions to template\n",
      "Added 11 gene feature descriptions to prompt\n"
     ]
    },
    {
     "name": "stderr",
     "output_type": "stream",
     "text": [
      "INFO:cluster_analysis_20250727_221630.log:Anthropic API call successful: model=claude-3-7-sonnet-20250219\n",
      "INFO:cluster_analysis_20250727_221630.log:Success for cluster 152\n",
      "Processing clusters:  37%|███▋      | 153/414 [45:08<1:01:54, 14.23s/it]INFO:cluster_analysis_20250727_221630.log:Using Anthropic Claude API\n"
     ]
    },
    {
     "name": "stdout",
     "output_type": "stream",
     "text": [
      "Using provided template string\n",
      "Appending output format instructions to template\n",
      "Added 11 gene feature descriptions to prompt\n"
     ]
    },
    {
     "name": "stderr",
     "output_type": "stream",
     "text": [
      "INFO:cluster_analysis_20250727_221630.log:Anthropic API call successful: model=claude-3-7-sonnet-20250219\n",
      "INFO:cluster_analysis_20250727_221630.log:Success for cluster 153\n",
      "Processing clusters:  37%|███▋      | 154/414 [45:22<1:00:43, 14.01s/it]INFO:cluster_analysis_20250727_221630.log:Using Anthropic Claude API\n"
     ]
    },
    {
     "name": "stdout",
     "output_type": "stream",
     "text": [
      "Using provided template string\n",
      "Appending output format instructions to template\n",
      "Added 11 gene feature descriptions to prompt\n"
     ]
    },
    {
     "name": "stderr",
     "output_type": "stream",
     "text": [
      "INFO:cluster_analysis_20250727_221630.log:Anthropic API call successful: model=claude-3-7-sonnet-20250219\n",
      "INFO:cluster_analysis_20250727_221630.log:Success for cluster 154\n",
      "INFO:cluster_analysis_20250727_221630.log:Saved progress for 155 clusters\n",
      "Processing clusters:  37%|███▋      | 155/414 [45:38<1:03:33, 14.72s/it]INFO:cluster_analysis_20250727_221630.log:Using Anthropic Claude API\n"
     ]
    },
    {
     "name": "stdout",
     "output_type": "stream",
     "text": [
      "Using provided template string\n",
      "Appending output format instructions to template\n",
      "Added 11 gene feature descriptions to prompt\n"
     ]
    },
    {
     "name": "stderr",
     "output_type": "stream",
     "text": [
      "INFO:cluster_analysis_20250727_221630.log:Anthropic API call successful: model=claude-3-7-sonnet-20250219\n",
      "INFO:cluster_analysis_20250727_221630.log:Success for cluster 155\n",
      "Processing clusters:  38%|███▊      | 156/414 [45:54<1:04:51, 15.08s/it]INFO:cluster_analysis_20250727_221630.log:Using Anthropic Claude API\n"
     ]
    },
    {
     "name": "stdout",
     "output_type": "stream",
     "text": [
      "Using provided template string\n",
      "Appending output format instructions to template\n",
      "Added 11 gene feature descriptions to prompt\n"
     ]
    },
    {
     "name": "stderr",
     "output_type": "stream",
     "text": [
      "INFO:cluster_analysis_20250727_221630.log:Anthropic API call successful: model=claude-3-7-sonnet-20250219\n",
      "INFO:cluster_analysis_20250727_221630.log:Success for cluster 156\n",
      "Processing clusters:  38%|███▊      | 157/414 [46:10<1:05:21, 15.26s/it]INFO:cluster_analysis_20250727_221630.log:Using Anthropic Claude API\n"
     ]
    },
    {
     "name": "stdout",
     "output_type": "stream",
     "text": [
      "Using provided template string\n",
      "Appending output format instructions to template\n",
      "Added 11 gene feature descriptions to prompt\n"
     ]
    },
    {
     "name": "stderr",
     "output_type": "stream",
     "text": [
      "INFO:cluster_analysis_20250727_221630.log:Anthropic API call successful: model=claude-3-7-sonnet-20250219\n",
      "INFO:cluster_analysis_20250727_221630.log:Success for cluster 157\n",
      "Processing clusters:  38%|███▊      | 158/414 [46:29<1:10:53, 16.62s/it]INFO:cluster_analysis_20250727_221630.log:Using Anthropic Claude API\n"
     ]
    },
    {
     "name": "stdout",
     "output_type": "stream",
     "text": [
      "Using provided template string\n",
      "Appending output format instructions to template\n",
      "Added 11 gene feature descriptions to prompt\n"
     ]
    },
    {
     "name": "stderr",
     "output_type": "stream",
     "text": [
      "INFO:cluster_analysis_20250727_221630.log:Anthropic API call successful: model=claude-3-7-sonnet-20250219\n",
      "INFO:cluster_analysis_20250727_221630.log:Success for cluster 158\n",
      "Processing clusters:  38%|███▊      | 159/414 [46:41<1:04:19, 15.14s/it]INFO:cluster_analysis_20250727_221630.log:Using Anthropic Claude API\n"
     ]
    },
    {
     "name": "stdout",
     "output_type": "stream",
     "text": [
      "Using provided template string\n",
      "Appending output format instructions to template\n",
      "Added 11 gene feature descriptions to prompt\n"
     ]
    },
    {
     "name": "stderr",
     "output_type": "stream",
     "text": [
      "INFO:cluster_analysis_20250727_221630.log:Anthropic API call successful: model=claude-3-7-sonnet-20250219\n",
      "INFO:cluster_analysis_20250727_221630.log:Success for cluster 159\n",
      "INFO:cluster_analysis_20250727_221630.log:Saved progress for 160 clusters\n",
      "Processing clusters:  39%|███▊      | 160/414 [46:53<1:00:00, 14.17s/it]INFO:cluster_analysis_20250727_221630.log:Using Anthropic Claude API\n"
     ]
    },
    {
     "name": "stdout",
     "output_type": "stream",
     "text": [
      "Using provided template string\n",
      "Appending output format instructions to template\n",
      "Added 11 gene feature descriptions to prompt\n"
     ]
    },
    {
     "name": "stderr",
     "output_type": "stream",
     "text": [
      "INFO:cluster_analysis_20250727_221630.log:Anthropic API call successful: model=claude-3-7-sonnet-20250219\n",
      "INFO:cluster_analysis_20250727_221630.log:Success for cluster 160\n",
      "Processing clusters:  39%|███▉      | 161/414 [47:04<55:09, 13.08s/it]  INFO:cluster_analysis_20250727_221630.log:Using Anthropic Claude API\n"
     ]
    },
    {
     "name": "stdout",
     "output_type": "stream",
     "text": [
      "Using provided template string\n",
      "Appending output format instructions to template\n",
      "Added 11 gene feature descriptions to prompt\n"
     ]
    },
    {
     "name": "stderr",
     "output_type": "stream",
     "text": [
      "INFO:cluster_analysis_20250727_221630.log:Anthropic API call successful: model=claude-3-7-sonnet-20250219\n",
      "INFO:cluster_analysis_20250727_221630.log:Success for cluster 161\n",
      "Processing clusters:  39%|███▉      | 162/414 [47:21<1:00:16, 14.35s/it]INFO:cluster_analysis_20250727_221630.log:Using Anthropic Claude API\n"
     ]
    },
    {
     "name": "stdout",
     "output_type": "stream",
     "text": [
      "Using provided template string\n",
      "Appending output format instructions to template\n",
      "Added 11 gene feature descriptions to prompt\n"
     ]
    },
    {
     "name": "stderr",
     "output_type": "stream",
     "text": [
      "INFO:cluster_analysis_20250727_221630.log:Anthropic API call successful: model=claude-3-7-sonnet-20250219\n",
      "INFO:cluster_analysis_20250727_221630.log:Success for cluster 162\n",
      "Processing clusters:  39%|███▉      | 163/414 [47:32<55:59, 13.39s/it]  INFO:cluster_analysis_20250727_221630.log:Using Anthropic Claude API\n"
     ]
    },
    {
     "name": "stdout",
     "output_type": "stream",
     "text": [
      "Using provided template string\n",
      "Appending output format instructions to template\n",
      "Added 11 gene feature descriptions to prompt\n"
     ]
    },
    {
     "name": "stderr",
     "output_type": "stream",
     "text": [
      "INFO:cluster_analysis_20250727_221630.log:Anthropic API call successful: model=claude-3-7-sonnet-20250219\n",
      "INFO:cluster_analysis_20250727_221630.log:Success for cluster 163\n",
      "Processing clusters:  40%|███▉      | 164/414 [47:48<59:25, 14.26s/it]INFO:cluster_analysis_20250727_221630.log:Using Anthropic Claude API\n"
     ]
    },
    {
     "name": "stdout",
     "output_type": "stream",
     "text": [
      "Using provided template string\n",
      "Appending output format instructions to template\n",
      "Added 11 gene feature descriptions to prompt\n"
     ]
    },
    {
     "name": "stderr",
     "output_type": "stream",
     "text": [
      "INFO:cluster_analysis_20250727_221630.log:Anthropic API call successful: model=claude-3-7-sonnet-20250219\n",
      "INFO:cluster_analysis_20250727_221630.log:Success for cluster 164\n",
      "INFO:cluster_analysis_20250727_221630.log:Saved progress for 165 clusters\n",
      "Processing clusters:  40%|███▉      | 165/414 [48:01<57:23, 13.83s/it]INFO:cluster_analysis_20250727_221630.log:Using Anthropic Claude API\n"
     ]
    },
    {
     "name": "stdout",
     "output_type": "stream",
     "text": [
      "Using provided template string\n",
      "Appending output format instructions to template\n",
      "Added 11 gene feature descriptions to prompt\n"
     ]
    },
    {
     "name": "stderr",
     "output_type": "stream",
     "text": [
      "INFO:cluster_analysis_20250727_221630.log:Anthropic API call successful: model=claude-3-7-sonnet-20250219\n",
      "INFO:cluster_analysis_20250727_221630.log:Success for cluster 165\n",
      "Processing clusters:  40%|████      | 166/414 [48:18<1:00:55, 14.74s/it]INFO:cluster_analysis_20250727_221630.log:Using Anthropic Claude API\n"
     ]
    },
    {
     "name": "stdout",
     "output_type": "stream",
     "text": [
      "Using provided template string\n",
      "Appending output format instructions to template\n",
      "Added 11 gene feature descriptions to prompt\n"
     ]
    },
    {
     "name": "stderr",
     "output_type": "stream",
     "text": [
      "INFO:cluster_analysis_20250727_221630.log:Anthropic API call successful: model=claude-3-7-sonnet-20250219\n",
      "INFO:cluster_analysis_20250727_221630.log:Success for cluster 166\n",
      "Processing clusters:  40%|████      | 167/414 [48:34<1:02:39, 15.22s/it]INFO:cluster_analysis_20250727_221630.log:Using Anthropic Claude API\n"
     ]
    },
    {
     "name": "stdout",
     "output_type": "stream",
     "text": [
      "Using provided template string\n",
      "Appending output format instructions to template\n",
      "Added 11 gene feature descriptions to prompt\n"
     ]
    },
    {
     "name": "stderr",
     "output_type": "stream",
     "text": [
      "INFO:cluster_analysis_20250727_221630.log:Anthropic API call successful: model=claude-3-7-sonnet-20250219\n",
      "INFO:cluster_analysis_20250727_221630.log:Success for cluster 167\n",
      "Processing clusters:  41%|████      | 168/414 [48:47<59:06, 14.42s/it]  INFO:cluster_analysis_20250727_221630.log:Using Anthropic Claude API\n"
     ]
    },
    {
     "name": "stdout",
     "output_type": "stream",
     "text": [
      "Using provided template string\n",
      "Appending output format instructions to template\n",
      "Added 11 gene feature descriptions to prompt\n"
     ]
    },
    {
     "name": "stderr",
     "output_type": "stream",
     "text": [
      "INFO:cluster_analysis_20250727_221630.log:Anthropic API call successful: model=claude-3-7-sonnet-20250219\n",
      "INFO:cluster_analysis_20250727_221630.log:Success for cluster 168\n",
      "Processing clusters:  41%|████      | 169/414 [49:01<59:03, 14.46s/it]INFO:cluster_analysis_20250727_221630.log:Using Anthropic Claude API\n"
     ]
    },
    {
     "name": "stdout",
     "output_type": "stream",
     "text": [
      "Using provided template string\n",
      "Appending output format instructions to template\n",
      "Added 11 gene feature descriptions to prompt\n"
     ]
    },
    {
     "name": "stderr",
     "output_type": "stream",
     "text": [
      "INFO:cluster_analysis_20250727_221630.log:Anthropic API call successful: model=claude-3-7-sonnet-20250219\n",
      "INFO:cluster_analysis_20250727_221630.log:Success for cluster 169\n",
      "INFO:cluster_analysis_20250727_221630.log:Saved progress for 170 clusters\n",
      "Processing clusters:  41%|████      | 170/414 [49:19<1:02:50, 15.45s/it]INFO:cluster_analysis_20250727_221630.log:Using Anthropic Claude API\n"
     ]
    },
    {
     "name": "stdout",
     "output_type": "stream",
     "text": [
      "Using provided template string\n",
      "Appending output format instructions to template\n",
      "Added 11 gene feature descriptions to prompt\n"
     ]
    },
    {
     "name": "stderr",
     "output_type": "stream",
     "text": [
      "INFO:cluster_analysis_20250727_221630.log:Anthropic API call successful: model=claude-3-7-sonnet-20250219\n",
      "INFO:cluster_analysis_20250727_221630.log:Success for cluster 170\n",
      "Processing clusters:  41%|████▏     | 171/414 [49:32<59:28, 14.68s/it]  INFO:cluster_analysis_20250727_221630.log:Using Anthropic Claude API\n"
     ]
    },
    {
     "name": "stdout",
     "output_type": "stream",
     "text": [
      "Using provided template string\n",
      "Appending output format instructions to template\n",
      "Added 11 gene feature descriptions to prompt\n"
     ]
    },
    {
     "name": "stderr",
     "output_type": "stream",
     "text": [
      "INFO:cluster_analysis_20250727_221630.log:Anthropic API call successful: model=claude-3-7-sonnet-20250219\n",
      "INFO:cluster_analysis_20250727_221630.log:Success for cluster 171\n",
      "Processing clusters:  42%|████▏     | 172/414 [49:49<1:02:26, 15.48s/it]INFO:cluster_analysis_20250727_221630.log:Using Anthropic Claude API\n"
     ]
    },
    {
     "name": "stdout",
     "output_type": "stream",
     "text": [
      "Using provided template string\n",
      "Appending output format instructions to template\n",
      "Added 11 gene feature descriptions to prompt\n"
     ]
    },
    {
     "name": "stderr",
     "output_type": "stream",
     "text": [
      "INFO:cluster_analysis_20250727_221630.log:Anthropic API call successful: model=claude-3-7-sonnet-20250219\n",
      "INFO:cluster_analysis_20250727_221630.log:Success for cluster 172\n",
      "Processing clusters:  42%|████▏     | 173/414 [50:03<1:00:19, 15.02s/it]INFO:cluster_analysis_20250727_221630.log:Using Anthropic Claude API\n"
     ]
    },
    {
     "name": "stdout",
     "output_type": "stream",
     "text": [
      "Using provided template string\n",
      "Appending output format instructions to template\n",
      "Added 11 gene feature descriptions to prompt\n"
     ]
    },
    {
     "name": "stderr",
     "output_type": "stream",
     "text": [
      "INFO:cluster_analysis_20250727_221630.log:Anthropic API call successful: model=claude-3-7-sonnet-20250219\n",
      "INFO:cluster_analysis_20250727_221630.log:Success for cluster 173\n",
      "Processing clusters:  42%|████▏     | 174/414 [50:22<1:04:12, 16.05s/it]INFO:cluster_analysis_20250727_221630.log:Using Anthropic Claude API\n"
     ]
    },
    {
     "name": "stdout",
     "output_type": "stream",
     "text": [
      "Using provided template string\n",
      "Appending output format instructions to template\n",
      "Added 11 gene feature descriptions to prompt\n"
     ]
    },
    {
     "name": "stderr",
     "output_type": "stream",
     "text": [
      "INFO:cluster_analysis_20250727_221630.log:Anthropic API call successful: model=claude-3-7-sonnet-20250219\n",
      "INFO:cluster_analysis_20250727_221630.log:Success for cluster 174\n",
      "INFO:cluster_analysis_20250727_221630.log:Saved progress for 175 clusters\n",
      "Processing clusters:  42%|████▏     | 175/414 [50:33<58:40, 14.73s/it]  INFO:cluster_analysis_20250727_221630.log:Using Anthropic Claude API\n"
     ]
    },
    {
     "name": "stdout",
     "output_type": "stream",
     "text": [
      "Using provided template string\n",
      "Appending output format instructions to template\n",
      "Added 11 gene feature descriptions to prompt\n"
     ]
    },
    {
     "name": "stderr",
     "output_type": "stream",
     "text": [
      "INFO:cluster_analysis_20250727_221630.log:Anthropic API call successful: model=claude-3-7-sonnet-20250219\n",
      "INFO:cluster_analysis_20250727_221630.log:Success for cluster 175\n",
      "Processing clusters:  43%|████▎     | 176/414 [50:48<57:55, 14.60s/it]INFO:cluster_analysis_20250727_221630.log:Using Anthropic Claude API\n"
     ]
    },
    {
     "name": "stdout",
     "output_type": "stream",
     "text": [
      "Using provided template string\n",
      "Appending output format instructions to template\n",
      "Added 11 gene feature descriptions to prompt\n"
     ]
    },
    {
     "name": "stderr",
     "output_type": "stream",
     "text": [
      "INFO:cluster_analysis_20250727_221630.log:Anthropic API call successful: model=claude-3-7-sonnet-20250219\n",
      "INFO:cluster_analysis_20250727_221630.log:Success for cluster 176\n",
      "Processing clusters:  43%|████▎     | 177/414 [50:59<53:54, 13.65s/it]INFO:cluster_analysis_20250727_221630.log:Using Anthropic Claude API\n"
     ]
    },
    {
     "name": "stdout",
     "output_type": "stream",
     "text": [
      "Using provided template string\n",
      "Appending output format instructions to template\n",
      "Added 11 gene feature descriptions to prompt\n"
     ]
    },
    {
     "name": "stderr",
     "output_type": "stream",
     "text": [
      "INFO:cluster_analysis_20250727_221630.log:Anthropic API call successful: model=claude-3-7-sonnet-20250219\n",
      "INFO:cluster_analysis_20250727_221630.log:Success for cluster 177\n",
      "Processing clusters:  43%|████▎     | 178/414 [51:15<56:11, 14.28s/it]INFO:cluster_analysis_20250727_221630.log:Using Anthropic Claude API\n"
     ]
    },
    {
     "name": "stdout",
     "output_type": "stream",
     "text": [
      "Using provided template string\n",
      "Appending output format instructions to template\n",
      "Added 11 gene feature descriptions to prompt\n"
     ]
    },
    {
     "name": "stderr",
     "output_type": "stream",
     "text": [
      "INFO:cluster_analysis_20250727_221630.log:Anthropic API call successful: model=claude-3-7-sonnet-20250219\n",
      "INFO:cluster_analysis_20250727_221630.log:Success for cluster 178\n",
      "Processing clusters:  43%|████▎     | 179/414 [51:28<54:42, 13.97s/it]INFO:cluster_analysis_20250727_221630.log:Using Anthropic Claude API\n"
     ]
    },
    {
     "name": "stdout",
     "output_type": "stream",
     "text": [
      "Using provided template string\n",
      "Appending output format instructions to template\n",
      "Added 11 gene feature descriptions to prompt\n"
     ]
    },
    {
     "name": "stderr",
     "output_type": "stream",
     "text": [
      "INFO:cluster_analysis_20250727_221630.log:Anthropic API call successful: model=claude-3-7-sonnet-20250219\n",
      "INFO:cluster_analysis_20250727_221630.log:Success for cluster 179\n",
      "INFO:cluster_analysis_20250727_221630.log:Saved progress for 180 clusters\n",
      "Processing clusters:  43%|████▎     | 180/414 [51:45<57:22, 14.71s/it]INFO:cluster_analysis_20250727_221630.log:Using Anthropic Claude API\n"
     ]
    },
    {
     "name": "stdout",
     "output_type": "stream",
     "text": [
      "Using provided template string\n",
      "Appending output format instructions to template\n",
      "Added 11 gene feature descriptions to prompt\n"
     ]
    },
    {
     "name": "stderr",
     "output_type": "stream",
     "text": [
      "INFO:cluster_analysis_20250727_221630.log:Anthropic API call successful: model=claude-3-7-sonnet-20250219\n",
      "INFO:cluster_analysis_20250727_221630.log:Success for cluster 180\n",
      "Processing clusters:  44%|████▎     | 181/414 [51:58<55:27, 14.28s/it]INFO:cluster_analysis_20250727_221630.log:Using Anthropic Claude API\n"
     ]
    },
    {
     "name": "stdout",
     "output_type": "stream",
     "text": [
      "Using provided template string\n",
      "Appending output format instructions to template\n",
      "Added 11 gene feature descriptions to prompt\n"
     ]
    },
    {
     "name": "stderr",
     "output_type": "stream",
     "text": [
      "INFO:cluster_analysis_20250727_221630.log:Anthropic API call successful: model=claude-3-7-sonnet-20250219\n",
      "INFO:cluster_analysis_20250727_221630.log:Success for cluster 181\n",
      "Processing clusters:  44%|████▍     | 182/414 [52:09<51:00, 13.19s/it]INFO:cluster_analysis_20250727_221630.log:Using Anthropic Claude API\n"
     ]
    },
    {
     "name": "stdout",
     "output_type": "stream",
     "text": [
      "Using provided template string\n",
      "Appending output format instructions to template\n",
      "Added 11 gene feature descriptions to prompt\n"
     ]
    },
    {
     "name": "stderr",
     "output_type": "stream",
     "text": [
      "INFO:cluster_analysis_20250727_221630.log:Anthropic API call successful: model=claude-3-7-sonnet-20250219\n",
      "INFO:cluster_analysis_20250727_221630.log:Success for cluster 182\n",
      "Processing clusters:  44%|████▍     | 183/414 [52:26<56:05, 14.57s/it]INFO:cluster_analysis_20250727_221630.log:Using Anthropic Claude API\n"
     ]
    },
    {
     "name": "stdout",
     "output_type": "stream",
     "text": [
      "Using provided template string\n",
      "Appending output format instructions to template\n",
      "Added 11 gene feature descriptions to prompt\n"
     ]
    },
    {
     "name": "stderr",
     "output_type": "stream",
     "text": [
      "INFO:cluster_analysis_20250727_221630.log:Anthropic API call successful: model=claude-3-7-sonnet-20250219\n",
      "INFO:cluster_analysis_20250727_221630.log:Success for cluster 183\n",
      "Processing clusters:  44%|████▍     | 184/414 [52:44<59:20, 15.48s/it]INFO:cluster_analysis_20250727_221630.log:Using Anthropic Claude API\n"
     ]
    },
    {
     "name": "stdout",
     "output_type": "stream",
     "text": [
      "Using provided template string\n",
      "Appending output format instructions to template\n",
      "Added 11 gene feature descriptions to prompt\n"
     ]
    },
    {
     "name": "stderr",
     "output_type": "stream",
     "text": [
      "INFO:cluster_analysis_20250727_221630.log:Anthropic API call successful: model=claude-3-7-sonnet-20250219\n",
      "INFO:cluster_analysis_20250727_221630.log:Success for cluster 184\n",
      "INFO:cluster_analysis_20250727_221630.log:Saved progress for 185 clusters\n",
      "Processing clusters:  45%|████▍     | 185/414 [52:57<56:50, 14.89s/it]INFO:cluster_analysis_20250727_221630.log:Using Anthropic Claude API\n"
     ]
    },
    {
     "name": "stdout",
     "output_type": "stream",
     "text": [
      "Using provided template string\n",
      "Appending output format instructions to template\n",
      "Added 11 gene feature descriptions to prompt\n"
     ]
    },
    {
     "name": "stderr",
     "output_type": "stream",
     "text": [
      "INFO:cluster_analysis_20250727_221630.log:Anthropic API call successful: model=claude-3-7-sonnet-20250219\n",
      "INFO:cluster_analysis_20250727_221630.log:Success for cluster 185\n",
      "Processing clusters:  45%|████▍     | 186/414 [53:10<54:06, 14.24s/it]INFO:cluster_analysis_20250727_221630.log:Using Anthropic Claude API\n"
     ]
    },
    {
     "name": "stdout",
     "output_type": "stream",
     "text": [
      "Using provided template string\n",
      "Appending output format instructions to template\n",
      "Added 11 gene feature descriptions to prompt\n"
     ]
    },
    {
     "name": "stderr",
     "output_type": "stream",
     "text": [
      "INFO:cluster_analysis_20250727_221630.log:Anthropic API call successful: model=claude-3-7-sonnet-20250219\n",
      "INFO:cluster_analysis_20250727_221630.log:Success for cluster 186\n",
      "Processing clusters:  45%|████▌     | 187/414 [53:27<56:50, 15.02s/it]INFO:cluster_analysis_20250727_221630.log:Using Anthropic Claude API\n"
     ]
    },
    {
     "name": "stdout",
     "output_type": "stream",
     "text": [
      "Using provided template string\n",
      "Appending output format instructions to template\n",
      "Added 11 gene feature descriptions to prompt\n"
     ]
    },
    {
     "name": "stderr",
     "output_type": "stream",
     "text": [
      "INFO:cluster_analysis_20250727_221630.log:Anthropic API call successful: model=claude-3-7-sonnet-20250219\n",
      "INFO:cluster_analysis_20250727_221630.log:Success for cluster 187\n",
      "Processing clusters:  45%|████▌     | 188/414 [53:42<56:44, 15.06s/it]INFO:cluster_analysis_20250727_221630.log:Using Anthropic Claude API\n"
     ]
    },
    {
     "name": "stdout",
     "output_type": "stream",
     "text": [
      "Using provided template string\n",
      "Appending output format instructions to template\n",
      "Added 11 gene feature descriptions to prompt\n"
     ]
    },
    {
     "name": "stderr",
     "output_type": "stream",
     "text": [
      "INFO:cluster_analysis_20250727_221630.log:Anthropic API call successful: model=claude-3-7-sonnet-20250219\n",
      "INFO:cluster_analysis_20250727_221630.log:Success for cluster 188\n",
      "Processing clusters:  46%|████▌     | 189/414 [53:55<53:38, 14.30s/it]INFO:cluster_analysis_20250727_221630.log:Using Anthropic Claude API\n"
     ]
    },
    {
     "name": "stdout",
     "output_type": "stream",
     "text": [
      "Using provided template string\n",
      "Appending output format instructions to template\n",
      "Added 11 gene feature descriptions to prompt\n"
     ]
    },
    {
     "name": "stderr",
     "output_type": "stream",
     "text": [
      "INFO:cluster_analysis_20250727_221630.log:Anthropic API call successful: model=claude-3-7-sonnet-20250219\n",
      "INFO:cluster_analysis_20250727_221630.log:Success for cluster 189\n",
      "INFO:cluster_analysis_20250727_221630.log:Saved progress for 190 clusters\n",
      "Processing clusters:  46%|████▌     | 190/414 [54:11<55:23, 14.84s/it]INFO:cluster_analysis_20250727_221630.log:Using Anthropic Claude API\n"
     ]
    },
    {
     "name": "stdout",
     "output_type": "stream",
     "text": [
      "Using provided template string\n",
      "Appending output format instructions to template\n",
      "Added 11 gene feature descriptions to prompt\n"
     ]
    },
    {
     "name": "stderr",
     "output_type": "stream",
     "text": [
      "INFO:cluster_analysis_20250727_221630.log:Anthropic API call successful: model=claude-3-7-sonnet-20250219\n",
      "INFO:cluster_analysis_20250727_221630.log:Success for cluster 190\n",
      "Processing clusters:  46%|████▌     | 191/414 [54:21<49:42, 13.37s/it]INFO:cluster_analysis_20250727_221630.log:Using Anthropic Claude API\n"
     ]
    },
    {
     "name": "stdout",
     "output_type": "stream",
     "text": [
      "Using provided template string\n",
      "Appending output format instructions to template\n",
      "Added 11 gene feature descriptions to prompt\n"
     ]
    },
    {
     "name": "stderr",
     "output_type": "stream",
     "text": [
      "INFO:cluster_analysis_20250727_221630.log:Anthropic API call successful: model=claude-3-7-sonnet-20250219\n",
      "INFO:cluster_analysis_20250727_221630.log:Success for cluster 191\n",
      "Processing clusters:  46%|████▋     | 192/414 [54:36<52:05, 14.08s/it]INFO:cluster_analysis_20250727_221630.log:Using Anthropic Claude API\n"
     ]
    },
    {
     "name": "stdout",
     "output_type": "stream",
     "text": [
      "Using provided template string\n",
      "Appending output format instructions to template\n",
      "Added 11 gene feature descriptions to prompt\n"
     ]
    },
    {
     "name": "stderr",
     "output_type": "stream",
     "text": [
      "INFO:cluster_analysis_20250727_221630.log:Anthropic API call successful: model=claude-3-7-sonnet-20250219\n",
      "INFO:cluster_analysis_20250727_221630.log:Success for cluster 192\n",
      "Processing clusters:  47%|████▋     | 193/414 [54:49<50:25, 13.69s/it]INFO:cluster_analysis_20250727_221630.log:Using Anthropic Claude API\n"
     ]
    },
    {
     "name": "stdout",
     "output_type": "stream",
     "text": [
      "Using provided template string\n",
      "Appending output format instructions to template\n",
      "Added 11 gene feature descriptions to prompt\n"
     ]
    },
    {
     "name": "stderr",
     "output_type": "stream",
     "text": [
      "INFO:cluster_analysis_20250727_221630.log:Anthropic API call successful: model=claude-3-7-sonnet-20250219\n",
      "INFO:cluster_analysis_20250727_221630.log:Success for cluster 193\n",
      "Processing clusters:  47%|████▋     | 194/414 [55:06<53:33, 14.61s/it]INFO:cluster_analysis_20250727_221630.log:Using Anthropic Claude API\n"
     ]
    },
    {
     "name": "stdout",
     "output_type": "stream",
     "text": [
      "Using provided template string\n",
      "Appending output format instructions to template\n",
      "Added 11 gene feature descriptions to prompt\n"
     ]
    },
    {
     "name": "stderr",
     "output_type": "stream",
     "text": [
      "INFO:cluster_analysis_20250727_221630.log:Anthropic API call successful: model=claude-3-7-sonnet-20250219\n",
      "INFO:cluster_analysis_20250727_221630.log:Success for cluster 194\n",
      "INFO:cluster_analysis_20250727_221630.log:Saved progress for 195 clusters\n",
      "Processing clusters:  47%|████▋     | 195/414 [55:24<56:37, 15.51s/it]INFO:cluster_analysis_20250727_221630.log:Using Anthropic Claude API\n"
     ]
    },
    {
     "name": "stdout",
     "output_type": "stream",
     "text": [
      "Using provided template string\n",
      "Appending output format instructions to template\n",
      "Added 11 gene feature descriptions to prompt\n"
     ]
    },
    {
     "name": "stderr",
     "output_type": "stream",
     "text": [
      "INFO:cluster_analysis_20250727_221630.log:Anthropic API call successful: model=claude-3-7-sonnet-20250219\n",
      "INFO:cluster_analysis_20250727_221630.log:Success for cluster 195\n",
      "Processing clusters:  47%|████▋     | 196/414 [55:36<53:09, 14.63s/it]INFO:cluster_analysis_20250727_221630.log:Using Anthropic Claude API\n"
     ]
    },
    {
     "name": "stdout",
     "output_type": "stream",
     "text": [
      "Using provided template string\n",
      "Appending output format instructions to template\n",
      "Added 11 gene feature descriptions to prompt\n"
     ]
    },
    {
     "name": "stderr",
     "output_type": "stream",
     "text": [
      "INFO:cluster_analysis_20250727_221630.log:Anthropic API call successful: model=claude-3-7-sonnet-20250219\n",
      "INFO:cluster_analysis_20250727_221630.log:Success for cluster 196\n",
      "Processing clusters:  48%|████▊     | 197/414 [55:52<54:23, 15.04s/it]INFO:cluster_analysis_20250727_221630.log:Using Anthropic Claude API\n"
     ]
    },
    {
     "name": "stdout",
     "output_type": "stream",
     "text": [
      "Using provided template string\n",
      "Appending output format instructions to template\n",
      "Added 10 gene feature descriptions to prompt\n"
     ]
    },
    {
     "name": "stderr",
     "output_type": "stream",
     "text": [
      "INFO:cluster_analysis_20250727_221630.log:Anthropic API call successful: model=claude-3-7-sonnet-20250219\n",
      "INFO:cluster_analysis_20250727_221630.log:Success for cluster 197\n",
      "Processing clusters:  48%|████▊     | 198/414 [56:04<50:45, 14.10s/it]INFO:cluster_analysis_20250727_221630.log:Using Anthropic Claude API\n"
     ]
    },
    {
     "name": "stdout",
     "output_type": "stream",
     "text": [
      "Using provided template string\n",
      "Appending output format instructions to template\n",
      "Added 10 gene feature descriptions to prompt\n"
     ]
    },
    {
     "name": "stderr",
     "output_type": "stream",
     "text": [
      "INFO:cluster_analysis_20250727_221630.log:Anthropic API call successful: model=claude-3-7-sonnet-20250219\n",
      "INFO:cluster_analysis_20250727_221630.log:Success for cluster 198\n",
      "Processing clusters:  48%|████▊     | 199/414 [56:23<55:48, 15.58s/it]INFO:cluster_analysis_20250727_221630.log:Using Anthropic Claude API\n"
     ]
    },
    {
     "name": "stdout",
     "output_type": "stream",
     "text": [
      "Using provided template string\n",
      "Appending output format instructions to template\n",
      "Added 10 gene feature descriptions to prompt\n"
     ]
    },
    {
     "name": "stderr",
     "output_type": "stream",
     "text": [
      "INFO:cluster_analysis_20250727_221630.log:Anthropic API call successful: model=claude-3-7-sonnet-20250219\n",
      "INFO:cluster_analysis_20250727_221630.log:Success for cluster 199\n",
      "INFO:cluster_analysis_20250727_221630.log:Saved progress for 200 clusters\n",
      "Processing clusters:  48%|████▊     | 200/414 [56:40<56:56, 15.97s/it]INFO:cluster_analysis_20250727_221630.log:Using Anthropic Claude API\n"
     ]
    },
    {
     "name": "stdout",
     "output_type": "stream",
     "text": [
      "Using provided template string\n",
      "Appending output format instructions to template\n",
      "Added 10 gene feature descriptions to prompt\n"
     ]
    },
    {
     "name": "stderr",
     "output_type": "stream",
     "text": [
      "INFO:cluster_analysis_20250727_221630.log:Anthropic API call successful: model=claude-3-7-sonnet-20250219\n",
      "INFO:cluster_analysis_20250727_221630.log:Success for cluster 200\n",
      "Processing clusters:  49%|████▊     | 201/414 [56:54<54:57, 15.48s/it]INFO:cluster_analysis_20250727_221630.log:Using Anthropic Claude API\n"
     ]
    },
    {
     "name": "stdout",
     "output_type": "stream",
     "text": [
      "Using provided template string\n",
      "Appending output format instructions to template\n",
      "Added 10 gene feature descriptions to prompt\n"
     ]
    },
    {
     "name": "stderr",
     "output_type": "stream",
     "text": [
      "INFO:cluster_analysis_20250727_221630.log:Anthropic API call successful: model=claude-3-7-sonnet-20250219\n",
      "INFO:cluster_analysis_20250727_221630.log:Success for cluster 201\n",
      "Processing clusters:  49%|████▉     | 202/414 [57:08<53:14, 15.07s/it]INFO:cluster_analysis_20250727_221630.log:Using Anthropic Claude API\n"
     ]
    },
    {
     "name": "stdout",
     "output_type": "stream",
     "text": [
      "Using provided template string\n",
      "Appending output format instructions to template\n",
      "Added 10 gene feature descriptions to prompt\n"
     ]
    },
    {
     "name": "stderr",
     "output_type": "stream",
     "text": [
      "INFO:cluster_analysis_20250727_221630.log:Anthropic API call successful: model=claude-3-7-sonnet-20250219\n",
      "INFO:cluster_analysis_20250727_221630.log:Success for cluster 202\n",
      "Processing clusters:  49%|████▉     | 203/414 [57:17<45:41, 12.99s/it]INFO:cluster_analysis_20250727_221630.log:Using Anthropic Claude API\n"
     ]
    },
    {
     "name": "stdout",
     "output_type": "stream",
     "text": [
      "Using provided template string\n",
      "Appending output format instructions to template\n",
      "Added 10 gene feature descriptions to prompt\n"
     ]
    },
    {
     "name": "stderr",
     "output_type": "stream",
     "text": [
      "INFO:cluster_analysis_20250727_221630.log:Anthropic API call successful: model=claude-3-7-sonnet-20250219\n",
      "INFO:cluster_analysis_20250727_221630.log:Success for cluster 203\n",
      "Processing clusters:  49%|████▉     | 204/414 [57:34<49:44, 14.21s/it]INFO:cluster_analysis_20250727_221630.log:Using Anthropic Claude API\n"
     ]
    },
    {
     "name": "stdout",
     "output_type": "stream",
     "text": [
      "Using provided template string\n",
      "Appending output format instructions to template\n",
      "Added 10 gene feature descriptions to prompt\n"
     ]
    },
    {
     "name": "stderr",
     "output_type": "stream",
     "text": [
      "INFO:cluster_analysis_20250727_221630.log:Anthropic API call successful: model=claude-3-7-sonnet-20250219\n",
      "INFO:cluster_analysis_20250727_221630.log:Success for cluster 204\n",
      "INFO:cluster_analysis_20250727_221630.log:Saved progress for 205 clusters\n",
      "Processing clusters:  50%|████▉     | 205/414 [57:48<49:46, 14.29s/it]INFO:cluster_analysis_20250727_221630.log:Using Anthropic Claude API\n"
     ]
    },
    {
     "name": "stdout",
     "output_type": "stream",
     "text": [
      "Using provided template string\n",
      "Appending output format instructions to template\n",
      "Added 10 gene feature descriptions to prompt\n"
     ]
    },
    {
     "name": "stderr",
     "output_type": "stream",
     "text": [
      "INFO:cluster_analysis_20250727_221630.log:Anthropic API call successful: model=claude-3-7-sonnet-20250219\n",
      "INFO:cluster_analysis_20250727_221630.log:Success for cluster 205\n",
      "Processing clusters:  50%|████▉     | 206/414 [58:04<51:38, 14.90s/it]INFO:cluster_analysis_20250727_221630.log:Using Anthropic Claude API\n"
     ]
    },
    {
     "name": "stdout",
     "output_type": "stream",
     "text": [
      "Using provided template string\n",
      "Appending output format instructions to template\n",
      "Added 10 gene feature descriptions to prompt\n"
     ]
    },
    {
     "name": "stderr",
     "output_type": "stream",
     "text": [
      "INFO:cluster_analysis_20250727_221630.log:Anthropic API call successful: model=claude-3-7-sonnet-20250219\n",
      "INFO:cluster_analysis_20250727_221630.log:Success for cluster 206\n",
      "Processing clusters:  50%|█████     | 207/414 [58:24<55:56, 16.22s/it]INFO:cluster_analysis_20250727_221630.log:Using Anthropic Claude API\n"
     ]
    },
    {
     "name": "stdout",
     "output_type": "stream",
     "text": [
      "Using provided template string\n",
      "Appending output format instructions to template\n",
      "Added 10 gene feature descriptions to prompt\n"
     ]
    },
    {
     "name": "stderr",
     "output_type": "stream",
     "text": [
      "INFO:cluster_analysis_20250727_221630.log:Anthropic API call successful: model=claude-3-7-sonnet-20250219\n",
      "INFO:cluster_analysis_20250727_221630.log:Success for cluster 207\n",
      "Processing clusters:  50%|█████     | 208/414 [58:39<54:42, 15.93s/it]INFO:cluster_analysis_20250727_221630.log:Using Anthropic Claude API\n"
     ]
    },
    {
     "name": "stdout",
     "output_type": "stream",
     "text": [
      "Using provided template string\n",
      "Appending output format instructions to template\n",
      "Added 10 gene feature descriptions to prompt\n"
     ]
    },
    {
     "name": "stderr",
     "output_type": "stream",
     "text": [
      "INFO:cluster_analysis_20250727_221630.log:Anthropic API call successful: model=claude-3-7-sonnet-20250219\n",
      "INFO:cluster_analysis_20250727_221630.log:Success for cluster 208\n",
      "Processing clusters:  50%|█████     | 209/414 [58:56<55:38, 16.28s/it]INFO:cluster_analysis_20250727_221630.log:Using Anthropic Claude API\n"
     ]
    },
    {
     "name": "stdout",
     "output_type": "stream",
     "text": [
      "Using provided template string\n",
      "Appending output format instructions to template\n",
      "Added 10 gene feature descriptions to prompt\n"
     ]
    },
    {
     "name": "stderr",
     "output_type": "stream",
     "text": [
      "INFO:cluster_analysis_20250727_221630.log:Anthropic API call successful: model=claude-3-7-sonnet-20250219\n",
      "INFO:cluster_analysis_20250727_221630.log:Success for cluster 209\n",
      "INFO:cluster_analysis_20250727_221630.log:Saved progress for 210 clusters\n",
      "Processing clusters:  51%|█████     | 210/414 [59:10<53:09, 15.63s/it]INFO:cluster_analysis_20250727_221630.log:Using Anthropic Claude API\n"
     ]
    },
    {
     "name": "stdout",
     "output_type": "stream",
     "text": [
      "Using provided template string\n",
      "Appending output format instructions to template\n",
      "Added 10 gene feature descriptions to prompt\n"
     ]
    },
    {
     "name": "stderr",
     "output_type": "stream",
     "text": [
      "INFO:cluster_analysis_20250727_221630.log:Anthropic API call successful: model=claude-3-7-sonnet-20250219\n",
      "INFO:cluster_analysis_20250727_221630.log:Success for cluster 210\n",
      "Processing clusters:  51%|█████     | 211/414 [59:29<55:49, 16.50s/it]INFO:cluster_analysis_20250727_221630.log:Using Anthropic Claude API\n"
     ]
    },
    {
     "name": "stdout",
     "output_type": "stream",
     "text": [
      "Using provided template string\n",
      "Appending output format instructions to template\n",
      "Added 10 gene feature descriptions to prompt\n"
     ]
    },
    {
     "name": "stderr",
     "output_type": "stream",
     "text": [
      "INFO:cluster_analysis_20250727_221630.log:Anthropic API call successful: model=claude-3-7-sonnet-20250219\n",
      "INFO:cluster_analysis_20250727_221630.log:Success for cluster 211\n",
      "Processing clusters:  51%|█████     | 212/414 [59:46<55:57, 16.62s/it]INFO:cluster_analysis_20250727_221630.log:Using Anthropic Claude API\n"
     ]
    },
    {
     "name": "stdout",
     "output_type": "stream",
     "text": [
      "Using provided template string\n",
      "Appending output format instructions to template\n",
      "Added 10 gene feature descriptions to prompt\n"
     ]
    },
    {
     "name": "stderr",
     "output_type": "stream",
     "text": [
      "INFO:cluster_analysis_20250727_221630.log:Anthropic API call successful: model=claude-3-7-sonnet-20250219\n",
      "INFO:cluster_analysis_20250727_221630.log:Success for cluster 212\n",
      "Processing clusters:  51%|█████▏    | 213/414 [1:00:02<55:51, 16.68s/it]INFO:cluster_analysis_20250727_221630.log:Using Anthropic Claude API\n"
     ]
    },
    {
     "name": "stdout",
     "output_type": "stream",
     "text": [
      "Using provided template string\n",
      "Appending output format instructions to template\n",
      "Added 10 gene feature descriptions to prompt\n"
     ]
    },
    {
     "name": "stderr",
     "output_type": "stream",
     "text": [
      "INFO:cluster_analysis_20250727_221630.log:Anthropic API call successful: model=claude-3-7-sonnet-20250219\n",
      "INFO:cluster_analysis_20250727_221630.log:Success for cluster 213\n",
      "Processing clusters:  52%|█████▏    | 214/414 [1:00:12<48:02, 14.41s/it]INFO:cluster_analysis_20250727_221630.log:Using Anthropic Claude API\n"
     ]
    },
    {
     "name": "stdout",
     "output_type": "stream",
     "text": [
      "Using provided template string\n",
      "Appending output format instructions to template\n",
      "Added 10 gene feature descriptions to prompt\n"
     ]
    },
    {
     "name": "stderr",
     "output_type": "stream",
     "text": [
      "INFO:cluster_analysis_20250727_221630.log:Anthropic API call successful: model=claude-3-7-sonnet-20250219\n",
      "INFO:cluster_analysis_20250727_221630.log:Success for cluster 214\n",
      "INFO:cluster_analysis_20250727_221630.log:Saved progress for 215 clusters\n",
      "Processing clusters:  52%|█████▏    | 215/414 [1:00:27<48:32, 14.63s/it]INFO:cluster_analysis_20250727_221630.log:Using Anthropic Claude API\n"
     ]
    },
    {
     "name": "stdout",
     "output_type": "stream",
     "text": [
      "Using provided template string\n",
      "Appending output format instructions to template\n",
      "Added 10 gene feature descriptions to prompt\n"
     ]
    },
    {
     "name": "stderr",
     "output_type": "stream",
     "text": [
      "INFO:cluster_analysis_20250727_221630.log:Anthropic API call successful: model=claude-3-7-sonnet-20250219\n",
      "INFO:cluster_analysis_20250727_221630.log:Success for cluster 215\n",
      "Processing clusters:  52%|█████▏    | 216/414 [1:00:44<50:41, 15.36s/it]INFO:cluster_analysis_20250727_221630.log:Using Anthropic Claude API\n"
     ]
    },
    {
     "name": "stdout",
     "output_type": "stream",
     "text": [
      "Using provided template string\n",
      "Appending output format instructions to template\n",
      "Added 10 gene feature descriptions to prompt\n"
     ]
    },
    {
     "name": "stderr",
     "output_type": "stream",
     "text": [
      "INFO:cluster_analysis_20250727_221630.log:Anthropic API call successful: model=claude-3-7-sonnet-20250219\n",
      "INFO:cluster_analysis_20250727_221630.log:Success for cluster 216\n",
      "Processing clusters:  52%|█████▏    | 217/414 [1:00:56<47:10, 14.37s/it]INFO:cluster_analysis_20250727_221630.log:Using Anthropic Claude API\n"
     ]
    },
    {
     "name": "stdout",
     "output_type": "stream",
     "text": [
      "Using provided template string\n",
      "Appending output format instructions to template\n",
      "Added 10 gene feature descriptions to prompt\n"
     ]
    },
    {
     "name": "stderr",
     "output_type": "stream",
     "text": [
      "INFO:cluster_analysis_20250727_221630.log:Anthropic API call successful: model=claude-3-7-sonnet-20250219\n",
      "INFO:cluster_analysis_20250727_221630.log:Success for cluster 217\n",
      "Processing clusters:  53%|█████▎    | 218/414 [1:01:10<46:59, 14.39s/it]INFO:cluster_analysis_20250727_221630.log:Using Anthropic Claude API\n"
     ]
    },
    {
     "name": "stdout",
     "output_type": "stream",
     "text": [
      "Using provided template string\n",
      "Appending output format instructions to template\n",
      "Added 10 gene feature descriptions to prompt\n"
     ]
    },
    {
     "name": "stderr",
     "output_type": "stream",
     "text": [
      "INFO:cluster_analysis_20250727_221630.log:Anthropic API call successful: model=claude-3-7-sonnet-20250219\n",
      "INFO:cluster_analysis_20250727_221630.log:Success for cluster 218\n",
      "Processing clusters:  53%|█████▎    | 219/414 [1:01:22<44:18, 13.63s/it]INFO:cluster_analysis_20250727_221630.log:Using Anthropic Claude API\n"
     ]
    },
    {
     "name": "stdout",
     "output_type": "stream",
     "text": [
      "Using provided template string\n",
      "Appending output format instructions to template\n",
      "Added 10 gene feature descriptions to prompt\n"
     ]
    },
    {
     "name": "stderr",
     "output_type": "stream",
     "text": [
      "INFO:cluster_analysis_20250727_221630.log:Anthropic API call successful: model=claude-3-7-sonnet-20250219\n",
      "INFO:cluster_analysis_20250727_221630.log:Success for cluster 219\n",
      "INFO:cluster_analysis_20250727_221630.log:Saved progress for 220 clusters\n",
      "Processing clusters:  53%|█████▎    | 220/414 [1:01:36<43:54, 13.58s/it]INFO:cluster_analysis_20250727_221630.log:Using Anthropic Claude API\n"
     ]
    },
    {
     "name": "stdout",
     "output_type": "stream",
     "text": [
      "Using provided template string\n",
      "Appending output format instructions to template\n",
      "Added 10 gene feature descriptions to prompt\n"
     ]
    },
    {
     "name": "stderr",
     "output_type": "stream",
     "text": [
      "INFO:cluster_analysis_20250727_221630.log:Anthropic API call successful: model=claude-3-7-sonnet-20250219\n",
      "INFO:cluster_analysis_20250727_221630.log:Success for cluster 220\n",
      "Processing clusters:  53%|█████▎    | 221/414 [1:01:50<44:07, 13.72s/it]INFO:cluster_analysis_20250727_221630.log:Using Anthropic Claude API\n"
     ]
    },
    {
     "name": "stdout",
     "output_type": "stream",
     "text": [
      "Using provided template string\n",
      "Appending output format instructions to template\n",
      "Added 10 gene feature descriptions to prompt\n"
     ]
    },
    {
     "name": "stderr",
     "output_type": "stream",
     "text": [
      "INFO:cluster_analysis_20250727_221630.log:Anthropic API call successful: model=claude-3-7-sonnet-20250219\n",
      "INFO:cluster_analysis_20250727_221630.log:Success for cluster 221\n",
      "Processing clusters:  54%|█████▎    | 222/414 [1:02:10<50:03, 15.64s/it]INFO:cluster_analysis_20250727_221630.log:Using Anthropic Claude API\n"
     ]
    },
    {
     "name": "stdout",
     "output_type": "stream",
     "text": [
      "Using provided template string\n",
      "Appending output format instructions to template\n",
      "Added 10 gene feature descriptions to prompt\n"
     ]
    },
    {
     "name": "stderr",
     "output_type": "stream",
     "text": [
      "INFO:cluster_analysis_20250727_221630.log:Anthropic API call successful: model=claude-3-7-sonnet-20250219\n",
      "INFO:cluster_analysis_20250727_221630.log:Success for cluster 222\n",
      "Processing clusters:  54%|█████▍    | 223/414 [1:02:22<46:52, 14.72s/it]INFO:cluster_analysis_20250727_221630.log:Using Anthropic Claude API\n"
     ]
    },
    {
     "name": "stdout",
     "output_type": "stream",
     "text": [
      "Using provided template string\n",
      "Appending output format instructions to template\n",
      "Added 10 gene feature descriptions to prompt\n"
     ]
    },
    {
     "name": "stderr",
     "output_type": "stream",
     "text": [
      "INFO:cluster_analysis_20250727_221630.log:Anthropic API call successful: model=claude-3-7-sonnet-20250219\n",
      "INFO:cluster_analysis_20250727_221630.log:Success for cluster 223\n",
      "Processing clusters:  54%|█████▍    | 224/414 [1:02:36<45:10, 14.26s/it]INFO:cluster_analysis_20250727_221630.log:Using Anthropic Claude API\n"
     ]
    },
    {
     "name": "stdout",
     "output_type": "stream",
     "text": [
      "Using provided template string\n",
      "Appending output format instructions to template\n",
      "Added 10 gene feature descriptions to prompt\n"
     ]
    },
    {
     "name": "stderr",
     "output_type": "stream",
     "text": [
      "INFO:cluster_analysis_20250727_221630.log:Anthropic API call successful: model=claude-3-7-sonnet-20250219\n",
      "INFO:cluster_analysis_20250727_221630.log:Success for cluster 224\n",
      "INFO:cluster_analysis_20250727_221630.log:Saved progress for 225 clusters\n",
      "Processing clusters:  54%|█████▍    | 225/414 [1:02:49<43:54, 13.94s/it]INFO:cluster_analysis_20250727_221630.log:Using Anthropic Claude API\n"
     ]
    },
    {
     "name": "stdout",
     "output_type": "stream",
     "text": [
      "Using provided template string\n",
      "Appending output format instructions to template\n",
      "Added 10 gene feature descriptions to prompt\n"
     ]
    },
    {
     "name": "stderr",
     "output_type": "stream",
     "text": [
      "INFO:cluster_analysis_20250727_221630.log:Anthropic API call successful: model=claude-3-7-sonnet-20250219\n",
      "INFO:cluster_analysis_20250727_221630.log:Success for cluster 225\n",
      "Processing clusters:  55%|█████▍    | 226/414 [1:03:01<41:45, 13.32s/it]INFO:cluster_analysis_20250727_221630.log:Using Anthropic Claude API\n"
     ]
    },
    {
     "name": "stdout",
     "output_type": "stream",
     "text": [
      "Using provided template string\n",
      "Appending output format instructions to template\n",
      "Added 10 gene feature descriptions to prompt\n"
     ]
    },
    {
     "name": "stderr",
     "output_type": "stream",
     "text": [
      "INFO:cluster_analysis_20250727_221630.log:Anthropic API call successful: model=claude-3-7-sonnet-20250219\n",
      "INFO:cluster_analysis_20250727_221630.log:Success for cluster 226\n",
      "Processing clusters:  55%|█████▍    | 227/414 [1:03:12<39:20, 12.62s/it]INFO:cluster_analysis_20250727_221630.log:Using Anthropic Claude API\n"
     ]
    },
    {
     "name": "stdout",
     "output_type": "stream",
     "text": [
      "Using provided template string\n",
      "Appending output format instructions to template\n",
      "Added 10 gene feature descriptions to prompt\n"
     ]
    },
    {
     "name": "stderr",
     "output_type": "stream",
     "text": [
      "INFO:cluster_analysis_20250727_221630.log:Anthropic API call successful: model=claude-3-7-sonnet-20250219\n",
      "INFO:cluster_analysis_20250727_221630.log:Success for cluster 227\n",
      "Processing clusters:  55%|█████▌    | 228/414 [1:03:30<44:16, 14.28s/it]INFO:cluster_analysis_20250727_221630.log:Using Anthropic Claude API\n"
     ]
    },
    {
     "name": "stdout",
     "output_type": "stream",
     "text": [
      "Using provided template string\n",
      "Appending output format instructions to template\n",
      "Added 10 gene feature descriptions to prompt\n"
     ]
    },
    {
     "name": "stderr",
     "output_type": "stream",
     "text": [
      "INFO:cluster_analysis_20250727_221630.log:Anthropic API call successful: model=claude-3-7-sonnet-20250219\n",
      "INFO:cluster_analysis_20250727_221630.log:Success for cluster 228\n",
      "Processing clusters:  55%|█████▌    | 229/414 [1:03:46<46:15, 15.00s/it]INFO:cluster_analysis_20250727_221630.log:Using Anthropic Claude API\n"
     ]
    },
    {
     "name": "stdout",
     "output_type": "stream",
     "text": [
      "Using provided template string\n",
      "Appending output format instructions to template\n",
      "Added 10 gene feature descriptions to prompt\n"
     ]
    },
    {
     "name": "stderr",
     "output_type": "stream",
     "text": [
      "INFO:cluster_analysis_20250727_221630.log:Anthropic API call successful: model=claude-3-7-sonnet-20250219\n",
      "INFO:cluster_analysis_20250727_221630.log:Success for cluster 229\n",
      "INFO:cluster_analysis_20250727_221630.log:Saved progress for 230 clusters\n",
      "Processing clusters:  56%|█████▌    | 230/414 [1:04:08<52:02, 16.97s/it]INFO:cluster_analysis_20250727_221630.log:Using Anthropic Claude API\n"
     ]
    },
    {
     "name": "stdout",
     "output_type": "stream",
     "text": [
      "Using provided template string\n",
      "Appending output format instructions to template\n",
      "Added 10 gene feature descriptions to prompt\n"
     ]
    },
    {
     "name": "stderr",
     "output_type": "stream",
     "text": [
      "INFO:cluster_analysis_20250727_221630.log:Anthropic API call successful: model=claude-3-7-sonnet-20250219\n",
      "INFO:cluster_analysis_20250727_221630.log:Success for cluster 230\n",
      "Processing clusters:  56%|█████▌    | 231/414 [1:04:21<48:12, 15.81s/it]INFO:cluster_analysis_20250727_221630.log:Using Anthropic Claude API\n"
     ]
    },
    {
     "name": "stdout",
     "output_type": "stream",
     "text": [
      "Using provided template string\n",
      "Appending output format instructions to template\n",
      "Added 10 gene feature descriptions to prompt\n"
     ]
    },
    {
     "name": "stderr",
     "output_type": "stream",
     "text": [
      "INFO:cluster_analysis_20250727_221630.log:Anthropic API call successful: model=claude-3-7-sonnet-20250219\n",
      "INFO:cluster_analysis_20250727_221630.log:Success for cluster 231\n",
      "Processing clusters:  56%|█████▌    | 232/414 [1:04:30<41:50, 13.80s/it]INFO:cluster_analysis_20250727_221630.log:Using Anthropic Claude API\n"
     ]
    },
    {
     "name": "stdout",
     "output_type": "stream",
     "text": [
      "Using provided template string\n",
      "Appending output format instructions to template\n",
      "Added 10 gene feature descriptions to prompt\n"
     ]
    },
    {
     "name": "stderr",
     "output_type": "stream",
     "text": [
      "INFO:cluster_analysis_20250727_221630.log:Anthropic API call successful: model=claude-3-7-sonnet-20250219\n",
      "INFO:cluster_analysis_20250727_221630.log:Success for cluster 232\n",
      "Processing clusters:  56%|█████▋    | 233/414 [1:04:41<38:40, 12.82s/it]INFO:cluster_analysis_20250727_221630.log:Using Anthropic Claude API\n"
     ]
    },
    {
     "name": "stdout",
     "output_type": "stream",
     "text": [
      "Using provided template string\n",
      "Appending output format instructions to template\n",
      "Added 10 gene feature descriptions to prompt\n"
     ]
    },
    {
     "name": "stderr",
     "output_type": "stream",
     "text": [
      "INFO:cluster_analysis_20250727_221630.log:Anthropic API call successful: model=claude-3-7-sonnet-20250219\n",
      "INFO:cluster_analysis_20250727_221630.log:Success for cluster 233\n",
      "Processing clusters:  57%|█████▋    | 234/414 [1:04:57<41:55, 13.97s/it]INFO:cluster_analysis_20250727_221630.log:Using Anthropic Claude API\n"
     ]
    },
    {
     "name": "stdout",
     "output_type": "stream",
     "text": [
      "Using provided template string\n",
      "Appending output format instructions to template\n",
      "Added 10 gene feature descriptions to prompt\n"
     ]
    },
    {
     "name": "stderr",
     "output_type": "stream",
     "text": [
      "INFO:cluster_analysis_20250727_221630.log:Anthropic API call successful: model=claude-3-7-sonnet-20250219\n",
      "INFO:cluster_analysis_20250727_221630.log:Success for cluster 234\n",
      "INFO:cluster_analysis_20250727_221630.log:Saved progress for 235 clusters\n",
      "Processing clusters:  57%|█████▋    | 235/414 [1:05:18<47:43, 16.00s/it]INFO:cluster_analysis_20250727_221630.log:Using Anthropic Claude API\n"
     ]
    },
    {
     "name": "stdout",
     "output_type": "stream",
     "text": [
      "Using provided template string\n",
      "Appending output format instructions to template\n",
      "Added 10 gene feature descriptions to prompt\n"
     ]
    },
    {
     "name": "stderr",
     "output_type": "stream",
     "text": [
      "INFO:cluster_analysis_20250727_221630.log:Anthropic API call successful: model=claude-3-7-sonnet-20250219\n",
      "INFO:cluster_analysis_20250727_221630.log:Success for cluster 235\n",
      "Processing clusters:  57%|█████▋    | 236/414 [1:05:25<38:56, 13.13s/it]INFO:cluster_analysis_20250727_221630.log:Using Anthropic Claude API\n"
     ]
    },
    {
     "name": "stdout",
     "output_type": "stream",
     "text": [
      "Using provided template string\n",
      "Appending output format instructions to template\n",
      "Added 10 gene feature descriptions to prompt\n"
     ]
    },
    {
     "name": "stderr",
     "output_type": "stream",
     "text": [
      "INFO:cluster_analysis_20250727_221630.log:Anthropic API call successful: model=claude-3-7-sonnet-20250219\n",
      "INFO:cluster_analysis_20250727_221630.log:Success for cluster 236\n",
      "Processing clusters:  57%|█████▋    | 237/414 [1:05:37<37:57, 12.87s/it]INFO:cluster_analysis_20250727_221630.log:Using Anthropic Claude API\n"
     ]
    },
    {
     "name": "stdout",
     "output_type": "stream",
     "text": [
      "Using provided template string\n",
      "Appending output format instructions to template\n",
      "Added 10 gene feature descriptions to prompt\n"
     ]
    },
    {
     "name": "stderr",
     "output_type": "stream",
     "text": [
      "INFO:cluster_analysis_20250727_221630.log:Anthropic API call successful: model=claude-3-7-sonnet-20250219\n",
      "INFO:cluster_analysis_20250727_221630.log:Success for cluster 237\n",
      "Processing clusters:  57%|█████▋    | 238/414 [1:05:55<42:18, 14.42s/it]INFO:cluster_analysis_20250727_221630.log:Using Anthropic Claude API\n"
     ]
    },
    {
     "name": "stdout",
     "output_type": "stream",
     "text": [
      "Using provided template string\n",
      "Appending output format instructions to template\n",
      "Added 10 gene feature descriptions to prompt\n"
     ]
    },
    {
     "name": "stderr",
     "output_type": "stream",
     "text": [
      "INFO:cluster_analysis_20250727_221630.log:Anthropic API call successful: model=claude-3-7-sonnet-20250219\n",
      "INFO:cluster_analysis_20250727_221630.log:Success for cluster 238\n",
      "Processing clusters:  58%|█████▊    | 239/414 [1:06:12<44:30, 15.26s/it]INFO:cluster_analysis_20250727_221630.log:Using Anthropic Claude API\n"
     ]
    },
    {
     "name": "stdout",
     "output_type": "stream",
     "text": [
      "Using provided template string\n",
      "Appending output format instructions to template\n",
      "Added 10 gene feature descriptions to prompt\n"
     ]
    },
    {
     "name": "stderr",
     "output_type": "stream",
     "text": [
      "INFO:cluster_analysis_20250727_221630.log:Anthropic API call successful: model=claude-3-7-sonnet-20250219\n",
      "INFO:cluster_analysis_20250727_221630.log:Success for cluster 239\n",
      "INFO:cluster_analysis_20250727_221630.log:Saved progress for 240 clusters\n",
      "Processing clusters:  58%|█████▊    | 240/414 [1:06:27<43:55, 15.15s/it]INFO:cluster_analysis_20250727_221630.log:Using Anthropic Claude API\n"
     ]
    },
    {
     "name": "stdout",
     "output_type": "stream",
     "text": [
      "Using provided template string\n",
      "Appending output format instructions to template\n",
      "Added 10 gene feature descriptions to prompt\n"
     ]
    },
    {
     "name": "stderr",
     "output_type": "stream",
     "text": [
      "INFO:cluster_analysis_20250727_221630.log:Anthropic API call successful: model=claude-3-7-sonnet-20250219\n",
      "INFO:cluster_analysis_20250727_221630.log:Success for cluster 240\n",
      "Processing clusters:  58%|█████▊    | 241/414 [1:06:41<43:07, 14.96s/it]INFO:cluster_analysis_20250727_221630.log:Using Anthropic Claude API\n"
     ]
    },
    {
     "name": "stdout",
     "output_type": "stream",
     "text": [
      "Using provided template string\n",
      "Appending output format instructions to template\n",
      "Added 10 gene feature descriptions to prompt\n"
     ]
    },
    {
     "name": "stderr",
     "output_type": "stream",
     "text": [
      "INFO:cluster_analysis_20250727_221630.log:Anthropic API call successful: model=claude-3-7-sonnet-20250219\n",
      "INFO:cluster_analysis_20250727_221630.log:Success for cluster 241\n",
      "Processing clusters:  58%|█████▊    | 242/414 [1:06:49<36:22, 12.69s/it]INFO:cluster_analysis_20250727_221630.log:Using Anthropic Claude API\n"
     ]
    },
    {
     "name": "stdout",
     "output_type": "stream",
     "text": [
      "Using provided template string\n",
      "Appending output format instructions to template\n",
      "Added 10 gene feature descriptions to prompt\n"
     ]
    },
    {
     "name": "stderr",
     "output_type": "stream",
     "text": [
      "INFO:cluster_analysis_20250727_221630.log:Anthropic API call successful: model=claude-3-7-sonnet-20250219\n",
      "INFO:cluster_analysis_20250727_221630.log:Success for cluster 242\n",
      "Processing clusters:  59%|█████▊    | 243/414 [1:07:02<36:50, 12.93s/it]INFO:cluster_analysis_20250727_221630.log:Using Anthropic Claude API\n"
     ]
    },
    {
     "name": "stdout",
     "output_type": "stream",
     "text": [
      "Using provided template string\n",
      "Appending output format instructions to template\n",
      "Added 10 gene feature descriptions to prompt\n"
     ]
    },
    {
     "name": "stderr",
     "output_type": "stream",
     "text": [
      "INFO:cluster_analysis_20250727_221630.log:Anthropic API call successful: model=claude-3-7-sonnet-20250219\n",
      "INFO:cluster_analysis_20250727_221630.log:Success for cluster 243\n",
      "Processing clusters:  59%|█████▉    | 244/414 [1:07:21<41:31, 14.66s/it]INFO:cluster_analysis_20250727_221630.log:Using Anthropic Claude API\n"
     ]
    },
    {
     "name": "stdout",
     "output_type": "stream",
     "text": [
      "Using provided template string\n",
      "Appending output format instructions to template\n",
      "Added 10 gene feature descriptions to prompt\n"
     ]
    },
    {
     "name": "stderr",
     "output_type": "stream",
     "text": [
      "INFO:cluster_analysis_20250727_221630.log:Anthropic API call successful: model=claude-3-7-sonnet-20250219\n",
      "INFO:cluster_analysis_20250727_221630.log:Success for cluster 244\n",
      "INFO:cluster_analysis_20250727_221630.log:Saved progress for 245 clusters\n",
      "Processing clusters:  59%|█████▉    | 245/414 [1:07:39<44:20, 15.74s/it]INFO:cluster_analysis_20250727_221630.log:Using Anthropic Claude API\n"
     ]
    },
    {
     "name": "stdout",
     "output_type": "stream",
     "text": [
      "Using provided template string\n",
      "Appending output format instructions to template\n",
      "Added 10 gene feature descriptions to prompt\n"
     ]
    },
    {
     "name": "stderr",
     "output_type": "stream",
     "text": [
      "INFO:cluster_analysis_20250727_221630.log:Anthropic API call successful: model=claude-3-7-sonnet-20250219\n",
      "INFO:cluster_analysis_20250727_221630.log:Success for cluster 245\n",
      "Processing clusters:  59%|█████▉    | 246/414 [1:08:21<1:05:38, 23.44s/it]INFO:cluster_analysis_20250727_221630.log:Using Anthropic Claude API\n"
     ]
    },
    {
     "name": "stdout",
     "output_type": "stream",
     "text": [
      "Using provided template string\n",
      "Appending output format instructions to template\n",
      "Added 10 gene feature descriptions to prompt\n"
     ]
    },
    {
     "name": "stderr",
     "output_type": "stream",
     "text": [
      "ERROR: Attempt 1/3 failed: Error code: 529 - {'type': 'error', 'error': {'type': 'overloaded_error', 'message': 'Overloaded'}}\n",
      "ERROR:cluster_analysis_20250727_221630.log:Attempt 1/3 failed: Error code: 529 - {'type': 'error', 'error': {'type': 'overloaded_error', 'message': 'Overloaded'}}\n",
      "INFO:cluster_analysis_20250727_221630.log:Anthropic API call successful: model=claude-3-7-sonnet-20250219\n",
      "INFO:cluster_analysis_20250727_221630.log:Success for cluster 246\n",
      "Processing clusters:  60%|█████▉    | 247/414 [1:09:31<1:44:02, 37.38s/it]INFO:cluster_analysis_20250727_221630.log:Using Anthropic Claude API\n"
     ]
    },
    {
     "name": "stdout",
     "output_type": "stream",
     "text": [
      "Using provided template string\n",
      "Appending output format instructions to template\n",
      "Added 10 gene feature descriptions to prompt\n"
     ]
    },
    {
     "name": "stderr",
     "output_type": "stream",
     "text": [
      "INFO:cluster_analysis_20250727_221630.log:Anthropic API call successful: model=claude-3-7-sonnet-20250219\n",
      "INFO:cluster_analysis_20250727_221630.log:Success for cluster 247\n",
      "Processing clusters:  60%|█████▉    | 248/414 [1:09:42<1:21:26, 29.43s/it]INFO:cluster_analysis_20250727_221630.log:Using Anthropic Claude API\n"
     ]
    },
    {
     "name": "stdout",
     "output_type": "stream",
     "text": [
      "Using provided template string\n",
      "Appending output format instructions to template\n",
      "Added 10 gene feature descriptions to prompt\n"
     ]
    },
    {
     "name": "stderr",
     "output_type": "stream",
     "text": [
      "INFO:cluster_analysis_20250727_221630.log:Anthropic API call successful: model=claude-3-7-sonnet-20250219\n",
      "INFO:cluster_analysis_20250727_221630.log:Success for cluster 248\n",
      "Processing clusters:  60%|██████    | 249/414 [1:09:54<1:06:51, 24.31s/it]INFO:cluster_analysis_20250727_221630.log:Using Anthropic Claude API\n"
     ]
    },
    {
     "name": "stdout",
     "output_type": "stream",
     "text": [
      "Using provided template string\n",
      "Appending output format instructions to template\n",
      "Added 10 gene feature descriptions to prompt\n"
     ]
    },
    {
     "name": "stderr",
     "output_type": "stream",
     "text": [
      "INFO:cluster_analysis_20250727_221630.log:Anthropic API call successful: model=claude-3-7-sonnet-20250219\n",
      "INFO:cluster_analysis_20250727_221630.log:Success for cluster 249\n",
      "INFO:cluster_analysis_20250727_221630.log:Saved progress for 250 clusters\n",
      "Processing clusters:  60%|██████    | 250/414 [1:10:08<57:47, 21.14s/it]  INFO:cluster_analysis_20250727_221630.log:Using Anthropic Claude API\n"
     ]
    },
    {
     "name": "stdout",
     "output_type": "stream",
     "text": [
      "Using provided template string\n",
      "Appending output format instructions to template\n",
      "Added 10 gene feature descriptions to prompt\n"
     ]
    },
    {
     "name": "stderr",
     "output_type": "stream",
     "text": [
      "INFO:cluster_analysis_20250727_221630.log:Anthropic API call successful: model=claude-3-7-sonnet-20250219\n",
      "INFO:cluster_analysis_20250727_221630.log:Success for cluster 250\n",
      "Processing clusters:  61%|██████    | 251/414 [1:10:19<49:22, 18.18s/it]INFO:cluster_analysis_20250727_221630.log:Using Anthropic Claude API\n"
     ]
    },
    {
     "name": "stdout",
     "output_type": "stream",
     "text": [
      "Using provided template string\n",
      "Appending output format instructions to template\n",
      "Added 10 gene feature descriptions to prompt\n"
     ]
    },
    {
     "name": "stderr",
     "output_type": "stream",
     "text": [
      "INFO:cluster_analysis_20250727_221630.log:Anthropic API call successful: model=claude-3-7-sonnet-20250219\n",
      "INFO:cluster_analysis_20250727_221630.log:Success for cluster 251\n",
      "Processing clusters:  61%|██████    | 252/414 [1:10:32<44:36, 16.52s/it]INFO:cluster_analysis_20250727_221630.log:Using Anthropic Claude API\n"
     ]
    },
    {
     "name": "stdout",
     "output_type": "stream",
     "text": [
      "Using provided template string\n",
      "Appending output format instructions to template\n",
      "Added 10 gene feature descriptions to prompt\n"
     ]
    },
    {
     "name": "stderr",
     "output_type": "stream",
     "text": [
      "INFO:cluster_analysis_20250727_221630.log:Anthropic API call successful: model=claude-3-7-sonnet-20250219\n",
      "INFO:cluster_analysis_20250727_221630.log:Success for cluster 252\n",
      "Processing clusters:  61%|██████    | 253/414 [1:10:46<42:18, 15.77s/it]INFO:cluster_analysis_20250727_221630.log:Using Anthropic Claude API\n"
     ]
    },
    {
     "name": "stdout",
     "output_type": "stream",
     "text": [
      "Using provided template string\n",
      "Appending output format instructions to template\n",
      "Added 10 gene feature descriptions to prompt\n"
     ]
    },
    {
     "name": "stderr",
     "output_type": "stream",
     "text": [
      "INFO:cluster_analysis_20250727_221630.log:Anthropic API call successful: model=claude-3-7-sonnet-20250219\n",
      "INFO:cluster_analysis_20250727_221630.log:Success for cluster 253\n",
      "Processing clusters:  61%|██████▏   | 254/414 [1:11:01<42:09, 15.81s/it]INFO:cluster_analysis_20250727_221630.log:Using Anthropic Claude API\n"
     ]
    },
    {
     "name": "stdout",
     "output_type": "stream",
     "text": [
      "Using provided template string\n",
      "Appending output format instructions to template\n",
      "Added 10 gene feature descriptions to prompt\n"
     ]
    },
    {
     "name": "stderr",
     "output_type": "stream",
     "text": [
      "INFO:cluster_analysis_20250727_221630.log:Anthropic API call successful: model=claude-3-7-sonnet-20250219\n",
      "INFO:cluster_analysis_20250727_221630.log:Success for cluster 254\n",
      "INFO:cluster_analysis_20250727_221630.log:Saved progress for 255 clusters\n",
      "Processing clusters:  62%|██████▏   | 255/414 [1:11:17<41:39, 15.72s/it]INFO:cluster_analysis_20250727_221630.log:Using Anthropic Claude API\n"
     ]
    },
    {
     "name": "stdout",
     "output_type": "stream",
     "text": [
      "Using provided template string\n",
      "Appending output format instructions to template\n",
      "Added 10 gene feature descriptions to prompt\n"
     ]
    },
    {
     "name": "stderr",
     "output_type": "stream",
     "text": [
      "INFO:cluster_analysis_20250727_221630.log:Anthropic API call successful: model=claude-3-7-sonnet-20250219\n",
      "INFO:cluster_analysis_20250727_221630.log:Success for cluster 255\n",
      "Processing clusters:  62%|██████▏   | 256/414 [1:11:30<39:36, 15.04s/it]INFO:cluster_analysis_20250727_221630.log:Using Anthropic Claude API\n"
     ]
    },
    {
     "name": "stdout",
     "output_type": "stream",
     "text": [
      "Using provided template string\n",
      "Appending output format instructions to template\n",
      "Added 10 gene feature descriptions to prompt\n"
     ]
    },
    {
     "name": "stderr",
     "output_type": "stream",
     "text": [
      "INFO:cluster_analysis_20250727_221630.log:Anthropic API call successful: model=claude-3-7-sonnet-20250219\n",
      "INFO:cluster_analysis_20250727_221630.log:Success for cluster 256\n",
      "Processing clusters:  62%|██████▏   | 257/414 [1:11:46<39:36, 15.14s/it]INFO:cluster_analysis_20250727_221630.log:Using Anthropic Claude API\n"
     ]
    },
    {
     "name": "stdout",
     "output_type": "stream",
     "text": [
      "Using provided template string\n",
      "Appending output format instructions to template\n",
      "Added 9 gene feature descriptions to prompt\n"
     ]
    },
    {
     "name": "stderr",
     "output_type": "stream",
     "text": [
      "INFO:cluster_analysis_20250727_221630.log:Anthropic API call successful: model=claude-3-7-sonnet-20250219\n",
      "INFO:cluster_analysis_20250727_221630.log:Success for cluster 257\n",
      "Processing clusters:  62%|██████▏   | 258/414 [1:12:01<39:17, 15.11s/it]INFO:cluster_analysis_20250727_221630.log:Using Anthropic Claude API\n"
     ]
    },
    {
     "name": "stdout",
     "output_type": "stream",
     "text": [
      "Using provided template string\n",
      "Appending output format instructions to template\n",
      "Added 9 gene feature descriptions to prompt\n"
     ]
    },
    {
     "name": "stderr",
     "output_type": "stream",
     "text": [
      "INFO:cluster_analysis_20250727_221630.log:Anthropic API call successful: model=claude-3-7-sonnet-20250219\n",
      "INFO:cluster_analysis_20250727_221630.log:Success for cluster 258\n",
      "Processing clusters:  63%|██████▎   | 259/414 [1:12:20<42:05, 16.30s/it]INFO:cluster_analysis_20250727_221630.log:Using Anthropic Claude API\n"
     ]
    },
    {
     "name": "stdout",
     "output_type": "stream",
     "text": [
      "Using provided template string\n",
      "Appending output format instructions to template\n",
      "Added 9 gene feature descriptions to prompt\n"
     ]
    },
    {
     "name": "stderr",
     "output_type": "stream",
     "text": [
      "INFO:cluster_analysis_20250727_221630.log:Anthropic API call successful: model=claude-3-7-sonnet-20250219\n",
      "INFO:cluster_analysis_20250727_221630.log:Success for cluster 259\n",
      "INFO:cluster_analysis_20250727_221630.log:Saved progress for 260 clusters\n",
      "Processing clusters:  63%|██████▎   | 260/414 [1:12:35<40:37, 15.83s/it]INFO:cluster_analysis_20250727_221630.log:Using Anthropic Claude API\n"
     ]
    },
    {
     "name": "stdout",
     "output_type": "stream",
     "text": [
      "Using provided template string\n",
      "Appending output format instructions to template\n",
      "Added 9 gene feature descriptions to prompt\n"
     ]
    },
    {
     "name": "stderr",
     "output_type": "stream",
     "text": [
      "INFO:cluster_analysis_20250727_221630.log:Anthropic API call successful: model=claude-3-7-sonnet-20250219\n",
      "INFO:cluster_analysis_20250727_221630.log:Success for cluster 260\n",
      "Processing clusters:  63%|██████▎   | 261/414 [1:12:51<40:56, 16.06s/it]INFO:cluster_analysis_20250727_221630.log:Using Anthropic Claude API\n"
     ]
    },
    {
     "name": "stdout",
     "output_type": "stream",
     "text": [
      "Using provided template string\n",
      "Appending output format instructions to template\n",
      "Added 9 gene feature descriptions to prompt\n"
     ]
    },
    {
     "name": "stderr",
     "output_type": "stream",
     "text": [
      "INFO:cluster_analysis_20250727_221630.log:Anthropic API call successful: model=claude-3-7-sonnet-20250219\n",
      "INFO:cluster_analysis_20250727_221630.log:Success for cluster 261\n",
      "Processing clusters:  63%|██████▎   | 262/414 [1:13:06<39:51, 15.74s/it]INFO:cluster_analysis_20250727_221630.log:Using Anthropic Claude API\n"
     ]
    },
    {
     "name": "stdout",
     "output_type": "stream",
     "text": [
      "Using provided template string\n",
      "Appending output format instructions to template\n",
      "Added 9 gene feature descriptions to prompt\n"
     ]
    },
    {
     "name": "stderr",
     "output_type": "stream",
     "text": [
      "INFO:cluster_analysis_20250727_221630.log:Anthropic API call successful: model=claude-3-7-sonnet-20250219\n",
      "INFO:cluster_analysis_20250727_221630.log:Success for cluster 262\n",
      "Processing clusters:  64%|██████▎   | 263/414 [1:13:17<35:49, 14.23s/it]INFO:cluster_analysis_20250727_221630.log:Using Anthropic Claude API\n"
     ]
    },
    {
     "name": "stdout",
     "output_type": "stream",
     "text": [
      "Using provided template string\n",
      "Appending output format instructions to template\n",
      "Added 9 gene feature descriptions to prompt\n"
     ]
    },
    {
     "name": "stderr",
     "output_type": "stream",
     "text": [
      "INFO:cluster_analysis_20250727_221630.log:Anthropic API call successful: model=claude-3-7-sonnet-20250219\n",
      "INFO:cluster_analysis_20250727_221630.log:Success for cluster 263\n",
      "Processing clusters:  64%|██████▍   | 264/414 [1:13:32<35:51, 14.34s/it]INFO:cluster_analysis_20250727_221630.log:Using Anthropic Claude API\n"
     ]
    },
    {
     "name": "stdout",
     "output_type": "stream",
     "text": [
      "Using provided template string\n",
      "Appending output format instructions to template\n",
      "Added 9 gene feature descriptions to prompt\n"
     ]
    },
    {
     "name": "stderr",
     "output_type": "stream",
     "text": [
      "INFO:cluster_analysis_20250727_221630.log:Anthropic API call successful: model=claude-3-7-sonnet-20250219\n",
      "INFO:cluster_analysis_20250727_221630.log:Success for cluster 264\n",
      "INFO:cluster_analysis_20250727_221630.log:Saved progress for 265 clusters\n",
      "Processing clusters:  64%|██████▍   | 265/414 [1:13:45<35:05, 14.13s/it]INFO:cluster_analysis_20250727_221630.log:Using Anthropic Claude API\n"
     ]
    },
    {
     "name": "stdout",
     "output_type": "stream",
     "text": [
      "Using provided template string\n",
      "Appending output format instructions to template\n",
      "Added 9 gene feature descriptions to prompt\n"
     ]
    },
    {
     "name": "stderr",
     "output_type": "stream",
     "text": [
      "INFO:cluster_analysis_20250727_221630.log:Anthropic API call successful: model=claude-3-7-sonnet-20250219\n",
      "INFO:cluster_analysis_20250727_221630.log:Success for cluster 265\n",
      "Processing clusters:  64%|██████▍   | 266/414 [1:14:04<38:25, 15.58s/it]INFO:cluster_analysis_20250727_221630.log:Using Anthropic Claude API\n"
     ]
    },
    {
     "name": "stdout",
     "output_type": "stream",
     "text": [
      "Using provided template string\n",
      "Appending output format instructions to template\n",
      "Added 9 gene feature descriptions to prompt\n"
     ]
    },
    {
     "name": "stderr",
     "output_type": "stream",
     "text": [
      "INFO:cluster_analysis_20250727_221630.log:Anthropic API call successful: model=claude-3-7-sonnet-20250219\n",
      "INFO:cluster_analysis_20250727_221630.log:Success for cluster 266\n",
      "Processing clusters:  64%|██████▍   | 267/414 [1:14:19<37:26, 15.28s/it]INFO:cluster_analysis_20250727_221630.log:Using Anthropic Claude API\n"
     ]
    },
    {
     "name": "stdout",
     "output_type": "stream",
     "text": [
      "Using provided template string\n",
      "Appending output format instructions to template\n",
      "Added 9 gene feature descriptions to prompt\n"
     ]
    },
    {
     "name": "stderr",
     "output_type": "stream",
     "text": [
      "INFO:cluster_analysis_20250727_221630.log:Anthropic API call successful: model=claude-3-7-sonnet-20250219\n",
      "INFO:cluster_analysis_20250727_221630.log:Success for cluster 267\n",
      "Processing clusters:  65%|██████▍   | 268/414 [1:14:31<34:39, 14.24s/it]INFO:cluster_analysis_20250727_221630.log:Using Anthropic Claude API\n"
     ]
    },
    {
     "name": "stdout",
     "output_type": "stream",
     "text": [
      "Using provided template string\n",
      "Appending output format instructions to template\n",
      "Added 9 gene feature descriptions to prompt\n"
     ]
    },
    {
     "name": "stderr",
     "output_type": "stream",
     "text": [
      "INFO:cluster_analysis_20250727_221630.log:Anthropic API call successful: model=claude-3-7-sonnet-20250219\n",
      "INFO:cluster_analysis_20250727_221630.log:Success for cluster 268\n",
      "Processing clusters:  65%|██████▍   | 269/414 [1:14:48<37:05, 15.35s/it]INFO:cluster_analysis_20250727_221630.log:Using Anthropic Claude API\n"
     ]
    },
    {
     "name": "stdout",
     "output_type": "stream",
     "text": [
      "Using provided template string\n",
      "Appending output format instructions to template\n",
      "Added 9 gene feature descriptions to prompt\n"
     ]
    },
    {
     "name": "stderr",
     "output_type": "stream",
     "text": [
      "INFO:cluster_analysis_20250727_221630.log:Anthropic API call successful: model=claude-3-7-sonnet-20250219\n",
      "INFO:cluster_analysis_20250727_221630.log:Success for cluster 269\n",
      "INFO:cluster_analysis_20250727_221630.log:Saved progress for 270 clusters\n",
      "Processing clusters:  65%|██████▌   | 270/414 [1:14:55<30:21, 12.65s/it]INFO:cluster_analysis_20250727_221630.log:Using Anthropic Claude API\n"
     ]
    },
    {
     "name": "stdout",
     "output_type": "stream",
     "text": [
      "Using provided template string\n",
      "Appending output format instructions to template\n",
      "Added 9 gene feature descriptions to prompt\n"
     ]
    },
    {
     "name": "stderr",
     "output_type": "stream",
     "text": [
      "INFO:cluster_analysis_20250727_221630.log:Anthropic API call successful: model=claude-3-7-sonnet-20250219\n",
      "INFO:cluster_analysis_20250727_221630.log:Success for cluster 270\n",
      "Processing clusters:  65%|██████▌   | 271/414 [1:15:06<29:09, 12.24s/it]INFO:cluster_analysis_20250727_221630.log:Using Anthropic Claude API\n"
     ]
    },
    {
     "name": "stdout",
     "output_type": "stream",
     "text": [
      "Using provided template string\n",
      "Appending output format instructions to template\n",
      "Added 9 gene feature descriptions to prompt\n"
     ]
    },
    {
     "name": "stderr",
     "output_type": "stream",
     "text": [
      "INFO:cluster_analysis_20250727_221630.log:Anthropic API call successful: model=claude-3-7-sonnet-20250219\n",
      "INFO:cluster_analysis_20250727_221630.log:Success for cluster 271\n",
      "Processing clusters:  66%|██████▌   | 272/414 [1:15:18<29:01, 12.26s/it]INFO:cluster_analysis_20250727_221630.log:Using Anthropic Claude API\n"
     ]
    },
    {
     "name": "stdout",
     "output_type": "stream",
     "text": [
      "Using provided template string\n",
      "Appending output format instructions to template\n",
      "Added 9 gene feature descriptions to prompt\n"
     ]
    },
    {
     "name": "stderr",
     "output_type": "stream",
     "text": [
      "INFO:cluster_analysis_20250727_221630.log:Anthropic API call successful: model=claude-3-7-sonnet-20250219\n",
      "INFO:cluster_analysis_20250727_221630.log:Success for cluster 272\n",
      "Processing clusters:  66%|██████▌   | 273/414 [1:15:25<24:35, 10.46s/it]INFO:cluster_analysis_20250727_221630.log:Using Anthropic Claude API\n"
     ]
    },
    {
     "name": "stdout",
     "output_type": "stream",
     "text": [
      "Using provided template string\n",
      "Appending output format instructions to template\n",
      "Added 9 gene feature descriptions to prompt\n"
     ]
    },
    {
     "name": "stderr",
     "output_type": "stream",
     "text": [
      "INFO:cluster_analysis_20250727_221630.log:Anthropic API call successful: model=claude-3-7-sonnet-20250219\n",
      "INFO:cluster_analysis_20250727_221630.log:Success for cluster 273\n",
      "Processing clusters:  66%|██████▌   | 274/414 [1:15:41<28:13, 12.09s/it]INFO:cluster_analysis_20250727_221630.log:Using Anthropic Claude API\n"
     ]
    },
    {
     "name": "stdout",
     "output_type": "stream",
     "text": [
      "Using provided template string\n",
      "Appending output format instructions to template\n",
      "Added 9 gene feature descriptions to prompt\n"
     ]
    },
    {
     "name": "stderr",
     "output_type": "stream",
     "text": [
      "INFO:cluster_analysis_20250727_221630.log:Anthropic API call successful: model=claude-3-7-sonnet-20250219\n",
      "INFO:cluster_analysis_20250727_221630.log:Success for cluster 274\n",
      "INFO:cluster_analysis_20250727_221630.log:Saved progress for 275 clusters\n",
      "Processing clusters:  66%|██████▋   | 275/414 [1:15:56<30:02, 12.97s/it]INFO:cluster_analysis_20250727_221630.log:Using Anthropic Claude API\n"
     ]
    },
    {
     "name": "stdout",
     "output_type": "stream",
     "text": [
      "Using provided template string\n",
      "Appending output format instructions to template\n",
      "Added 9 gene feature descriptions to prompt\n"
     ]
    },
    {
     "name": "stderr",
     "output_type": "stream",
     "text": [
      "INFO:cluster_analysis_20250727_221630.log:Anthropic API call successful: model=claude-3-7-sonnet-20250219\n",
      "INFO:cluster_analysis_20250727_221630.log:Success for cluster 275\n",
      "Processing clusters:  67%|██████▋   | 276/414 [1:16:08<29:10, 12.68s/it]INFO:cluster_analysis_20250727_221630.log:Using Anthropic Claude API\n"
     ]
    },
    {
     "name": "stdout",
     "output_type": "stream",
     "text": [
      "Using provided template string\n",
      "Appending output format instructions to template\n",
      "Added 9 gene feature descriptions to prompt\n"
     ]
    },
    {
     "name": "stderr",
     "output_type": "stream",
     "text": [
      "INFO:cluster_analysis_20250727_221630.log:Anthropic API call successful: model=claude-3-7-sonnet-20250219\n",
      "INFO:cluster_analysis_20250727_221630.log:Success for cluster 276\n",
      "Processing clusters:  67%|██████▋   | 277/414 [1:16:24<31:47, 13.92s/it]INFO:cluster_analysis_20250727_221630.log:Using Anthropic Claude API\n"
     ]
    },
    {
     "name": "stdout",
     "output_type": "stream",
     "text": [
      "Using provided template string\n",
      "Appending output format instructions to template\n",
      "Added 9 gene feature descriptions to prompt\n"
     ]
    },
    {
     "name": "stderr",
     "output_type": "stream",
     "text": [
      "INFO:cluster_analysis_20250727_221630.log:Anthropic API call successful: model=claude-3-7-sonnet-20250219\n",
      "INFO:cluster_analysis_20250727_221630.log:Success for cluster 277\n",
      "Processing clusters:  67%|██████▋   | 278/414 [1:16:43<34:46, 15.34s/it]INFO:cluster_analysis_20250727_221630.log:Using Anthropic Claude API\n"
     ]
    },
    {
     "name": "stdout",
     "output_type": "stream",
     "text": [
      "Using provided template string\n",
      "Appending output format instructions to template\n",
      "Added 9 gene feature descriptions to prompt\n"
     ]
    },
    {
     "name": "stderr",
     "output_type": "stream",
     "text": [
      "INFO:cluster_analysis_20250727_221630.log:Anthropic API call successful: model=claude-3-7-sonnet-20250219\n",
      "INFO:cluster_analysis_20250727_221630.log:Success for cluster 278\n",
      "Processing clusters:  67%|██████▋   | 279/414 [1:16:59<34:44, 15.44s/it]INFO:cluster_analysis_20250727_221630.log:Using Anthropic Claude API\n"
     ]
    },
    {
     "name": "stdout",
     "output_type": "stream",
     "text": [
      "Using provided template string\n",
      "Appending output format instructions to template\n",
      "Added 9 gene feature descriptions to prompt\n"
     ]
    },
    {
     "name": "stderr",
     "output_type": "stream",
     "text": [
      "INFO:cluster_analysis_20250727_221630.log:Anthropic API call successful: model=claude-3-7-sonnet-20250219\n",
      "INFO:cluster_analysis_20250727_221630.log:Success for cluster 279\n",
      "INFO:cluster_analysis_20250727_221630.log:Saved progress for 280 clusters\n",
      "Processing clusters:  68%|██████▊   | 280/414 [1:17:11<32:39, 14.62s/it]INFO:cluster_analysis_20250727_221630.log:Using Anthropic Claude API\n"
     ]
    },
    {
     "name": "stdout",
     "output_type": "stream",
     "text": [
      "Using provided template string\n",
      "Appending output format instructions to template\n",
      "Added 9 gene feature descriptions to prompt\n"
     ]
    },
    {
     "name": "stderr",
     "output_type": "stream",
     "text": [
      "INFO:cluster_analysis_20250727_221630.log:Anthropic API call successful: model=claude-3-7-sonnet-20250219\n",
      "INFO:cluster_analysis_20250727_221630.log:Success for cluster 280\n",
      "Processing clusters:  68%|██████▊   | 281/414 [1:17:27<32:41, 14.75s/it]INFO:cluster_analysis_20250727_221630.log:Using Anthropic Claude API\n"
     ]
    },
    {
     "name": "stdout",
     "output_type": "stream",
     "text": [
      "Using provided template string\n",
      "Appending output format instructions to template\n",
      "Added 9 gene feature descriptions to prompt\n"
     ]
    },
    {
     "name": "stderr",
     "output_type": "stream",
     "text": [
      "INFO:cluster_analysis_20250727_221630.log:Anthropic API call successful: model=claude-3-7-sonnet-20250219\n",
      "INFO:cluster_analysis_20250727_221630.log:Success for cluster 281\n",
      "Processing clusters:  68%|██████▊   | 282/414 [1:17:37<29:52, 13.58s/it]INFO:cluster_analysis_20250727_221630.log:Using Anthropic Claude API\n"
     ]
    },
    {
     "name": "stdout",
     "output_type": "stream",
     "text": [
      "Using provided template string\n",
      "Appending output format instructions to template\n",
      "Added 9 gene feature descriptions to prompt\n"
     ]
    },
    {
     "name": "stderr",
     "output_type": "stream",
     "text": [
      "INFO:cluster_analysis_20250727_221630.log:Anthropic API call successful: model=claude-3-7-sonnet-20250219\n",
      "INFO:cluster_analysis_20250727_221630.log:Success for cluster 282\n",
      "Processing clusters:  68%|██████▊   | 283/414 [1:17:50<29:00, 13.28s/it]INFO:cluster_analysis_20250727_221630.log:Using Anthropic Claude API\n"
     ]
    },
    {
     "name": "stdout",
     "output_type": "stream",
     "text": [
      "Using provided template string\n",
      "Appending output format instructions to template\n",
      "Added 9 gene feature descriptions to prompt\n"
     ]
    },
    {
     "name": "stderr",
     "output_type": "stream",
     "text": [
      "INFO:cluster_analysis_20250727_221630.log:Anthropic API call successful: model=claude-3-7-sonnet-20250219\n",
      "INFO:cluster_analysis_20250727_221630.log:Success for cluster 283\n",
      "Processing clusters:  69%|██████▊   | 284/414 [1:18:05<29:37, 13.67s/it]INFO:cluster_analysis_20250727_221630.log:Using Anthropic Claude API\n"
     ]
    },
    {
     "name": "stdout",
     "output_type": "stream",
     "text": [
      "Using provided template string\n",
      "Appending output format instructions to template\n",
      "Added 9 gene feature descriptions to prompt\n"
     ]
    },
    {
     "name": "stderr",
     "output_type": "stream",
     "text": [
      "INFO:cluster_analysis_20250727_221630.log:Anthropic API call successful: model=claude-3-7-sonnet-20250219\n",
      "INFO:cluster_analysis_20250727_221630.log:Success for cluster 284\n",
      "INFO:cluster_analysis_20250727_221630.log:Saved progress for 285 clusters\n",
      "Processing clusters:  69%|██████▉   | 285/414 [1:18:15<27:00, 12.57s/it]INFO:cluster_analysis_20250727_221630.log:Using Anthropic Claude API\n"
     ]
    },
    {
     "name": "stdout",
     "output_type": "stream",
     "text": [
      "Using provided template string\n",
      "Appending output format instructions to template\n",
      "Added 9 gene feature descriptions to prompt\n"
     ]
    },
    {
     "name": "stderr",
     "output_type": "stream",
     "text": [
      "INFO:cluster_analysis_20250727_221630.log:Anthropic API call successful: model=claude-3-7-sonnet-20250219\n",
      "INFO:cluster_analysis_20250727_221630.log:Success for cluster 285\n",
      "Processing clusters:  69%|██████▉   | 286/414 [1:18:29<28:20, 13.28s/it]INFO:cluster_analysis_20250727_221630.log:Using Anthropic Claude API\n"
     ]
    },
    {
     "name": "stdout",
     "output_type": "stream",
     "text": [
      "Using provided template string\n",
      "Appending output format instructions to template\n",
      "Added 9 gene feature descriptions to prompt\n"
     ]
    },
    {
     "name": "stderr",
     "output_type": "stream",
     "text": [
      "INFO:cluster_analysis_20250727_221630.log:Anthropic API call successful: model=claude-3-7-sonnet-20250219\n",
      "INFO:cluster_analysis_20250727_221630.log:Success for cluster 286\n",
      "Processing clusters:  69%|██████▉   | 287/414 [1:18:48<31:44, 14.99s/it]INFO:cluster_analysis_20250727_221630.log:Using Anthropic Claude API\n"
     ]
    },
    {
     "name": "stdout",
     "output_type": "stream",
     "text": [
      "Using provided template string\n",
      "Appending output format instructions to template\n",
      "Added 9 gene feature descriptions to prompt\n"
     ]
    },
    {
     "name": "stderr",
     "output_type": "stream",
     "text": [
      "INFO:cluster_analysis_20250727_221630.log:Anthropic API call successful: model=claude-3-7-sonnet-20250219\n",
      "INFO:cluster_analysis_20250727_221630.log:Success for cluster 287\n",
      "Processing clusters:  70%|██████▉   | 288/414 [1:19:04<31:30, 15.01s/it]INFO:cluster_analysis_20250727_221630.log:Using Anthropic Claude API\n"
     ]
    },
    {
     "name": "stdout",
     "output_type": "stream",
     "text": [
      "Using provided template string\n",
      "Appending output format instructions to template\n",
      "Added 9 gene feature descriptions to prompt\n"
     ]
    },
    {
     "name": "stderr",
     "output_type": "stream",
     "text": [
      "INFO:cluster_analysis_20250727_221630.log:Anthropic API call successful: model=claude-3-7-sonnet-20250219\n",
      "INFO:cluster_analysis_20250727_221630.log:Success for cluster 288\n",
      "Processing clusters:  70%|██████▉   | 289/414 [1:19:15<29:03, 13.94s/it]INFO:cluster_analysis_20250727_221630.log:Using Anthropic Claude API\n"
     ]
    },
    {
     "name": "stdout",
     "output_type": "stream",
     "text": [
      "Using provided template string\n",
      "Appending output format instructions to template\n",
      "Added 9 gene feature descriptions to prompt\n"
     ]
    },
    {
     "name": "stderr",
     "output_type": "stream",
     "text": [
      "INFO:cluster_analysis_20250727_221630.log:Anthropic API call successful: model=claude-3-7-sonnet-20250219\n",
      "INFO:cluster_analysis_20250727_221630.log:Success for cluster 289\n",
      "INFO:cluster_analysis_20250727_221630.log:Saved progress for 290 clusters\n",
      "Processing clusters:  70%|███████   | 290/414 [1:19:31<29:57, 14.49s/it]INFO:cluster_analysis_20250727_221630.log:Using Anthropic Claude API\n"
     ]
    },
    {
     "name": "stdout",
     "output_type": "stream",
     "text": [
      "Using provided template string\n",
      "Appending output format instructions to template\n",
      "Added 9 gene feature descriptions to prompt\n"
     ]
    },
    {
     "name": "stderr",
     "output_type": "stream",
     "text": [
      "INFO:cluster_analysis_20250727_221630.log:Anthropic API call successful: model=claude-3-7-sonnet-20250219\n",
      "INFO:cluster_analysis_20250727_221630.log:Success for cluster 290\n",
      "Processing clusters:  70%|███████   | 291/414 [1:19:45<29:20, 14.31s/it]INFO:cluster_analysis_20250727_221630.log:Using Anthropic Claude API\n"
     ]
    },
    {
     "name": "stdout",
     "output_type": "stream",
     "text": [
      "Using provided template string\n",
      "Appending output format instructions to template\n",
      "Added 9 gene feature descriptions to prompt\n"
     ]
    },
    {
     "name": "stderr",
     "output_type": "stream",
     "text": [
      "INFO:cluster_analysis_20250727_221630.log:Anthropic API call successful: model=claude-3-7-sonnet-20250219\n",
      "INFO:cluster_analysis_20250727_221630.log:Success for cluster 291\n",
      "Processing clusters:  71%|███████   | 292/414 [1:19:56<27:35, 13.57s/it]INFO:cluster_analysis_20250727_221630.log:Using Anthropic Claude API\n"
     ]
    },
    {
     "name": "stdout",
     "output_type": "stream",
     "text": [
      "Using provided template string\n",
      "Appending output format instructions to template\n",
      "Added 9 gene feature descriptions to prompt\n"
     ]
    },
    {
     "name": "stderr",
     "output_type": "stream",
     "text": [
      "INFO:cluster_analysis_20250727_221630.log:Anthropic API call successful: model=claude-3-7-sonnet-20250219\n",
      "INFO:cluster_analysis_20250727_221630.log:Success for cluster 292\n",
      "Processing clusters:  71%|███████   | 293/414 [1:20:10<27:05, 13.43s/it]INFO:cluster_analysis_20250727_221630.log:Using Anthropic Claude API\n"
     ]
    },
    {
     "name": "stdout",
     "output_type": "stream",
     "text": [
      "Using provided template string\n",
      "Appending output format instructions to template\n",
      "Added 9 gene feature descriptions to prompt\n"
     ]
    },
    {
     "name": "stderr",
     "output_type": "stream",
     "text": [
      "INFO:cluster_analysis_20250727_221630.log:Anthropic API call successful: model=claude-3-7-sonnet-20250219\n",
      "INFO:cluster_analysis_20250727_221630.log:Success for cluster 293\n",
      "Processing clusters:  71%|███████   | 294/414 [1:20:24<27:19, 13.66s/it]INFO:cluster_analysis_20250727_221630.log:Using Anthropic Claude API\n"
     ]
    },
    {
     "name": "stdout",
     "output_type": "stream",
     "text": [
      "Using provided template string\n",
      "Appending output format instructions to template\n",
      "Added 9 gene feature descriptions to prompt\n"
     ]
    },
    {
     "name": "stderr",
     "output_type": "stream",
     "text": [
      "INFO:cluster_analysis_20250727_221630.log:Anthropic API call successful: model=claude-3-7-sonnet-20250219\n",
      "INFO:cluster_analysis_20250727_221630.log:Success for cluster 294\n",
      "INFO:cluster_analysis_20250727_221630.log:Saved progress for 295 clusters\n",
      "Processing clusters:  71%|███████▏  | 295/414 [1:20:37<27:00, 13.62s/it]INFO:cluster_analysis_20250727_221630.log:Using Anthropic Claude API\n"
     ]
    },
    {
     "name": "stdout",
     "output_type": "stream",
     "text": [
      "Using provided template string\n",
      "Appending output format instructions to template\n",
      "Added 9 gene feature descriptions to prompt\n"
     ]
    },
    {
     "name": "stderr",
     "output_type": "stream",
     "text": [
      "INFO:cluster_analysis_20250727_221630.log:Anthropic API call successful: model=claude-3-7-sonnet-20250219\n",
      "INFO:cluster_analysis_20250727_221630.log:Success for cluster 295\n",
      "Processing clusters:  71%|███████▏  | 296/414 [1:20:52<27:25, 13.94s/it]INFO:cluster_analysis_20250727_221630.log:Using Anthropic Claude API\n"
     ]
    },
    {
     "name": "stdout",
     "output_type": "stream",
     "text": [
      "Using provided template string\n",
      "Appending output format instructions to template\n",
      "Added 9 gene feature descriptions to prompt\n"
     ]
    },
    {
     "name": "stderr",
     "output_type": "stream",
     "text": [
      "INFO:cluster_analysis_20250727_221630.log:Anthropic API call successful: model=claude-3-7-sonnet-20250219\n",
      "INFO:cluster_analysis_20250727_221630.log:Success for cluster 296\n",
      "Processing clusters:  72%|███████▏  | 297/414 [1:21:04<25:50, 13.25s/it]INFO:cluster_analysis_20250727_221630.log:Using Anthropic Claude API\n"
     ]
    },
    {
     "name": "stdout",
     "output_type": "stream",
     "text": [
      "Using provided template string\n",
      "Appending output format instructions to template\n",
      "Added 9 gene feature descriptions to prompt\n"
     ]
    },
    {
     "name": "stderr",
     "output_type": "stream",
     "text": [
      "INFO:cluster_analysis_20250727_221630.log:Anthropic API call successful: model=claude-3-7-sonnet-20250219\n",
      "INFO:cluster_analysis_20250727_221630.log:Success for cluster 297\n",
      "Processing clusters:  72%|███████▏  | 298/414 [1:21:19<27:01, 13.98s/it]INFO:cluster_analysis_20250727_221630.log:Using Anthropic Claude API\n"
     ]
    },
    {
     "name": "stdout",
     "output_type": "stream",
     "text": [
      "Using provided template string\n",
      "Appending output format instructions to template\n",
      "Added 9 gene feature descriptions to prompt\n"
     ]
    },
    {
     "name": "stderr",
     "output_type": "stream",
     "text": [
      "INFO:cluster_analysis_20250727_221630.log:Anthropic API call successful: model=claude-3-7-sonnet-20250219\n",
      "INFO:cluster_analysis_20250727_221630.log:Success for cluster 298\n",
      "Processing clusters:  72%|███████▏  | 299/414 [1:21:30<24:55, 13.00s/it]INFO:cluster_analysis_20250727_221630.log:Using Anthropic Claude API\n"
     ]
    },
    {
     "name": "stdout",
     "output_type": "stream",
     "text": [
      "Using provided template string\n",
      "Appending output format instructions to template\n",
      "Added 9 gene feature descriptions to prompt\n"
     ]
    },
    {
     "name": "stderr",
     "output_type": "stream",
     "text": [
      "INFO:cluster_analysis_20250727_221630.log:Anthropic API call successful: model=claude-3-7-sonnet-20250219\n",
      "INFO:cluster_analysis_20250727_221630.log:Success for cluster 299\n",
      "INFO:cluster_analysis_20250727_221630.log:Saved progress for 300 clusters\n",
      "Processing clusters:  72%|███████▏  | 300/414 [1:21:42<24:03, 12.66s/it]INFO:cluster_analysis_20250727_221630.log:Using Anthropic Claude API\n"
     ]
    },
    {
     "name": "stdout",
     "output_type": "stream",
     "text": [
      "Using provided template string\n",
      "Appending output format instructions to template\n",
      "Added 9 gene feature descriptions to prompt\n"
     ]
    },
    {
     "name": "stderr",
     "output_type": "stream",
     "text": [
      "INFO:cluster_analysis_20250727_221630.log:Anthropic API call successful: model=claude-3-7-sonnet-20250219\n",
      "INFO:cluster_analysis_20250727_221630.log:Success for cluster 300\n",
      "Processing clusters:  73%|███████▎  | 301/414 [1:21:56<24:37, 13.08s/it]INFO:cluster_analysis_20250727_221630.log:Using Anthropic Claude API\n"
     ]
    },
    {
     "name": "stdout",
     "output_type": "stream",
     "text": [
      "Using provided template string\n",
      "Appending output format instructions to template\n",
      "Added 9 gene feature descriptions to prompt\n"
     ]
    },
    {
     "name": "stderr",
     "output_type": "stream",
     "text": [
      "INFO:cluster_analysis_20250727_221630.log:Anthropic API call successful: model=claude-3-7-sonnet-20250219\n",
      "INFO:cluster_analysis_20250727_221630.log:Success for cluster 301\n",
      "Processing clusters:  73%|███████▎  | 302/414 [1:22:10<25:08, 13.47s/it]INFO:cluster_analysis_20250727_221630.log:Using Anthropic Claude API\n"
     ]
    },
    {
     "name": "stdout",
     "output_type": "stream",
     "text": [
      "Using provided template string\n",
      "Appending output format instructions to template\n",
      "Added 9 gene feature descriptions to prompt\n"
     ]
    },
    {
     "name": "stderr",
     "output_type": "stream",
     "text": [
      "INFO:cluster_analysis_20250727_221630.log:Anthropic API call successful: model=claude-3-7-sonnet-20250219\n",
      "INFO:cluster_analysis_20250727_221630.log:Success for cluster 302\n",
      "Processing clusters:  73%|███████▎  | 303/414 [1:22:26<26:05, 14.10s/it]INFO:cluster_analysis_20250727_221630.log:Using Anthropic Claude API\n"
     ]
    },
    {
     "name": "stdout",
     "output_type": "stream",
     "text": [
      "Using provided template string\n",
      "Appending output format instructions to template\n",
      "Added 9 gene feature descriptions to prompt\n"
     ]
    },
    {
     "name": "stderr",
     "output_type": "stream",
     "text": [
      "INFO:cluster_analysis_20250727_221630.log:Anthropic API call successful: model=claude-3-7-sonnet-20250219\n",
      "INFO:cluster_analysis_20250727_221630.log:Success for cluster 303\n",
      "Processing clusters:  73%|███████▎  | 304/414 [1:22:39<25:11, 13.74s/it]INFO:cluster_analysis_20250727_221630.log:Using Anthropic Claude API\n"
     ]
    },
    {
     "name": "stdout",
     "output_type": "stream",
     "text": [
      "Using provided template string\n",
      "Appending output format instructions to template\n",
      "Added 9 gene feature descriptions to prompt\n"
     ]
    },
    {
     "name": "stderr",
     "output_type": "stream",
     "text": [
      "INFO:cluster_analysis_20250727_221630.log:Anthropic API call successful: model=claude-3-7-sonnet-20250219\n",
      "INFO:cluster_analysis_20250727_221630.log:Success for cluster 304\n",
      "INFO:cluster_analysis_20250727_221630.log:Saved progress for 305 clusters\n",
      "Processing clusters:  74%|███████▎  | 305/414 [1:22:56<26:49, 14.77s/it]INFO:cluster_analysis_20250727_221630.log:Using Anthropic Claude API\n"
     ]
    },
    {
     "name": "stdout",
     "output_type": "stream",
     "text": [
      "Using provided template string\n",
      "Appending output format instructions to template\n",
      "Added 9 gene feature descriptions to prompt\n"
     ]
    },
    {
     "name": "stderr",
     "output_type": "stream",
     "text": [
      "INFO:cluster_analysis_20250727_221630.log:Anthropic API call successful: model=claude-3-7-sonnet-20250219\n",
      "INFO:cluster_analysis_20250727_221630.log:Success for cluster 305\n",
      "Processing clusters:  74%|███████▍  | 306/414 [1:23:10<25:58, 14.43s/it]INFO:cluster_analysis_20250727_221630.log:Using Anthropic Claude API\n"
     ]
    },
    {
     "name": "stdout",
     "output_type": "stream",
     "text": [
      "Using provided template string\n",
      "Appending output format instructions to template\n",
      "Added 9 gene feature descriptions to prompt\n"
     ]
    },
    {
     "name": "stderr",
     "output_type": "stream",
     "text": [
      "INFO:cluster_analysis_20250727_221630.log:Anthropic API call successful: model=claude-3-7-sonnet-20250219\n",
      "INFO:cluster_analysis_20250727_221630.log:Success for cluster 306\n",
      "Processing clusters:  74%|███████▍  | 307/414 [1:23:18<22:25, 12.58s/it]INFO:cluster_analysis_20250727_221630.log:Using Anthropic Claude API\n"
     ]
    },
    {
     "name": "stdout",
     "output_type": "stream",
     "text": [
      "Using provided template string\n",
      "Appending output format instructions to template\n",
      "Added 9 gene feature descriptions to prompt\n"
     ]
    },
    {
     "name": "stderr",
     "output_type": "stream",
     "text": [
      "INFO:cluster_analysis_20250727_221630.log:Anthropic API call successful: model=claude-3-7-sonnet-20250219\n",
      "INFO:cluster_analysis_20250727_221630.log:Success for cluster 307\n",
      "Processing clusters:  74%|███████▍  | 308/414 [1:23:30<21:52, 12.39s/it]INFO:cluster_analysis_20250727_221630.log:Using Anthropic Claude API\n"
     ]
    },
    {
     "name": "stdout",
     "output_type": "stream",
     "text": [
      "Using provided template string\n",
      "Appending output format instructions to template\n",
      "Added 9 gene feature descriptions to prompt\n"
     ]
    },
    {
     "name": "stderr",
     "output_type": "stream",
     "text": [
      "INFO:cluster_analysis_20250727_221630.log:Anthropic API call successful: model=claude-3-7-sonnet-20250219\n",
      "INFO:cluster_analysis_20250727_221630.log:Success for cluster 308\n",
      "Processing clusters:  75%|███████▍  | 309/414 [1:23:46<23:25, 13.39s/it]INFO:cluster_analysis_20250727_221630.log:Using Anthropic Claude API\n"
     ]
    },
    {
     "name": "stdout",
     "output_type": "stream",
     "text": [
      "Using provided template string\n",
      "Appending output format instructions to template\n",
      "Added 9 gene feature descriptions to prompt\n"
     ]
    },
    {
     "name": "stderr",
     "output_type": "stream",
     "text": [
      "INFO:cluster_analysis_20250727_221630.log:Anthropic API call successful: model=claude-3-7-sonnet-20250219\n",
      "INFO:cluster_analysis_20250727_221630.log:Success for cluster 309\n",
      "INFO:cluster_analysis_20250727_221630.log:Saved progress for 310 clusters\n",
      "Processing clusters:  75%|███████▍  | 310/414 [1:23:51<19:18, 11.14s/it]INFO:cluster_analysis_20250727_221630.log:Using Anthropic Claude API\n"
     ]
    },
    {
     "name": "stdout",
     "output_type": "stream",
     "text": [
      "Using provided template string\n",
      "Appending output format instructions to template\n",
      "Added 9 gene feature descriptions to prompt\n"
     ]
    },
    {
     "name": "stderr",
     "output_type": "stream",
     "text": [
      "INFO:cluster_analysis_20250727_221630.log:Anthropic API call successful: model=claude-3-7-sonnet-20250219\n",
      "INFO:cluster_analysis_20250727_221630.log:Success for cluster 310\n",
      "Processing clusters:  75%|███████▌  | 311/414 [1:24:05<20:27, 11.92s/it]INFO:cluster_analysis_20250727_221630.log:Using Anthropic Claude API\n"
     ]
    },
    {
     "name": "stdout",
     "output_type": "stream",
     "text": [
      "Using provided template string\n",
      "Appending output format instructions to template\n",
      "Added 9 gene feature descriptions to prompt\n"
     ]
    },
    {
     "name": "stderr",
     "output_type": "stream",
     "text": [
      "INFO:cluster_analysis_20250727_221630.log:Anthropic API call successful: model=claude-3-7-sonnet-20250219\n",
      "INFO:cluster_analysis_20250727_221630.log:Success for cluster 311\n",
      "Processing clusters:  75%|███████▌  | 312/414 [1:24:19<21:24, 12.59s/it]INFO:cluster_analysis_20250727_221630.log:Using Anthropic Claude API\n"
     ]
    },
    {
     "name": "stdout",
     "output_type": "stream",
     "text": [
      "Using provided template string\n",
      "Appending output format instructions to template\n",
      "Added 8 gene feature descriptions to prompt\n"
     ]
    },
    {
     "name": "stderr",
     "output_type": "stream",
     "text": [
      "INFO:cluster_analysis_20250727_221630.log:Anthropic API call successful: model=claude-3-7-sonnet-20250219\n",
      "INFO:cluster_analysis_20250727_221630.log:Success for cluster 312\n",
      "Processing clusters:  76%|███████▌  | 313/414 [1:24:36<23:03, 13.70s/it]INFO:cluster_analysis_20250727_221630.log:Using Anthropic Claude API\n"
     ]
    },
    {
     "name": "stdout",
     "output_type": "stream",
     "text": [
      "Using provided template string\n",
      "Appending output format instructions to template\n",
      "Added 8 gene feature descriptions to prompt\n"
     ]
    },
    {
     "name": "stderr",
     "output_type": "stream",
     "text": [
      "INFO:cluster_analysis_20250727_221630.log:Anthropic API call successful: model=claude-3-7-sonnet-20250219\n",
      "INFO:cluster_analysis_20250727_221630.log:Success for cluster 313\n",
      "Processing clusters:  76%|███████▌  | 314/414 [1:24:50<23:15, 13.96s/it]INFO:cluster_analysis_20250727_221630.log:Using Anthropic Claude API\n"
     ]
    },
    {
     "name": "stdout",
     "output_type": "stream",
     "text": [
      "Using provided template string\n",
      "Appending output format instructions to template\n",
      "Added 8 gene feature descriptions to prompt\n"
     ]
    },
    {
     "name": "stderr",
     "output_type": "stream",
     "text": [
      "INFO:cluster_analysis_20250727_221630.log:Anthropic API call successful: model=claude-3-7-sonnet-20250219\n",
      "INFO:cluster_analysis_20250727_221630.log:Success for cluster 314\n",
      "INFO:cluster_analysis_20250727_221630.log:Saved progress for 315 clusters\n",
      "Processing clusters:  76%|███████▌  | 315/414 [1:25:05<23:21, 14.15s/it]INFO:cluster_analysis_20250727_221630.log:Using Anthropic Claude API\n"
     ]
    },
    {
     "name": "stdout",
     "output_type": "stream",
     "text": [
      "Using provided template string\n",
      "Appending output format instructions to template\n",
      "Added 8 gene feature descriptions to prompt\n"
     ]
    },
    {
     "name": "stderr",
     "output_type": "stream",
     "text": [
      "INFO:cluster_analysis_20250727_221630.log:Anthropic API call successful: model=claude-3-7-sonnet-20250219\n",
      "INFO:cluster_analysis_20250727_221630.log:Success for cluster 315\n",
      "Processing clusters:  76%|███████▋  | 316/414 [1:25:22<24:32, 15.03s/it]INFO:cluster_analysis_20250727_221630.log:Using Anthropic Claude API\n"
     ]
    },
    {
     "name": "stdout",
     "output_type": "stream",
     "text": [
      "Using provided template string\n",
      "Appending output format instructions to template\n",
      "Added 8 gene feature descriptions to prompt\n"
     ]
    },
    {
     "name": "stderr",
     "output_type": "stream",
     "text": [
      "INFO:cluster_analysis_20250727_221630.log:Anthropic API call successful: model=claude-3-7-sonnet-20250219\n",
      "INFO:cluster_analysis_20250727_221630.log:Success for cluster 316\n",
      "Processing clusters:  77%|███████▋  | 317/414 [1:25:34<22:50, 14.13s/it]INFO:cluster_analysis_20250727_221630.log:Using Anthropic Claude API\n"
     ]
    },
    {
     "name": "stdout",
     "output_type": "stream",
     "text": [
      "Using provided template string\n",
      "Appending output format instructions to template\n",
      "Added 8 gene feature descriptions to prompt\n"
     ]
    },
    {
     "name": "stderr",
     "output_type": "stream",
     "text": [
      "INFO:cluster_analysis_20250727_221630.log:Anthropic API call successful: model=claude-3-7-sonnet-20250219\n",
      "INFO:cluster_analysis_20250727_221630.log:Success for cluster 317\n",
      "Processing clusters:  77%|███████▋  | 318/414 [1:25:44<20:39, 12.91s/it]INFO:cluster_analysis_20250727_221630.log:Using Anthropic Claude API\n"
     ]
    },
    {
     "name": "stdout",
     "output_type": "stream",
     "text": [
      "Using provided template string\n",
      "Appending output format instructions to template\n",
      "Added 8 gene feature descriptions to prompt\n"
     ]
    },
    {
     "name": "stderr",
     "output_type": "stream",
     "text": [
      "INFO:cluster_analysis_20250727_221630.log:Anthropic API call successful: model=claude-3-7-sonnet-20250219\n",
      "INFO:cluster_analysis_20250727_221630.log:Success for cluster 318\n",
      "Processing clusters:  77%|███████▋  | 319/414 [1:25:52<18:00, 11.37s/it]INFO:cluster_analysis_20250727_221630.log:Using Anthropic Claude API\n"
     ]
    },
    {
     "name": "stdout",
     "output_type": "stream",
     "text": [
      "Using provided template string\n",
      "Appending output format instructions to template\n",
      "Added 8 gene feature descriptions to prompt\n"
     ]
    },
    {
     "name": "stderr",
     "output_type": "stream",
     "text": [
      "INFO:cluster_analysis_20250727_221630.log:Anthropic API call successful: model=claude-3-7-sonnet-20250219\n",
      "INFO:cluster_analysis_20250727_221630.log:Success for cluster 319\n",
      "INFO:cluster_analysis_20250727_221630.log:Saved progress for 320 clusters\n",
      "Processing clusters:  77%|███████▋  | 320/414 [1:26:05<18:30, 11.82s/it]INFO:cluster_analysis_20250727_221630.log:Using Anthropic Claude API\n"
     ]
    },
    {
     "name": "stdout",
     "output_type": "stream",
     "text": [
      "Using provided template string\n",
      "Appending output format instructions to template\n",
      "Added 8 gene feature descriptions to prompt\n"
     ]
    },
    {
     "name": "stderr",
     "output_type": "stream",
     "text": [
      "INFO:cluster_analysis_20250727_221630.log:Anthropic API call successful: model=claude-3-7-sonnet-20250219\n",
      "INFO:cluster_analysis_20250727_221630.log:Success for cluster 320\n",
      "Processing clusters:  78%|███████▊  | 321/414 [1:26:16<18:07, 11.70s/it]INFO:cluster_analysis_20250727_221630.log:Using Anthropic Claude API\n"
     ]
    },
    {
     "name": "stdout",
     "output_type": "stream",
     "text": [
      "Using provided template string\n",
      "Appending output format instructions to template\n",
      "Added 8 gene feature descriptions to prompt\n"
     ]
    },
    {
     "name": "stderr",
     "output_type": "stream",
     "text": [
      "INFO:cluster_analysis_20250727_221630.log:Anthropic API call successful: model=claude-3-7-sonnet-20250219\n",
      "INFO:cluster_analysis_20250727_221630.log:Success for cluster 321\n",
      "Processing clusters:  78%|███████▊  | 322/414 [1:26:32<19:41, 12.85s/it]INFO:cluster_analysis_20250727_221630.log:Using Anthropic Claude API\n"
     ]
    },
    {
     "name": "stdout",
     "output_type": "stream",
     "text": [
      "Using provided template string\n",
      "Appending output format instructions to template\n",
      "Added 8 gene feature descriptions to prompt\n"
     ]
    },
    {
     "name": "stderr",
     "output_type": "stream",
     "text": [
      "INFO:cluster_analysis_20250727_221630.log:Anthropic API call successful: model=claude-3-7-sonnet-20250219\n",
      "INFO:cluster_analysis_20250727_221630.log:Success for cluster 322\n",
      "Processing clusters:  78%|███████▊  | 323/414 [1:26:47<20:46, 13.69s/it]INFO:cluster_analysis_20250727_221630.log:Using Anthropic Claude API\n"
     ]
    },
    {
     "name": "stdout",
     "output_type": "stream",
     "text": [
      "Using provided template string\n",
      "Appending output format instructions to template\n",
      "Added 8 gene feature descriptions to prompt\n"
     ]
    },
    {
     "name": "stderr",
     "output_type": "stream",
     "text": [
      "INFO:cluster_analysis_20250727_221630.log:Anthropic API call successful: model=claude-3-7-sonnet-20250219\n",
      "INFO:cluster_analysis_20250727_221630.log:Success for cluster 323\n",
      "Processing clusters:  78%|███████▊  | 324/414 [1:26:59<19:52, 13.25s/it]INFO:cluster_analysis_20250727_221630.log:Using Anthropic Claude API\n"
     ]
    },
    {
     "name": "stdout",
     "output_type": "stream",
     "text": [
      "Using provided template string\n",
      "Appending output format instructions to template\n",
      "Added 8 gene feature descriptions to prompt\n"
     ]
    },
    {
     "name": "stderr",
     "output_type": "stream",
     "text": [
      "INFO:cluster_analysis_20250727_221630.log:Anthropic API call successful: model=claude-3-7-sonnet-20250219\n",
      "INFO:cluster_analysis_20250727_221630.log:Success for cluster 324\n",
      "INFO:cluster_analysis_20250727_221630.log:Saved progress for 325 clusters\n",
      "Processing clusters:  79%|███████▊  | 325/414 [1:27:13<19:59, 13.47s/it]INFO:cluster_analysis_20250727_221630.log:Using Anthropic Claude API\n"
     ]
    },
    {
     "name": "stdout",
     "output_type": "stream",
     "text": [
      "Using provided template string\n",
      "Appending output format instructions to template\n",
      "Added 8 gene feature descriptions to prompt\n"
     ]
    },
    {
     "name": "stderr",
     "output_type": "stream",
     "text": [
      "INFO:cluster_analysis_20250727_221630.log:Anthropic API call successful: model=claude-3-7-sonnet-20250219\n",
      "INFO:cluster_analysis_20250727_221630.log:Success for cluster 325\n",
      "Processing clusters:  79%|███████▊  | 326/414 [1:27:29<20:34, 14.02s/it]INFO:cluster_analysis_20250727_221630.log:Using Anthropic Claude API\n"
     ]
    },
    {
     "name": "stdout",
     "output_type": "stream",
     "text": [
      "Using provided template string\n",
      "Appending output format instructions to template\n",
      "Added 8 gene feature descriptions to prompt\n"
     ]
    },
    {
     "name": "stderr",
     "output_type": "stream",
     "text": [
      "INFO:cluster_analysis_20250727_221630.log:Anthropic API call successful: model=claude-3-7-sonnet-20250219\n",
      "INFO:cluster_analysis_20250727_221630.log:Success for cluster 326\n",
      "Processing clusters:  79%|███████▉  | 327/414 [1:27:42<19:56, 13.76s/it]INFO:cluster_analysis_20250727_221630.log:Using Anthropic Claude API\n"
     ]
    },
    {
     "name": "stdout",
     "output_type": "stream",
     "text": [
      "Using provided template string\n",
      "Appending output format instructions to template\n",
      "Added 8 gene feature descriptions to prompt\n"
     ]
    },
    {
     "name": "stderr",
     "output_type": "stream",
     "text": [
      "INFO:cluster_analysis_20250727_221630.log:Anthropic API call successful: model=claude-3-7-sonnet-20250219\n",
      "INFO:cluster_analysis_20250727_221630.log:Success for cluster 327\n",
      "Processing clusters:  79%|███████▉  | 328/414 [1:27:56<19:44, 13.77s/it]INFO:cluster_analysis_20250727_221630.log:Using Anthropic Claude API\n"
     ]
    },
    {
     "name": "stdout",
     "output_type": "stream",
     "text": [
      "Using provided template string\n",
      "Appending output format instructions to template\n",
      "Added 8 gene feature descriptions to prompt\n"
     ]
    },
    {
     "name": "stderr",
     "output_type": "stream",
     "text": [
      "INFO:cluster_analysis_20250727_221630.log:Anthropic API call successful: model=claude-3-7-sonnet-20250219\n",
      "INFO:cluster_analysis_20250727_221630.log:Success for cluster 328\n",
      "Processing clusters:  79%|███████▉  | 329/414 [1:28:10<19:46, 13.96s/it]INFO:cluster_analysis_20250727_221630.log:Using Anthropic Claude API\n"
     ]
    },
    {
     "name": "stdout",
     "output_type": "stream",
     "text": [
      "Using provided template string\n",
      "Appending output format instructions to template\n",
      "Added 8 gene feature descriptions to prompt\n"
     ]
    },
    {
     "name": "stderr",
     "output_type": "stream",
     "text": [
      "INFO:cluster_analysis_20250727_221630.log:Anthropic API call successful: model=claude-3-7-sonnet-20250219\n",
      "INFO:cluster_analysis_20250727_221630.log:Success for cluster 329\n",
      "INFO:cluster_analysis_20250727_221630.log:Saved progress for 330 clusters\n",
      "Processing clusters:  80%|███████▉  | 330/414 [1:28:17<16:32, 11.81s/it]INFO:cluster_analysis_20250727_221630.log:Using Anthropic Claude API\n"
     ]
    },
    {
     "name": "stdout",
     "output_type": "stream",
     "text": [
      "Using provided template string\n",
      "Appending output format instructions to template\n",
      "Added 8 gene feature descriptions to prompt\n"
     ]
    },
    {
     "name": "stderr",
     "output_type": "stream",
     "text": [
      "INFO:cluster_analysis_20250727_221630.log:Anthropic API call successful: model=claude-3-7-sonnet-20250219\n",
      "INFO:cluster_analysis_20250727_221630.log:Success for cluster 330\n",
      "Processing clusters:  80%|███████▉  | 331/414 [1:28:26<15:04, 10.90s/it]INFO:cluster_analysis_20250727_221630.log:Using Anthropic Claude API\n"
     ]
    },
    {
     "name": "stdout",
     "output_type": "stream",
     "text": [
      "Using provided template string\n",
      "Appending output format instructions to template\n",
      "Added 8 gene feature descriptions to prompt\n"
     ]
    },
    {
     "name": "stderr",
     "output_type": "stream",
     "text": [
      "INFO:cluster_analysis_20250727_221630.log:Anthropic API call successful: model=claude-3-7-sonnet-20250219\n",
      "INFO:cluster_analysis_20250727_221630.log:Success for cluster 331\n",
      "Processing clusters:  80%|████████  | 332/414 [1:28:38<15:28, 11.33s/it]INFO:cluster_analysis_20250727_221630.log:Using Anthropic Claude API\n"
     ]
    },
    {
     "name": "stdout",
     "output_type": "stream",
     "text": [
      "Using provided template string\n",
      "Appending output format instructions to template\n",
      "Added 8 gene feature descriptions to prompt\n"
     ]
    },
    {
     "name": "stderr",
     "output_type": "stream",
     "text": [
      "INFO:cluster_analysis_20250727_221630.log:Anthropic API call successful: model=claude-3-7-sonnet-20250219\n",
      "INFO:cluster_analysis_20250727_221630.log:Success for cluster 332\n",
      "Processing clusters:  80%|████████  | 333/414 [1:28:55<17:33, 13.00s/it]INFO:cluster_analysis_20250727_221630.log:Using Anthropic Claude API\n"
     ]
    },
    {
     "name": "stdout",
     "output_type": "stream",
     "text": [
      "Using provided template string\n",
      "Appending output format instructions to template\n",
      "Added 8 gene feature descriptions to prompt\n"
     ]
    },
    {
     "name": "stderr",
     "output_type": "stream",
     "text": [
      "INFO:cluster_analysis_20250727_221630.log:Anthropic API call successful: model=claude-3-7-sonnet-20250219\n",
      "INFO:cluster_analysis_20250727_221630.log:Success for cluster 333\n",
      "Processing clusters:  81%|████████  | 334/414 [1:29:08<17:25, 13.06s/it]INFO:cluster_analysis_20250727_221630.log:Using Anthropic Claude API\n"
     ]
    },
    {
     "name": "stdout",
     "output_type": "stream",
     "text": [
      "Using provided template string\n",
      "Appending output format instructions to template\n",
      "Added 8 gene feature descriptions to prompt\n"
     ]
    },
    {
     "name": "stderr",
     "output_type": "stream",
     "text": [
      "INFO:cluster_analysis_20250727_221630.log:Anthropic API call successful: model=claude-3-7-sonnet-20250219\n",
      "INFO:cluster_analysis_20250727_221630.log:Success for cluster 334\n",
      "INFO:cluster_analysis_20250727_221630.log:Saved progress for 335 clusters\n",
      "Processing clusters:  81%|████████  | 335/414 [1:29:20<16:42, 12.69s/it]INFO:cluster_analysis_20250727_221630.log:Using Anthropic Claude API\n"
     ]
    },
    {
     "name": "stdout",
     "output_type": "stream",
     "text": [
      "Using provided template string\n",
      "Appending output format instructions to template\n",
      "Added 8 gene feature descriptions to prompt\n"
     ]
    },
    {
     "name": "stderr",
     "output_type": "stream",
     "text": [
      "INFO:cluster_analysis_20250727_221630.log:Anthropic API call successful: model=claude-3-7-sonnet-20250219\n",
      "INFO:cluster_analysis_20250727_221630.log:Success for cluster 335\n",
      "Processing clusters:  81%|████████  | 336/414 [1:29:34<16:54, 13.01s/it]INFO:cluster_analysis_20250727_221630.log:Using Anthropic Claude API\n"
     ]
    },
    {
     "name": "stdout",
     "output_type": "stream",
     "text": [
      "Using provided template string\n",
      "Appending output format instructions to template\n",
      "Added 8 gene feature descriptions to prompt\n"
     ]
    },
    {
     "name": "stderr",
     "output_type": "stream",
     "text": [
      "INFO:cluster_analysis_20250727_221630.log:Anthropic API call successful: model=claude-3-7-sonnet-20250219\n",
      "INFO:cluster_analysis_20250727_221630.log:Success for cluster 336\n",
      "Processing clusters:  81%|████████▏ | 337/414 [1:29:45<16:01, 12.49s/it]INFO:cluster_analysis_20250727_221630.log:Using Anthropic Claude API\n"
     ]
    },
    {
     "name": "stdout",
     "output_type": "stream",
     "text": [
      "Using provided template string\n",
      "Appending output format instructions to template\n",
      "Added 8 gene feature descriptions to prompt\n"
     ]
    },
    {
     "name": "stderr",
     "output_type": "stream",
     "text": [
      "INFO:cluster_analysis_20250727_221630.log:Anthropic API call successful: model=claude-3-7-sonnet-20250219\n",
      "INFO:cluster_analysis_20250727_221630.log:Success for cluster 337\n",
      "Processing clusters:  82%|████████▏ | 338/414 [1:29:59<16:32, 13.06s/it]INFO:cluster_analysis_20250727_221630.log:Using Anthropic Claude API\n"
     ]
    },
    {
     "name": "stdout",
     "output_type": "stream",
     "text": [
      "Using provided template string\n",
      "Appending output format instructions to template\n",
      "Added 8 gene feature descriptions to prompt\n"
     ]
    },
    {
     "name": "stderr",
     "output_type": "stream",
     "text": [
      "INFO:cluster_analysis_20250727_221630.log:Anthropic API call successful: model=claude-3-7-sonnet-20250219\n",
      "INFO:cluster_analysis_20250727_221630.log:Success for cluster 338\n",
      "Processing clusters:  82%|████████▏ | 339/414 [1:30:13<16:36, 13.29s/it]INFO:cluster_analysis_20250727_221630.log:Using Anthropic Claude API\n"
     ]
    },
    {
     "name": "stdout",
     "output_type": "stream",
     "text": [
      "Using provided template string\n",
      "Appending output format instructions to template\n",
      "Added 8 gene feature descriptions to prompt\n"
     ]
    },
    {
     "name": "stderr",
     "output_type": "stream",
     "text": [
      "INFO:cluster_analysis_20250727_221630.log:Anthropic API call successful: model=claude-3-7-sonnet-20250219\n",
      "INFO:cluster_analysis_20250727_221630.log:Success for cluster 339\n",
      "INFO:cluster_analysis_20250727_221630.log:Saved progress for 340 clusters\n",
      "Processing clusters:  82%|████████▏ | 340/414 [1:30:23<15:12, 12.33s/it]INFO:cluster_analysis_20250727_221630.log:Using Anthropic Claude API\n"
     ]
    },
    {
     "name": "stdout",
     "output_type": "stream",
     "text": [
      "Using provided template string\n",
      "Appending output format instructions to template\n",
      "Added 8 gene feature descriptions to prompt\n"
     ]
    },
    {
     "name": "stderr",
     "output_type": "stream",
     "text": [
      "INFO:cluster_analysis_20250727_221630.log:Anthropic API call successful: model=claude-3-7-sonnet-20250219\n",
      "INFO:cluster_analysis_20250727_221630.log:Success for cluster 340\n",
      "Processing clusters:  82%|████████▏ | 341/414 [1:30:39<16:06, 13.24s/it]INFO:cluster_analysis_20250727_221630.log:Using Anthropic Claude API\n"
     ]
    },
    {
     "name": "stdout",
     "output_type": "stream",
     "text": [
      "Using provided template string\n",
      "Appending output format instructions to template\n",
      "Added 8 gene feature descriptions to prompt\n"
     ]
    },
    {
     "name": "stderr",
     "output_type": "stream",
     "text": [
      "INFO:cluster_analysis_20250727_221630.log:Anthropic API call successful: model=claude-3-7-sonnet-20250219\n",
      "INFO:cluster_analysis_20250727_221630.log:Success for cluster 341\n",
      "Processing clusters:  83%|████████▎ | 342/414 [1:30:51<15:34, 12.98s/it]INFO:cluster_analysis_20250727_221630.log:Using Anthropic Claude API\n"
     ]
    },
    {
     "name": "stdout",
     "output_type": "stream",
     "text": [
      "Using provided template string\n",
      "Appending output format instructions to template\n",
      "Added 8 gene feature descriptions to prompt\n"
     ]
    },
    {
     "name": "stderr",
     "output_type": "stream",
     "text": [
      "INFO:cluster_analysis_20250727_221630.log:Anthropic API call successful: model=claude-3-7-sonnet-20250219\n",
      "INFO:cluster_analysis_20250727_221630.log:Success for cluster 342\n",
      "Processing clusters:  83%|████████▎ | 343/414 [1:31:07<16:23, 13.86s/it]INFO:cluster_analysis_20250727_221630.log:Using Anthropic Claude API\n"
     ]
    },
    {
     "name": "stdout",
     "output_type": "stream",
     "text": [
      "Using provided template string\n",
      "Appending output format instructions to template\n",
      "Added 8 gene feature descriptions to prompt\n"
     ]
    },
    {
     "name": "stderr",
     "output_type": "stream",
     "text": [
      "INFO:cluster_analysis_20250727_221630.log:Anthropic API call successful: model=claude-3-7-sonnet-20250219\n",
      "INFO:cluster_analysis_20250727_221630.log:Success for cluster 343\n",
      "Processing clusters:  83%|████████▎ | 344/414 [1:31:20<15:44, 13.50s/it]INFO:cluster_analysis_20250727_221630.log:Using Anthropic Claude API\n"
     ]
    },
    {
     "name": "stdout",
     "output_type": "stream",
     "text": [
      "Using provided template string\n",
      "Appending output format instructions to template\n",
      "Added 8 gene feature descriptions to prompt\n"
     ]
    },
    {
     "name": "stderr",
     "output_type": "stream",
     "text": [
      "INFO:cluster_analysis_20250727_221630.log:Anthropic API call successful: model=claude-3-7-sonnet-20250219\n",
      "INFO:cluster_analysis_20250727_221630.log:Success for cluster 344\n",
      "INFO:cluster_analysis_20250727_221630.log:Saved progress for 345 clusters\n",
      "Processing clusters:  83%|████████▎ | 345/414 [1:31:31<14:43, 12.80s/it]INFO:cluster_analysis_20250727_221630.log:Using Anthropic Claude API\n"
     ]
    },
    {
     "name": "stdout",
     "output_type": "stream",
     "text": [
      "Using provided template string\n",
      "Appending output format instructions to template\n",
      "Added 8 gene feature descriptions to prompt\n"
     ]
    },
    {
     "name": "stderr",
     "output_type": "stream",
     "text": [
      "INFO:cluster_analysis_20250727_221630.log:Anthropic API call successful: model=claude-3-7-sonnet-20250219\n",
      "INFO:cluster_analysis_20250727_221630.log:Success for cluster 345\n",
      "Processing clusters:  84%|████████▎ | 346/414 [1:31:48<16:04, 14.19s/it]INFO:cluster_analysis_20250727_221630.log:Using Anthropic Claude API\n"
     ]
    },
    {
     "name": "stdout",
     "output_type": "stream",
     "text": [
      "Using provided template string\n",
      "Appending output format instructions to template\n",
      "Added 8 gene feature descriptions to prompt\n"
     ]
    },
    {
     "name": "stderr",
     "output_type": "stream",
     "text": [
      "INFO:cluster_analysis_20250727_221630.log:Anthropic API call successful: model=claude-3-7-sonnet-20250219\n",
      "INFO:cluster_analysis_20250727_221630.log:Success for cluster 346\n",
      "Processing clusters:  84%|████████▍ | 347/414 [1:31:58<14:17, 12.80s/it]INFO:cluster_analysis_20250727_221630.log:Using Anthropic Claude API\n"
     ]
    },
    {
     "name": "stdout",
     "output_type": "stream",
     "text": [
      "Using provided template string\n",
      "Appending output format instructions to template\n",
      "Added 8 gene feature descriptions to prompt\n"
     ]
    },
    {
     "name": "stderr",
     "output_type": "stream",
     "text": [
      "INFO:cluster_analysis_20250727_221630.log:Anthropic API call successful: model=claude-3-7-sonnet-20250219\n",
      "INFO:cluster_analysis_20250727_221630.log:Success for cluster 347\n",
      "Processing clusters:  84%|████████▍ | 348/414 [1:32:13<14:46, 13.43s/it]INFO:cluster_analysis_20250727_221630.log:Using Anthropic Claude API\n"
     ]
    },
    {
     "name": "stdout",
     "output_type": "stream",
     "text": [
      "Using provided template string\n",
      "Appending output format instructions to template\n",
      "Added 8 gene feature descriptions to prompt\n"
     ]
    },
    {
     "name": "stderr",
     "output_type": "stream",
     "text": [
      "INFO:cluster_analysis_20250727_221630.log:Anthropic API call successful: model=claude-3-7-sonnet-20250219\n",
      "INFO:cluster_analysis_20250727_221630.log:Success for cluster 348\n",
      "Processing clusters:  84%|████████▍ | 349/414 [1:32:24<13:55, 12.85s/it]INFO:cluster_analysis_20250727_221630.log:Using Anthropic Claude API\n"
     ]
    },
    {
     "name": "stdout",
     "output_type": "stream",
     "text": [
      "Using provided template string\n",
      "Appending output format instructions to template\n",
      "Added 8 gene feature descriptions to prompt\n"
     ]
    },
    {
     "name": "stderr",
     "output_type": "stream",
     "text": [
      "INFO:cluster_analysis_20250727_221630.log:Anthropic API call successful: model=claude-3-7-sonnet-20250219\n",
      "INFO:cluster_analysis_20250727_221630.log:Success for cluster 349\n",
      "INFO:cluster_analysis_20250727_221630.log:Saved progress for 350 clusters\n",
      "Processing clusters:  85%|████████▍ | 350/414 [1:32:37<13:43, 12.87s/it]INFO:cluster_analysis_20250727_221630.log:Using Anthropic Claude API\n"
     ]
    },
    {
     "name": "stdout",
     "output_type": "stream",
     "text": [
      "Using provided template string\n",
      "Appending output format instructions to template\n",
      "Added 8 gene feature descriptions to prompt\n"
     ]
    },
    {
     "name": "stderr",
     "output_type": "stream",
     "text": [
      "INFO:cluster_analysis_20250727_221630.log:Anthropic API call successful: model=claude-3-7-sonnet-20250219\n",
      "INFO:cluster_analysis_20250727_221630.log:Success for cluster 350\n",
      "Processing clusters:  85%|████████▍ | 351/414 [1:32:49<13:13, 12.59s/it]INFO:cluster_analysis_20250727_221630.log:Using Anthropic Claude API\n"
     ]
    },
    {
     "name": "stdout",
     "output_type": "stream",
     "text": [
      "Using provided template string\n",
      "Appending output format instructions to template\n",
      "Added 8 gene feature descriptions to prompt\n"
     ]
    },
    {
     "name": "stderr",
     "output_type": "stream",
     "text": [
      "INFO:cluster_analysis_20250727_221630.log:Anthropic API call successful: model=claude-3-7-sonnet-20250219\n",
      "INFO:cluster_analysis_20250727_221630.log:Success for cluster 351\n",
      "Processing clusters:  85%|████████▌ | 352/414 [1:33:02<13:05, 12.67s/it]INFO:cluster_analysis_20250727_221630.log:Using Anthropic Claude API\n"
     ]
    },
    {
     "name": "stdout",
     "output_type": "stream",
     "text": [
      "Using provided template string\n",
      "Appending output format instructions to template\n",
      "Added 8 gene feature descriptions to prompt\n"
     ]
    },
    {
     "name": "stderr",
     "output_type": "stream",
     "text": [
      "INFO:cluster_analysis_20250727_221630.log:Anthropic API call successful: model=claude-3-7-sonnet-20250219\n",
      "INFO:cluster_analysis_20250727_221630.log:Success for cluster 352\n",
      "Processing clusters:  85%|████████▌ | 353/414 [1:33:15<13:03, 12.84s/it]INFO:cluster_analysis_20250727_221630.log:Using Anthropic Claude API\n"
     ]
    },
    {
     "name": "stdout",
     "output_type": "stream",
     "text": [
      "Using provided template string\n",
      "Appending output format instructions to template\n",
      "Added 8 gene feature descriptions to prompt\n"
     ]
    },
    {
     "name": "stderr",
     "output_type": "stream",
     "text": [
      "INFO:cluster_analysis_20250727_221630.log:Anthropic API call successful: model=claude-3-7-sonnet-20250219\n",
      "INFO:cluster_analysis_20250727_221630.log:Success for cluster 353\n",
      "Processing clusters:  86%|████████▌ | 354/414 [1:33:31<13:39, 13.66s/it]INFO:cluster_analysis_20250727_221630.log:Using Anthropic Claude API\n"
     ]
    },
    {
     "name": "stdout",
     "output_type": "stream",
     "text": [
      "Using provided template string\n",
      "Appending output format instructions to template\n",
      "Added 8 gene feature descriptions to prompt\n"
     ]
    },
    {
     "name": "stderr",
     "output_type": "stream",
     "text": [
      "INFO:cluster_analysis_20250727_221630.log:Anthropic API call successful: model=claude-3-7-sonnet-20250219\n",
      "INFO:cluster_analysis_20250727_221630.log:Success for cluster 354\n",
      "INFO:cluster_analysis_20250727_221630.log:Saved progress for 355 clusters\n",
      "Processing clusters:  86%|████████▌ | 355/414 [1:33:43<13:06, 13.34s/it]INFO:cluster_analysis_20250727_221630.log:Using Anthropic Claude API\n"
     ]
    },
    {
     "name": "stdout",
     "output_type": "stream",
     "text": [
      "Using provided template string\n",
      "Appending output format instructions to template\n",
      "Added 8 gene feature descriptions to prompt\n"
     ]
    },
    {
     "name": "stderr",
     "output_type": "stream",
     "text": [
      "INFO:cluster_analysis_20250727_221630.log:Anthropic API call successful: model=claude-3-7-sonnet-20250219\n",
      "INFO:cluster_analysis_20250727_221630.log:Success for cluster 355\n",
      "Processing clusters:  86%|████████▌ | 356/414 [1:33:57<12:59, 13.44s/it]INFO:cluster_analysis_20250727_221630.log:Using Anthropic Claude API\n"
     ]
    },
    {
     "name": "stdout",
     "output_type": "stream",
     "text": [
      "Using provided template string\n",
      "Appending output format instructions to template\n",
      "Added 8 gene feature descriptions to prompt\n"
     ]
    },
    {
     "name": "stderr",
     "output_type": "stream",
     "text": [
      "INFO:cluster_analysis_20250727_221630.log:Anthropic API call successful: model=claude-3-7-sonnet-20250219\n",
      "INFO:cluster_analysis_20250727_221630.log:Success for cluster 356\n",
      "Processing clusters:  86%|████████▌ | 357/414 [1:34:09<12:27, 13.12s/it]INFO:cluster_analysis_20250727_221630.log:Using Anthropic Claude API\n"
     ]
    },
    {
     "name": "stdout",
     "output_type": "stream",
     "text": [
      "Using provided template string\n",
      "Appending output format instructions to template\n",
      "Added 8 gene feature descriptions to prompt\n"
     ]
    },
    {
     "name": "stderr",
     "output_type": "stream",
     "text": [
      "INFO:cluster_analysis_20250727_221630.log:Anthropic API call successful: model=claude-3-7-sonnet-20250219\n",
      "INFO:cluster_analysis_20250727_221630.log:Success for cluster 357\n",
      "Processing clusters:  86%|████████▋ | 358/414 [1:34:20<11:39, 12.48s/it]INFO:cluster_analysis_20250727_221630.log:Using Anthropic Claude API\n"
     ]
    },
    {
     "name": "stdout",
     "output_type": "stream",
     "text": [
      "Using provided template string\n",
      "Appending output format instructions to template\n",
      "Added 8 gene feature descriptions to prompt\n"
     ]
    },
    {
     "name": "stderr",
     "output_type": "stream",
     "text": [
      "INFO:cluster_analysis_20250727_221630.log:Anthropic API call successful: model=claude-3-7-sonnet-20250219\n",
      "INFO:cluster_analysis_20250727_221630.log:Success for cluster 358\n",
      "Processing clusters:  87%|████████▋ | 359/414 [1:34:31<11:00, 12.00s/it]INFO:cluster_analysis_20250727_221630.log:Using Anthropic Claude API\n"
     ]
    },
    {
     "name": "stdout",
     "output_type": "stream",
     "text": [
      "Using provided template string\n",
      "Appending output format instructions to template\n",
      "Added 8 gene feature descriptions to prompt\n"
     ]
    },
    {
     "name": "stderr",
     "output_type": "stream",
     "text": [
      "INFO:cluster_analysis_20250727_221630.log:Anthropic API call successful: model=claude-3-7-sonnet-20250219\n",
      "INFO:cluster_analysis_20250727_221630.log:Success for cluster 359\n",
      "INFO:cluster_analysis_20250727_221630.log:Saved progress for 360 clusters\n",
      "Processing clusters:  87%|████████▋ | 360/414 [1:34:44<11:02, 12.26s/it]INFO:cluster_analysis_20250727_221630.log:Using Anthropic Claude API\n"
     ]
    },
    {
     "name": "stdout",
     "output_type": "stream",
     "text": [
      "Using provided template string\n",
      "Appending output format instructions to template\n",
      "Added 8 gene feature descriptions to prompt\n"
     ]
    },
    {
     "name": "stderr",
     "output_type": "stream",
     "text": [
      "INFO:cluster_analysis_20250727_221630.log:Anthropic API call successful: model=claude-3-7-sonnet-20250219\n",
      "INFO:cluster_analysis_20250727_221630.log:Success for cluster 360\n",
      "Processing clusters:  87%|████████▋ | 361/414 [1:34:53<09:51, 11.15s/it]INFO:cluster_analysis_20250727_221630.log:Using Anthropic Claude API\n"
     ]
    },
    {
     "name": "stdout",
     "output_type": "stream",
     "text": [
      "Using provided template string\n",
      "Appending output format instructions to template\n",
      "Added 8 gene feature descriptions to prompt\n"
     ]
    },
    {
     "name": "stderr",
     "output_type": "stream",
     "text": [
      "INFO:cluster_analysis_20250727_221630.log:Anthropic API call successful: model=claude-3-7-sonnet-20250219\n",
      "INFO:cluster_analysis_20250727_221630.log:Success for cluster 361\n",
      "Processing clusters:  87%|████████▋ | 362/414 [1:35:03<09:23, 10.84s/it]INFO:cluster_analysis_20250727_221630.log:Using Anthropic Claude API\n"
     ]
    },
    {
     "name": "stdout",
     "output_type": "stream",
     "text": [
      "Using provided template string\n",
      "Appending output format instructions to template\n",
      "Added 8 gene feature descriptions to prompt\n"
     ]
    },
    {
     "name": "stderr",
     "output_type": "stream",
     "text": [
      "INFO:cluster_analysis_20250727_221630.log:Anthropic API call successful: model=claude-3-7-sonnet-20250219\n",
      "INFO:cluster_analysis_20250727_221630.log:Success for cluster 362\n",
      "Processing clusters:  88%|████████▊ | 363/414 [1:35:18<10:25, 12.26s/it]INFO:cluster_analysis_20250727_221630.log:Using Anthropic Claude API\n"
     ]
    },
    {
     "name": "stdout",
     "output_type": "stream",
     "text": [
      "Using provided template string\n",
      "Appending output format instructions to template\n",
      "Added 8 gene feature descriptions to prompt\n"
     ]
    },
    {
     "name": "stderr",
     "output_type": "stream",
     "text": [
      "INFO:cluster_analysis_20250727_221630.log:Anthropic API call successful: model=claude-3-7-sonnet-20250219\n",
      "INFO:cluster_analysis_20250727_221630.log:Success for cluster 363\n",
      "Processing clusters:  88%|████████▊ | 364/414 [1:35:36<11:28, 13.77s/it]INFO:cluster_analysis_20250727_221630.log:Using Anthropic Claude API\n"
     ]
    },
    {
     "name": "stdout",
     "output_type": "stream",
     "text": [
      "Using provided template string\n",
      "Appending output format instructions to template\n",
      "Added 8 gene feature descriptions to prompt\n"
     ]
    },
    {
     "name": "stderr",
     "output_type": "stream",
     "text": [
      "INFO:cluster_analysis_20250727_221630.log:Anthropic API call successful: model=claude-3-7-sonnet-20250219\n",
      "INFO:cluster_analysis_20250727_221630.log:Success for cluster 364\n",
      "INFO:cluster_analysis_20250727_221630.log:Saved progress for 365 clusters\n",
      "Processing clusters:  88%|████████▊ | 365/414 [1:35:49<11:10, 13.68s/it]INFO:cluster_analysis_20250727_221630.log:Using Anthropic Claude API\n"
     ]
    },
    {
     "name": "stdout",
     "output_type": "stream",
     "text": [
      "Using provided template string\n",
      "Appending output format instructions to template\n",
      "Added 8 gene feature descriptions to prompt\n"
     ]
    },
    {
     "name": "stderr",
     "output_type": "stream",
     "text": [
      "INFO:cluster_analysis_20250727_221630.log:Anthropic API call successful: model=claude-3-7-sonnet-20250219\n",
      "INFO:cluster_analysis_20250727_221630.log:Success for cluster 365\n",
      "Processing clusters:  88%|████████▊ | 366/414 [1:36:06<11:42, 14.63s/it]INFO:cluster_analysis_20250727_221630.log:Using Anthropic Claude API\n"
     ]
    },
    {
     "name": "stdout",
     "output_type": "stream",
     "text": [
      "Using provided template string\n",
      "Appending output format instructions to template\n",
      "Added 7 gene feature descriptions to prompt\n"
     ]
    },
    {
     "name": "stderr",
     "output_type": "stream",
     "text": [
      "INFO:cluster_analysis_20250727_221630.log:Anthropic API call successful: model=claude-3-7-sonnet-20250219\n",
      "INFO:cluster_analysis_20250727_221630.log:Success for cluster 366\n",
      "Processing clusters:  89%|████████▊ | 367/414 [1:36:20<11:19, 14.45s/it]INFO:cluster_analysis_20250727_221630.log:Using Anthropic Claude API\n"
     ]
    },
    {
     "name": "stdout",
     "output_type": "stream",
     "text": [
      "Using provided template string\n",
      "Appending output format instructions to template\n",
      "Added 7 gene feature descriptions to prompt\n"
     ]
    },
    {
     "name": "stderr",
     "output_type": "stream",
     "text": [
      "INFO:cluster_analysis_20250727_221630.log:Anthropic API call successful: model=claude-3-7-sonnet-20250219\n",
      "INFO:cluster_analysis_20250727_221630.log:Success for cluster 367\n",
      "Processing clusters:  89%|████████▉ | 368/414 [1:36:30<10:00, 13.06s/it]INFO:cluster_analysis_20250727_221630.log:Using Anthropic Claude API\n"
     ]
    },
    {
     "name": "stdout",
     "output_type": "stream",
     "text": [
      "Using provided template string\n",
      "Appending output format instructions to template\n",
      "Added 7 gene feature descriptions to prompt\n"
     ]
    },
    {
     "name": "stderr",
     "output_type": "stream",
     "text": [
      "INFO:cluster_analysis_20250727_221630.log:Anthropic API call successful: model=claude-3-7-sonnet-20250219\n",
      "INFO:cluster_analysis_20250727_221630.log:Success for cluster 368\n",
      "Processing clusters:  89%|████████▉ | 369/414 [1:36:43<09:45, 13.01s/it]INFO:cluster_analysis_20250727_221630.log:Using Anthropic Claude API\n"
     ]
    },
    {
     "name": "stdout",
     "output_type": "stream",
     "text": [
      "Using provided template string\n",
      "Appending output format instructions to template\n",
      "Added 7 gene feature descriptions to prompt\n"
     ]
    },
    {
     "name": "stderr",
     "output_type": "stream",
     "text": [
      "INFO:cluster_analysis_20250727_221630.log:Anthropic API call successful: model=claude-3-7-sonnet-20250219\n",
      "INFO:cluster_analysis_20250727_221630.log:Success for cluster 369\n",
      "INFO:cluster_analysis_20250727_221630.log:Saved progress for 370 clusters\n",
      "Processing clusters:  89%|████████▉ | 370/414 [1:36:58<09:57, 13.58s/it]INFO:cluster_analysis_20250727_221630.log:Using Anthropic Claude API\n"
     ]
    },
    {
     "name": "stdout",
     "output_type": "stream",
     "text": [
      "Using provided template string\n",
      "Appending output format instructions to template\n",
      "Added 7 gene feature descriptions to prompt\n"
     ]
    },
    {
     "name": "stderr",
     "output_type": "stream",
     "text": [
      "INFO:cluster_analysis_20250727_221630.log:Anthropic API call successful: model=claude-3-7-sonnet-20250219\n",
      "INFO:cluster_analysis_20250727_221630.log:Success for cluster 370\n",
      "Processing clusters:  90%|████████▉ | 371/414 [1:37:06<08:41, 12.12s/it]INFO:cluster_analysis_20250727_221630.log:Using Anthropic Claude API\n"
     ]
    },
    {
     "name": "stdout",
     "output_type": "stream",
     "text": [
      "Using provided template string\n",
      "Appending output format instructions to template\n",
      "Added 7 gene feature descriptions to prompt\n"
     ]
    },
    {
     "name": "stderr",
     "output_type": "stream",
     "text": [
      "INFO:cluster_analysis_20250727_221630.log:Anthropic API call successful: model=claude-3-7-sonnet-20250219\n",
      "INFO:cluster_analysis_20250727_221630.log:Success for cluster 371\n",
      "Processing clusters:  90%|████████▉ | 372/414 [1:37:22<09:13, 13.17s/it]INFO:cluster_analysis_20250727_221630.log:Using Anthropic Claude API\n"
     ]
    },
    {
     "name": "stdout",
     "output_type": "stream",
     "text": [
      "Using provided template string\n",
      "Appending output format instructions to template\n",
      "Added 7 gene feature descriptions to prompt\n"
     ]
    },
    {
     "name": "stderr",
     "output_type": "stream",
     "text": [
      "INFO:cluster_analysis_20250727_221630.log:Anthropic API call successful: model=claude-3-7-sonnet-20250219\n",
      "INFO:cluster_analysis_20250727_221630.log:Success for cluster 372\n",
      "Processing clusters:  90%|█████████ | 373/414 [1:37:35<08:54, 13.04s/it]INFO:cluster_analysis_20250727_221630.log:Using Anthropic Claude API\n"
     ]
    },
    {
     "name": "stdout",
     "output_type": "stream",
     "text": [
      "Using provided template string\n",
      "Appending output format instructions to template\n",
      "Added 7 gene feature descriptions to prompt\n"
     ]
    },
    {
     "name": "stderr",
     "output_type": "stream",
     "text": [
      "INFO:cluster_analysis_20250727_221630.log:Anthropic API call successful: model=claude-3-7-sonnet-20250219\n",
      "INFO:cluster_analysis_20250727_221630.log:Success for cluster 373\n",
      "Processing clusters:  90%|█████████ | 374/414 [1:37:49<09:00, 13.51s/it]INFO:cluster_analysis_20250727_221630.log:Using Anthropic Claude API\n"
     ]
    },
    {
     "name": "stdout",
     "output_type": "stream",
     "text": [
      "Using provided template string\n",
      "Appending output format instructions to template\n",
      "Added 7 gene feature descriptions to prompt\n"
     ]
    },
    {
     "name": "stderr",
     "output_type": "stream",
     "text": [
      "INFO:cluster_analysis_20250727_221630.log:Anthropic API call successful: model=claude-3-7-sonnet-20250219\n",
      "INFO:cluster_analysis_20250727_221630.log:Success for cluster 374\n",
      "INFO:cluster_analysis_20250727_221630.log:Saved progress for 375 clusters\n",
      "Processing clusters:  91%|█████████ | 375/414 [1:38:01<08:30, 13.08s/it]INFO:cluster_analysis_20250727_221630.log:Using Anthropic Claude API\n"
     ]
    },
    {
     "name": "stdout",
     "output_type": "stream",
     "text": [
      "Using provided template string\n",
      "Appending output format instructions to template\n",
      "Added 7 gene feature descriptions to prompt\n"
     ]
    },
    {
     "name": "stderr",
     "output_type": "stream",
     "text": [
      "INFO:cluster_analysis_20250727_221630.log:Anthropic API call successful: model=claude-3-7-sonnet-20250219\n",
      "INFO:cluster_analysis_20250727_221630.log:Success for cluster 375\n",
      "Processing clusters:  91%|█████████ | 376/414 [1:38:12<07:55, 12.52s/it]INFO:cluster_analysis_20250727_221630.log:Using Anthropic Claude API\n"
     ]
    },
    {
     "name": "stdout",
     "output_type": "stream",
     "text": [
      "Using provided template string\n",
      "Appending output format instructions to template\n",
      "Added 7 gene feature descriptions to prompt\n"
     ]
    },
    {
     "name": "stderr",
     "output_type": "stream",
     "text": [
      "INFO:cluster_analysis_20250727_221630.log:Anthropic API call successful: model=claude-3-7-sonnet-20250219\n",
      "INFO:cluster_analysis_20250727_221630.log:Success for cluster 376\n",
      "Processing clusters:  91%|█████████ | 377/414 [1:38:27<08:01, 13.02s/it]INFO:cluster_analysis_20250727_221630.log:Using Anthropic Claude API\n"
     ]
    },
    {
     "name": "stdout",
     "output_type": "stream",
     "text": [
      "Using provided template string\n",
      "Appending output format instructions to template\n",
      "Added 7 gene feature descriptions to prompt\n"
     ]
    },
    {
     "name": "stderr",
     "output_type": "stream",
     "text": [
      "INFO:cluster_analysis_20250727_221630.log:Anthropic API call successful: model=claude-3-7-sonnet-20250219\n",
      "INFO:cluster_analysis_20250727_221630.log:Success for cluster 377\n",
      "Processing clusters:  91%|█████████▏| 378/414 [1:38:40<07:48, 13.03s/it]INFO:cluster_analysis_20250727_221630.log:Using Anthropic Claude API\n"
     ]
    },
    {
     "name": "stdout",
     "output_type": "stream",
     "text": [
      "Using provided template string\n",
      "Appending output format instructions to template\n",
      "Added 7 gene feature descriptions to prompt\n"
     ]
    },
    {
     "name": "stderr",
     "output_type": "stream",
     "text": [
      "INFO:cluster_analysis_20250727_221630.log:Anthropic API call successful: model=claude-3-7-sonnet-20250219\n",
      "INFO:cluster_analysis_20250727_221630.log:Success for cluster 378\n",
      "Processing clusters:  92%|█████████▏| 379/414 [1:38:51<07:13, 12.38s/it]INFO:cluster_analysis_20250727_221630.log:Using Anthropic Claude API\n"
     ]
    },
    {
     "name": "stdout",
     "output_type": "stream",
     "text": [
      "Using provided template string\n",
      "Appending output format instructions to template\n",
      "Added 7 gene feature descriptions to prompt\n"
     ]
    },
    {
     "name": "stderr",
     "output_type": "stream",
     "text": [
      "INFO:cluster_analysis_20250727_221630.log:Anthropic API call successful: model=claude-3-7-sonnet-20250219\n",
      "INFO:cluster_analysis_20250727_221630.log:Success for cluster 379\n",
      "INFO:cluster_analysis_20250727_221630.log:Saved progress for 380 clusters\n",
      "Processing clusters:  92%|█████████▏| 380/414 [1:39:02<06:50, 12.07s/it]INFO:cluster_analysis_20250727_221630.log:Using Anthropic Claude API\n"
     ]
    },
    {
     "name": "stdout",
     "output_type": "stream",
     "text": [
      "Using provided template string\n",
      "Appending output format instructions to template\n",
      "Added 7 gene feature descriptions to prompt\n"
     ]
    },
    {
     "name": "stderr",
     "output_type": "stream",
     "text": [
      "INFO:cluster_analysis_20250727_221630.log:Anthropic API call successful: model=claude-3-7-sonnet-20250219\n",
      "INFO:cluster_analysis_20250727_221630.log:Success for cluster 380\n",
      "Processing clusters:  92%|█████████▏| 381/414 [1:39:17<07:03, 12.83s/it]INFO:cluster_analysis_20250727_221630.log:Using Anthropic Claude API\n"
     ]
    },
    {
     "name": "stdout",
     "output_type": "stream",
     "text": [
      "Using provided template string\n",
      "Appending output format instructions to template\n",
      "Added 7 gene feature descriptions to prompt\n"
     ]
    },
    {
     "name": "stderr",
     "output_type": "stream",
     "text": [
      "INFO:cluster_analysis_20250727_221630.log:Anthropic API call successful: model=claude-3-7-sonnet-20250219\n",
      "INFO:cluster_analysis_20250727_221630.log:Success for cluster 381\n",
      "Processing clusters:  92%|█████████▏| 382/414 [1:39:28<06:40, 12.51s/it]INFO:cluster_analysis_20250727_221630.log:Using Anthropic Claude API\n"
     ]
    },
    {
     "name": "stdout",
     "output_type": "stream",
     "text": [
      "Using provided template string\n",
      "Appending output format instructions to template\n",
      "Added 7 gene feature descriptions to prompt\n"
     ]
    },
    {
     "name": "stderr",
     "output_type": "stream",
     "text": [
      "INFO:cluster_analysis_20250727_221630.log:Anthropic API call successful: model=claude-3-7-sonnet-20250219\n",
      "INFO:cluster_analysis_20250727_221630.log:Success for cluster 382\n",
      "Processing clusters:  93%|█████████▎| 383/414 [1:39:42<06:35, 12.77s/it]INFO:cluster_analysis_20250727_221630.log:Using Anthropic Claude API\n"
     ]
    },
    {
     "name": "stdout",
     "output_type": "stream",
     "text": [
      "Using provided template string\n",
      "Appending output format instructions to template\n",
      "Added 7 gene feature descriptions to prompt\n"
     ]
    },
    {
     "name": "stderr",
     "output_type": "stream",
     "text": [
      "INFO:cluster_analysis_20250727_221630.log:Anthropic API call successful: model=claude-3-7-sonnet-20250219\n",
      "INFO:cluster_analysis_20250727_221630.log:Success for cluster 383\n",
      "Processing clusters:  93%|█████████▎| 384/414 [1:39:55<06:31, 13.06s/it]INFO:cluster_analysis_20250727_221630.log:Using Anthropic Claude API\n"
     ]
    },
    {
     "name": "stdout",
     "output_type": "stream",
     "text": [
      "Using provided template string\n",
      "Appending output format instructions to template\n",
      "Added 7 gene feature descriptions to prompt\n"
     ]
    },
    {
     "name": "stderr",
     "output_type": "stream",
     "text": [
      "INFO:cluster_analysis_20250727_221630.log:Anthropic API call successful: model=claude-3-7-sonnet-20250219\n",
      "INFO:cluster_analysis_20250727_221630.log:Success for cluster 384\n",
      "INFO:cluster_analysis_20250727_221630.log:Saved progress for 385 clusters\n",
      "Processing clusters:  93%|█████████▎| 385/414 [1:40:08<06:10, 12.78s/it]INFO:cluster_analysis_20250727_221630.log:Using Anthropic Claude API\n"
     ]
    },
    {
     "name": "stdout",
     "output_type": "stream",
     "text": [
      "Using provided template string\n",
      "Appending output format instructions to template\n",
      "Added 7 gene feature descriptions to prompt\n"
     ]
    },
    {
     "name": "stderr",
     "output_type": "stream",
     "text": [
      "INFO:cluster_analysis_20250727_221630.log:Anthropic API call successful: model=claude-3-7-sonnet-20250219\n",
      "INFO:cluster_analysis_20250727_221630.log:Success for cluster 385\n",
      "Processing clusters:  93%|█████████▎| 386/414 [1:40:23<06:19, 13.54s/it]INFO:cluster_analysis_20250727_221630.log:Using Anthropic Claude API\n"
     ]
    },
    {
     "name": "stdout",
     "output_type": "stream",
     "text": [
      "Using provided template string\n",
      "Appending output format instructions to template\n",
      "Added 7 gene feature descriptions to prompt\n"
     ]
    },
    {
     "name": "stderr",
     "output_type": "stream",
     "text": [
      "INFO:cluster_analysis_20250727_221630.log:Anthropic API call successful: model=claude-3-7-sonnet-20250219\n",
      "INFO:cluster_analysis_20250727_221630.log:Success for cluster 386\n",
      "Processing clusters:  93%|█████████▎| 387/414 [1:40:36<06:05, 13.52s/it]INFO:cluster_analysis_20250727_221630.log:Using Anthropic Claude API\n"
     ]
    },
    {
     "name": "stdout",
     "output_type": "stream",
     "text": [
      "Using provided template string\n",
      "Appending output format instructions to template\n",
      "Added 7 gene feature descriptions to prompt\n"
     ]
    },
    {
     "name": "stderr",
     "output_type": "stream",
     "text": [
      "INFO:cluster_analysis_20250727_221630.log:Anthropic API call successful: model=claude-3-7-sonnet-20250219\n",
      "INFO:cluster_analysis_20250727_221630.log:Success for cluster 387\n",
      "Processing clusters:  94%|█████████▎| 388/414 [1:40:47<05:31, 12.76s/it]INFO:cluster_analysis_20250727_221630.log:Using Anthropic Claude API\n"
     ]
    },
    {
     "name": "stdout",
     "output_type": "stream",
     "text": [
      "Using provided template string\n",
      "Appending output format instructions to template\n",
      "Added 7 gene feature descriptions to prompt\n"
     ]
    },
    {
     "name": "stderr",
     "output_type": "stream",
     "text": [
      "INFO:cluster_analysis_20250727_221630.log:Anthropic API call successful: model=claude-3-7-sonnet-20250219\n",
      "INFO:cluster_analysis_20250727_221630.log:Success for cluster 388\n",
      "Processing clusters:  94%|█████████▍| 389/414 [1:41:00<05:16, 12.67s/it]INFO:cluster_analysis_20250727_221630.log:Using Anthropic Claude API\n"
     ]
    },
    {
     "name": "stdout",
     "output_type": "stream",
     "text": [
      "Using provided template string\n",
      "Appending output format instructions to template\n",
      "Added 7 gene feature descriptions to prompt\n"
     ]
    },
    {
     "name": "stderr",
     "output_type": "stream",
     "text": [
      "INFO:cluster_analysis_20250727_221630.log:Anthropic API call successful: model=claude-3-7-sonnet-20250219\n",
      "INFO:cluster_analysis_20250727_221630.log:Success for cluster 389\n",
      "INFO:cluster_analysis_20250727_221630.log:Saved progress for 390 clusters\n",
      "Processing clusters:  94%|█████████▍| 390/414 [1:41:13<05:06, 12.77s/it]INFO:cluster_analysis_20250727_221630.log:Using Anthropic Claude API\n"
     ]
    },
    {
     "name": "stdout",
     "output_type": "stream",
     "text": [
      "Using provided template string\n",
      "Appending output format instructions to template\n",
      "Added 7 gene feature descriptions to prompt\n"
     ]
    },
    {
     "name": "stderr",
     "output_type": "stream",
     "text": [
      "INFO:cluster_analysis_20250727_221630.log:Anthropic API call successful: model=claude-3-7-sonnet-20250219\n",
      "INFO:cluster_analysis_20250727_221630.log:Success for cluster 390\n",
      "Processing clusters:  94%|█████████▍| 391/414 [1:41:25<04:49, 12.60s/it]INFO:cluster_analysis_20250727_221630.log:Using Anthropic Claude API\n"
     ]
    },
    {
     "name": "stdout",
     "output_type": "stream",
     "text": [
      "Using provided template string\n",
      "Appending output format instructions to template\n",
      "Added 7 gene feature descriptions to prompt\n"
     ]
    },
    {
     "name": "stderr",
     "output_type": "stream",
     "text": [
      "INFO:cluster_analysis_20250727_221630.log:Anthropic API call successful: model=claude-3-7-sonnet-20250219\n",
      "INFO:cluster_analysis_20250727_221630.log:Success for cluster 391\n",
      "Processing clusters:  95%|█████████▍| 392/414 [1:41:37<04:32, 12.39s/it]INFO:cluster_analysis_20250727_221630.log:Using Anthropic Claude API\n"
     ]
    },
    {
     "name": "stdout",
     "output_type": "stream",
     "text": [
      "Using provided template string\n",
      "Appending output format instructions to template\n",
      "Added 6 gene feature descriptions to prompt\n"
     ]
    },
    {
     "name": "stderr",
     "output_type": "stream",
     "text": [
      "INFO:cluster_analysis_20250727_221630.log:Anthropic API call successful: model=claude-3-7-sonnet-20250219\n",
      "INFO:cluster_analysis_20250727_221630.log:Success for cluster 392\n",
      "Processing clusters:  95%|█████████▍| 393/414 [1:41:49<04:16, 12.23s/it]INFO:cluster_analysis_20250727_221630.log:Using Anthropic Claude API\n"
     ]
    },
    {
     "name": "stdout",
     "output_type": "stream",
     "text": [
      "Using provided template string\n",
      "Appending output format instructions to template\n",
      "Added 6 gene feature descriptions to prompt\n"
     ]
    },
    {
     "name": "stderr",
     "output_type": "stream",
     "text": [
      "INFO:cluster_analysis_20250727_221630.log:Anthropic API call successful: model=claude-3-7-sonnet-20250219\n",
      "INFO:cluster_analysis_20250727_221630.log:Success for cluster 393\n",
      "Processing clusters:  95%|█████████▌| 394/414 [1:42:02<04:08, 12.41s/it]INFO:cluster_analysis_20250727_221630.log:Using Anthropic Claude API\n"
     ]
    },
    {
     "name": "stdout",
     "output_type": "stream",
     "text": [
      "Using provided template string\n",
      "Appending output format instructions to template\n",
      "Added 6 gene feature descriptions to prompt\n"
     ]
    },
    {
     "name": "stderr",
     "output_type": "stream",
     "text": [
      "INFO:cluster_analysis_20250727_221630.log:Anthropic API call successful: model=claude-3-7-sonnet-20250219\n",
      "INFO:cluster_analysis_20250727_221630.log:Success for cluster 394\n",
      "INFO:cluster_analysis_20250727_221630.log:Saved progress for 395 clusters\n",
      "Processing clusters:  95%|█████████▌| 395/414 [1:42:13<03:52, 12.23s/it]INFO:cluster_analysis_20250727_221630.log:Using Anthropic Claude API\n"
     ]
    },
    {
     "name": "stdout",
     "output_type": "stream",
     "text": [
      "Using provided template string\n",
      "Appending output format instructions to template\n",
      "Added 6 gene feature descriptions to prompt\n"
     ]
    },
    {
     "name": "stderr",
     "output_type": "stream",
     "text": [
      "INFO:cluster_analysis_20250727_221630.log:Anthropic API call successful: model=claude-3-7-sonnet-20250219\n",
      "INFO:cluster_analysis_20250727_221630.log:Success for cluster 395\n",
      "Processing clusters:  96%|█████████▌| 396/414 [1:42:24<03:30, 11.70s/it]INFO:cluster_analysis_20250727_221630.log:Using Anthropic Claude API\n"
     ]
    },
    {
     "name": "stdout",
     "output_type": "stream",
     "text": [
      "Using provided template string\n",
      "Appending output format instructions to template\n",
      "Added 6 gene feature descriptions to prompt\n"
     ]
    },
    {
     "name": "stderr",
     "output_type": "stream",
     "text": [
      "INFO:cluster_analysis_20250727_221630.log:Anthropic API call successful: model=claude-3-7-sonnet-20250219\n",
      "INFO:cluster_analysis_20250727_221630.log:Success for cluster 396\n",
      "Processing clusters:  96%|█████████▌| 397/414 [1:42:37<03:27, 12.19s/it]INFO:cluster_analysis_20250727_221630.log:Using Anthropic Claude API\n"
     ]
    },
    {
     "name": "stdout",
     "output_type": "stream",
     "text": [
      "Using provided template string\n",
      "Appending output format instructions to template\n",
      "Added 6 gene feature descriptions to prompt\n"
     ]
    },
    {
     "name": "stderr",
     "output_type": "stream",
     "text": [
      "INFO:cluster_analysis_20250727_221630.log:Anthropic API call successful: model=claude-3-7-sonnet-20250219\n",
      "INFO:cluster_analysis_20250727_221630.log:Success for cluster 397\n",
      "Processing clusters:  96%|█████████▌| 398/414 [1:42:46<03:00, 11.28s/it]INFO:cluster_analysis_20250727_221630.log:Using Anthropic Claude API\n"
     ]
    },
    {
     "name": "stdout",
     "output_type": "stream",
     "text": [
      "Using provided template string\n",
      "Appending output format instructions to template\n",
      "Added 6 gene feature descriptions to prompt\n"
     ]
    },
    {
     "name": "stderr",
     "output_type": "stream",
     "text": [
      "INFO:cluster_analysis_20250727_221630.log:Anthropic API call successful: model=claude-3-7-sonnet-20250219\n",
      "INFO:cluster_analysis_20250727_221630.log:Success for cluster 398\n",
      "Processing clusters:  96%|█████████▋| 399/414 [1:42:59<02:54, 11.64s/it]INFO:cluster_analysis_20250727_221630.log:Using Anthropic Claude API\n"
     ]
    },
    {
     "name": "stdout",
     "output_type": "stream",
     "text": [
      "Using provided template string\n",
      "Appending output format instructions to template\n",
      "Added 6 gene feature descriptions to prompt\n"
     ]
    },
    {
     "name": "stderr",
     "output_type": "stream",
     "text": [
      "INFO:cluster_analysis_20250727_221630.log:Anthropic API call successful: model=claude-3-7-sonnet-20250219\n",
      "INFO:cluster_analysis_20250727_221630.log:Success for cluster 399\n",
      "INFO:cluster_analysis_20250727_221630.log:Saved progress for 400 clusters\n",
      "Processing clusters:  97%|█████████▋| 400/414 [1:43:12<02:48, 12.01s/it]INFO:cluster_analysis_20250727_221630.log:Using Anthropic Claude API\n"
     ]
    },
    {
     "name": "stdout",
     "output_type": "stream",
     "text": [
      "Using provided template string\n",
      "Appending output format instructions to template\n",
      "Added 6 gene feature descriptions to prompt\n"
     ]
    },
    {
     "name": "stderr",
     "output_type": "stream",
     "text": [
      "INFO:cluster_analysis_20250727_221630.log:Anthropic API call successful: model=claude-3-7-sonnet-20250219\n",
      "INFO:cluster_analysis_20250727_221630.log:Success for cluster 400\n",
      "Processing clusters:  97%|█████████▋| 401/414 [1:43:21<02:25, 11.16s/it]INFO:cluster_analysis_20250727_221630.log:Using Anthropic Claude API\n"
     ]
    },
    {
     "name": "stdout",
     "output_type": "stream",
     "text": [
      "Using provided template string\n",
      "Appending output format instructions to template\n",
      "Added 6 gene feature descriptions to prompt\n"
     ]
    },
    {
     "name": "stderr",
     "output_type": "stream",
     "text": [
      "INFO:cluster_analysis_20250727_221630.log:Anthropic API call successful: model=claude-3-7-sonnet-20250219\n",
      "INFO:cluster_analysis_20250727_221630.log:Success for cluster 401\n",
      "Processing clusters:  97%|█████████▋| 402/414 [1:43:31<02:11, 10.92s/it]INFO:cluster_analysis_20250727_221630.log:Using Anthropic Claude API\n"
     ]
    },
    {
     "name": "stdout",
     "output_type": "stream",
     "text": [
      "Using provided template string\n",
      "Appending output format instructions to template\n",
      "Added 6 gene feature descriptions to prompt\n"
     ]
    },
    {
     "name": "stderr",
     "output_type": "stream",
     "text": [
      "INFO:cluster_analysis_20250727_221630.log:Anthropic API call successful: model=claude-3-7-sonnet-20250219\n",
      "INFO:cluster_analysis_20250727_221630.log:Success for cluster 402\n",
      "Processing clusters:  97%|█████████▋| 403/414 [1:43:44<02:06, 11.53s/it]INFO:cluster_analysis_20250727_221630.log:Using Anthropic Claude API\n"
     ]
    },
    {
     "name": "stdout",
     "output_type": "stream",
     "text": [
      "Using provided template string\n",
      "Appending output format instructions to template\n",
      "Added 6 gene feature descriptions to prompt\n"
     ]
    },
    {
     "name": "stderr",
     "output_type": "stream",
     "text": [
      "INFO:cluster_analysis_20250727_221630.log:Anthropic API call successful: model=claude-3-7-sonnet-20250219\n",
      "INFO:cluster_analysis_20250727_221630.log:Success for cluster 403\n",
      "Processing clusters:  98%|█████████▊| 404/414 [1:43:56<01:56, 11.64s/it]INFO:cluster_analysis_20250727_221630.log:Using Anthropic Claude API\n"
     ]
    },
    {
     "name": "stdout",
     "output_type": "stream",
     "text": [
      "Using provided template string\n",
      "Appending output format instructions to template\n",
      "Added 6 gene feature descriptions to prompt\n"
     ]
    },
    {
     "name": "stderr",
     "output_type": "stream",
     "text": [
      "INFO:cluster_analysis_20250727_221630.log:Anthropic API call successful: model=claude-3-7-sonnet-20250219\n",
      "INFO:cluster_analysis_20250727_221630.log:Success for cluster 404\n",
      "INFO:cluster_analysis_20250727_221630.log:Saved progress for 405 clusters\n",
      "Processing clusters:  98%|█████████▊| 405/414 [1:44:07<01:44, 11.56s/it]INFO:cluster_analysis_20250727_221630.log:Using Anthropic Claude API\n"
     ]
    },
    {
     "name": "stdout",
     "output_type": "stream",
     "text": [
      "Using provided template string\n",
      "Appending output format instructions to template\n",
      "Added 6 gene feature descriptions to prompt\n"
     ]
    },
    {
     "name": "stderr",
     "output_type": "stream",
     "text": [
      "INFO:cluster_analysis_20250727_221630.log:Anthropic API call successful: model=claude-3-7-sonnet-20250219\n",
      "INFO:cluster_analysis_20250727_221630.log:Success for cluster 405\n",
      "Processing clusters:  98%|█████████▊| 406/414 [1:44:23<01:42, 12.79s/it]INFO:cluster_analysis_20250727_221630.log:Using Anthropic Claude API\n"
     ]
    },
    {
     "name": "stdout",
     "output_type": "stream",
     "text": [
      "Using provided template string\n",
      "Appending output format instructions to template\n",
      "Added 6 gene feature descriptions to prompt\n"
     ]
    },
    {
     "name": "stderr",
     "output_type": "stream",
     "text": [
      "INFO:cluster_analysis_20250727_221630.log:Anthropic API call successful: model=claude-3-7-sonnet-20250219\n",
      "INFO:cluster_analysis_20250727_221630.log:Success for cluster 406\n",
      "Processing clusters:  98%|█████████▊| 407/414 [1:44:34<01:26, 12.34s/it]INFO:cluster_analysis_20250727_221630.log:Using Anthropic Claude API\n"
     ]
    },
    {
     "name": "stdout",
     "output_type": "stream",
     "text": [
      "Using provided template string\n",
      "Appending output format instructions to template\n",
      "Added 6 gene feature descriptions to prompt\n"
     ]
    },
    {
     "name": "stderr",
     "output_type": "stream",
     "text": [
      "INFO:cluster_analysis_20250727_221630.log:Anthropic API call successful: model=claude-3-7-sonnet-20250219\n",
      "INFO:cluster_analysis_20250727_221630.log:Success for cluster 407\n",
      "Processing clusters:  99%|█████████▊| 408/414 [1:44:45<01:10, 11.72s/it]INFO:cluster_analysis_20250727_221630.log:Using Anthropic Claude API\n"
     ]
    },
    {
     "name": "stdout",
     "output_type": "stream",
     "text": [
      "Using provided template string\n",
      "Appending output format instructions to template\n",
      "Added 6 gene feature descriptions to prompt\n"
     ]
    },
    {
     "name": "stderr",
     "output_type": "stream",
     "text": [
      "INFO:cluster_analysis_20250727_221630.log:Anthropic API call successful: model=claude-3-7-sonnet-20250219\n",
      "INFO:cluster_analysis_20250727_221630.log:Success for cluster 408\n",
      "Processing clusters:  99%|█████████▉| 409/414 [1:44:54<00:54, 10.92s/it]INFO:cluster_analysis_20250727_221630.log:Using Anthropic Claude API\n"
     ]
    },
    {
     "name": "stdout",
     "output_type": "stream",
     "text": [
      "Using provided template string\n",
      "Appending output format instructions to template\n",
      "Added 5 gene feature descriptions to prompt\n"
     ]
    },
    {
     "name": "stderr",
     "output_type": "stream",
     "text": [
      "INFO:cluster_analysis_20250727_221630.log:Anthropic API call successful: model=claude-3-7-sonnet-20250219\n",
      "INFO:cluster_analysis_20250727_221630.log:Success for cluster 409\n",
      "INFO:cluster_analysis_20250727_221630.log:Saved progress for 410 clusters\n",
      "Processing clusters:  99%|█████████▉| 410/414 [1:45:05<00:43, 10.92s/it]INFO:cluster_analysis_20250727_221630.log:Using Anthropic Claude API\n"
     ]
    },
    {
     "name": "stdout",
     "output_type": "stream",
     "text": [
      "Using provided template string\n",
      "Appending output format instructions to template\n",
      "Added 5 gene feature descriptions to prompt\n"
     ]
    },
    {
     "name": "stderr",
     "output_type": "stream",
     "text": [
      "INFO:cluster_analysis_20250727_221630.log:Anthropic API call successful: model=claude-3-7-sonnet-20250219\n",
      "INFO:cluster_analysis_20250727_221630.log:Success for cluster 410\n",
      "Processing clusters:  99%|█████████▉| 411/414 [1:45:14<00:31, 10.42s/it]INFO:cluster_analysis_20250727_221630.log:Using Anthropic Claude API\n"
     ]
    },
    {
     "name": "stdout",
     "output_type": "stream",
     "text": [
      "Using provided template string\n",
      "Appending output format instructions to template\n",
      "Added 5 gene feature descriptions to prompt\n"
     ]
    },
    {
     "name": "stderr",
     "output_type": "stream",
     "text": [
      "INFO:cluster_analysis_20250727_221630.log:Anthropic API call successful: model=claude-3-7-sonnet-20250219\n",
      "INFO:cluster_analysis_20250727_221630.log:Success for cluster 411\n",
      "Processing clusters: 100%|█████████▉| 412/414 [1:45:25<00:21, 10.70s/it]INFO:cluster_analysis_20250727_221630.log:Using Anthropic Claude API\n"
     ]
    },
    {
     "name": "stdout",
     "output_type": "stream",
     "text": [
      "Using provided template string\n",
      "Appending output format instructions to template\n",
      "Added 5 gene feature descriptions to prompt\n"
     ]
    },
    {
     "name": "stderr",
     "output_type": "stream",
     "text": [
      "INFO:cluster_analysis_20250727_221630.log:Anthropic API call successful: model=claude-3-7-sonnet-20250219\n",
      "INFO:cluster_analysis_20250727_221630.log:Success for cluster 412\n",
      "Processing clusters: 100%|█████████▉| 413/414 [1:45:35<00:10, 10.37s/it]INFO:cluster_analysis_20250727_221630.log:Using Anthropic Claude API\n"
     ]
    },
    {
     "name": "stdout",
     "output_type": "stream",
     "text": [
      "Using provided template string\n",
      "Appending output format instructions to template\n",
      "Added 5 gene feature descriptions to prompt\n"
     ]
    },
    {
     "name": "stderr",
     "output_type": "stream",
     "text": [
      "INFO:cluster_analysis_20250727_221630.log:Anthropic API call successful: model=claude-3-7-sonnet-20250219\n",
      "INFO:cluster_analysis_20250727_221630.log:Success for cluster 413\n",
      "Processing clusters: 100%|██████████| 414/414 [1:45:48<00:00, 15.33s/it]\n",
      "INFO:cluster_analysis_20250727_221630.log:Completed analysis for 414 clusters with data saved to disk\n"
     ]
    }
   ],
   "source": [
    "# Run LLM analysis\n",
    "anthropic_results = analyze_gene_clusters(\n",
    "    # Input data options\n",
    "    input_df=llm_cluster_df,\n",
    "    # Model and configuration\n",
    "    model_name=MODEL_NAME,\n",
    "    config_dict=CONFIG_DICT,\n",
    "    # Analysis context and prompts\n",
    "    screen_context=SCREEN_CONTEXT,\n",
    "    cluster_analysis_prompt=CLUSTER_ANALYSIS_PROMPT,\n",
    "    # Gene annotations\n",
    "    gene_annotations_df=llm_uniprot_df,\n",
    "    # Processing options\n",
    "    batch_size=1,\n",
    "    # Output options\n",
    "    output_file=f\"{RESULTS_DIR}/{MODEL_NAME}\",\n",
    "    save_outputs=True,\n",
    "    outputs_to_generate=[\"json\", \"clusters\", \"flagged_genes\"],\n",
    ")"
   ]
  },
  {
   "cell_type": "markdown",
   "id": "1ce98fa6",
   "metadata": {},
   "source": [
    "## Cluster overlap analysis"
   ]
  },
  {
   "cell_type": "code",
   "execution_count": null,
   "id": "5cde8fd0",
   "metadata": {},
   "outputs": [],
   "source": [
    "import pandas as pd\n",
    "import numpy as np\n",
    "from collections import Counter\n",
    "\n",
    "\n",
    "def analyze_cluster_novelty(\n",
    "    clustering_df,\n",
    "    aconcagua_df,\n",
    "    enrichment_df,\n",
    "    mozzarellm_df,\n",
    "    gene_col=\"gene_symbol_0\",\n",
    "    new_cluster_col=\"cluster\",\n",
    "    old_cluster_col=\"cluster\",\n",
    "    jaccard_threshold=0.3,\n",
    "    target_keywords=None,\n",
    "):\n",
    "    \"\"\"\n",
    "\n",
    "    # Default keywords for kinetochore/CENPT screen\n",
    "    if target_keywords is None:\n",
    "        target_keywords = ['kinetochore', 'centromere', 'chromosome', 'mitosis', 'spindle', 'CENP',\n",
    "                          'segregation', 'cohesion', 'condensin', 'aurora', 'polo', 'checkpoint']\n",
    "\n",
    "    # Convert keywords to lowercase for case-insensitive matching\n",
    "    target_keywords = [kw.lower() for kw in target_keywords]\n",
    "    Analyze novelty of new clusters compared to ground truth clustering.\n",
    "\n",
    "    Parameters:\n",
    "    -----------\n",
    "    clustering_df : pd.DataFrame\n",
    "        New clustering results with columns: gene_symbol_0, cluster, etc.\n",
    "    aconcagua_df : pd.DataFrame\n",
    "        Ground truth clustering with columns: gene_symbol_0, cluster, etc.\n",
    "    enrichment_df : pd.DataFrame\n",
    "        KEGG/CORUM enrichment results with columns: cluster, KEGG_enriched_groups, CORUM_enriched_groups, etc.\n",
    "    mozzarellm_df : pd.DataFrame\n",
    "        LLM analysis results with columns: cluster_id, cluster_biological_process, etc.\n",
    "    gene_col : str\n",
    "        Column name for genes (default: 'gene_symbol_0')\n",
    "    new_cluster_col : str\n",
    "        Column name for new cluster assignments (default: 'cluster')\n",
    "    old_cluster_col : str\n",
    "        Column name for old cluster assignments (default: 'cluster')\n",
    "    jaccard_threshold : float\n",
    "        Threshold for considering a cluster \"novel\" (default: 0.3)\n",
    "    target_keywords : list\n",
    "        Keywords to search for in biological_process and follow_up_suggestion\n",
    "        (default: ['kinetochore', 'centromere', 'chromosome', 'mitosis', 'spindle', 'CENP'])\n",
    "\n",
    "    Returns:\n",
    "    --------\n",
    "    pd.DataFrame\n",
    "        Analysis results sorted by novelty metrics\n",
    "    \"\"\"\n",
    "\n",
    "    # Merge new clustering with ground truth\n",
    "    merged_data = clustering_df.merge(\n",
    "        aconcagua_df, on=gene_col, how=\"inner\", suffixes=(\"_new\", \"_old\")\n",
    "    )\n",
    "\n",
    "    if merged_data.empty:\n",
    "        print(\"Warning: No overlapping genes found between datasets\")\n",
    "        return pd.DataFrame()\n",
    "\n",
    "    print(f\"Found {len(merged_data)} overlapping genes\")\n",
    "\n",
    "    # Get unique clusters\n",
    "    new_clusters = merged_data[f\"{new_cluster_col}_new\"].unique()\n",
    "    old_clusters = merged_data[f\"{old_cluster_col}_old\"].unique()\n",
    "\n",
    "    results = []\n",
    "\n",
    "    for new_cluster in new_clusters:\n",
    "        # Get genes in this new cluster\n",
    "        new_cluster_genes = set(\n",
    "            merged_data[merged_data[f\"{new_cluster_col}_new\"] == new_cluster][gene_col]\n",
    "        )\n",
    "\n",
    "        # Calculate Jaccard index with all old clusters\n",
    "        jaccard_scores = {}\n",
    "        for old_cluster in old_clusters:\n",
    "            old_cluster_genes = set(\n",
    "                merged_data[merged_data[f\"{old_cluster_col}_old\"] == old_cluster][\n",
    "                    gene_col\n",
    "                ]\n",
    "            )\n",
    "\n",
    "            intersection = len(new_cluster_genes.intersection(old_cluster_genes))\n",
    "            union = len(new_cluster_genes.union(old_cluster_genes))\n",
    "\n",
    "            if union > 0:\n",
    "                jaccard_scores[old_cluster] = intersection / union\n",
    "            else:\n",
    "                jaccard_scores[old_cluster] = 0\n",
    "\n",
    "        # Find best matching old cluster\n",
    "        max_jaccard = max(jaccard_scores.values()) if jaccard_scores else 0\n",
    "        best_old_cluster = (\n",
    "            max(jaccard_scores, key=jaccard_scores.get) if jaccard_scores else None\n",
    "        )\n",
    "\n",
    "        # Get genes from the closest correlated cluster\n",
    "        closest_cluster_genes = set()\n",
    "        if best_old_cluster is not None:\n",
    "            closest_cluster_genes = set(\n",
    "                merged_data[merged_data[f\"{old_cluster_col}_old\"] == best_old_cluster][\n",
    "                    gene_col\n",
    "                ]\n",
    "            )\n",
    "\n",
    "        # Calculate average normalized_potential_to_nontargeting for this cluster\n",
    "        cluster_potential_scores = clustering_df[\n",
    "            clustering_df[new_cluster_col] == new_cluster\n",
    "        ][\"normalized_potential_to_nontargeting\"]\n",
    "        avg_potential_score = (\n",
    "            cluster_potential_scores.mean() if len(cluster_potential_scores) > 0 else 0\n",
    "        )\n",
    "\n",
    "        # Calculate entropy of old cluster composition\n",
    "        old_cluster_composition = merged_data[\n",
    "            merged_data[f\"{new_cluster_col}_new\"] == new_cluster\n",
    "        ][f\"{old_cluster_col}_old\"].value_counts()\n",
    "        if len(old_cluster_composition) > 1:\n",
    "            proportions = old_cluster_composition / old_cluster_composition.sum()\n",
    "            entropy = -sum(p * np.log2(p) for p in proportions if p > 0)\n",
    "        else:\n",
    "            entropy = 0\n",
    "\n",
    "        # Get enrichment data for this cluster\n",
    "        enrichment_data = enrichment_df[enrichment_df[\"cluster\"] == new_cluster]\n",
    "\n",
    "        # Extract enrichment information\n",
    "        kegg_terms = \"\"\n",
    "        corum_terms = \"\"\n",
    "        string_precision = 0\n",
    "        cluster_size_enrichment = 0\n",
    "\n",
    "        if not enrichment_data.empty:\n",
    "            row = enrichment_data.iloc[0]  # Take first row if multiple\n",
    "            kegg_terms = (\n",
    "                str(row.get(\"KEGG_enriched_groups\", \"\"))\n",
    "                .replace(\"nan\", \"\")\n",
    "                .replace(\"NaN\", \"\")\n",
    "            )\n",
    "            corum_terms = (\n",
    "                str(row.get(\"CORUM_enriched_groups\", \"\"))\n",
    "                .replace(\"nan\", \"\")\n",
    "                .replace(\"NaN\", \"\")\n",
    "            )\n",
    "            string_precision = (\n",
    "                row.get(\"STRING_precision\", 0)\n",
    "                if pd.notna(row.get(\"STRING_precision\", 0))\n",
    "                else 0\n",
    "            )\n",
    "            cluster_size_enrichment = (\n",
    "                row.get(\"cluster_size\", 0)\n",
    "                if pd.notna(row.get(\"cluster_size\", 0))\n",
    "                else 0\n",
    "            )\n",
    "\n",
    "        # Get LLM analysis for this cluster\n",
    "        biological_process = \"\"\n",
    "        pathway_confidence = \"\"\n",
    "        importance_score = 0\n",
    "        follow_up = \"\"\n",
    "        established_genes = \"\"\n",
    "        uncharacterized_genes = \"\"\n",
    "        novel_role_genes = \"\"\n",
    "        percent_established = 0\n",
    "\n",
    "        llm_data = mozzarellm_df[mozzarellm_df[\"cluster_id\"] == new_cluster]\n",
    "        if not llm_data.empty:\n",
    "            row = llm_data.iloc[0]  # Take first row if multiple\n",
    "            biological_process = (\n",
    "                str(row.get(\"cluster_biological_process\", \"\"))\n",
    "                .replace(\"nan\", \"\")\n",
    "                .replace(\"NaN\", \"\")\n",
    "            )\n",
    "            pathway_confidence = (\n",
    "                str(row.get(\"pathway_confidence_level\", \"\"))\n",
    "                .replace(\"nan\", \"\")\n",
    "                .replace(\"NaN\", \"\")\n",
    "            )\n",
    "            importance_score = (\n",
    "                row.get(\"cluster_importance_score\", 0)\n",
    "                if pd.notna(row.get(\"cluster_importance_score\", 0))\n",
    "                else 0\n",
    "            )\n",
    "            follow_up = (\n",
    "                str(row.get(\"follow_up_suggestion\", \"\"))\n",
    "                .replace(\"nan\", \"\")\n",
    "                .replace(\"NaN\", \"\")\n",
    "            )\n",
    "            established_genes = (\n",
    "                str(row.get(\"established_genes\", \"\"))\n",
    "                .replace(\"nan\", \"\")\n",
    "                .replace(\"NaN\", \"\")\n",
    "            )\n",
    "            uncharacterized_genes = (\n",
    "                str(row.get(\"uncharacterized_genes\", \"\"))\n",
    "                .replace(\"nan\", \"\")\n",
    "                .replace(\"NaN\", \"\")\n",
    "            )\n",
    "            novel_role_genes = (\n",
    "                str(row.get(\"novel_role_genes\", \"\"))\n",
    "                .replace(\"nan\", \"\")\n",
    "                .replace(\"NaN\", \"\")\n",
    "            )\n",
    "\n",
    "            # Calculate percent established genes\n",
    "            established_count = (\n",
    "                row.get(\"established_gene_count\", 0)\n",
    "                if pd.notna(row.get(\"established_gene_count\", 0))\n",
    "                else 0\n",
    "            )\n",
    "            total_count = (\n",
    "                row.get(\"total_gene_count\", 0)\n",
    "                if pd.notna(row.get(\"total_gene_count\", 0))\n",
    "                else 0\n",
    "            )\n",
    "            percent_established = (\n",
    "                (established_count / total_count * 100) if total_count > 0 else 0\n",
    "            )\n",
    "\n",
    "        # Search for target keywords\n",
    "        keywords_found = []\n",
    "        search_text = f\"{biological_process} {follow_up}\".lower()\n",
    "\n",
    "        for keyword in target_keywords:\n",
    "            if keyword in search_text:\n",
    "                keywords_found.append(keyword)\n",
    "\n",
    "        keywords_found_str = \"; \".join(keywords_found) if keywords_found else \"\"\n",
    "\n",
    "        # Compile results\n",
    "        result = {\n",
    "            \"new_cluster\": new_cluster,\n",
    "            \"cluster_size\": len(new_cluster_genes),\n",
    "            \"avg_potential_score\": avg_potential_score,\n",
    "            \"max_jaccard\": max_jaccard,\n",
    "            \"best_old_cluster\": best_old_cluster,\n",
    "            \"entropy\": entropy,\n",
    "            \"is_novel\": max_jaccard < jaccard_threshold,\n",
    "            \"string_precision\": string_precision,\n",
    "            \"kegg_terms\": kegg_terms if kegg_terms != \"nan\" else \"\",\n",
    "            \"corum_terms\": corum_terms if corum_terms != \"nan\" else \"\",\n",
    "            \"biological_process\": biological_process\n",
    "            if biological_process != \"nan\"\n",
    "            else \"\",\n",
    "            \"pathway_confidence\": pathway_confidence\n",
    "            if pathway_confidence != \"nan\"\n",
    "            else \"\",\n",
    "            \"importance_score\": importance_score,\n",
    "            \"percent_established\": percent_established,\n",
    "            \"follow_up_suggestion\": follow_up if follow_up != \"nan\" else \"\",\n",
    "            \"keywords_found\": keywords_found_str,\n",
    "            \"established_genes\": established_genes\n",
    "            if established_genes != \"nan\"\n",
    "            else \"\",\n",
    "            \"uncharacterized_genes\": uncharacterized_genes\n",
    "            if uncharacterized_genes != \"nan\"\n",
    "            else \"\",\n",
    "            \"novel_role_genes\": novel_role_genes if novel_role_genes != \"nan\" else \"\",\n",
    "            \"genes\": \",\".join(sorted(new_cluster_genes)),\n",
    "            \"closest_cluster_genes\": \",\".join(sorted(closest_cluster_genes)),\n",
    "        }\n",
    "\n",
    "        results.append(result)\n",
    "\n",
    "    # Convert to DataFrame and sort by novelty\n",
    "    results_df = pd.DataFrame(results)\n",
    "\n",
    "    # Sort by: novelty first, then by entropy (higher = more mixed origins), then by importance\n",
    "    results_df = results_df.sort_values(\n",
    "        [\"is_novel\", \"max_jaccard\", \"entropy\", \"importance_score\"],\n",
    "        ascending=[False, True, False, False],\n",
    "    )\n",
    "\n",
    "    # Add rank for easy reference\n",
    "    results_df.reset_index(drop=True, inplace=True)\n",
    "    results_df[\"novelty_rank\"] = range(1, len(results_df) + 1)\n",
    "\n",
    "    print(f\"\\nAnalysis complete!\")\n",
    "    print(f\"Total clusters analyzed: {len(results_df)}\")\n",
    "    print(\n",
    "        f\"Novel clusters (Jaccard < {jaccard_threshold}): {sum(results_df['is_novel'])}\"\n",
    "    )\n",
    "    print(f\"Clusters with target keywords: {sum(results_df['keywords_found'] != '')}\")\n",
    "    print(f\"Average max Jaccard: {results_df['max_jaccard'].mean():.3f}\")\n",
    "\n",
    "    return results_df\n",
    "\n",
    "\n",
    "# Helper function to save results\n",
    "def save_cluster_results(results_df, output_prefix=\"cluster_novelty_analysis\"):\n",
    "    \"\"\"\n",
    "    Save cluster analysis results to CSV files.\n",
    "\n",
    "    Parameters:\n",
    "    -----------\n",
    "    results_df : pd.DataFrame\n",
    "        Results from analyze_cluster_novelty function\n",
    "    output_prefix : str\n",
    "        Prefix for output filenames (default: 'cluster_novelty_analysis')\n",
    "\n",
    "    Returns:\n",
    "    --------\n",
    "    dict\n",
    "        Dictionary with paths to saved files\n",
    "    \"\"\"\n",
    "    saved_files = {}\n",
    "\n",
    "    # Save all clusters\n",
    "    all_file = f\"{output_prefix}_all.csv\"\n",
    "    results_df.to_csv(all_file, index=False)\n",
    "    saved_files[\"all_clusters\"] = all_file\n",
    "    print(f\"Saved all clusters to: {all_file}\")\n",
    "\n",
    "    # Save keyword clusters only\n",
    "    keyword_clusters = results_df[results_df[\"keywords_found\"] != \"\"].copy()\n",
    "    if not keyword_clusters.empty:\n",
    "        keyword_file = f\"{output_prefix}_keywords_only.csv\"\n",
    "        keyword_clusters.to_csv(keyword_file, index=False)\n",
    "        saved_files[\"keyword_clusters\"] = keyword_file\n",
    "        print(f\"Saved {len(keyword_clusters)} keyword clusters to: {keyword_file}\")\n",
    "    else:\n",
    "        print(\"No clusters with target keywords found - keyword file not created\")\n",
    "        saved_files[\"keyword_clusters\"] = None\n",
    "\n",
    "    return saved_files"
   ]
  },
  {
   "cell_type": "code",
   "execution_count": null,
   "id": "fa32f1a6",
   "metadata": {},
   "outputs": [
    {
     "data": {
      "text/html": [
       "<div>\n",
       "<style scoped>\n",
       "    .dataframe tbody tr th:only-of-type {\n",
       "        vertical-align: middle;\n",
       "    }\n",
       "\n",
       "    .dataframe tbody tr th {\n",
       "        vertical-align: top;\n",
       "    }\n",
       "\n",
       "    .dataframe thead th {\n",
       "        text-align: right;\n",
       "    }\n",
       "</style>\n",
       "<table border=\"1\" class=\"dataframe\">\n",
       "  <thead>\n",
       "    <tr style=\"text-align: right;\">\n",
       "      <th></th>\n",
       "      <th>gene_symbol_0</th>\n",
       "      <th>cell_count</th>\n",
       "      <th>PHATE_0</th>\n",
       "      <th>PHATE_1</th>\n",
       "      <th>cluster</th>\n",
       "      <th>uniprot_entry</th>\n",
       "      <th>uniprot_function</th>\n",
       "      <th>uniprot_link</th>\n",
       "      <th>mean_potential_to_nontargeting</th>\n",
       "      <th>normalized_potential_to_nontargeting</th>\n",
       "    </tr>\n",
       "  </thead>\n",
       "  <tbody>\n",
       "    <tr>\n",
       "      <th>0</th>\n",
       "      <td>ARL17A</td>\n",
       "      <td>1798</td>\n",
       "      <td>0.001913</td>\n",
       "      <td>-0.008636</td>\n",
       "      <td>0</td>\n",
       "      <td>Q8IVW1</td>\n",
       "      <td>GTP-binding protein that functions as an allos...</td>\n",
       "      <td>https://www.uniprot.org/uniprotkb/Q8IVW1/entry</td>\n",
       "      <td>1.524561</td>\n",
       "      <td>0.092283</td>\n",
       "    </tr>\n",
       "    <tr>\n",
       "      <th>1</th>\n",
       "      <td>NMT1</td>\n",
       "      <td>1535</td>\n",
       "      <td>0.005146</td>\n",
       "      <td>-0.008961</td>\n",
       "      <td>0</td>\n",
       "      <td>P30419</td>\n",
       "      <td>Adds a myristoyl group to the N-terminal glyci...</td>\n",
       "      <td>https://www.uniprot.org/uniprotkb/P30419/entry</td>\n",
       "      <td>1.618714</td>\n",
       "      <td>0.099207</td>\n",
       "    </tr>\n",
       "    <tr>\n",
       "      <th>2</th>\n",
       "      <td>RAD51D</td>\n",
       "      <td>2159</td>\n",
       "      <td>0.003042</td>\n",
       "      <td>-0.006375</td>\n",
       "      <td>0</td>\n",
       "      <td>O75771</td>\n",
       "      <td>Involved in the homologous recombination repai...</td>\n",
       "      <td>https://www.uniprot.org/uniprotkb/O75771/entry</td>\n",
       "      <td>1.328814</td>\n",
       "      <td>0.077889</td>\n",
       "    </tr>\n",
       "    <tr>\n",
       "      <th>3</th>\n",
       "      <td>PDK2</td>\n",
       "      <td>2170</td>\n",
       "      <td>0.000592</td>\n",
       "      <td>-0.009447</td>\n",
       "      <td>0</td>\n",
       "      <td>Q15119</td>\n",
       "      <td>Kinase that plays a key role in the regulation...</td>\n",
       "      <td>https://www.uniprot.org/uniprotkb/Q15119/entry</td>\n",
       "      <td>1.620593</td>\n",
       "      <td>0.099345</td>\n",
       "    </tr>\n",
       "    <tr>\n",
       "      <th>4</th>\n",
       "      <td>ADAM11</td>\n",
       "      <td>3157</td>\n",
       "      <td>0.002060</td>\n",
       "      <td>-0.008379</td>\n",
       "      <td>0</td>\n",
       "      <td>O75078</td>\n",
       "      <td>Probable ligand for integrin in the brain. Thi...</td>\n",
       "      <td>https://www.uniprot.org/uniprotkb/O75078/entry</td>\n",
       "      <td>1.529272</td>\n",
       "      <td>0.092630</td>\n",
       "    </tr>\n",
       "    <tr>\n",
       "      <th>...</th>\n",
       "      <td>...</td>\n",
       "      <td>...</td>\n",
       "      <td>...</td>\n",
       "      <td>...</td>\n",
       "      <td>...</td>\n",
       "      <td>...</td>\n",
       "      <td>...</td>\n",
       "      <td>...</td>\n",
       "      <td>...</td>\n",
       "      <td>...</td>\n",
       "    </tr>\n",
       "    <tr>\n",
       "      <th>5294</th>\n",
       "      <td>MPHOSPH6</td>\n",
       "      <td>1937</td>\n",
       "      <td>-0.006584</td>\n",
       "      <td>-0.001020</td>\n",
       "      <td>413</td>\n",
       "      <td>Q99547</td>\n",
       "      <td>RNA-binding protein that associates with the R...</td>\n",
       "      <td>https://www.uniprot.org/uniprotkb/Q99547/entry</td>\n",
       "      <td>1.035970</td>\n",
       "      <td>0.056356</td>\n",
       "    </tr>\n",
       "    <tr>\n",
       "      <th>5295</th>\n",
       "      <td>RFK</td>\n",
       "      <td>3317</td>\n",
       "      <td>-0.000036</td>\n",
       "      <td>0.004026</td>\n",
       "      <td>413</td>\n",
       "      <td>Q969G6</td>\n",
       "      <td>Catalyzes the phosphorylation of riboflavin (v...</td>\n",
       "      <td>https://www.uniprot.org/uniprotkb/Q969G6/entry</td>\n",
       "      <td>0.315340</td>\n",
       "      <td>0.003365</td>\n",
       "    </tr>\n",
       "    <tr>\n",
       "      <th>5296</th>\n",
       "      <td>CWF19L1</td>\n",
       "      <td>1771</td>\n",
       "      <td>-0.016267</td>\n",
       "      <td>0.000340</td>\n",
       "      <td>413</td>\n",
       "      <td>Q69YN2</td>\n",
       "      <td>NaN</td>\n",
       "      <td>https://www.uniprot.org/uniprotkb/Q69YN2/entry</td>\n",
       "      <td>1.938802</td>\n",
       "      <td>0.122744</td>\n",
       "    </tr>\n",
       "    <tr>\n",
       "      <th>5297</th>\n",
       "      <td>BRD1</td>\n",
       "      <td>2056</td>\n",
       "      <td>0.000171</td>\n",
       "      <td>0.005380</td>\n",
       "      <td>413</td>\n",
       "      <td>O95696</td>\n",
       "      <td>Scaffold subunit of various histone acetyltran...</td>\n",
       "      <td>https://www.uniprot.org/uniprotkb/O95696/entry</td>\n",
       "      <td>0.296676</td>\n",
       "      <td>0.001993</td>\n",
       "    </tr>\n",
       "    <tr>\n",
       "      <th>5298</th>\n",
       "      <td>PIK3CG</td>\n",
       "      <td>3733</td>\n",
       "      <td>-0.002031</td>\n",
       "      <td>0.004550</td>\n",
       "      <td>413</td>\n",
       "      <td>P48736</td>\n",
       "      <td>Phosphoinositide-3-kinase (PI3K) that phosphor...</td>\n",
       "      <td>https://www.uniprot.org/uniprotkb/P48736/entry</td>\n",
       "      <td>0.426112</td>\n",
       "      <td>0.011511</td>\n",
       "    </tr>\n",
       "  </tbody>\n",
       "</table>\n",
       "<p>5299 rows × 10 columns</p>\n",
       "</div>"
      ],
      "text/plain": [
       "     gene_symbol_0  cell_count   PHATE_0   PHATE_1  cluster uniprot_entry  \\\n",
       "0           ARL17A        1798  0.001913 -0.008636        0        Q8IVW1   \n",
       "1             NMT1        1535  0.005146 -0.008961        0        P30419   \n",
       "2           RAD51D        2159  0.003042 -0.006375        0        O75771   \n",
       "3             PDK2        2170  0.000592 -0.009447        0        Q15119   \n",
       "4           ADAM11        3157  0.002060 -0.008379        0        O75078   \n",
       "...            ...         ...       ...       ...      ...           ...   \n",
       "5294      MPHOSPH6        1937 -0.006584 -0.001020      413        Q99547   \n",
       "5295           RFK        3317 -0.000036  0.004026      413        Q969G6   \n",
       "5296       CWF19L1        1771 -0.016267  0.000340      413        Q69YN2   \n",
       "5297          BRD1        2056  0.000171  0.005380      413        O95696   \n",
       "5298        PIK3CG        3733 -0.002031  0.004550      413        P48736   \n",
       "\n",
       "                                       uniprot_function  \\\n",
       "0     GTP-binding protein that functions as an allos...   \n",
       "1     Adds a myristoyl group to the N-terminal glyci...   \n",
       "2     Involved in the homologous recombination repai...   \n",
       "3     Kinase that plays a key role in the regulation...   \n",
       "4     Probable ligand for integrin in the brain. Thi...   \n",
       "...                                                 ...   \n",
       "5294  RNA-binding protein that associates with the R...   \n",
       "5295  Catalyzes the phosphorylation of riboflavin (v...   \n",
       "5296                                                NaN   \n",
       "5297  Scaffold subunit of various histone acetyltran...   \n",
       "5298  Phosphoinositide-3-kinase (PI3K) that phosphor...   \n",
       "\n",
       "                                        uniprot_link  \\\n",
       "0     https://www.uniprot.org/uniprotkb/Q8IVW1/entry   \n",
       "1     https://www.uniprot.org/uniprotkb/P30419/entry   \n",
       "2     https://www.uniprot.org/uniprotkb/O75771/entry   \n",
       "3     https://www.uniprot.org/uniprotkb/Q15119/entry   \n",
       "4     https://www.uniprot.org/uniprotkb/O75078/entry   \n",
       "...                                              ...   \n",
       "5294  https://www.uniprot.org/uniprotkb/Q99547/entry   \n",
       "5295  https://www.uniprot.org/uniprotkb/Q969G6/entry   \n",
       "5296  https://www.uniprot.org/uniprotkb/Q69YN2/entry   \n",
       "5297  https://www.uniprot.org/uniprotkb/O95696/entry   \n",
       "5298  https://www.uniprot.org/uniprotkb/P48736/entry   \n",
       "\n",
       "      mean_potential_to_nontargeting  normalized_potential_to_nontargeting  \n",
       "0                           1.524561                              0.092283  \n",
       "1                           1.618714                              0.099207  \n",
       "2                           1.328814                              0.077889  \n",
       "3                           1.620593                              0.099345  \n",
       "4                           1.529272                              0.092630  \n",
       "...                              ...                                   ...  \n",
       "5294                        1.035970                              0.056356  \n",
       "5295                        0.315340                              0.003365  \n",
       "5296                        1.938802                              0.122744  \n",
       "5297                        0.296676                              0.001993  \n",
       "5298                        0.426112                              0.011511  \n",
       "\n",
       "[5299 rows x 10 columns]"
      ]
     },
     "metadata": {},
     "output_type": "display_data"
    },
    {
     "data": {
      "text/html": [
       "<div>\n",
       "<style scoped>\n",
       "    .dataframe tbody tr th:only-of-type {\n",
       "        vertical-align: middle;\n",
       "    }\n",
       "\n",
       "    .dataframe tbody tr th {\n",
       "        vertical-align: top;\n",
       "    }\n",
       "\n",
       "    .dataframe thead th {\n",
       "        text-align: right;\n",
       "    }\n",
       "</style>\n",
       "<table border=\"1\" class=\"dataframe\">\n",
       "  <thead>\n",
       "    <tr style=\"text-align: right;\">\n",
       "      <th></th>\n",
       "      <th>cluster</th>\n",
       "      <th>genes</th>\n",
       "      <th>cluster_size</th>\n",
       "      <th>enriched_in</th>\n",
       "      <th>STRING_precision</th>\n",
       "      <th>STRING_true_positives</th>\n",
       "      <th>CORUM_enriched_groups</th>\n",
       "      <th>CORUM_enriched_ids</th>\n",
       "      <th>KEGG_enriched_groups</th>\n",
       "      <th>KEGG_enriched_ids</th>\n",
       "    </tr>\n",
       "  </thead>\n",
       "  <tbody>\n",
       "    <tr>\n",
       "      <th>0</th>\n",
       "      <td>0</td>\n",
       "      <td>ACACA; ACLY; ADAM11; ALDOC; ARL17A; ATP6V0A1; ...</td>\n",
       "      <td>65</td>\n",
       "      <td>NaN</td>\n",
       "      <td>0.001923</td>\n",
       "      <td>4.0</td>\n",
       "      <td>NaN</td>\n",
       "      <td>NaN</td>\n",
       "      <td>NaN</td>\n",
       "      <td>NaN</td>\n",
       "    </tr>\n",
       "    <tr>\n",
       "      <th>1</th>\n",
       "      <td>1</td>\n",
       "      <td>AQP7; BCAS2; BRF2; CDC5L; CDK11A; DDX23; ECD; ...</td>\n",
       "      <td>62</td>\n",
       "      <td>CORUM, STRING</td>\n",
       "      <td>0.308831</td>\n",
       "      <td>584.0</td>\n",
       "      <td>27.0</td>\n",
       "      <td>(E.F.G) complex, 12S U11 snRNP, 17S U2 snRNP, ...</td>\n",
       "      <td>NaN</td>\n",
       "      <td>NaN</td>\n",
       "    </tr>\n",
       "    <tr>\n",
       "      <th>2</th>\n",
       "      <td>2</td>\n",
       "      <td>AKIRIN1; ALG2; ANKS1A; AXIN1; BCAR1; CARD10; C...</td>\n",
       "      <td>56</td>\n",
       "      <td>CORUM, KEGG</td>\n",
       "      <td>0.030976</td>\n",
       "      <td>46.0</td>\n",
       "      <td>2.0</td>\n",
       "      <td>PXN-ITGB5-PTK2 complex, Polycystin-1 multiprot...</td>\n",
       "      <td>7.0</td>\n",
       "      <td>KEGG_MEDICUS_PATHOGEN_HCMV_US27_TO_CXCR4_GNB_G...</td>\n",
       "    </tr>\n",
       "    <tr>\n",
       "      <th>3</th>\n",
       "      <td>3</td>\n",
       "      <td>BARD1; CCDC12; CDC45; CDC6; CDC7; CDT1; CHAF1A...</td>\n",
       "      <td>51</td>\n",
       "      <td>CORUM, KEGG</td>\n",
       "      <td>0.061176</td>\n",
       "      <td>78.0</td>\n",
       "      <td>14.0</td>\n",
       "      <td>DNA polymerase alpha-primase complex, DNA synt...</td>\n",
       "      <td>11.0</td>\n",
       "      <td>KEGG_MEDICUS_REFERENCE_CORE_NER_REACTION, KEGG...</td>\n",
       "    </tr>\n",
       "    <tr>\n",
       "      <th>4</th>\n",
       "      <td>4</td>\n",
       "      <td>AATF; ABT1; BMS1; BUD23; DBR1; DDX10; DDX18; D...</td>\n",
       "      <td>49</td>\n",
       "      <td>CORUM, STRING</td>\n",
       "      <td>0.233844</td>\n",
       "      <td>275.0</td>\n",
       "      <td>2.0</td>\n",
       "      <td>AATF-NGDN-NOL10 complex, Exosome</td>\n",
       "      <td>NaN</td>\n",
       "      <td>NaN</td>\n",
       "    </tr>\n",
       "    <tr>\n",
       "      <th>...</th>\n",
       "      <td>...</td>\n",
       "      <td>...</td>\n",
       "      <td>...</td>\n",
       "      <td>...</td>\n",
       "      <td>...</td>\n",
       "      <td>...</td>\n",
       "      <td>...</td>\n",
       "      <td>...</td>\n",
       "      <td>...</td>\n",
       "      <td>...</td>\n",
       "    </tr>\n",
       "    <tr>\n",
       "      <th>409</th>\n",
       "      <td>409</td>\n",
       "      <td>DLD; HEATR6; SGCA; SKAP1; SPAG9</td>\n",
       "      <td>5</td>\n",
       "      <td>NaN</td>\n",
       "      <td>0.000000</td>\n",
       "      <td>0.0</td>\n",
       "      <td>NaN</td>\n",
       "      <td>NaN</td>\n",
       "      <td>NaN</td>\n",
       "      <td>NaN</td>\n",
       "    </tr>\n",
       "    <tr>\n",
       "      <th>410</th>\n",
       "      <td>410</td>\n",
       "      <td>MYL12A; PTDSS1; RCE1; SFTPB; TM7SF2</td>\n",
       "      <td>5</td>\n",
       "      <td>NaN</td>\n",
       "      <td>0.000000</td>\n",
       "      <td>0.0</td>\n",
       "      <td>NaN</td>\n",
       "      <td>NaN</td>\n",
       "      <td>NaN</td>\n",
       "      <td>NaN</td>\n",
       "    </tr>\n",
       "    <tr>\n",
       "      <th>411</th>\n",
       "      <td>411</td>\n",
       "      <td>FAM83H; HNRNPA3; LIN7C; LMNA; PRMT5</td>\n",
       "      <td>5</td>\n",
       "      <td>NaN</td>\n",
       "      <td>0.000000</td>\n",
       "      <td>0.0</td>\n",
       "      <td>NaN</td>\n",
       "      <td>NaN</td>\n",
       "      <td>NaN</td>\n",
       "      <td>NaN</td>\n",
       "    </tr>\n",
       "    <tr>\n",
       "      <th>412</th>\n",
       "      <td>412</td>\n",
       "      <td>GLRX5; GNG3; LRCH4; MAGOHB; MRPS18B</td>\n",
       "      <td>5</td>\n",
       "      <td>NaN</td>\n",
       "      <td>0.000000</td>\n",
       "      <td>0.0</td>\n",
       "      <td>NaN</td>\n",
       "      <td>NaN</td>\n",
       "      <td>NaN</td>\n",
       "      <td>NaN</td>\n",
       "    </tr>\n",
       "    <tr>\n",
       "      <th>413</th>\n",
       "      <td>413</td>\n",
       "      <td>BRD1; CWF19L1; MPHOSPH6; PIK3CG; RFK</td>\n",
       "      <td>5</td>\n",
       "      <td>NaN</td>\n",
       "      <td>0.000000</td>\n",
       "      <td>0.0</td>\n",
       "      <td>NaN</td>\n",
       "      <td>NaN</td>\n",
       "      <td>NaN</td>\n",
       "      <td>NaN</td>\n",
       "    </tr>\n",
       "  </tbody>\n",
       "</table>\n",
       "<p>414 rows × 10 columns</p>\n",
       "</div>"
      ],
      "text/plain": [
       "     cluster                                              genes  cluster_size  \\\n",
       "0          0  ACACA; ACLY; ADAM11; ALDOC; ARL17A; ATP6V0A1; ...            65   \n",
       "1          1  AQP7; BCAS2; BRF2; CDC5L; CDK11A; DDX23; ECD; ...            62   \n",
       "2          2  AKIRIN1; ALG2; ANKS1A; AXIN1; BCAR1; CARD10; C...            56   \n",
       "3          3  BARD1; CCDC12; CDC45; CDC6; CDC7; CDT1; CHAF1A...            51   \n",
       "4          4  AATF; ABT1; BMS1; BUD23; DBR1; DDX10; DDX18; D...            49   \n",
       "..       ...                                                ...           ...   \n",
       "409      409                    DLD; HEATR6; SGCA; SKAP1; SPAG9             5   \n",
       "410      410                MYL12A; PTDSS1; RCE1; SFTPB; TM7SF2             5   \n",
       "411      411                FAM83H; HNRNPA3; LIN7C; LMNA; PRMT5             5   \n",
       "412      412                GLRX5; GNG3; LRCH4; MAGOHB; MRPS18B             5   \n",
       "413      413               BRD1; CWF19L1; MPHOSPH6; PIK3CG; RFK             5   \n",
       "\n",
       "       enriched_in  STRING_precision  STRING_true_positives  \\\n",
       "0              NaN          0.001923                    4.0   \n",
       "1    CORUM, STRING          0.308831                  584.0   \n",
       "2      CORUM, KEGG          0.030976                   46.0   \n",
       "3      CORUM, KEGG          0.061176                   78.0   \n",
       "4    CORUM, STRING          0.233844                  275.0   \n",
       "..             ...               ...                    ...   \n",
       "409            NaN          0.000000                    0.0   \n",
       "410            NaN          0.000000                    0.0   \n",
       "411            NaN          0.000000                    0.0   \n",
       "412            NaN          0.000000                    0.0   \n",
       "413            NaN          0.000000                    0.0   \n",
       "\n",
       "     CORUM_enriched_groups                                 CORUM_enriched_ids  \\\n",
       "0                      NaN                                                NaN   \n",
       "1                     27.0  (E.F.G) complex, 12S U11 snRNP, 17S U2 snRNP, ...   \n",
       "2                      2.0  PXN-ITGB5-PTK2 complex, Polycystin-1 multiprot...   \n",
       "3                     14.0  DNA polymerase alpha-primase complex, DNA synt...   \n",
       "4                      2.0                   AATF-NGDN-NOL10 complex, Exosome   \n",
       "..                     ...                                                ...   \n",
       "409                    NaN                                                NaN   \n",
       "410                    NaN                                                NaN   \n",
       "411                    NaN                                                NaN   \n",
       "412                    NaN                                                NaN   \n",
       "413                    NaN                                                NaN   \n",
       "\n",
       "     KEGG_enriched_groups                                  KEGG_enriched_ids  \n",
       "0                     NaN                                                NaN  \n",
       "1                     NaN                                                NaN  \n",
       "2                     7.0  KEGG_MEDICUS_PATHOGEN_HCMV_US27_TO_CXCR4_GNB_G...  \n",
       "3                    11.0  KEGG_MEDICUS_REFERENCE_CORE_NER_REACTION, KEGG...  \n",
       "4                     NaN                                                NaN  \n",
       "..                    ...                                                ...  \n",
       "409                   NaN                                                NaN  \n",
       "410                   NaN                                                NaN  \n",
       "411                   NaN                                                NaN  \n",
       "412                   NaN                                                NaN  \n",
       "413                   NaN                                                NaN  \n",
       "\n",
       "[414 rows x 10 columns]"
      ]
     },
     "metadata": {},
     "output_type": "display_data"
    },
    {
     "data": {
      "text/html": [
       "<div>\n",
       "<style scoped>\n",
       "    .dataframe tbody tr th:only-of-type {\n",
       "        vertical-align: middle;\n",
       "    }\n",
       "\n",
       "    .dataframe tbody tr th {\n",
       "        vertical-align: top;\n",
       "    }\n",
       "\n",
       "    .dataframe thead th {\n",
       "        text-align: right;\n",
       "    }\n",
       "</style>\n",
       "<table border=\"1\" class=\"dataframe\">\n",
       "  <thead>\n",
       "    <tr style=\"text-align: right;\">\n",
       "      <th></th>\n",
       "      <th>cluster_id</th>\n",
       "      <th>cluster_biological_process</th>\n",
       "      <th>pathway_confidence_level</th>\n",
       "      <th>cluster_importance_score</th>\n",
       "      <th>follow_up_suggestion</th>\n",
       "      <th>established_genes</th>\n",
       "      <th>established_gene_count</th>\n",
       "      <th>uncharacterized_genes</th>\n",
       "      <th>uncharacterized_gene_count</th>\n",
       "      <th>novel_role_genes</th>\n",
       "      <th>...</th>\n",
       "      <th>total_gene_count</th>\n",
       "      <th>highest_unchar_importance</th>\n",
       "      <th>average_unchar_importance</th>\n",
       "      <th>high_unchar_genes</th>\n",
       "      <th>high_unchar_gene_count</th>\n",
       "      <th>highest_novel_role_importance</th>\n",
       "      <th>average_novel_role_importance</th>\n",
       "      <th>high_novel_role_genes</th>\n",
       "      <th>high_novel_role_gene_count</th>\n",
       "      <th>all_cluster_genes</th>\n",
       "    </tr>\n",
       "  </thead>\n",
       "  <tbody>\n",
       "    <tr>\n",
       "      <th>0</th>\n",
       "      <td>0</td>\n",
       "      <td>Lipid metabolism and fatty acid biosynthesis</td>\n",
       "      <td>Medium</td>\n",
       "      <td>1.76</td>\n",
       "      <td>Cluster 0 shows a moderate enrichment for gene...</td>\n",
       "      <td>ACACA;ACLY;G6PC;PDK2;NMT1</td>\n",
       "      <td>5</td>\n",
       "      <td>C17orf58;SCRN2</td>\n",
       "      <td>2</td>\n",
       "      <td>BECN1;ALDOC;MED1;THRA</td>\n",
       "      <td>...</td>\n",
       "      <td>11</td>\n",
       "      <td>7</td>\n",
       "      <td>6.50</td>\n",
       "      <td>NaN</td>\n",
       "      <td>0</td>\n",
       "      <td>8</td>\n",
       "      <td>6.50</td>\n",
       "      <td>BECN1:8</td>\n",
       "      <td>1</td>\n",
       "      <td>ACACA;ACLY;G6PC;PDK2;NMT1;C17orf58;SCRN2;BECN1...</td>\n",
       "    </tr>\n",
       "    <tr>\n",
       "      <th>1</th>\n",
       "      <td>1</td>\n",
       "      <td>pre-mRNA splicing via spliceosome</td>\n",
       "      <td>High</td>\n",
       "      <td>2.97</td>\n",
       "      <td>This cluster shows a highly coherent signature...</td>\n",
       "      <td>CDC5L;PRPF8;SNRPD1;SNRPD2;SNRPD3;SNRPE;SNRPF;S...</td>\n",
       "      <td>36</td>\n",
       "      <td>RBM42</td>\n",
       "      <td>1</td>\n",
       "      <td>USPL1;TUT1;AQP7</td>\n",
       "      <td>...</td>\n",
       "      <td>40</td>\n",
       "      <td>6</td>\n",
       "      <td>6.00</td>\n",
       "      <td>NaN</td>\n",
       "      <td>0</td>\n",
       "      <td>9</td>\n",
       "      <td>7.33</td>\n",
       "      <td>AQP7:9</td>\n",
       "      <td>1</td>\n",
       "      <td>CDC5L;PRPF8;SNRPD1;SNRPD2;SNRPD3;SNRPE;SNRPF;S...</td>\n",
       "    </tr>\n",
       "    <tr>\n",
       "      <th>2</th>\n",
       "      <td>2</td>\n",
       "      <td>Integrin-mediated cell adhesion and focal adhe...</td>\n",
       "      <td>High</td>\n",
       "      <td>2.10</td>\n",
       "      <td>This cluster shows a strong signature of integ...</td>\n",
       "      <td>BCAR1;TLN1;ITGB1;ITGB5;PXN;ITGAV;FERMT2;PTK2;Z...</td>\n",
       "      <td>15</td>\n",
       "      <td>CBWD6;SUCO</td>\n",
       "      <td>2</td>\n",
       "      <td>SEC61A1;SEC61G;SEC61B;SLC39A7;TMED10;YAP1;TNS3</td>\n",
       "      <td>...</td>\n",
       "      <td>24</td>\n",
       "      <td>6</td>\n",
       "      <td>5.50</td>\n",
       "      <td>NaN</td>\n",
       "      <td>0</td>\n",
       "      <td>7</td>\n",
       "      <td>5.86</td>\n",
       "      <td>NaN</td>\n",
       "      <td>0</td>\n",
       "      <td>BCAR1;TLN1;ITGB1;ITGB5;PXN;ITGAV;FERMT2;PTK2;Z...</td>\n",
       "    </tr>\n",
       "    <tr>\n",
       "      <th>3</th>\n",
       "      <td>3</td>\n",
       "      <td>DNA replication and licensing</td>\n",
       "      <td>High</td>\n",
       "      <td>2.64</td>\n",
       "      <td>This cluster shows a highly coherent signature...</td>\n",
       "      <td>WDHD1;POLE;PCNA;CDC7;CDC6;PRIM1;DTL;CHAF1A;ORC...</td>\n",
       "      <td>24</td>\n",
       "      <td>PRR20D;CCDC12;ZNF705A;SYT15</td>\n",
       "      <td>4</td>\n",
       "      <td>MTBP;TRAIP;LRR1;DONSON;RTEL1;SLBP;NPAT;HINFP;F...</td>\n",
       "      <td>...</td>\n",
       "      <td>39</td>\n",
       "      <td>8</td>\n",
       "      <td>6.50</td>\n",
       "      <td>PRR20D:8</td>\n",
       "      <td>1</td>\n",
       "      <td>8</td>\n",
       "      <td>5.45</td>\n",
       "      <td>MTBP:8</td>\n",
       "      <td>1</td>\n",
       "      <td>WDHD1;POLE;PCNA;CDC7;CDC6;PRIM1;DTL;CHAF1A;ORC...</td>\n",
       "    </tr>\n",
       "    <tr>\n",
       "      <th>4</th>\n",
       "      <td>4</td>\n",
       "      <td>Ribosome biogenesis and RNA processing</td>\n",
       "      <td>High</td>\n",
       "      <td>3.24</td>\n",
       "      <td>Cluster 4 shows a strong and coherent signatur...</td>\n",
       "      <td>BMS1;BUD23;DIS3;ESF1;EXOSC1;EXOSC2;EXOSC3;EXOS...</td>\n",
       "      <td>30</td>\n",
       "      <td>KRI1;NOL10;NOC4L</td>\n",
       "      <td>3</td>\n",
       "      <td>ITGA4;KIFBP;DDX10;ABT1;DBR1;ZNHIT3;NOM1</td>\n",
       "      <td>...</td>\n",
       "      <td>40</td>\n",
       "      <td>7</td>\n",
       "      <td>6.33</td>\n",
       "      <td>NaN</td>\n",
       "      <td>0</td>\n",
       "      <td>9</td>\n",
       "      <td>6.57</td>\n",
       "      <td>ITGA4:9;KIFBP:8</td>\n",
       "      <td>2</td>\n",
       "      <td>BMS1;BUD23;DIS3;ESF1;EXOSC1;EXOSC2;EXOSC3;EXOS...</td>\n",
       "    </tr>\n",
       "    <tr>\n",
       "      <th>...</th>\n",
       "      <td>...</td>\n",
       "      <td>...</td>\n",
       "      <td>...</td>\n",
       "      <td>...</td>\n",
       "      <td>...</td>\n",
       "      <td>...</td>\n",
       "      <td>...</td>\n",
       "      <td>...</td>\n",
       "      <td>...</td>\n",
       "      <td>...</td>\n",
       "      <td>...</td>\n",
       "      <td>...</td>\n",
       "      <td>...</td>\n",
       "      <td>...</td>\n",
       "      <td>...</td>\n",
       "      <td>...</td>\n",
       "      <td>...</td>\n",
       "      <td>...</td>\n",
       "      <td>...</td>\n",
       "      <td>...</td>\n",
       "      <td>...</td>\n",
       "    </tr>\n",
       "    <tr>\n",
       "      <th>409</th>\n",
       "      <td>409</td>\n",
       "      <td>Mitochondrial metabolism and energy production</td>\n",
       "      <td>Low</td>\n",
       "      <td>0.88</td>\n",
       "      <td>This cluster shows low confidence for a mitoch...</td>\n",
       "      <td>DLD</td>\n",
       "      <td>1</td>\n",
       "      <td>HEATR6</td>\n",
       "      <td>1</td>\n",
       "      <td>SGCA;SKAP1;SPAG9</td>\n",
       "      <td>...</td>\n",
       "      <td>5</td>\n",
       "      <td>8</td>\n",
       "      <td>8.00</td>\n",
       "      <td>HEATR6:8</td>\n",
       "      <td>1</td>\n",
       "      <td>7</td>\n",
       "      <td>6.00</td>\n",
       "      <td>NaN</td>\n",
       "      <td>0</td>\n",
       "      <td>DLD;HEATR6;SGCA;SKAP1;SPAG9</td>\n",
       "    </tr>\n",
       "    <tr>\n",
       "      <th>410</th>\n",
       "      <td>410</td>\n",
       "      <td>Membrane lipid biosynthesis and modification</td>\n",
       "      <td>Medium</td>\n",
       "      <td>1.40</td>\n",
       "      <td>This cluster reveals a membrane lipid biosynth...</td>\n",
       "      <td>TM7SF2;PTDSS1;RCE1</td>\n",
       "      <td>3</td>\n",
       "      <td>NaN</td>\n",
       "      <td>0</td>\n",
       "      <td>MYL12A;SFTPB</td>\n",
       "      <td>...</td>\n",
       "      <td>5</td>\n",
       "      <td>0</td>\n",
       "      <td>0.00</td>\n",
       "      <td>NaN</td>\n",
       "      <td>0</td>\n",
       "      <td>7</td>\n",
       "      <td>6.50</td>\n",
       "      <td>NaN</td>\n",
       "      <td>0</td>\n",
       "      <td>TM7SF2;PTDSS1;RCE1;MYL12A;SFTPB</td>\n",
       "    </tr>\n",
       "    <tr>\n",
       "      <th>411</th>\n",
       "      <td>411</td>\n",
       "      <td>Nuclear structure and chromatin organization</td>\n",
       "      <td>Medium</td>\n",
       "      <td>1.40</td>\n",
       "      <td>This cluster reveals a medium-confidence pathw...</td>\n",
       "      <td>LMNA;PRMT5</td>\n",
       "      <td>2</td>\n",
       "      <td>NaN</td>\n",
       "      <td>0</td>\n",
       "      <td>HNRNPA3;FAM83H;LIN7C</td>\n",
       "      <td>...</td>\n",
       "      <td>5</td>\n",
       "      <td>0</td>\n",
       "      <td>0.00</td>\n",
       "      <td>NaN</td>\n",
       "      <td>0</td>\n",
       "      <td>7</td>\n",
       "      <td>6.00</td>\n",
       "      <td>NaN</td>\n",
       "      <td>0</td>\n",
       "      <td>LMNA;PRMT5;HNRNPA3;FAM83H;LIN7C</td>\n",
       "    </tr>\n",
       "    <tr>\n",
       "      <th>412</th>\n",
       "      <td>412</td>\n",
       "      <td>Mitochondrial translation and ribosome assembly</td>\n",
       "      <td>Medium</td>\n",
       "      <td>1.40</td>\n",
       "      <td>This cluster shows a mitochondrial translation...</td>\n",
       "      <td>MRPS18B;GLRX5</td>\n",
       "      <td>2</td>\n",
       "      <td>NaN</td>\n",
       "      <td>0</td>\n",
       "      <td>MAGOHB;LRCH4;GNG3</td>\n",
       "      <td>...</td>\n",
       "      <td>5</td>\n",
       "      <td>0</td>\n",
       "      <td>0.00</td>\n",
       "      <td>NaN</td>\n",
       "      <td>0</td>\n",
       "      <td>7</td>\n",
       "      <td>6.00</td>\n",
       "      <td>NaN</td>\n",
       "      <td>0</td>\n",
       "      <td>MRPS18B;GLRX5;MAGOHB;LRCH4;GNG3</td>\n",
       "    </tr>\n",
       "    <tr>\n",
       "      <th>413</th>\n",
       "      <td>413</td>\n",
       "      <td>RNA processing and exosome complex function</td>\n",
       "      <td>Low</td>\n",
       "      <td>0.88</td>\n",
       "      <td>This cluster shows low confidence for a cohere...</td>\n",
       "      <td>MPHOSPH6</td>\n",
       "      <td>1</td>\n",
       "      <td>CWF19L1</td>\n",
       "      <td>1</td>\n",
       "      <td>BRD1;RFK;PIK3CG</td>\n",
       "      <td>...</td>\n",
       "      <td>5</td>\n",
       "      <td>8</td>\n",
       "      <td>8.00</td>\n",
       "      <td>CWF19L1:8</td>\n",
       "      <td>1</td>\n",
       "      <td>6</td>\n",
       "      <td>5.00</td>\n",
       "      <td>NaN</td>\n",
       "      <td>0</td>\n",
       "      <td>MPHOSPH6;CWF19L1;BRD1;RFK;PIK3CG</td>\n",
       "    </tr>\n",
       "  </tbody>\n",
       "</table>\n",
       "<p>414 rows × 21 columns</p>\n",
       "</div>"
      ],
      "text/plain": [
       "     cluster_id                         cluster_biological_process  \\\n",
       "0             0       Lipid metabolism and fatty acid biosynthesis   \n",
       "1             1                  pre-mRNA splicing via spliceosome   \n",
       "2             2  Integrin-mediated cell adhesion and focal adhe...   \n",
       "3             3                      DNA replication and licensing   \n",
       "4             4             Ribosome biogenesis and RNA processing   \n",
       "..          ...                                                ...   \n",
       "409         409     Mitochondrial metabolism and energy production   \n",
       "410         410       Membrane lipid biosynthesis and modification   \n",
       "411         411       Nuclear structure and chromatin organization   \n",
       "412         412    Mitochondrial translation and ribosome assembly   \n",
       "413         413        RNA processing and exosome complex function   \n",
       "\n",
       "    pathway_confidence_level  cluster_importance_score  \\\n",
       "0                     Medium                      1.76   \n",
       "1                       High                      2.97   \n",
       "2                       High                      2.10   \n",
       "3                       High                      2.64   \n",
       "4                       High                      3.24   \n",
       "..                       ...                       ...   \n",
       "409                      Low                      0.88   \n",
       "410                   Medium                      1.40   \n",
       "411                   Medium                      1.40   \n",
       "412                   Medium                      1.40   \n",
       "413                      Low                      0.88   \n",
       "\n",
       "                                  follow_up_suggestion  \\\n",
       "0    Cluster 0 shows a moderate enrichment for gene...   \n",
       "1    This cluster shows a highly coherent signature...   \n",
       "2    This cluster shows a strong signature of integ...   \n",
       "3    This cluster shows a highly coherent signature...   \n",
       "4    Cluster 4 shows a strong and coherent signatur...   \n",
       "..                                                 ...   \n",
       "409  This cluster shows low confidence for a mitoch...   \n",
       "410  This cluster reveals a membrane lipid biosynth...   \n",
       "411  This cluster reveals a medium-confidence pathw...   \n",
       "412  This cluster shows a mitochondrial translation...   \n",
       "413  This cluster shows low confidence for a cohere...   \n",
       "\n",
       "                                     established_genes  \\\n",
       "0                            ACACA;ACLY;G6PC;PDK2;NMT1   \n",
       "1    CDC5L;PRPF8;SNRPD1;SNRPD2;SNRPD3;SNRPE;SNRPF;S...   \n",
       "2    BCAR1;TLN1;ITGB1;ITGB5;PXN;ITGAV;FERMT2;PTK2;Z...   \n",
       "3    WDHD1;POLE;PCNA;CDC7;CDC6;PRIM1;DTL;CHAF1A;ORC...   \n",
       "4    BMS1;BUD23;DIS3;ESF1;EXOSC1;EXOSC2;EXOSC3;EXOS...   \n",
       "..                                                 ...   \n",
       "409                                                DLD   \n",
       "410                                 TM7SF2;PTDSS1;RCE1   \n",
       "411                                         LMNA;PRMT5   \n",
       "412                                      MRPS18B;GLRX5   \n",
       "413                                           MPHOSPH6   \n",
       "\n",
       "     established_gene_count        uncharacterized_genes  \\\n",
       "0                         5               C17orf58;SCRN2   \n",
       "1                        36                        RBM42   \n",
       "2                        15                   CBWD6;SUCO   \n",
       "3                        24  PRR20D;CCDC12;ZNF705A;SYT15   \n",
       "4                        30             KRI1;NOL10;NOC4L   \n",
       "..                      ...                          ...   \n",
       "409                       1                       HEATR6   \n",
       "410                       3                          NaN   \n",
       "411                       2                          NaN   \n",
       "412                       2                          NaN   \n",
       "413                       1                      CWF19L1   \n",
       "\n",
       "     uncharacterized_gene_count  \\\n",
       "0                             2   \n",
       "1                             1   \n",
       "2                             2   \n",
       "3                             4   \n",
       "4                             3   \n",
       "..                          ...   \n",
       "409                           1   \n",
       "410                           0   \n",
       "411                           0   \n",
       "412                           0   \n",
       "413                           1   \n",
       "\n",
       "                                      novel_role_genes  ...  total_gene_count  \\\n",
       "0                                BECN1;ALDOC;MED1;THRA  ...                11   \n",
       "1                                      USPL1;TUT1;AQP7  ...                40   \n",
       "2       SEC61A1;SEC61G;SEC61B;SLC39A7;TMED10;YAP1;TNS3  ...                24   \n",
       "3    MTBP;TRAIP;LRR1;DONSON;RTEL1;SLBP;NPAT;HINFP;F...  ...                39   \n",
       "4              ITGA4;KIFBP;DDX10;ABT1;DBR1;ZNHIT3;NOM1  ...                40   \n",
       "..                                                 ...  ...               ...   \n",
       "409                                   SGCA;SKAP1;SPAG9  ...                 5   \n",
       "410                                       MYL12A;SFTPB  ...                 5   \n",
       "411                               HNRNPA3;FAM83H;LIN7C  ...                 5   \n",
       "412                                  MAGOHB;LRCH4;GNG3  ...                 5   \n",
       "413                                    BRD1;RFK;PIK3CG  ...                 5   \n",
       "\n",
       "     highest_unchar_importance  average_unchar_importance  high_unchar_genes  \\\n",
       "0                            7                       6.50                NaN   \n",
       "1                            6                       6.00                NaN   \n",
       "2                            6                       5.50                NaN   \n",
       "3                            8                       6.50           PRR20D:8   \n",
       "4                            7                       6.33                NaN   \n",
       "..                         ...                        ...                ...   \n",
       "409                          8                       8.00           HEATR6:8   \n",
       "410                          0                       0.00                NaN   \n",
       "411                          0                       0.00                NaN   \n",
       "412                          0                       0.00                NaN   \n",
       "413                          8                       8.00          CWF19L1:8   \n",
       "\n",
       "    high_unchar_gene_count  highest_novel_role_importance  \\\n",
       "0                        0                              8   \n",
       "1                        0                              9   \n",
       "2                        0                              7   \n",
       "3                        1                              8   \n",
       "4                        0                              9   \n",
       "..                     ...                            ...   \n",
       "409                      1                              7   \n",
       "410                      0                              7   \n",
       "411                      0                              7   \n",
       "412                      0                              7   \n",
       "413                      1                              6   \n",
       "\n",
       "     average_novel_role_importance  high_novel_role_genes  \\\n",
       "0                             6.50                BECN1:8   \n",
       "1                             7.33                 AQP7:9   \n",
       "2                             5.86                    NaN   \n",
       "3                             5.45                 MTBP:8   \n",
       "4                             6.57        ITGA4:9;KIFBP:8   \n",
       "..                             ...                    ...   \n",
       "409                           6.00                    NaN   \n",
       "410                           6.50                    NaN   \n",
       "411                           6.00                    NaN   \n",
       "412                           6.00                    NaN   \n",
       "413                           5.00                    NaN   \n",
       "\n",
       "    high_novel_role_gene_count  \\\n",
       "0                            1   \n",
       "1                            1   \n",
       "2                            0   \n",
       "3                            1   \n",
       "4                            2   \n",
       "..                         ...   \n",
       "409                          0   \n",
       "410                          0   \n",
       "411                          0   \n",
       "412                          0   \n",
       "413                          0   \n",
       "\n",
       "                                     all_cluster_genes  \n",
       "0    ACACA;ACLY;G6PC;PDK2;NMT1;C17orf58;SCRN2;BECN1...  \n",
       "1    CDC5L;PRPF8;SNRPD1;SNRPD2;SNRPD3;SNRPE;SNRPF;S...  \n",
       "2    BCAR1;TLN1;ITGB1;ITGB5;PXN;ITGAV;FERMT2;PTK2;Z...  \n",
       "3    WDHD1;POLE;PCNA;CDC7;CDC6;PRIM1;DTL;CHAF1A;ORC...  \n",
       "4    BMS1;BUD23;DIS3;ESF1;EXOSC1;EXOSC2;EXOSC3;EXOS...  \n",
       "..                                                 ...  \n",
       "409                        DLD;HEATR6;SGCA;SKAP1;SPAG9  \n",
       "410                    TM7SF2;PTDSS1;RCE1;MYL12A;SFTPB  \n",
       "411                    LMNA;PRMT5;HNRNPA3;FAM83H;LIN7C  \n",
       "412                    MRPS18B;GLRX5;MAGOHB;LRCH4;GNG3  \n",
       "413                   MPHOSPH6;CWF19L1;BRD1;RFK;PIK3CG  \n",
       "\n",
       "[414 rows x 21 columns]"
      ]
     },
     "metadata": {},
     "output_type": "display_data"
    },
    {
     "data": {
      "text/html": [
       "<div>\n",
       "<style scoped>\n",
       "    .dataframe tbody tr th:only-of-type {\n",
       "        vertical-align: middle;\n",
       "    }\n",
       "\n",
       "    .dataframe tbody tr th {\n",
       "        vertical-align: top;\n",
       "    }\n",
       "\n",
       "    .dataframe thead th {\n",
       "        text-align: right;\n",
       "    }\n",
       "</style>\n",
       "<table border=\"1\" class=\"dataframe\">\n",
       "  <thead>\n",
       "    <tr style=\"text-align: right;\">\n",
       "      <th></th>\n",
       "      <th>gene_symbol_0</th>\n",
       "      <th>cell_count</th>\n",
       "      <th>PHATE_0</th>\n",
       "      <th>PHATE_1</th>\n",
       "      <th>cluster</th>\n",
       "      <th>uniprot_entry</th>\n",
       "      <th>uniprot_function</th>\n",
       "      <th>uniprot_link</th>\n",
       "    </tr>\n",
       "  </thead>\n",
       "  <tbody>\n",
       "    <tr>\n",
       "      <th>0</th>\n",
       "      <td>SDHAF2</td>\n",
       "      <td>5431</td>\n",
       "      <td>0.002343</td>\n",
       "      <td>0.005769</td>\n",
       "      <td>0</td>\n",
       "      <td>Q9NX18</td>\n",
       "      <td>Plays an essential role in the assembly of suc...</td>\n",
       "      <td>https://www.uniprot.org/uniprotkb/Q9NX18/entry</td>\n",
       "    </tr>\n",
       "    <tr>\n",
       "      <th>1</th>\n",
       "      <td>FOLR3</td>\n",
       "      <td>8046</td>\n",
       "      <td>0.003512</td>\n",
       "      <td>0.007478</td>\n",
       "      <td>0</td>\n",
       "      <td>P41439</td>\n",
       "      <td>Binds to folate and reduced folic acid derivat...</td>\n",
       "      <td>https://www.uniprot.org/uniprotkb/P41439/entry</td>\n",
       "    </tr>\n",
       "    <tr>\n",
       "      <th>2</th>\n",
       "      <td>SCGB1D1</td>\n",
       "      <td>5083</td>\n",
       "      <td>0.003566</td>\n",
       "      <td>0.004751</td>\n",
       "      <td>0</td>\n",
       "      <td>O95968</td>\n",
       "      <td>May bind androgens and other steroids, may als...</td>\n",
       "      <td>https://www.uniprot.org/uniprotkb/O95968/entry</td>\n",
       "    </tr>\n",
       "    <tr>\n",
       "      <th>3</th>\n",
       "      <td>PPP2R5B</td>\n",
       "      <td>5089</td>\n",
       "      <td>0.003158</td>\n",
       "      <td>0.007585</td>\n",
       "      <td>0</td>\n",
       "      <td>Q15173</td>\n",
       "      <td>As the regulatory component of the serine/thre...</td>\n",
       "      <td>https://www.uniprot.org/uniprotkb/Q15173/entry</td>\n",
       "    </tr>\n",
       "    <tr>\n",
       "      <th>4</th>\n",
       "      <td>RASGRP2</td>\n",
       "      <td>8026</td>\n",
       "      <td>0.002144</td>\n",
       "      <td>0.007154</td>\n",
       "      <td>0</td>\n",
       "      <td>Q7LDG7</td>\n",
       "      <td>Functions as a calcium- and DAG-regulated nucl...</td>\n",
       "      <td>https://www.uniprot.org/uniprotkb/Q7LDG7/entry</td>\n",
       "    </tr>\n",
       "    <tr>\n",
       "      <th>...</th>\n",
       "      <td>...</td>\n",
       "      <td>...</td>\n",
       "      <td>...</td>\n",
       "      <td>...</td>\n",
       "      <td>...</td>\n",
       "      <td>...</td>\n",
       "      <td>...</td>\n",
       "      <td>...</td>\n",
       "    </tr>\n",
       "    <tr>\n",
       "      <th>5294</th>\n",
       "      <td>TBRG4</td>\n",
       "      <td>5710</td>\n",
       "      <td>0.007220</td>\n",
       "      <td>0.005894</td>\n",
       "      <td>249</td>\n",
       "      <td>Q969Z0</td>\n",
       "      <td>Plays a role in processing of mitochondrial RN...</td>\n",
       "      <td>https://www.uniprot.org/uniprotkb/Q969Z0/entry</td>\n",
       "    </tr>\n",
       "    <tr>\n",
       "      <th>5295</th>\n",
       "      <td>MAGOHB</td>\n",
       "      <td>3399</td>\n",
       "      <td>0.009651</td>\n",
       "      <td>0.005044</td>\n",
       "      <td>250</td>\n",
       "      <td>Q96A72</td>\n",
       "      <td>Required for pre-mRNA splicing as component of...</td>\n",
       "      <td>https://www.uniprot.org/uniprotkb/Q96A72/entry</td>\n",
       "    </tr>\n",
       "    <tr>\n",
       "      <th>5296</th>\n",
       "      <td>RIOK1</td>\n",
       "      <td>3986</td>\n",
       "      <td>0.007534</td>\n",
       "      <td>0.003439</td>\n",
       "      <td>250</td>\n",
       "      <td>Q9BRS2</td>\n",
       "      <td>Involved in the final steps of cytoplasmic mat...</td>\n",
       "      <td>https://www.uniprot.org/uniprotkb/Q9BRS2/entry</td>\n",
       "    </tr>\n",
       "    <tr>\n",
       "      <th>5297</th>\n",
       "      <td>RBM18</td>\n",
       "      <td>5335</td>\n",
       "      <td>0.001253</td>\n",
       "      <td>0.006475</td>\n",
       "      <td>250</td>\n",
       "      <td>Q96H35</td>\n",
       "      <td>NaN</td>\n",
       "      <td>https://www.uniprot.org/uniprotkb/Q96H35/entry</td>\n",
       "    </tr>\n",
       "    <tr>\n",
       "      <th>5298</th>\n",
       "      <td>MBTPS1</td>\n",
       "      <td>4924</td>\n",
       "      <td>0.011762</td>\n",
       "      <td>0.005758</td>\n",
       "      <td>250</td>\n",
       "      <td>Q14703</td>\n",
       "      <td>Serine protease that cleaves after hydrophobic...</td>\n",
       "      <td>https://www.uniprot.org/uniprotkb/Q14703/entry</td>\n",
       "    </tr>\n",
       "  </tbody>\n",
       "</table>\n",
       "<p>5299 rows × 8 columns</p>\n",
       "</div>"
      ],
      "text/plain": [
       "     gene_symbol_0  cell_count   PHATE_0   PHATE_1  cluster uniprot_entry  \\\n",
       "0           SDHAF2        5431  0.002343  0.005769        0        Q9NX18   \n",
       "1            FOLR3        8046  0.003512  0.007478        0        P41439   \n",
       "2          SCGB1D1        5083  0.003566  0.004751        0        O95968   \n",
       "3          PPP2R5B        5089  0.003158  0.007585        0        Q15173   \n",
       "4          RASGRP2        8026  0.002144  0.007154        0        Q7LDG7   \n",
       "...            ...         ...       ...       ...      ...           ...   \n",
       "5294         TBRG4        5710  0.007220  0.005894      249        Q969Z0   \n",
       "5295        MAGOHB        3399  0.009651  0.005044      250        Q96A72   \n",
       "5296         RIOK1        3986  0.007534  0.003439      250        Q9BRS2   \n",
       "5297         RBM18        5335  0.001253  0.006475      250        Q96H35   \n",
       "5298        MBTPS1        4924  0.011762  0.005758      250        Q14703   \n",
       "\n",
       "                                       uniprot_function  \\\n",
       "0     Plays an essential role in the assembly of suc...   \n",
       "1     Binds to folate and reduced folic acid derivat...   \n",
       "2     May bind androgens and other steroids, may als...   \n",
       "3     As the regulatory component of the serine/thre...   \n",
       "4     Functions as a calcium- and DAG-regulated nucl...   \n",
       "...                                                 ...   \n",
       "5294  Plays a role in processing of mitochondrial RN...   \n",
       "5295  Required for pre-mRNA splicing as component of...   \n",
       "5296  Involved in the final steps of cytoplasmic mat...   \n",
       "5297                                                NaN   \n",
       "5298  Serine protease that cleaves after hydrophobic...   \n",
       "\n",
       "                                        uniprot_link  \n",
       "0     https://www.uniprot.org/uniprotkb/Q9NX18/entry  \n",
       "1     https://www.uniprot.org/uniprotkb/P41439/entry  \n",
       "2     https://www.uniprot.org/uniprotkb/O95968/entry  \n",
       "3     https://www.uniprot.org/uniprotkb/Q15173/entry  \n",
       "4     https://www.uniprot.org/uniprotkb/Q7LDG7/entry  \n",
       "...                                              ...  \n",
       "5294  https://www.uniprot.org/uniprotkb/Q969Z0/entry  \n",
       "5295  https://www.uniprot.org/uniprotkb/Q96A72/entry  \n",
       "5296  https://www.uniprot.org/uniprotkb/Q9BRS2/entry  \n",
       "5297  https://www.uniprot.org/uniprotkb/Q96H35/entry  \n",
       "5298  https://www.uniprot.org/uniprotkb/Q14703/entry  \n",
       "\n",
       "[5299 rows x 8 columns]"
      ]
     },
     "metadata": {},
     "output_type": "display_data"
    }
   ],
   "source": [
    "clustering = (\n",
    "    \"brieflow_output/cluster/DAPI_CENPA/Interphase/15/phate_leiden_clustering.tsv\"\n",
    ")\n",
    "enrichment = (\n",
    "    \"brieflow_output/cluster/DAPI_CENPA/Interphase/15/CB-Real__combined_table.tsv\"\n",
    ")\n",
    "mozzarellm = \"brieflow_output/cluster/DAPI_CENPA/Interphase/15/mozzarellm_analysis/claude-3-7-sonnet-20250219_clusters.csv\"\n",
    "aconcagua_clustering = \"/lab/ops_analysis/cheeseman/aconcagua_clustering.csv\"\n",
    "clustering = pd.read_csv(clustering, sep=\"\\t\")\n",
    "display(clustering)\n",
    "enrichment = pd.read_csv(enrichment, sep=\"\\t\")\n",
    "display(enrichment)\n",
    "mozzarellm = pd.read_csv(mozzarellm)\n",
    "display(mozzarellm)\n",
    "aconcagua_clustering = pd.read_csv(aconcagua_clustering)\n",
    "display(aconcagua_clustering)"
   ]
  },
  {
   "cell_type": "code",
   "execution_count": null,
   "id": "417d2563",
   "metadata": {},
   "outputs": [
    {
     "name": "stdout",
     "output_type": "stream",
     "text": [
      "Found 5031 overlapping genes\n",
      "\n",
      "Analysis complete!\n",
      "Total clusters analyzed: 414\n",
      "Novel clusters (Jaccard < 0.3): 388\n",
      "Clusters with target keywords: 97\n",
      "Average max Jaccard: 0.104\n",
      "Saved all clusters to: cenpa_screen_results_all.csv\n",
      "Saved 97 keyword clusters to: cenpa_screen_results_keywords_only.csv\n",
      "Top 10 most novel clusters:\n",
      "   new_cluster  max_jaccard   entropy  \\\n",
      "0          405     0.026316  2.251629   \n",
      "1          396     0.027778  2.584963   \n",
      "2          397     0.039216  2.251629   \n",
      "3          250     0.039604  2.521928   \n",
      "4           57     0.040000  3.773557   \n",
      "5           62     0.040000  3.773557   \n",
      "6          409     0.040000  1.921928   \n",
      "7           72     0.041667  3.521641   \n",
      "8           90     0.043478  3.584963   \n",
      "9           82     0.043478  3.546594   \n",
      "\n",
      "                                  biological_process keywords_found  \n",
      "0  Mitotic spindle regulation and cytoskeletal dy...        mitosis  \n",
      "1     Autophagy regulation and vesicular trafficking                 \n",
      "2       Centriole biogenesis and centrosome function                 \n",
      "3  Protein quality control and vesicular trafficking                 \n",
      "4       GPI anchor biosynthesis and lipid metabolism                 \n",
      "5  Mitochondrial respiratory chain and oxidative ...                 \n",
      "6     Mitochondrial metabolism and energy production                 \n",
      "7      Mitochondrial gene expression and translation                 \n",
      "8             mRNA splicing and spliceosome assembly                 \n",
      "9    Mitochondrial metabolism and energy homeostasis     epigenetic  \n",
      "Clusters with target keywords:\n",
      "     new_cluster        keywords_found  \\\n",
      "0            405               mitosis   \n",
      "9             82            epigenetic   \n",
      "10           137             chromatin   \n",
      "14           382             chromatin   \n",
      "21            79             chromatin   \n",
      "..           ...                   ...   \n",
      "394           17               mitosis   \n",
      "395           21           kinetochore   \n",
      "397           22  kinetochore; mitosis   \n",
      "406           15             chromatin   \n",
      "413           32             chromatin   \n",
      "\n",
      "                                    biological_process  \n",
      "0    Mitotic spindle regulation and cytoskeletal dy...  \n",
      "9      Mitochondrial metabolism and energy homeostasis  \n",
      "10             Copper homeostasis and redox regulation  \n",
      "14                      DNA damage response and repair  \n",
      "21                         Circadian rhythm regulation  \n",
      "..                                                 ...  \n",
      "394         Nuclear Pore Complex Assembly and Maintece  \n",
      "395  Mitotic spindle assembly and kinetochore-micro...  \n",
      "397  Mitotic spindle assembly and chromosome segreg...  \n",
      "406           RNA Polymerase II-mediated transcription  \n",
      "413  Ribosome biogenesis - small subunit (SSU) proc...  \n",
      "\n",
      "[97 rows x 3 columns]\n"
     ]
    }
   ],
   "source": [
    "custom_keywords = [\n",
    "    \"kinetochore\",\n",
    "    \"centromere\",\n",
    "    \"CENP\",\n",
    "    \"mitosis\",\n",
    "    \"chromatin\",\n",
    "    \"epigenetic\",\n",
    "]\n",
    "results = analyze_cluster_novelty(\n",
    "    clustering,\n",
    "    aconcagua_clustering,\n",
    "    enrichment,\n",
    "    mozzarellm,\n",
    "    target_keywords=custom_keywords,\n",
    ")\n",
    "saved_files = save_cluster_results(results, \"cenpa_screen_results\")\n",
    "\n",
    "# View most novel clusters\n",
    "print(\"Top 10 most novel clusters:\")\n",
    "print(\n",
    "    results[results[\"is_novel\"]].head(10)[\n",
    "        [\n",
    "            \"new_cluster\",\n",
    "            \"max_jaccard\",\n",
    "            \"entropy\",\n",
    "            \"biological_process\",\n",
    "            \"keywords_found\",\n",
    "        ]\n",
    "    ]\n",
    ")\n",
    "\n",
    "# View clusters with target keywords\n",
    "print(\"Clusters with target keywords:\")\n",
    "print(\n",
    "    results[results[\"keywords_found\"] != \"\"][\n",
    "        [\"new_cluster\", \"keywords_found\", \"biological_process\"]\n",
    "    ]\n",
    ")"
   ]
  },
  {
   "cell_type": "code",
   "execution_count": null,
   "id": "cdc33774",
   "metadata": {},
   "outputs": [],
   "source": []
  }
 ],
 "metadata": {
  "kernelspec": {
   "display_name": "brieflow_kilimanjaro",
   "language": "python",
   "name": "python3"
  },
  "language_info": {
   "codemirror_mode": {
    "name": "ipython",
    "version": 3
   },
   "file_extension": ".py",
   "mimetype": "text/x-python",
   "name": "python",
   "nbconvert_exporter": "python",
   "pygments_lexer": "ipython3",
   "version": "3.11.13"
  }
 },
 "nbformat": 4,
 "nbformat_minor": 5
}
