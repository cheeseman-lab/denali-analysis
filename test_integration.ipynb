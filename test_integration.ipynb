{
 "cells": [
  {
   "cell_type": "code",
   "execution_count": null,
   "id": "10d6d8db",
   "metadata": {},
   "outputs": [
    {
     "name": "stdout",
     "output_type": "stream",
     "text": [
      "File size: 40649426997 bytes (38766.31 MB, 37.86 GB)\n"
     ]
    }
   ],
   "source": [
    "import os\n",
    "import pyarrow.parquet as pq\n",
    "\n",
    "parquet_path = \"/lab/ops_analysis/cheeseman/denali-analysis/analysis/brieflow_output/aggregate_ps_test/parquets/CeCl-Interphase_ChCo-DAPI_CENPA__aligned.parquet\"\n",
    "\n",
    "# Get file size in bytes, MB, GB\n",
    "file_size_bytes = os.path.getsize(parquet_path)\n",
    "file_size_mb = file_size_bytes / (1024**2)\n",
    "file_size_gb = file_size_bytes / (1024**3)\n",
    "print(\n",
    "    f\"File size: {file_size_bytes} bytes ({file_size_mb:.2f} MB, {file_size_gb:.2f} GB)\"\n",
    ")\n"
   ]
  },
  {
   "cell_type": "code",
   "execution_count": null,
   "id": "349b78d9",
   "metadata": {},
   "outputs": [],
   "source": [
    "import pyarrow.parquet as pq\n",
    "import pandas as pd\n",
    "\n",
    "parquet_path = \"/lab/ops_analysis/cheeseman/denali-analysis/analysis/brieflow_output/aggregate_ps_test/parquets/CeCl-Interphase_ChCo-DAPI_CENPA__aligned.parquet\"\n",
    "output_path = \"/tmp/filtered_ITGAV.csv\"\n",
    "\n",
    "parquet_file = pq.ParquetFile(parquet_path)\n",
    "\n",
    "# Only read the column needed for filtering and columns you want to keep\n",
    "columns_to_read = [\"gene_symbol_0\", \"perturbation_score\"]  # add more if needed\n",
    "\n",
    "with open(output_path, \"w\") as f_out:\n",
    "    header_written = False\n",
    "    for i in range(parquet_file.num_row_groups):\n",
    "        table = parquet_file.read_row_group(i, columns=columns_to_read)\n",
    "        df = table.to_pandas()\n",
    "        filtered = df[df[\"gene_symbol_0\"] == \"ITGAV\"]\n",
    "        if not filtered.empty:\n",
    "            filtered.to_csv(f_out, header=not header_written, index=False)\n",
    "            header_written = True\n",
    "\n",
    "# Now read the filtered file\n",
    "result_df = pd.read_csv(output_path)\n",
    "result_df"
   ]
  },
  {
   "cell_type": "code",
   "execution_count": null,
   "id": "03341017",
   "metadata": {},
   "outputs": [],
   "source": [
    "import pandas as pd\n",
    "\n",
    "# import umap"
   ]
  },
  {
   "cell_type": "code",
   "execution_count": null,
   "id": "c76e1f22",
   "metadata": {},
   "outputs": [],
   "source": [
    "from lib.shared.file_utils import load_parquet_subset\n",
    "\n",
    "# test_filtered = pd.read_parquet(\n",
    "#     \"/lab/ops_analysis/cheeseman/denali-analysis/analysis/brieflow_output/aggregate_ps_test/parquets/CeCl-Interphase_ChCo-DAPI_CENPA__aligned.parquet\"\n",
    "# )\n",
    "test_filtered = load_parquet_subset(\n",
    "    \"/lab/ops_analysis/cheeseman/denali-analysis/analysis/brieflow_output/aggregate_ps_test/parquets/CeCl-Interphase_ChCo-DAPI_CENPA__aligned.parquet\",\n",
    "    n_rows=200000,\n",
    ")\n",
    "test_filtered"
   ]
  },
  {
   "cell_type": "code",
   "execution_count": null,
   "id": "eb50b8ae",
   "metadata": {},
   "outputs": [],
   "source": [
    "test_filtered[\"gene_symbol_0\"] == \"ITGAV\""
   ]
  },
  {
   "cell_type": "code",
   "execution_count": null,
   "id": "a6e160a5",
   "metadata": {},
   "outputs": [],
   "source": [
    "for col in test_filtered.columns:\n",
    "    print(col)"
   ]
  },
  {
   "cell_type": "code",
   "execution_count": null,
   "id": "40e23f93",
   "metadata": {},
   "outputs": [],
   "source": [
    "test = test_filtered[test_filtered[\"perturbation_score\"] > -0.1]\n",
    "test[\"perturbation_score\"].hist()"
   ]
  },
  {
   "cell_type": "code",
   "execution_count": null,
   "id": "1bbbf894",
   "metadata": {},
   "outputs": [],
   "source": [
    "aggregated = pd.read_csv(\n",
    "    \"/lab/ops_analysis/cheeseman/denali-analysis/analysis/brieflow_output/aggregate_ps_test/tsvs/CeCl-Interphase_ChCo-DAPI_CENPA__aggregated.tsv\",\n",
    "    sep=\"\\t\",\n",
    ")\n",
    "aggregated"
   ]
  },
  {
   "cell_type": "code",
   "execution_count": null,
   "id": "55d97890",
   "metadata": {},
   "outputs": [],
   "source": [
    "aggregated.sort_values(\"aggregated_perturbation_score\", ascending=False).head(20)"
   ]
  }
 ],
 "metadata": {
  "kernelspec": {
   "display_name": "brieflow_denali_analysis_new",
   "language": "python",
   "name": "brieflow_denali_analysis_new"
  },
  "language_info": {
   "codemirror_mode": {
    "name": "ipython",
    "version": 3
   },
   "file_extension": ".py",
   "mimetype": "text/x-python",
   "name": "python",
   "nbconvert_exporter": "python",
   "pygments_lexer": "ipython3",
   "version": "3.11.13"
  }
 },
 "nbformat": 4,
 "nbformat_minor": 5
}
